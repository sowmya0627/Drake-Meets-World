{
 "cells": [
  {
   "cell_type": "markdown",
   "metadata": {},
   "source": [
    "**Drake Lyrics Scraping**\n",
    "======\n",
    "***"
   ]
  },
  {
   "cell_type": "markdown",
   "metadata": {},
   "source": [
    "### Import Modules"
   ]
  },
  {
   "cell_type": "code",
   "execution_count": 10,
   "metadata": {
    "collapsed": true
   },
   "outputs": [],
   "source": [
    "import urllib.request as urllib2\n",
    "import pandas as pd\n",
    "import numpy as np\n",
    "import re\n",
    "from unidecode import unidecode\n",
    "from bs4 import BeautifulSoup"
   ]
  },
  {
   "cell_type": "markdown",
   "metadata": {},
   "source": [
    "## Part 1: Scrape Lyrics\n",
    "***"
   ]
  },
  {
   "cell_type": "markdown",
   "metadata": {},
   "source": [
    "### Read csv with song names"
   ]
  },
  {
   "cell_type": "markdown",
   "metadata": {},
   "source": [
    "#### * <font color='gray'>I created a list of songs and albums I wanted to analyze (copied from metrolyrics)</font> *"
   ]
  },
  {
   "cell_type": "code",
   "execution_count": 11,
   "metadata": {
    "collapsed": true
   },
   "outputs": [],
   "source": [
    "quote_page = 'http://metrolyrics.com/{}-lyrics-drake.html'\n",
    "filename = '/Users/sowmyamurali/Documents/DataViz/drakedata.csv'\n",
    "songs = pd.read_csv(filename,encoding = \"latin1\")\n",
    "songs = songs.replace(\"'\", '',regex=True)\n",
    "songs = songs.replace(\"&\", '',regex=True)\n",
    "songs = songs.replace(\"/\", '',regex=True)\n",
    "\n",
    "songs.album = songs.album.str.strip()\n",
    "songs.song = songs.song.str.strip()\n",
    "\n",
    "songs = songs.replace(' ', '-',regex=True)"
   ]
  },
  {
   "cell_type": "markdown",
   "metadata": {},
   "source": [
    "### Scrape lyrics from Metrolyrics"
   ]
  },
  {
   "cell_type": "code",
   "execution_count": 12,
   "metadata": {},
   "outputs": [],
   "source": [
    "#scrape metrolyrics for the lyrics\n",
    "for index, row in songs.iterrows():\n",
    "    page = urllib2.urlopen(quote_page.format(row['song']))\n",
    "    soup = BeautifulSoup(page, 'html.parser')\n",
    "    verses = soup.find_all('p', attrs={'class': 'verse'})\n",
    "\n",
    "    lyrics = ''\n",
    "\n",
    "    for verse in verses:\n",
    "        text = verse.text.strip()\n",
    "        text = re.sub(r\"\\[.*\\]\\n\", \"\", unidecode(text))\n",
    "        if lyrics == '':\n",
    "            lyrics = lyrics + text.replace('\\n', ' ')\n",
    "        else:\n",
    "            lyrics = lyrics + ' ' + text.replace('\\n', ' ')\n",
    "\n",
    "    songs.at[index, 'lyrics'] = lyrics"
   ]
  },
  {
   "cell_type": "markdown",
   "metadata": {},
   "source": [
    "### Replace blanks with NAs, delete blank lyrics and clean up formating"
   ]
  },
  {
   "cell_type": "code",
   "execution_count": 13,
   "metadata": {
    "collapsed": true
   },
   "outputs": [],
   "source": [
    "songs = songs.replace('',np.nan, regex=True)\n",
    "songs = songs.replace(',','', regex=True)\n",
    "songs = songs.dropna(subset=['lyrics'], thresh=1)\n",
    "songs['album'] = songs['album'].astype(str)\n",
    "songs['album'] = songs['album'].str.lower()\n",
    "songs = songs.replace('-', ' ',regex=True)"
   ]
  },
  {
   "cell_type": "markdown",
   "metadata": {},
   "source": [
    "### Save scraped lyrics to csv"
   ]
  },
  {
   "cell_type": "code",
   "execution_count": 14,
   "metadata": {
    "collapsed": true
   },
   "outputs": [],
   "source": [
    "songs.to_csv('/Users/sowmyamurali/Documents/DataViz/drakedata_NEW.csv',index=False)"
   ]
  }
 ],
 "metadata": {
  "kernelspec": {
   "display_name": "Python 3",
   "language": "python",
   "name": "python3"
  },
  "language_info": {
   "codemirror_mode": {
    "name": "ipython",
    "version": 3
   },
   "file_extension": ".py",
   "mimetype": "text/x-python",
   "name": "python",
   "nbconvert_exporter": "python",
   "pygments_lexer": "ipython3",
   "version": "3.6.3"
  }
 },
 "nbformat": 4,
 "nbformat_minor": 2
}
