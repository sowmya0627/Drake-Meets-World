{
 "cells": [
  {
   "cell_type": "markdown",
   "metadata": {},
   "source": [
    "**Drake Meets World: Sowmya Murali**\n",
    "======\n",
    "***\n",
    "\n",
    "### * <font color='#A5A5A5'>Exploring Drake's growth through analysis of his lyrics</font> *"
   ]
  },
  {
   "cell_type": "markdown",
   "metadata": {},
   "source": [
    "***\n",
    "<font color='#595959'>\n",
    "### Table of Contents\n",
    "#### Part 1: Scrape Lyrics (Separate Notebook)\n",
    "#### Part 2: Create Metrics\n",
    "    1 Sentiment Score\n",
    "    2 Lexical Complexity\n",
    "#### Part 3: Create Visualizations for Metrics\n",
    "    1 Sentiment Score for Songs\n",
    "    2 Lexical Complexity for Songs\n",
    "    3 Sentiment Score & Lexical Complexity by Year\n",
    "    4 Sentiment Score by Lexical Complexity\n",
    "#### Part 4: Topic Analysis of Lyrics using NMF Model\n",
    "#### Part 5: Word Cloud of Lyrics\n",
    "#### Part 6: KMeans Clustering of Lyrics\n",
    "#### Part 7: Ward Clustering of Lyrics\n",
    "#### Part 8: Next Steps\n",
    "***"
   ]
  },
  {
   "cell_type": "markdown",
   "metadata": {},
   "source": [
    "### Import Modules"
   ]
  },
  {
   "cell_type": "code",
   "execution_count": 1,
   "metadata": {},
   "outputs": [
    {
     "data": {
      "text/html": [
       "<script>requirejs.config({paths: { 'plotly': ['https://cdn.plot.ly/plotly-latest.min']},});if(!window.Plotly) {{require(['plotly'],function(plotly) {window.Plotly=plotly;});}}</script>"
      ],
      "text/vnd.plotly.v1+html": [
       "<script>requirejs.config({paths: { 'plotly': ['https://cdn.plot.ly/plotly-latest.min']},});if(!window.Plotly) {{require(['plotly'],function(plotly) {window.Plotly=plotly;});}}</script>"
      ]
     },
     "metadata": {},
     "output_type": "display_data"
    }
   ],
   "source": [
    "import pandas as pd\n",
    "import numpy as np\n",
    "import datetime\n",
    "import re\n",
    "import string\n",
    "import nltk\n",
    "import codecs\n",
    "import mpld3\n",
    "import seaborn as sns\n",
    "import matplotlib.pyplot as plt\n",
    "import plotly.plotly as py\n",
    "import plotly.graph_objs as go\n",
    "import os\n",
    "import plotly.figure_factory as ff\n",
    "from scipy.cluster.hierarchy import ward, dendrogram\n",
    "from __future__ import print_function\n",
    "from sklearn.manifold import MDS\n",
    "from unidecode import unidecode\n",
    "from textblob import Word,TextBlob\n",
    "from collections import Counter\n",
    "from sklearn.feature_extraction import text\n",
    "from sklearn.feature_extraction.text import TfidfVectorizer, CountVectorizer\n",
    "from sklearn.decomposition import NMF\n",
    "from sklearn.metrics.pairwise import cosine_similarity\n",
    "from sklearn import feature_extraction\n",
    "from sklearn.cluster import KMeans\n",
    "from sklearn.externals import joblib\n",
    "from nltk.stem.snowball import SnowballStemmer\n",
    "from PIL import Image\n",
    "from wordcloud import WordCloud, ImageColorGenerator\n",
    "from matplotlib import figure\n",
    "from plotly.offline import download_plotlyjs, init_notebook_mode, plot, iplot\n",
    "init_notebook_mode(connected=True)"
   ]
  },
  {
   "cell_type": "markdown",
   "metadata": {},
   "source": [
    "## Part 1: Scrape Lyrics (Please Refer to Separate Notebook)\n",
    "***"
   ]
  },
  {
   "cell_type": "markdown",
   "metadata": {},
   "source": [
    "## Part 2: Create Metrics\n",
    "***"
   ]
  },
  {
   "cell_type": "markdown",
   "metadata": {},
   "source": [
    "### Read csv of Lyrics"
   ]
  },
  {
   "cell_type": "code",
   "execution_count": 2,
   "metadata": {
    "collapsed": true
   },
   "outputs": [],
   "source": [
    "songs = pd.read_csv('/Users/sowmyamurali/Documents/DataViz/drakedata_NEW.csv')"
   ]
  },
  {
   "cell_type": "code",
   "execution_count": 3,
   "metadata": {
    "collapsed": true
   },
   "outputs": [],
   "source": [
    "df_songMetrics = songs.copy()"
   ]
  },
  {
   "cell_type": "markdown",
   "metadata": {},
   "source": [
    "### Create sentiment score for lyrics"
   ]
  },
  {
   "cell_type": "markdown",
   "metadata": {},
   "source": [
    "#### * <font color='gray'>Sentiment Score is how positive or negative the lyrics are. The score can be negative; however, for visualizations that have averages, the numbers are positive</font> *"
   ]
  },
  {
   "cell_type": "code",
   "execution_count": 4,
   "metadata": {
    "collapsed": true
   },
   "outputs": [],
   "source": [
    "#sentiment score\n",
    "df_songMetrics[['polarity', 'subjectivity']] = df_songMetrics['lyrics'].apply(lambda x: pd.Series(TextBlob(x).sentiment))\n",
    "df_songMetrics['sentiment'] = df_songMetrics['lyrics'].apply(lambda x: TextBlob(x).sentiment[0] )"
   ]
  },
  {
   "cell_type": "markdown",
   "metadata": {},
   "source": [
    "### Calculate lexical complexity for lyrics"
   ]
  },
  {
   "cell_type": "markdown",
   "metadata": {},
   "source": [
    "#### * <font color='gray'>I defined lexical complexity by the number of unique words out of total words</font> *"
   ]
  },
  {
   "cell_type": "code",
   "execution_count": 5,
   "metadata": {
    "collapsed": true,
    "scrolled": true
   },
   "outputs": [],
   "source": [
    "#complexity of songs\n",
    "df_songMetrics['lyrics'] = df_songMetrics['lyrics'].astype(str)\n",
    "df_songMetrics['lyrics'] = df_songMetrics['lyrics'].str.lower()\n",
    "\n",
    "#total count of words\n",
    "df_songMetrics['word_counts'] = np.nan\n",
    "df_songMetrics.loc[[not row for row in np.isnan(df_songMetrics.sentiment)],'word_counts'] =\\\n",
    "df_songMetrics.loc[[not row for row in np.isnan(df_songMetrics.sentiment)],'lyrics'].apply(lambda x : len(x.split()))\n",
    "\n",
    "#unique count of words\n",
    "df_songMetrics['unique_word_counts'] = np.nan\n",
    "df_songMetrics.loc[[not row for row in np.isnan(df_songMetrics.sentiment)],'unique_word_counts'] =\\\n",
    "df_songMetrics.loc[[not row for row in np.isnan(df_songMetrics.sentiment)],'lyrics'].apply(lambda x : len(set(x.split())))\n",
    "\n",
    "#lexical complexity\n",
    "df_songMetrics['lexical_complexity'] = df_songMetrics['unique_word_counts']/df_songMetrics['word_counts']"
   ]
  },
  {
   "cell_type": "markdown",
   "metadata": {},
   "source": [
    "## Part 3: Create Visualizations for Metrics\n",
    "***"
   ]
  },
  {
   "cell_type": "markdown",
   "metadata": {},
   "source": [
    "### Plot Sentiment Scores for Songs"
   ]
  },
  {
   "cell_type": "code",
   "execution_count": 19,
   "metadata": {},
   "outputs": [
    {
     "data": {
      "application/vnd.plotly.v1+json": {
       "data": [
        {
         "marker": {
          "color": [
           0.1152892561983471,
           -0.16296296296296292,
           0.11294642857142856,
           0.13843995510662177,
           -0.11851851851851848,
           -0.052945665445665445,
           0.08167968750000001,
           -0.4113378684807256,
           0.060468291287256795,
           -0.0027906976744185917,
           0.0940993265993266,
           0.20342306420431422,
           0.17292396756682468,
           0.19229390681003586,
           0.01632518365472911,
           0.028251370907620914,
           0.2328030303030303,
           0.20085470085470086,
           -0.01575670498084292,
           -0.05177095631641085,
           0.2077246603970742,
           0.162406629318394,
           0.018107769423558906,
           -0.051073762838468734,
           -0.11631944444444443,
           0.3167989417989418,
           0.13889860139860136,
           0.028571428571428574,
           0.0368908472479901,
           0.08883768561187916,
           -0.009091635637090199,
           0.03176222616521123,
           0.10833333333333332,
           0.1433838383838384,
           0.022861909915481322,
           0.08180134680134676,
           0.03626068376068376,
           0.18314549435239094,
           0.10177987861811393,
           0.025350140056022402,
           0.0676510989010989,
           0.016512345679012327,
           0.07067460317460317,
           0.026204292161738953,
           0.09899149575379082,
           0.029479316979316984,
           0.0533068783068783,
           -0.14410130718954248,
           0.027604166666666666,
           0.12300556586270874,
           0.09158212560386474,
           0.11388888888888889,
           -0.001059224463479788,
           0.018115942028985508,
           0.28595238095238096,
           0.04150132275132276,
           -0.010351232691658224,
           0.03632246376811592,
           0.225366568914956,
           0.03908926218708826,
           -0.055235930735930694,
           0.05714285714285713,
           0.29307692307692307,
           0.0717948717948718,
           -0.046874999999999986,
           0.018181818181818174,
           0.006036324786324786,
           -0.011071428571428584,
           0.030484466513878268,
           -0.059312169312169344,
           -0.04394454751597609,
           -0.15984848484848488,
           -0.05733869305297878,
           0.13653846153846153,
           -0.016546677959721433,
           -0.018214285714285718,
           -0.0564516129032258,
           0.05435164717079611,
           -0.04833603896103895,
           0.08897754137115838,
           0.03056277056277054,
           0.02740797453912209,
           -0.051824194324194356,
           0.01995751162417825,
           0.042509143155694866,
           0.03133237133237132,
           0.06767376142376146,
           0.3297875852960603,
           -0.2911535812672175,
           0.03346688034188035,
           0.23274193548387095,
           0.05805555555555555,
           0.0427541074909496,
           0.013736669834230802,
           0.08949675324675327,
           -0.09624433106575968,
           0.06036463536463536,
           0.014136211011211021,
           0.009683794466403155,
           0.030922318422318414,
           0.08294639947865753,
           -0.09078540507111936,
           0.019457896152811408,
           0.13968253968253966,
           0.10731481481481484,
           0.16978003026783514,
           0.24112213018463016,
           -0.03308624874521615,
           0.00025974025974025795,
           0.15673379200164914,
           0.09747720364741638,
           0.04681401931401931,
           0.1471574993633817,
           0.10329545454545454,
           0.05067114598364598,
           -0.01619318181818181,
           0.014562556784779,
           -0.2543109668109668,
           0.002529761904761912,
           0.1442967772967773,
           -0.01754643206256109,
           0.0731060606060606,
           0.051056615942979576,
           0.025930877401465633,
           0.017446865751950515,
           0.009683794466403155,
           0.03377636009214959,
           0.04681401931401931,
           0.002529761904761912,
           0.009683794466403155,
           0.3466216216216215,
           0.10329545454545454,
           0.15673379200164914,
           -0.03308624874521615,
           0.09747720364741638,
           0.00025974025974025795,
           -0.01619318181818181,
           0.1471574993633817,
           0.025930877401465633,
           0.017446865751950515,
           0.05067114598364598,
           -0.08089285714285727,
           0.11488997113997113,
           0.03377636009214959,
           0.12035714285714282,
           0.058655202821869486,
           0.07303263185616128,
           0.40444015444015446,
           0.3981507622811969,
           -0.07777777777777778,
           0.09588195620804318,
           0.05881561516807419,
           0.26382887314705494,
           0.08662169312169311,
           0.0587495143745144,
           0.030484466513878268,
           -0.10972222222222226,
           0.10604395604395604,
           0.12143759018759023,
           0.03205128205128205,
           0.22736111111111118,
           0.08267451298701299,
           0.0533068783068783,
           0.07303263185616128,
           -0.009792429792429778,
           -0.1325714285714286,
           0.26461814914645104,
           0.13968253968253966,
           0,
           0.03292111592111593,
           -0.08672839506172839,
           0.11678571428571431,
           0.12467204512659058,
           -0.009792429792429778,
           0.0533068783068783,
           0.03791378458498025,
           0.13968253968253966,
           0.07874566332013143,
           0.10604395604395604,
           0.08099343185550083,
           -0.07876344086021506,
           0.04285714285714285,
           0.039336917562724005,
           0.2894285714285714,
           0.16217772967772967,
           0.27561900921886273,
           0.08372500515357659,
           0.06631042568542568,
           0.07289553558165689,
           -0.06960069444444444,
           0.08537296037296035,
           0.0734436198721913,
           0.43086836409204826,
           0.15495238095238095,
           0.1675324675324676,
           -0.04905251980723681,
           0.3078125,
           0.10340480274442541
          ],
          "colorscale": "Portland",
          "size": 12
         },
         "mode": "markers",
         "type": "scatter",
         "x": [
          "Survival",
          "Nonstop",
          "Elevate",
          "Emotionless",
          "Gods Plan",
          "Im Upset",
          "8 Out of 10",
          "Mob Ties",
          "Cant Take a Joke",
          "Sandras Rose",
          "Talk Up",
          "Is There More",
          "Peak",
          "Summer Games",
          "Jaded",
          "Nice For What",
          "Finesse",
          "Ratchet Happy Birthday",
          "Thats How You Feel",
          "Blue Tint",
          "Free Smoke",
          "No Long Talk",
          "Passionfruit",
          "Jorja Interlude",
          "Get It Together",
          "Madiba Riddim",
          "Blem",
          "4422",
          "Gyalchester",
          "Skepta Interlude",
          "Portland",
          "Sacrifices",
          "Nothings Into Somethings",
          "Teenage Fever",
          "KMT",
          "Lose You",
          "Cant Have Everything",
          "Glow",
          "Since Way Back",
          "Fake Love",
          "Keep The Family Close",
          "U With Me",
          "Feel No Ways",
          "Hype",
          "Weston Road Flows",
          "Redemption",
          "With You",
          "Faithful",
          "Still Here",
          "Controlla",
          "One Dance",
          "GRAMMYs",
          "Childs Play",
          "Pop Style",
          "Too Good",
          "Views",
          "Hotline Bling",
          "Digital Dash",
          "Big Rings",
          "Live From The Gutter",
          "Diamonds Dancing",
          "Scholarships",
          "Plastic Bag",
          "Im The Plug",
          "Change Locations",
          "Jumpman",
          "Jersey",
          "30 For 30 Freestyle",
          "Legend",
          "Energy",
          "10 Bands",
          "Know Yourself",
          "No Tellin",
          "Madonna",
          "6 God",
          "Preach",
          "Wednesday Night Interlude",
          "Used To",
          "6 Man",
          "Company",
          "Jungle",
          "6PM In New York",
          "How About Now",
          "My Side",
          "Tuscan Leather",
          "Furthest Thing",
          "Started From The Bottom",
          "Own It",
          "Worst Behaviour",
          "From Time",
          "Hold On Were Going Home",
          "Connect",
          "The Language",
          "305 To My City",
          "Too Much",
          "Drake Speaks",
          "Club Paradise",
          "The Motto",
          "Headlines",
          "Round of Applause",
          "Free Spirit",
          "Trust Issues",
          "Marvins Room",
          "On My Way",
          "Dreams Money Can Buy",
          "Wildfire Remix",
          "Good Life",
          "Well Be Fine",
          "Lord Knows",
          "Under Ground Kings",
          "Make Me Proud",
          "Over My Dead Body",
          "The Real Her",
          "Take Care",
          "The Ride",
          "Doing It Wrong",
          "Cameras",
          "Hate Sleeping Alone",
          "Shot For Me",
          "Good Ones Go",
          "Aston Martin Music",
          "Poppin Bottles",
          "Off That",
          "Look What Youve Done",
          "Practice",
          "Headlines",
          "Light Up",
          "Over My Dead Body",
          "Shot For Me",
          "Headlines",
          "Crew Love",
          "Take Care",
          "Under Ground Kings",
          "Well Be Fine",
          "Make Me Proud",
          "Lord Knows",
          "Doing It Wrong",
          "The Real Her",
          "Look What Youve Done",
          "Practice",
          "The Ride",
          "Shut It Down",
          "Fireworks",
          "Light Up",
          "Up All Night",
          "The Resistance",
          "Miss Me",
          "Find Your Love",
          "Show Me A Good Time",
          "Ceces Interlude",
          "Fancy",
          "Thank Me Now",
          "Unforgettable",
          "Over",
          "Moment 4 Life",
          "Fall For Your Type",
          "Ghetto University",
          "What If I Kissed You",
          "Im Ready For You",
          "I Get Lonely Too",
          "Loving You No More Remix",
          "Deuces Remix",
          "With You",
          "Miss Me",
          "The Usual",
          "Message From You",
          "Feel Love",
          "On My Way",
          "Intro",
          "Faith",
          "Try Harder",
          "Its Been A Pleasure",
          "Fancy Remix",
          "The Usual",
          "With You",
          "Interlude",
          "On My Way",
          "Feeling",
          "What If I Kissed You",
          "Ready For You",
          "Rich Boy",
          "I Get Lonely",
          "Lust For Life",
          "Sooner Than Later",
          "Successful",
          "Uptown",
          "Unstoppable",
          "Little Bit",
          "Ignorant Shit",
          "November 18th",
          "Houstatlantavegas",
          "The Calm",
          "Best I Ever Had",
          "A Night Off",
          "Lets Call It Off",
          "Say Whats Real",
          "Brias Interlude",
          "Brand New"
         ],
         "y": [
          0.1152892561983471,
          -0.16296296296296292,
          0.11294642857142856,
          0.13843995510662177,
          -0.11851851851851848,
          -0.052945665445665445,
          0.08167968750000001,
          -0.4113378684807256,
          0.060468291287256795,
          -0.0027906976744185917,
          0.0940993265993266,
          0.20342306420431422,
          0.17292396756682468,
          0.19229390681003586,
          0.01632518365472911,
          0.028251370907620914,
          0.2328030303030303,
          0.20085470085470086,
          -0.01575670498084292,
          -0.05177095631641085,
          0.2077246603970742,
          0.162406629318394,
          0.018107769423558906,
          -0.051073762838468734,
          -0.11631944444444443,
          0.3167989417989418,
          0.13889860139860136,
          0.028571428571428574,
          0.0368908472479901,
          0.08883768561187916,
          -0.009091635637090199,
          0.03176222616521123,
          0.10833333333333332,
          0.1433838383838384,
          0.022861909915481322,
          0.08180134680134676,
          0.03626068376068376,
          0.18314549435239094,
          0.10177987861811393,
          0.025350140056022402,
          0.0676510989010989,
          0.016512345679012327,
          0.07067460317460317,
          0.026204292161738953,
          0.09899149575379082,
          0.029479316979316984,
          0.0533068783068783,
          -0.14410130718954248,
          0.027604166666666666,
          0.12300556586270874,
          0.09158212560386474,
          0.11388888888888889,
          -0.001059224463479788,
          0.018115942028985508,
          0.28595238095238096,
          0.04150132275132276,
          -0.010351232691658224,
          0.03632246376811592,
          0.225366568914956,
          0.03908926218708826,
          -0.055235930735930694,
          0.05714285714285713,
          0.29307692307692307,
          0.0717948717948718,
          -0.046874999999999986,
          0.018181818181818174,
          0.006036324786324786,
          -0.011071428571428584,
          0.030484466513878268,
          -0.059312169312169344,
          -0.04394454751597609,
          -0.15984848484848488,
          -0.05733869305297878,
          0.13653846153846153,
          -0.016546677959721433,
          -0.018214285714285718,
          -0.0564516129032258,
          0.05435164717079611,
          -0.04833603896103895,
          0.08897754137115838,
          0.03056277056277054,
          0.02740797453912209,
          -0.051824194324194356,
          0.01995751162417825,
          0.042509143155694866,
          0.03133237133237132,
          0.06767376142376146,
          0.3297875852960603,
          -0.2911535812672175,
          0.03346688034188035,
          0.23274193548387095,
          0.05805555555555555,
          0.0427541074909496,
          0.013736669834230802,
          0.08949675324675327,
          -0.09624433106575968,
          0.06036463536463536,
          0.014136211011211021,
          0.009683794466403155,
          0.030922318422318414,
          0.08294639947865753,
          -0.09078540507111936,
          0.019457896152811408,
          0.13968253968253966,
          0.10731481481481484,
          0.16978003026783514,
          0.24112213018463016,
          -0.03308624874521615,
          0.00025974025974025795,
          0.15673379200164914,
          0.09747720364741638,
          0.04681401931401931,
          0.1471574993633817,
          0.10329545454545454,
          0.05067114598364598,
          -0.01619318181818181,
          0.014562556784779,
          -0.2543109668109668,
          0.002529761904761912,
          0.1442967772967773,
          -0.01754643206256109,
          0.0731060606060606,
          0.051056615942979576,
          0.025930877401465633,
          0.017446865751950515,
          0.009683794466403155,
          0.03377636009214959,
          0.04681401931401931,
          0.002529761904761912,
          0.009683794466403155,
          0.3466216216216215,
          0.10329545454545454,
          0.15673379200164914,
          -0.03308624874521615,
          0.09747720364741638,
          0.00025974025974025795,
          -0.01619318181818181,
          0.1471574993633817,
          0.025930877401465633,
          0.017446865751950515,
          0.05067114598364598,
          -0.08089285714285727,
          0.11488997113997113,
          0.03377636009214959,
          0.12035714285714282,
          0.058655202821869486,
          0.07303263185616128,
          0.40444015444015446,
          0.3981507622811969,
          -0.07777777777777778,
          0.09588195620804318,
          0.05881561516807419,
          0.26382887314705494,
          0.08662169312169311,
          0.0587495143745144,
          0.030484466513878268,
          -0.10972222222222226,
          0.10604395604395604,
          0.12143759018759023,
          0.03205128205128205,
          0.22736111111111118,
          0.08267451298701299,
          0.0533068783068783,
          0.07303263185616128,
          -0.009792429792429778,
          -0.1325714285714286,
          0.26461814914645104,
          0.13968253968253966,
          0,
          0.03292111592111593,
          -0.08672839506172839,
          0.11678571428571431,
          0.12467204512659058,
          -0.009792429792429778,
          0.0533068783068783,
          0.03791378458498025,
          0.13968253968253966,
          0.07874566332013143,
          0.10604395604395604,
          0.08099343185550083,
          -0.07876344086021506,
          0.04285714285714285,
          0.039336917562724005,
          0.2894285714285714,
          0.16217772967772967,
          0.27561900921886273,
          0.08372500515357659,
          0.06631042568542568,
          0.07289553558165689,
          -0.06960069444444444,
          0.08537296037296035,
          0.0734436198721913,
          0.43086836409204826,
          0.15495238095238095,
          0.1675324675324676,
          -0.04905251980723681,
          0.3078125,
          0.10340480274442541
         ]
        }
       ],
       "layout": {
        "height": 700,
        "hovermode": "closest",
        "margin": {
         "b": 180,
         "l": 70,
         "r": 30,
         "t": 100
        },
        "showlegend": false,
        "title": "Sentiment Score for Songs",
        "titlefont": {
         "size": 20
        },
        "width": 1000,
        "xaxis": {
         "showgrid": false,
         "showticklabels": false,
         "title": "Song",
         "titlefont": {
          "size": 16
         }
        },
        "yaxis": {
         "autorange": true,
         "dtick": 0.1,
         "gridcolor": "#BBC7A4",
         "gridwidth": 1,
         "showgrid": true,
         "title": "Sentiment Score",
         "titlefont": {
          "size": 16
         },
         "zeroline": true,
         "zerolinecolor": "#BBC7A4",
         "zerolinewidth": 3
        }
       }
      },
      "text/html": [
       "<div id=\"dcedcaf9-090e-4a27-a1be-8212e62db7c6\" style=\"height: 700px; width: 1000px;\" class=\"plotly-graph-div\"></div><script type=\"text/javascript\">require([\"plotly\"], function(Plotly) { window.PLOTLYENV=window.PLOTLYENV || {};window.PLOTLYENV.BASE_URL=\"https://plot.ly\";Plotly.newPlot(\"dcedcaf9-090e-4a27-a1be-8212e62db7c6\", [{\"type\": \"scatter\", \"x\": [\"Survival\", \"Nonstop\", \"Elevate\", \"Emotionless\", \"Gods Plan\", \"Im Upset\", \"8 Out of 10\", \"Mob Ties\", \"Cant Take a Joke\", \"Sandras Rose\", \"Talk Up\", \"Is There More\", \"Peak\", \"Summer Games\", \"Jaded\", \"Nice For What\", \"Finesse\", \"Ratchet Happy Birthday\", \"Thats How You Feel\", \"Blue Tint\", \"Free Smoke\", \"No Long Talk\", \"Passionfruit\", \"Jorja Interlude\", \"Get It Together\", \"Madiba Riddim\", \"Blem\", \"4422\", \"Gyalchester\", \"Skepta Interlude\", \"Portland\", \"Sacrifices\", \"Nothings Into Somethings\", \"Teenage Fever\", \"KMT\", \"Lose You\", \"Cant Have Everything\", \"Glow\", \"Since Way Back\", \"Fake Love\", \"Keep The Family Close\", \"U With Me\", \"Feel No Ways\", \"Hype\", \"Weston Road Flows\", \"Redemption\", \"With You\", \"Faithful\", \"Still Here\", \"Controlla\", \"One Dance\", \"GRAMMYs\", \"Childs Play\", \"Pop Style\", \"Too Good\", \"Views\", \"Hotline Bling\", \"Digital Dash\", \"Big Rings\", \"Live From The Gutter\", \"Diamonds Dancing\", \"Scholarships\", \"Plastic Bag\", \"Im The Plug\", \"Change Locations\", \"Jumpman\", \"Jersey\", \"30 For 30 Freestyle\", \"Legend\", \"Energy\", \"10 Bands\", \"Know Yourself\", \"No Tellin\", \"Madonna\", \"6 God\", \"Preach\", \"Wednesday Night Interlude\", \"Used To\", \"6 Man\", \"Company\", \"Jungle\", \"6PM In New York\", \"How About Now\", \"My Side\", \"Tuscan Leather\", \"Furthest Thing\", \"Started From The Bottom\", \"Own It\", \"Worst Behaviour\", \"From Time\", \"Hold On Were Going Home\", \"Connect\", \"The Language\", \"305 To My City\", \"Too Much\", \"Drake Speaks\", \"Club Paradise\", \"The Motto\", \"Headlines\", \"Round of Applause\", \"Free Spirit\", \"Trust Issues\", \"Marvins Room\", \"On My Way\", \"Dreams Money Can Buy\", \"Wildfire Remix\", \"Good Life\", \"Well Be Fine\", \"Lord Knows\", \"Under Ground Kings\", \"Make Me Proud\", \"Over My Dead Body\", \"The Real Her\", \"Take Care\", \"The Ride\", \"Doing It Wrong\", \"Cameras\", \"Hate Sleeping Alone\", \"Shot For Me\", \"Good Ones Go\", \"Aston Martin Music\", \"Poppin Bottles\", \"Off That\", \"Look What Youve Done\", \"Practice\", \"Headlines\", \"Light Up\", \"Over My Dead Body\", \"Shot For Me\", \"Headlines\", \"Crew Love\", \"Take Care\", \"Under Ground Kings\", \"Well Be Fine\", \"Make Me Proud\", \"Lord Knows\", \"Doing It Wrong\", \"The Real Her\", \"Look What Youve Done\", \"Practice\", \"The Ride\", \"Shut It Down\", \"Fireworks\", \"Light Up\", \"Up All Night\", \"The Resistance\", \"Miss Me\", \"Find Your Love\", \"Show Me A Good Time\", \"Ceces Interlude\", \"Fancy\", \"Thank Me Now\", \"Unforgettable\", \"Over\", \"Moment 4 Life\", \"Fall For Your Type\", \"Ghetto University\", \"What If I Kissed You\", \"Im Ready For You\", \"I Get Lonely Too\", \"Loving You No More Remix\", \"Deuces Remix\", \"With You\", \"Miss Me\", \"The Usual\", \"Message From You\", \"Feel Love\", \"On My Way\", \"Intro\", \"Faith\", \"Try Harder\", \"Its Been A Pleasure\", \"Fancy Remix\", \"The Usual\", \"With You\", \"Interlude\", \"On My Way\", \"Feeling\", \"What If I Kissed You\", \"Ready For You\", \"Rich Boy\", \"I Get Lonely\", \"Lust For Life\", \"Sooner Than Later\", \"Successful\", \"Uptown\", \"Unstoppable\", \"Little Bit\", \"Ignorant Shit\", \"November 18th\", \"Houstatlantavegas\", \"The Calm\", \"Best I Ever Had\", \"A Night Off\", \"Lets Call It Off\", \"Say Whats Real\", \"Brias Interlude\", \"Brand New\"], \"y\": [0.1152892561983471, -0.16296296296296292, 0.11294642857142856, 0.13843995510662177, -0.11851851851851848, -0.052945665445665445, 0.08167968750000001, -0.4113378684807256, 0.060468291287256795, -0.0027906976744185917, 0.0940993265993266, 0.20342306420431422, 0.17292396756682468, 0.19229390681003586, 0.01632518365472911, 0.028251370907620914, 0.2328030303030303, 0.20085470085470086, -0.01575670498084292, -0.05177095631641085, 0.2077246603970742, 0.162406629318394, 0.018107769423558906, -0.051073762838468734, -0.11631944444444443, 0.3167989417989418, 0.13889860139860136, 0.028571428571428574, 0.0368908472479901, 0.08883768561187916, -0.009091635637090199, 0.03176222616521123, 0.10833333333333332, 0.1433838383838384, 0.022861909915481322, 0.08180134680134676, 0.03626068376068376, 0.18314549435239094, 0.10177987861811393, 0.025350140056022402, 0.0676510989010989, 0.016512345679012327, 0.07067460317460317, 0.026204292161738953, 0.09899149575379082, 0.029479316979316984, 0.0533068783068783, -0.14410130718954248, 0.027604166666666666, 0.12300556586270874, 0.09158212560386474, 0.11388888888888889, -0.001059224463479788, 0.018115942028985508, 0.28595238095238096, 0.04150132275132276, -0.010351232691658224, 0.03632246376811592, 0.225366568914956, 0.03908926218708826, -0.055235930735930694, 0.05714285714285713, 0.29307692307692307, 0.0717948717948718, -0.046874999999999986, 0.018181818181818174, 0.006036324786324786, -0.011071428571428584, 0.030484466513878268, -0.059312169312169344, -0.04394454751597609, -0.15984848484848488, -0.05733869305297878, 0.13653846153846153, -0.016546677959721433, -0.018214285714285718, -0.0564516129032258, 0.05435164717079611, -0.04833603896103895, 0.08897754137115838, 0.03056277056277054, 0.02740797453912209, -0.051824194324194356, 0.01995751162417825, 0.042509143155694866, 0.03133237133237132, 0.06767376142376146, 0.3297875852960603, -0.2911535812672175, 0.03346688034188035, 0.23274193548387095, 0.05805555555555555, 0.0427541074909496, 0.013736669834230802, 0.08949675324675327, -0.09624433106575968, 0.06036463536463536, 0.014136211011211021, 0.009683794466403155, 0.030922318422318414, 0.08294639947865753, -0.09078540507111936, 0.019457896152811408, 0.13968253968253966, 0.10731481481481484, 0.16978003026783514, 0.24112213018463016, -0.03308624874521615, 0.00025974025974025795, 0.15673379200164914, 0.09747720364741638, 0.04681401931401931, 0.1471574993633817, 0.10329545454545454, 0.05067114598364598, -0.01619318181818181, 0.014562556784779, -0.2543109668109668, 0.002529761904761912, 0.1442967772967773, -0.01754643206256109, 0.0731060606060606, 0.051056615942979576, 0.025930877401465633, 0.017446865751950515, 0.009683794466403155, 0.03377636009214959, 0.04681401931401931, 0.002529761904761912, 0.009683794466403155, 0.3466216216216215, 0.10329545454545454, 0.15673379200164914, -0.03308624874521615, 0.09747720364741638, 0.00025974025974025795, -0.01619318181818181, 0.1471574993633817, 0.025930877401465633, 0.017446865751950515, 0.05067114598364598, -0.08089285714285727, 0.11488997113997113, 0.03377636009214959, 0.12035714285714282, 0.058655202821869486, 0.07303263185616128, 0.40444015444015446, 0.3981507622811969, -0.07777777777777778, 0.09588195620804318, 0.05881561516807419, 0.26382887314705494, 0.08662169312169311, 0.0587495143745144, 0.030484466513878268, -0.10972222222222226, 0.10604395604395604, 0.12143759018759023, 0.03205128205128205, 0.22736111111111118, 0.08267451298701299, 0.0533068783068783, 0.07303263185616128, -0.009792429792429778, -0.1325714285714286, 0.26461814914645104, 0.13968253968253966, 0.0, 0.03292111592111593, -0.08672839506172839, 0.11678571428571431, 0.12467204512659058, -0.009792429792429778, 0.0533068783068783, 0.03791378458498025, 0.13968253968253966, 0.07874566332013143, 0.10604395604395604, 0.08099343185550083, -0.07876344086021506, 0.04285714285714285, 0.039336917562724005, 0.2894285714285714, 0.16217772967772967, 0.27561900921886273, 0.08372500515357659, 0.06631042568542568, 0.07289553558165689, -0.06960069444444444, 0.08537296037296035, 0.0734436198721913, 0.43086836409204826, 0.15495238095238095, 0.1675324675324676, -0.04905251980723681, 0.3078125, 0.10340480274442541], \"mode\": \"markers\", \"marker\": {\"size\": 12, \"color\": [0.1152892561983471, -0.16296296296296292, 0.11294642857142856, 0.13843995510662177, -0.11851851851851848, -0.052945665445665445, 0.08167968750000001, -0.4113378684807256, 0.060468291287256795, -0.0027906976744185917, 0.0940993265993266, 0.20342306420431422, 0.17292396756682468, 0.19229390681003586, 0.01632518365472911, 0.028251370907620914, 0.2328030303030303, 0.20085470085470086, -0.01575670498084292, -0.05177095631641085, 0.2077246603970742, 0.162406629318394, 0.018107769423558906, -0.051073762838468734, -0.11631944444444443, 0.3167989417989418, 0.13889860139860136, 0.028571428571428574, 0.0368908472479901, 0.08883768561187916, -0.009091635637090199, 0.03176222616521123, 0.10833333333333332, 0.1433838383838384, 0.022861909915481322, 0.08180134680134676, 0.03626068376068376, 0.18314549435239094, 0.10177987861811393, 0.025350140056022402, 0.0676510989010989, 0.016512345679012327, 0.07067460317460317, 0.026204292161738953, 0.09899149575379082, 0.029479316979316984, 0.0533068783068783, -0.14410130718954248, 0.027604166666666666, 0.12300556586270874, 0.09158212560386474, 0.11388888888888889, -0.001059224463479788, 0.018115942028985508, 0.28595238095238096, 0.04150132275132276, -0.010351232691658224, 0.03632246376811592, 0.225366568914956, 0.03908926218708826, -0.055235930735930694, 0.05714285714285713, 0.29307692307692307, 0.0717948717948718, -0.046874999999999986, 0.018181818181818174, 0.006036324786324786, -0.011071428571428584, 0.030484466513878268, -0.059312169312169344, -0.04394454751597609, -0.15984848484848488, -0.05733869305297878, 0.13653846153846153, -0.016546677959721433, -0.018214285714285718, -0.0564516129032258, 0.05435164717079611, -0.04833603896103895, 0.08897754137115838, 0.03056277056277054, 0.02740797453912209, -0.051824194324194356, 0.01995751162417825, 0.042509143155694866, 0.03133237133237132, 0.06767376142376146, 0.3297875852960603, -0.2911535812672175, 0.03346688034188035, 0.23274193548387095, 0.05805555555555555, 0.0427541074909496, 0.013736669834230802, 0.08949675324675327, -0.09624433106575968, 0.06036463536463536, 0.014136211011211021, 0.009683794466403155, 0.030922318422318414, 0.08294639947865753, -0.09078540507111936, 0.019457896152811408, 0.13968253968253966, 0.10731481481481484, 0.16978003026783514, 0.24112213018463016, -0.03308624874521615, 0.00025974025974025795, 0.15673379200164914, 0.09747720364741638, 0.04681401931401931, 0.1471574993633817, 0.10329545454545454, 0.05067114598364598, -0.01619318181818181, 0.014562556784779, -0.2543109668109668, 0.002529761904761912, 0.1442967772967773, -0.01754643206256109, 0.0731060606060606, 0.051056615942979576, 0.025930877401465633, 0.017446865751950515, 0.009683794466403155, 0.03377636009214959, 0.04681401931401931, 0.002529761904761912, 0.009683794466403155, 0.3466216216216215, 0.10329545454545454, 0.15673379200164914, -0.03308624874521615, 0.09747720364741638, 0.00025974025974025795, -0.01619318181818181, 0.1471574993633817, 0.025930877401465633, 0.017446865751950515, 0.05067114598364598, -0.08089285714285727, 0.11488997113997113, 0.03377636009214959, 0.12035714285714282, 0.058655202821869486, 0.07303263185616128, 0.40444015444015446, 0.3981507622811969, -0.07777777777777778, 0.09588195620804318, 0.05881561516807419, 0.26382887314705494, 0.08662169312169311, 0.0587495143745144, 0.030484466513878268, -0.10972222222222226, 0.10604395604395604, 0.12143759018759023, 0.03205128205128205, 0.22736111111111118, 0.08267451298701299, 0.0533068783068783, 0.07303263185616128, -0.009792429792429778, -0.1325714285714286, 0.26461814914645104, 0.13968253968253966, 0.0, 0.03292111592111593, -0.08672839506172839, 0.11678571428571431, 0.12467204512659058, -0.009792429792429778, 0.0533068783068783, 0.03791378458498025, 0.13968253968253966, 0.07874566332013143, 0.10604395604395604, 0.08099343185550083, -0.07876344086021506, 0.04285714285714285, 0.039336917562724005, 0.2894285714285714, 0.16217772967772967, 0.27561900921886273, 0.08372500515357659, 0.06631042568542568, 0.07289553558165689, -0.06960069444444444, 0.08537296037296035, 0.0734436198721913, 0.43086836409204826, 0.15495238095238095, 0.1675324675324676, -0.04905251980723681, 0.3078125, 0.10340480274442541], \"colorscale\": \"Portland\"}}], {\"width\": 1000, \"height\": 700, \"title\": \"Sentiment Score for Songs\", \"hovermode\": \"closest\", \"titlefont\": {\"size\": 20}, \"xaxis\": {\"title\": \"Song\", \"titlefont\": {\"size\": 16}, \"showticklabels\": false, \"showgrid\": false}, \"yaxis\": {\"title\": \"Sentiment Score\", \"titlefont\": {\"size\": 16}, \"autorange\": true, \"showgrid\": true, \"zeroline\": true, \"dtick\": 0.1, \"gridcolor\": \"#BBC7A4\", \"gridwidth\": 1, \"zerolinecolor\": \"#BBC7A4\", \"zerolinewidth\": 3}, \"margin\": {\"l\": 70, \"r\": 30, \"b\": 180, \"t\": 100}, \"showlegend\": false}, {\"showLink\": true, \"linkText\": \"Export to plot.ly\"})});</script>"
      ],
      "text/vnd.plotly.v1+html": [
       "<div id=\"dcedcaf9-090e-4a27-a1be-8212e62db7c6\" style=\"height: 700px; width: 1000px;\" class=\"plotly-graph-div\"></div><script type=\"text/javascript\">require([\"plotly\"], function(Plotly) { window.PLOTLYENV=window.PLOTLYENV || {};window.PLOTLYENV.BASE_URL=\"https://plot.ly\";Plotly.newPlot(\"dcedcaf9-090e-4a27-a1be-8212e62db7c6\", [{\"type\": \"scatter\", \"x\": [\"Survival\", \"Nonstop\", \"Elevate\", \"Emotionless\", \"Gods Plan\", \"Im Upset\", \"8 Out of 10\", \"Mob Ties\", \"Cant Take a Joke\", \"Sandras Rose\", \"Talk Up\", \"Is There More\", \"Peak\", \"Summer Games\", \"Jaded\", \"Nice For What\", \"Finesse\", \"Ratchet Happy Birthday\", \"Thats How You Feel\", \"Blue Tint\", \"Free Smoke\", \"No Long Talk\", \"Passionfruit\", \"Jorja Interlude\", \"Get It Together\", \"Madiba Riddim\", \"Blem\", \"4422\", \"Gyalchester\", \"Skepta Interlude\", \"Portland\", \"Sacrifices\", \"Nothings Into Somethings\", \"Teenage Fever\", \"KMT\", \"Lose You\", \"Cant Have Everything\", \"Glow\", \"Since Way Back\", \"Fake Love\", \"Keep The Family Close\", \"U With Me\", \"Feel No Ways\", \"Hype\", \"Weston Road Flows\", \"Redemption\", \"With You\", \"Faithful\", \"Still Here\", \"Controlla\", \"One Dance\", \"GRAMMYs\", \"Childs Play\", \"Pop Style\", \"Too Good\", \"Views\", \"Hotline Bling\", \"Digital Dash\", \"Big Rings\", \"Live From The Gutter\", \"Diamonds Dancing\", \"Scholarships\", \"Plastic Bag\", \"Im The Plug\", \"Change Locations\", \"Jumpman\", \"Jersey\", \"30 For 30 Freestyle\", \"Legend\", \"Energy\", \"10 Bands\", \"Know Yourself\", \"No Tellin\", \"Madonna\", \"6 God\", \"Preach\", \"Wednesday Night Interlude\", \"Used To\", \"6 Man\", \"Company\", \"Jungle\", \"6PM In New York\", \"How About Now\", \"My Side\", \"Tuscan Leather\", \"Furthest Thing\", \"Started From The Bottom\", \"Own It\", \"Worst Behaviour\", \"From Time\", \"Hold On Were Going Home\", \"Connect\", \"The Language\", \"305 To My City\", \"Too Much\", \"Drake Speaks\", \"Club Paradise\", \"The Motto\", \"Headlines\", \"Round of Applause\", \"Free Spirit\", \"Trust Issues\", \"Marvins Room\", \"On My Way\", \"Dreams Money Can Buy\", \"Wildfire Remix\", \"Good Life\", \"Well Be Fine\", \"Lord Knows\", \"Under Ground Kings\", \"Make Me Proud\", \"Over My Dead Body\", \"The Real Her\", \"Take Care\", \"The Ride\", \"Doing It Wrong\", \"Cameras\", \"Hate Sleeping Alone\", \"Shot For Me\", \"Good Ones Go\", \"Aston Martin Music\", \"Poppin Bottles\", \"Off That\", \"Look What Youve Done\", \"Practice\", \"Headlines\", \"Light Up\", \"Over My Dead Body\", \"Shot For Me\", \"Headlines\", \"Crew Love\", \"Take Care\", \"Under Ground Kings\", \"Well Be Fine\", \"Make Me Proud\", \"Lord Knows\", \"Doing It Wrong\", \"The Real Her\", \"Look What Youve Done\", \"Practice\", \"The Ride\", \"Shut It Down\", \"Fireworks\", \"Light Up\", \"Up All Night\", \"The Resistance\", \"Miss Me\", \"Find Your Love\", \"Show Me A Good Time\", \"Ceces Interlude\", \"Fancy\", \"Thank Me Now\", \"Unforgettable\", \"Over\", \"Moment 4 Life\", \"Fall For Your Type\", \"Ghetto University\", \"What If I Kissed You\", \"Im Ready For You\", \"I Get Lonely Too\", \"Loving You No More Remix\", \"Deuces Remix\", \"With You\", \"Miss Me\", \"The Usual\", \"Message From You\", \"Feel Love\", \"On My Way\", \"Intro\", \"Faith\", \"Try Harder\", \"Its Been A Pleasure\", \"Fancy Remix\", \"The Usual\", \"With You\", \"Interlude\", \"On My Way\", \"Feeling\", \"What If I Kissed You\", \"Ready For You\", \"Rich Boy\", \"I Get Lonely\", \"Lust For Life\", \"Sooner Than Later\", \"Successful\", \"Uptown\", \"Unstoppable\", \"Little Bit\", \"Ignorant Shit\", \"November 18th\", \"Houstatlantavegas\", \"The Calm\", \"Best I Ever Had\", \"A Night Off\", \"Lets Call It Off\", \"Say Whats Real\", \"Brias Interlude\", \"Brand New\"], \"y\": [0.1152892561983471, -0.16296296296296292, 0.11294642857142856, 0.13843995510662177, -0.11851851851851848, -0.052945665445665445, 0.08167968750000001, -0.4113378684807256, 0.060468291287256795, -0.0027906976744185917, 0.0940993265993266, 0.20342306420431422, 0.17292396756682468, 0.19229390681003586, 0.01632518365472911, 0.028251370907620914, 0.2328030303030303, 0.20085470085470086, -0.01575670498084292, -0.05177095631641085, 0.2077246603970742, 0.162406629318394, 0.018107769423558906, -0.051073762838468734, -0.11631944444444443, 0.3167989417989418, 0.13889860139860136, 0.028571428571428574, 0.0368908472479901, 0.08883768561187916, -0.009091635637090199, 0.03176222616521123, 0.10833333333333332, 0.1433838383838384, 0.022861909915481322, 0.08180134680134676, 0.03626068376068376, 0.18314549435239094, 0.10177987861811393, 0.025350140056022402, 0.0676510989010989, 0.016512345679012327, 0.07067460317460317, 0.026204292161738953, 0.09899149575379082, 0.029479316979316984, 0.0533068783068783, -0.14410130718954248, 0.027604166666666666, 0.12300556586270874, 0.09158212560386474, 0.11388888888888889, -0.001059224463479788, 0.018115942028985508, 0.28595238095238096, 0.04150132275132276, -0.010351232691658224, 0.03632246376811592, 0.225366568914956, 0.03908926218708826, -0.055235930735930694, 0.05714285714285713, 0.29307692307692307, 0.0717948717948718, -0.046874999999999986, 0.018181818181818174, 0.006036324786324786, -0.011071428571428584, 0.030484466513878268, -0.059312169312169344, -0.04394454751597609, -0.15984848484848488, -0.05733869305297878, 0.13653846153846153, -0.016546677959721433, -0.018214285714285718, -0.0564516129032258, 0.05435164717079611, -0.04833603896103895, 0.08897754137115838, 0.03056277056277054, 0.02740797453912209, -0.051824194324194356, 0.01995751162417825, 0.042509143155694866, 0.03133237133237132, 0.06767376142376146, 0.3297875852960603, -0.2911535812672175, 0.03346688034188035, 0.23274193548387095, 0.05805555555555555, 0.0427541074909496, 0.013736669834230802, 0.08949675324675327, -0.09624433106575968, 0.06036463536463536, 0.014136211011211021, 0.009683794466403155, 0.030922318422318414, 0.08294639947865753, -0.09078540507111936, 0.019457896152811408, 0.13968253968253966, 0.10731481481481484, 0.16978003026783514, 0.24112213018463016, -0.03308624874521615, 0.00025974025974025795, 0.15673379200164914, 0.09747720364741638, 0.04681401931401931, 0.1471574993633817, 0.10329545454545454, 0.05067114598364598, -0.01619318181818181, 0.014562556784779, -0.2543109668109668, 0.002529761904761912, 0.1442967772967773, -0.01754643206256109, 0.0731060606060606, 0.051056615942979576, 0.025930877401465633, 0.017446865751950515, 0.009683794466403155, 0.03377636009214959, 0.04681401931401931, 0.002529761904761912, 0.009683794466403155, 0.3466216216216215, 0.10329545454545454, 0.15673379200164914, -0.03308624874521615, 0.09747720364741638, 0.00025974025974025795, -0.01619318181818181, 0.1471574993633817, 0.025930877401465633, 0.017446865751950515, 0.05067114598364598, -0.08089285714285727, 0.11488997113997113, 0.03377636009214959, 0.12035714285714282, 0.058655202821869486, 0.07303263185616128, 0.40444015444015446, 0.3981507622811969, -0.07777777777777778, 0.09588195620804318, 0.05881561516807419, 0.26382887314705494, 0.08662169312169311, 0.0587495143745144, 0.030484466513878268, -0.10972222222222226, 0.10604395604395604, 0.12143759018759023, 0.03205128205128205, 0.22736111111111118, 0.08267451298701299, 0.0533068783068783, 0.07303263185616128, -0.009792429792429778, -0.1325714285714286, 0.26461814914645104, 0.13968253968253966, 0.0, 0.03292111592111593, -0.08672839506172839, 0.11678571428571431, 0.12467204512659058, -0.009792429792429778, 0.0533068783068783, 0.03791378458498025, 0.13968253968253966, 0.07874566332013143, 0.10604395604395604, 0.08099343185550083, -0.07876344086021506, 0.04285714285714285, 0.039336917562724005, 0.2894285714285714, 0.16217772967772967, 0.27561900921886273, 0.08372500515357659, 0.06631042568542568, 0.07289553558165689, -0.06960069444444444, 0.08537296037296035, 0.0734436198721913, 0.43086836409204826, 0.15495238095238095, 0.1675324675324676, -0.04905251980723681, 0.3078125, 0.10340480274442541], \"mode\": \"markers\", \"marker\": {\"size\": 12, \"color\": [0.1152892561983471, -0.16296296296296292, 0.11294642857142856, 0.13843995510662177, -0.11851851851851848, -0.052945665445665445, 0.08167968750000001, -0.4113378684807256, 0.060468291287256795, -0.0027906976744185917, 0.0940993265993266, 0.20342306420431422, 0.17292396756682468, 0.19229390681003586, 0.01632518365472911, 0.028251370907620914, 0.2328030303030303, 0.20085470085470086, -0.01575670498084292, -0.05177095631641085, 0.2077246603970742, 0.162406629318394, 0.018107769423558906, -0.051073762838468734, -0.11631944444444443, 0.3167989417989418, 0.13889860139860136, 0.028571428571428574, 0.0368908472479901, 0.08883768561187916, -0.009091635637090199, 0.03176222616521123, 0.10833333333333332, 0.1433838383838384, 0.022861909915481322, 0.08180134680134676, 0.03626068376068376, 0.18314549435239094, 0.10177987861811393, 0.025350140056022402, 0.0676510989010989, 0.016512345679012327, 0.07067460317460317, 0.026204292161738953, 0.09899149575379082, 0.029479316979316984, 0.0533068783068783, -0.14410130718954248, 0.027604166666666666, 0.12300556586270874, 0.09158212560386474, 0.11388888888888889, -0.001059224463479788, 0.018115942028985508, 0.28595238095238096, 0.04150132275132276, -0.010351232691658224, 0.03632246376811592, 0.225366568914956, 0.03908926218708826, -0.055235930735930694, 0.05714285714285713, 0.29307692307692307, 0.0717948717948718, -0.046874999999999986, 0.018181818181818174, 0.006036324786324786, -0.011071428571428584, 0.030484466513878268, -0.059312169312169344, -0.04394454751597609, -0.15984848484848488, -0.05733869305297878, 0.13653846153846153, -0.016546677959721433, -0.018214285714285718, -0.0564516129032258, 0.05435164717079611, -0.04833603896103895, 0.08897754137115838, 0.03056277056277054, 0.02740797453912209, -0.051824194324194356, 0.01995751162417825, 0.042509143155694866, 0.03133237133237132, 0.06767376142376146, 0.3297875852960603, -0.2911535812672175, 0.03346688034188035, 0.23274193548387095, 0.05805555555555555, 0.0427541074909496, 0.013736669834230802, 0.08949675324675327, -0.09624433106575968, 0.06036463536463536, 0.014136211011211021, 0.009683794466403155, 0.030922318422318414, 0.08294639947865753, -0.09078540507111936, 0.019457896152811408, 0.13968253968253966, 0.10731481481481484, 0.16978003026783514, 0.24112213018463016, -0.03308624874521615, 0.00025974025974025795, 0.15673379200164914, 0.09747720364741638, 0.04681401931401931, 0.1471574993633817, 0.10329545454545454, 0.05067114598364598, -0.01619318181818181, 0.014562556784779, -0.2543109668109668, 0.002529761904761912, 0.1442967772967773, -0.01754643206256109, 0.0731060606060606, 0.051056615942979576, 0.025930877401465633, 0.017446865751950515, 0.009683794466403155, 0.03377636009214959, 0.04681401931401931, 0.002529761904761912, 0.009683794466403155, 0.3466216216216215, 0.10329545454545454, 0.15673379200164914, -0.03308624874521615, 0.09747720364741638, 0.00025974025974025795, -0.01619318181818181, 0.1471574993633817, 0.025930877401465633, 0.017446865751950515, 0.05067114598364598, -0.08089285714285727, 0.11488997113997113, 0.03377636009214959, 0.12035714285714282, 0.058655202821869486, 0.07303263185616128, 0.40444015444015446, 0.3981507622811969, -0.07777777777777778, 0.09588195620804318, 0.05881561516807419, 0.26382887314705494, 0.08662169312169311, 0.0587495143745144, 0.030484466513878268, -0.10972222222222226, 0.10604395604395604, 0.12143759018759023, 0.03205128205128205, 0.22736111111111118, 0.08267451298701299, 0.0533068783068783, 0.07303263185616128, -0.009792429792429778, -0.1325714285714286, 0.26461814914645104, 0.13968253968253966, 0.0, 0.03292111592111593, -0.08672839506172839, 0.11678571428571431, 0.12467204512659058, -0.009792429792429778, 0.0533068783068783, 0.03791378458498025, 0.13968253968253966, 0.07874566332013143, 0.10604395604395604, 0.08099343185550083, -0.07876344086021506, 0.04285714285714285, 0.039336917562724005, 0.2894285714285714, 0.16217772967772967, 0.27561900921886273, 0.08372500515357659, 0.06631042568542568, 0.07289553558165689, -0.06960069444444444, 0.08537296037296035, 0.0734436198721913, 0.43086836409204826, 0.15495238095238095, 0.1675324675324676, -0.04905251980723681, 0.3078125, 0.10340480274442541], \"colorscale\": \"Portland\"}}], {\"width\": 1000, \"height\": 700, \"title\": \"Sentiment Score for Songs\", \"hovermode\": \"closest\", \"titlefont\": {\"size\": 20}, \"xaxis\": {\"title\": \"Song\", \"titlefont\": {\"size\": 16}, \"showticklabels\": false, \"showgrid\": false}, \"yaxis\": {\"title\": \"Sentiment Score\", \"titlefont\": {\"size\": 16}, \"autorange\": true, \"showgrid\": true, \"zeroline\": true, \"dtick\": 0.1, \"gridcolor\": \"#BBC7A4\", \"gridwidth\": 1, \"zerolinecolor\": \"#BBC7A4\", \"zerolinewidth\": 3}, \"margin\": {\"l\": 70, \"r\": 30, \"b\": 180, \"t\": 100}, \"showlegend\": false}, {\"showLink\": true, \"linkText\": \"Export to plot.ly\"})});</script>"
      ]
     },
     "metadata": {},
     "output_type": "display_data"
    }
   ],
   "source": [
    "trace1 = go.Scatter(\n",
    "    x= df_songMetrics['song'],\n",
    "    y= df_songMetrics['sentiment'],\n",
    "    mode='markers',\n",
    "    marker=dict(\n",
    "        size=12,\n",
    "        color = df_songMetrics['sentiment'], #set color equal to a variable\n",
    "        colorscale='Portland'))\n",
    "data = [trace1]\n",
    "\n",
    "layout = go.Layout(\n",
    "        width = 1000,\n",
    "        height = 700,\n",
    "        title = 'Sentiment Score for Songs',\n",
    "        hovermode= 'closest',\n",
    "        titlefont = dict(size=20),\n",
    "         xaxis = dict(\n",
    "            title = 'Song',\n",
    "            titlefont = dict(size=16),\n",
    "            showticklabels=False,\n",
    "            showgrid=False),\n",
    "         yaxis = dict(\n",
    "            title = 'Sentiment Score',\n",
    "            titlefont = dict(size=16),\n",
    "            autorange = True,\n",
    "            showgrid = True,\n",
    "            zeroline = True,\n",
    "            dtick = 0.1,\n",
    "            gridcolor = '#BBC7A4',\n",
    "            gridwidth = 1,\n",
    "            zerolinecolor = '#BBC7A4',\n",
    "            zerolinewidth = 3),\n",
    "        margin = dict(\n",
    "            l = 70,\n",
    "            r = 30,\n",
    "            b = 180,\n",
    "            t = 100),\n",
    "        showlegend=False)\n",
    "\n",
    "fig = dict(data=data,layout=layout)\n",
    "iplot(fig, filename='sentiment')"
   ]
  },
  {
   "cell_type": "markdown",
   "metadata": {},
   "source": [
    "#### Insights\n",
    "+ Not surprising a majority of Drake's songs are relatively neutral or positive.\n",
    "+ One song I was surprised by was \"Know Yourself\" which got a sentiment score of -0.16 but when I went back and read the lyrics I realized \"woe\" was the most used word and could have contributed to the lower sentiment score.\n",
    "+ Currently a very popular song, \"Nice for What\" got a sentiment score of 0.03 although the lyrics aren't overly positive, it does have an overall positive message which explains the somewhat neutral sentiment score."
   ]
  },
  {
   "cell_type": "markdown",
   "metadata": {},
   "source": [
    "### Plot Lexical Complexity for Songs"
   ]
  },
  {
   "cell_type": "code",
   "execution_count": 20,
   "metadata": {},
   "outputs": [
    {
     "data": {
      "application/vnd.plotly.v1+json": {
       "data": [
        {
         "marker": {
          "color": [
           0.5414364640883977,
           0.39067055393586003,
           0.5027932960893855,
           0.4527363184079602,
           0.40285714285714286,
           0.4725,
           0.4397705544933078,
           0.3392857142857143,
           0.35545023696682465,
           0.5102420856610801,
           0.5128805620608899,
           0.4965277777777778,
           0.5278688524590164,
           0.33024691358024694,
           0.4081237911025145,
           0.27439024390243905,
           0.5083798882681564,
           0.3877551020408163,
           0.4444444444444444,
           0.32673267326732675,
           0.493006993006993,
           0.48699763593380613,
           0.44298245614035087,
           0.4939271255060729,
           0.3930635838150289,
           0.3576388888888889,
           0.29508196721311475,
           0.21287128712871287,
           0.4626865671641791,
           0.46421267893660534,
           0.41770186335403725,
           0.40266963292547275,
           0.5547945205479452,
           0.4050632911392405,
           0.6079136690647482,
           0.4818791946308725,
           0.5226860254083484,
           0.4668304668304668,
           0.3644067796610169,
           0.21428571428571427,
           0.37667304015296366,
           0.405,
           0.315625,
           0.41929499072356213,
           0.4736147757255937,
           0.3601147776183644,
           0.3805970149253731,
           0.4458204334365325,
           0.36097560975609755,
           0.3783783783783784,
           0.27525252525252525,
           0.33641975308641975,
           0.30407523510971785,
           0.4326241134751773,
           0.292817679558011,
           0.49434571890145396,
           0.28018223234624146,
           0.3577981651376147,
           0.2720970537261698,
           0.4057142857142857,
           0.32717190388170053,
           0.3434343434343434,
           0.2658486707566462,
           0.3599137931034483,
           0.23875432525951557,
           0.4233128834355828,
           0.22765598650927488,
           0.49171270718232046,
           0.341645885286783,
           0.3619246861924686,
           0.41649484536082476,
           0.36673773987206826,
           0.3684210526315789,
           0.3963963963963964,
           0.40898876404494383,
           0.4375,
           0.48756218905472637,
           0.43823146944083224,
           0.41853932584269665,
           0.3711151736745887,
           0.3825,
           0.4498346196251378,
           0.38031319910514544,
           0.4191780821917808,
           0.47979139504563234,
           0.3536184210526316,
           0.2937365010799136,
           0.2737642585551331,
           0.4032846715328467,
           0.4782608695652174,
           0.20447284345047922,
           0.48792270531400966,
           0.3587662337662338,
           0.2945326278659612,
           0.4292845257903494,
           0.4166666666666667,
           0.3917525773195876,
           0.40324763193504737,
           0.3798767967145791,
           0.29518072289156627,
           0.35405405405405405,
           0.3610586011342155,
           0.3971631205673759,
           0.4302788844621514,
           0.4092526690391459,
           0.4543010752688172,
           0.42050520059435365,
           0.3987034035656402,
           0.5,
           0.3826219512195122,
           0.4968684759916493,
           0.39356814701378257,
           0.3649932157394844,
           0.3739130434782609,
           0.4495677233429395,
           0.23901098901098902,
           0.36082474226804123,
           0.36464088397790057,
           0.423963133640553,
           0.41379310344827586,
           0.5558139534883721,
           0.5361216730038023,
           0.30193905817174516,
           0.39941690962099125,
           0.26846846846846845,
           0.3798767967145791,
           0.47345132743362833,
           0.39356814701378257,
           0.423963133640553,
           0.3798767967145791,
           0.4573002754820937,
           0.3739130434782609,
           0.3826219512195122,
           0.3987034035656402,
           0.4968684759916493,
           0.5,
           0.23901098901098902,
           0.3649932157394844,
           0.39941690962099125,
           0.26846846846846845,
           0.4495677233429395,
           0.3394109396914446,
           0.40667678300455234,
           0.47345132743362833,
           0.5077951002227171,
           0.530562347188264,
           0.40498812351543945,
           0.2709030100334448,
           0.33695652173913043,
           0.5348837209302325,
           0.33590308370044053,
           0.4197994987468672,
           0.39728353140916806,
           0.37061769616026713,
           0.39705882352941174,
           0.3425,
           0.5367965367965368,
           0.29152542372881357,
           0.3666061705989111,
           0.24022346368715083,
           0.3333333333333333,
           0.42566844919786095,
           0.3805970149253731,
           0.40498812351543945,
           0.3568627450980392,
           0.4752475247524752,
           0.3402555910543131,
           0.4302788844621514,
           0.9,
           0.5825242718446602,
           0.51010101010101,
           0.5123456790123457,
           0.3924050632911392,
           0.3568627450980392,
           0.3805970149253731,
           0.4418604651162791,
           0.4302788844621514,
           0.47700170357751276,
           0.29152542372881357,
           0.5502645502645502,
           0.5168539325842697,
           0.2964071856287425,
           0.524822695035461,
           0.3139784946236559,
           0.39851485148514854,
           0.3264299802761341,
           0.4066797642436149,
           0.3733031674208145,
           0.5144230769230769,
           0.5333333333333333,
           0.3894230769230769,
           0.5067340067340067,
           0.29044117647058826,
           0.3312883435582822,
           0.39228295819935693,
           0.4711964549483013,
           0.3474178403755869,
           0.42662116040955633
          ],
          "colorscale": "Portland",
          "size": 12
         },
         "mode": "markers",
         "type": "scatter",
         "x": [
          "Survival",
          "Nonstop",
          "Elevate",
          "Emotionless",
          "Gods Plan",
          "Im Upset",
          "8 Out of 10",
          "Mob Ties",
          "Cant Take a Joke",
          "Sandras Rose",
          "Talk Up",
          "Is There More",
          "Peak",
          "Summer Games",
          "Jaded",
          "Nice For What",
          "Finesse",
          "Ratchet Happy Birthday",
          "Thats How You Feel",
          "Blue Tint",
          "Free Smoke",
          "No Long Talk",
          "Passionfruit",
          "Jorja Interlude",
          "Get It Together",
          "Madiba Riddim",
          "Blem",
          "4422",
          "Gyalchester",
          "Skepta Interlude",
          "Portland",
          "Sacrifices",
          "Nothings Into Somethings",
          "Teenage Fever",
          "KMT",
          "Lose You",
          "Cant Have Everything",
          "Glow",
          "Since Way Back",
          "Fake Love",
          "Keep The Family Close",
          "U With Me",
          "Feel No Ways",
          "Hype",
          "Weston Road Flows",
          "Redemption",
          "With You",
          "Faithful",
          "Still Here",
          "Controlla",
          "One Dance",
          "GRAMMYs",
          "Childs Play",
          "Pop Style",
          "Too Good",
          "Views",
          "Hotline Bling",
          "Digital Dash",
          "Big Rings",
          "Live From The Gutter",
          "Diamonds Dancing",
          "Scholarships",
          "Plastic Bag",
          "Im The Plug",
          "Change Locations",
          "Jumpman",
          "Jersey",
          "30 For 30 Freestyle",
          "Legend",
          "Energy",
          "10 Bands",
          "Know Yourself",
          "No Tellin",
          "Madonna",
          "6 God",
          "Preach",
          "Wednesday Night Interlude",
          "Used To",
          "6 Man",
          "Company",
          "Jungle",
          "6PM In New York",
          "How About Now",
          "My Side",
          "Tuscan Leather",
          "Furthest Thing",
          "Started From The Bottom",
          "Own It",
          "Worst Behaviour",
          "From Time",
          "Hold On Were Going Home",
          "Connect",
          "The Language",
          "305 To My City",
          "Too Much",
          "Drake Speaks",
          "Club Paradise",
          "The Motto",
          "Headlines",
          "Round of Applause",
          "Free Spirit",
          "Trust Issues",
          "Marvins Room",
          "On My Way",
          "Dreams Money Can Buy",
          "Wildfire Remix",
          "Good Life",
          "Well Be Fine",
          "Lord Knows",
          "Under Ground Kings",
          "Make Me Proud",
          "Over My Dead Body",
          "The Real Her",
          "Take Care",
          "The Ride",
          "Doing It Wrong",
          "Cameras",
          "Hate Sleeping Alone",
          "Shot For Me",
          "Good Ones Go",
          "Aston Martin Music",
          "Poppin Bottles",
          "Off That",
          "Look What Youve Done",
          "Practice",
          "Headlines",
          "Light Up",
          "Over My Dead Body",
          "Shot For Me",
          "Headlines",
          "Crew Love",
          "Take Care",
          "Under Ground Kings",
          "Well Be Fine",
          "Make Me Proud",
          "Lord Knows",
          "Doing It Wrong",
          "The Real Her",
          "Look What Youve Done",
          "Practice",
          "The Ride",
          "Shut It Down",
          "Fireworks",
          "Light Up",
          "Up All Night",
          "The Resistance",
          "Miss Me",
          "Find Your Love",
          "Show Me A Good Time",
          "Ceces Interlude",
          "Fancy",
          "Thank Me Now",
          "Unforgettable",
          "Over",
          "Moment 4 Life",
          "Fall For Your Type",
          "Ghetto University",
          "What If I Kissed You",
          "Im Ready For You",
          "I Get Lonely Too",
          "Loving You No More Remix",
          "Deuces Remix",
          "With You",
          "Miss Me",
          "The Usual",
          "Message From You",
          "Feel Love",
          "On My Way",
          "Intro",
          "Faith",
          "Try Harder",
          "Its Been A Pleasure",
          "Fancy Remix",
          "The Usual",
          "With You",
          "Interlude",
          "On My Way",
          "Feeling",
          "What If I Kissed You",
          "Ready For You",
          "Rich Boy",
          "I Get Lonely",
          "Lust For Life",
          "Sooner Than Later",
          "Successful",
          "Uptown",
          "Unstoppable",
          "Little Bit",
          "Ignorant Shit",
          "November 18th",
          "Houstatlantavegas",
          "The Calm",
          "Best I Ever Had",
          "A Night Off",
          "Lets Call It Off",
          "Say Whats Real",
          "Brias Interlude",
          "Brand New"
         ],
         "y": [
          0.5414364640883977,
          0.39067055393586003,
          0.5027932960893855,
          0.4527363184079602,
          0.40285714285714286,
          0.4725,
          0.4397705544933078,
          0.3392857142857143,
          0.35545023696682465,
          0.5102420856610801,
          0.5128805620608899,
          0.4965277777777778,
          0.5278688524590164,
          0.33024691358024694,
          0.4081237911025145,
          0.27439024390243905,
          0.5083798882681564,
          0.3877551020408163,
          0.4444444444444444,
          0.32673267326732675,
          0.493006993006993,
          0.48699763593380613,
          0.44298245614035087,
          0.4939271255060729,
          0.3930635838150289,
          0.3576388888888889,
          0.29508196721311475,
          0.21287128712871287,
          0.4626865671641791,
          0.46421267893660534,
          0.41770186335403725,
          0.40266963292547275,
          0.5547945205479452,
          0.4050632911392405,
          0.6079136690647482,
          0.4818791946308725,
          0.5226860254083484,
          0.4668304668304668,
          0.3644067796610169,
          0.21428571428571427,
          0.37667304015296366,
          0.405,
          0.315625,
          0.41929499072356213,
          0.4736147757255937,
          0.3601147776183644,
          0.3805970149253731,
          0.4458204334365325,
          0.36097560975609755,
          0.3783783783783784,
          0.27525252525252525,
          0.33641975308641975,
          0.30407523510971785,
          0.4326241134751773,
          0.292817679558011,
          0.49434571890145396,
          0.28018223234624146,
          0.3577981651376147,
          0.2720970537261698,
          0.4057142857142857,
          0.32717190388170053,
          0.3434343434343434,
          0.2658486707566462,
          0.3599137931034483,
          0.23875432525951557,
          0.4233128834355828,
          0.22765598650927488,
          0.49171270718232046,
          0.341645885286783,
          0.3619246861924686,
          0.41649484536082476,
          0.36673773987206826,
          0.3684210526315789,
          0.3963963963963964,
          0.40898876404494383,
          0.4375,
          0.48756218905472637,
          0.43823146944083224,
          0.41853932584269665,
          0.3711151736745887,
          0.3825,
          0.4498346196251378,
          0.38031319910514544,
          0.4191780821917808,
          0.47979139504563234,
          0.3536184210526316,
          0.2937365010799136,
          0.2737642585551331,
          0.4032846715328467,
          0.4782608695652174,
          0.20447284345047922,
          0.48792270531400966,
          0.3587662337662338,
          0.2945326278659612,
          0.4292845257903494,
          0.4166666666666667,
          0.3917525773195876,
          0.40324763193504737,
          0.3798767967145791,
          0.29518072289156627,
          0.35405405405405405,
          0.3610586011342155,
          0.3971631205673759,
          0.4302788844621514,
          0.4092526690391459,
          0.4543010752688172,
          0.42050520059435365,
          0.3987034035656402,
          0.5,
          0.3826219512195122,
          0.4968684759916493,
          0.39356814701378257,
          0.3649932157394844,
          0.3739130434782609,
          0.4495677233429395,
          0.23901098901098902,
          0.36082474226804123,
          0.36464088397790057,
          0.423963133640553,
          0.41379310344827586,
          0.5558139534883721,
          0.5361216730038023,
          0.30193905817174516,
          0.39941690962099125,
          0.26846846846846845,
          0.3798767967145791,
          0.47345132743362833,
          0.39356814701378257,
          0.423963133640553,
          0.3798767967145791,
          0.4573002754820937,
          0.3739130434782609,
          0.3826219512195122,
          0.3987034035656402,
          0.4968684759916493,
          0.5,
          0.23901098901098902,
          0.3649932157394844,
          0.39941690962099125,
          0.26846846846846845,
          0.4495677233429395,
          0.3394109396914446,
          0.40667678300455234,
          0.47345132743362833,
          0.5077951002227171,
          0.530562347188264,
          0.40498812351543945,
          0.2709030100334448,
          0.33695652173913043,
          0.5348837209302325,
          0.33590308370044053,
          0.4197994987468672,
          0.39728353140916806,
          0.37061769616026713,
          0.39705882352941174,
          0.3425,
          0.5367965367965368,
          0.29152542372881357,
          0.3666061705989111,
          0.24022346368715083,
          0.3333333333333333,
          0.42566844919786095,
          0.3805970149253731,
          0.40498812351543945,
          0.3568627450980392,
          0.4752475247524752,
          0.3402555910543131,
          0.4302788844621514,
          0.9,
          0.5825242718446602,
          0.51010101010101,
          0.5123456790123457,
          0.3924050632911392,
          0.3568627450980392,
          0.3805970149253731,
          0.4418604651162791,
          0.4302788844621514,
          0.47700170357751276,
          0.29152542372881357,
          0.5502645502645502,
          0.5168539325842697,
          0.2964071856287425,
          0.524822695035461,
          0.3139784946236559,
          0.39851485148514854,
          0.3264299802761341,
          0.4066797642436149,
          0.3733031674208145,
          0.5144230769230769,
          0.5333333333333333,
          0.3894230769230769,
          0.5067340067340067,
          0.29044117647058826,
          0.3312883435582822,
          0.39228295819935693,
          0.4711964549483013,
          0.3474178403755869,
          0.42662116040955633
         ]
        }
       ],
       "layout": {
        "height": 700,
        "hovermode": "closest",
        "margin": {
         "b": 180,
         "l": 70,
         "r": 30,
         "t": 100
        },
        "showlegend": false,
        "title": "Lexical Complexity for Songs",
        "titlefont": {
         "size": 20
        },
        "width": 1000,
        "xaxis": {
         "showgrid": false,
         "showticklabels": false,
         "title": "Song",
         "titlefont": {
          "size": 16
         }
        },
        "yaxis": {
         "autorange": true,
         "dtick": 0.1,
         "gridcolor": "#BBC7A4",
         "gridwidth": 1,
         "showgrid": true,
         "title": "Lexical Complexity",
         "titlefont": {
          "size": 16
         },
         "zeroline": true,
         "zerolinecolor": "#BBC7A4",
         "zerolinewidth": 3
        }
       }
      },
      "text/html": [
       "<div id=\"c5a4bd35-7074-45aa-a4a9-bb3bfd7f067a\" style=\"height: 700px; width: 1000px;\" class=\"plotly-graph-div\"></div><script type=\"text/javascript\">require([\"plotly\"], function(Plotly) { window.PLOTLYENV=window.PLOTLYENV || {};window.PLOTLYENV.BASE_URL=\"https://plot.ly\";Plotly.newPlot(\"c5a4bd35-7074-45aa-a4a9-bb3bfd7f067a\", [{\"type\": \"scatter\", \"x\": [\"Survival\", \"Nonstop\", \"Elevate\", \"Emotionless\", \"Gods Plan\", \"Im Upset\", \"8 Out of 10\", \"Mob Ties\", \"Cant Take a Joke\", \"Sandras Rose\", \"Talk Up\", \"Is There More\", \"Peak\", \"Summer Games\", \"Jaded\", \"Nice For What\", \"Finesse\", \"Ratchet Happy Birthday\", \"Thats How You Feel\", \"Blue Tint\", \"Free Smoke\", \"No Long Talk\", \"Passionfruit\", \"Jorja Interlude\", \"Get It Together\", \"Madiba Riddim\", \"Blem\", \"4422\", \"Gyalchester\", \"Skepta Interlude\", \"Portland\", \"Sacrifices\", \"Nothings Into Somethings\", \"Teenage Fever\", \"KMT\", \"Lose You\", \"Cant Have Everything\", \"Glow\", \"Since Way Back\", \"Fake Love\", \"Keep The Family Close\", \"U With Me\", \"Feel No Ways\", \"Hype\", \"Weston Road Flows\", \"Redemption\", \"With You\", \"Faithful\", \"Still Here\", \"Controlla\", \"One Dance\", \"GRAMMYs\", \"Childs Play\", \"Pop Style\", \"Too Good\", \"Views\", \"Hotline Bling\", \"Digital Dash\", \"Big Rings\", \"Live From The Gutter\", \"Diamonds Dancing\", \"Scholarships\", \"Plastic Bag\", \"Im The Plug\", \"Change Locations\", \"Jumpman\", \"Jersey\", \"30 For 30 Freestyle\", \"Legend\", \"Energy\", \"10 Bands\", \"Know Yourself\", \"No Tellin\", \"Madonna\", \"6 God\", \"Preach\", \"Wednesday Night Interlude\", \"Used To\", \"6 Man\", \"Company\", \"Jungle\", \"6PM In New York\", \"How About Now\", \"My Side\", \"Tuscan Leather\", \"Furthest Thing\", \"Started From The Bottom\", \"Own It\", \"Worst Behaviour\", \"From Time\", \"Hold On Were Going Home\", \"Connect\", \"The Language\", \"305 To My City\", \"Too Much\", \"Drake Speaks\", \"Club Paradise\", \"The Motto\", \"Headlines\", \"Round of Applause\", \"Free Spirit\", \"Trust Issues\", \"Marvins Room\", \"On My Way\", \"Dreams Money Can Buy\", \"Wildfire Remix\", \"Good Life\", \"Well Be Fine\", \"Lord Knows\", \"Under Ground Kings\", \"Make Me Proud\", \"Over My Dead Body\", \"The Real Her\", \"Take Care\", \"The Ride\", \"Doing It Wrong\", \"Cameras\", \"Hate Sleeping Alone\", \"Shot For Me\", \"Good Ones Go\", \"Aston Martin Music\", \"Poppin Bottles\", \"Off That\", \"Look What Youve Done\", \"Practice\", \"Headlines\", \"Light Up\", \"Over My Dead Body\", \"Shot For Me\", \"Headlines\", \"Crew Love\", \"Take Care\", \"Under Ground Kings\", \"Well Be Fine\", \"Make Me Proud\", \"Lord Knows\", \"Doing It Wrong\", \"The Real Her\", \"Look What Youve Done\", \"Practice\", \"The Ride\", \"Shut It Down\", \"Fireworks\", \"Light Up\", \"Up All Night\", \"The Resistance\", \"Miss Me\", \"Find Your Love\", \"Show Me A Good Time\", \"Ceces Interlude\", \"Fancy\", \"Thank Me Now\", \"Unforgettable\", \"Over\", \"Moment 4 Life\", \"Fall For Your Type\", \"Ghetto University\", \"What If I Kissed You\", \"Im Ready For You\", \"I Get Lonely Too\", \"Loving You No More Remix\", \"Deuces Remix\", \"With You\", \"Miss Me\", \"The Usual\", \"Message From You\", \"Feel Love\", \"On My Way\", \"Intro\", \"Faith\", \"Try Harder\", \"Its Been A Pleasure\", \"Fancy Remix\", \"The Usual\", \"With You\", \"Interlude\", \"On My Way\", \"Feeling\", \"What If I Kissed You\", \"Ready For You\", \"Rich Boy\", \"I Get Lonely\", \"Lust For Life\", \"Sooner Than Later\", \"Successful\", \"Uptown\", \"Unstoppable\", \"Little Bit\", \"Ignorant Shit\", \"November 18th\", \"Houstatlantavegas\", \"The Calm\", \"Best I Ever Had\", \"A Night Off\", \"Lets Call It Off\", \"Say Whats Real\", \"Brias Interlude\", \"Brand New\"], \"y\": [0.5414364640883977, 0.39067055393586003, 0.5027932960893855, 0.4527363184079602, 0.40285714285714286, 0.4725, 0.4397705544933078, 0.3392857142857143, 0.35545023696682465, 0.5102420856610801, 0.5128805620608899, 0.4965277777777778, 0.5278688524590164, 0.33024691358024694, 0.4081237911025145, 0.27439024390243905, 0.5083798882681564, 0.3877551020408163, 0.4444444444444444, 0.32673267326732675, 0.493006993006993, 0.48699763593380613, 0.44298245614035087, 0.4939271255060729, 0.3930635838150289, 0.3576388888888889, 0.29508196721311475, 0.21287128712871287, 0.4626865671641791, 0.46421267893660534, 0.41770186335403725, 0.40266963292547275, 0.5547945205479452, 0.4050632911392405, 0.6079136690647482, 0.4818791946308725, 0.5226860254083484, 0.4668304668304668, 0.3644067796610169, 0.21428571428571427, 0.37667304015296366, 0.405, 0.315625, 0.41929499072356213, 0.4736147757255937, 0.3601147776183644, 0.3805970149253731, 0.4458204334365325, 0.36097560975609755, 0.3783783783783784, 0.27525252525252525, 0.33641975308641975, 0.30407523510971785, 0.4326241134751773, 0.292817679558011, 0.49434571890145396, 0.28018223234624146, 0.3577981651376147, 0.2720970537261698, 0.4057142857142857, 0.32717190388170053, 0.3434343434343434, 0.2658486707566462, 0.3599137931034483, 0.23875432525951557, 0.4233128834355828, 0.22765598650927488, 0.49171270718232046, 0.341645885286783, 0.3619246861924686, 0.41649484536082476, 0.36673773987206826, 0.3684210526315789, 0.3963963963963964, 0.40898876404494383, 0.4375, 0.48756218905472637, 0.43823146944083224, 0.41853932584269665, 0.3711151736745887, 0.3825, 0.4498346196251378, 0.38031319910514544, 0.4191780821917808, 0.47979139504563234, 0.3536184210526316, 0.2937365010799136, 0.2737642585551331, 0.4032846715328467, 0.4782608695652174, 0.20447284345047922, 0.48792270531400966, 0.3587662337662338, 0.2945326278659612, 0.4292845257903494, 0.4166666666666667, 0.3917525773195876, 0.40324763193504737, 0.3798767967145791, 0.29518072289156627, 0.35405405405405405, 0.3610586011342155, 0.3971631205673759, 0.4302788844621514, 0.4092526690391459, 0.4543010752688172, 0.42050520059435365, 0.3987034035656402, 0.5, 0.3826219512195122, 0.4968684759916493, 0.39356814701378257, 0.3649932157394844, 0.3739130434782609, 0.4495677233429395, 0.23901098901098902, 0.36082474226804123, 0.36464088397790057, 0.423963133640553, 0.41379310344827586, 0.5558139534883721, 0.5361216730038023, 0.30193905817174516, 0.39941690962099125, 0.26846846846846845, 0.3798767967145791, 0.47345132743362833, 0.39356814701378257, 0.423963133640553, 0.3798767967145791, 0.4573002754820937, 0.3739130434782609, 0.3826219512195122, 0.3987034035656402, 0.4968684759916493, 0.5, 0.23901098901098902, 0.3649932157394844, 0.39941690962099125, 0.26846846846846845, 0.4495677233429395, 0.3394109396914446, 0.40667678300455234, 0.47345132743362833, 0.5077951002227171, 0.530562347188264, 0.40498812351543945, 0.2709030100334448, 0.33695652173913043, 0.5348837209302325, 0.33590308370044053, 0.4197994987468672, 0.39728353140916806, 0.37061769616026713, 0.39705882352941174, 0.3425, 0.5367965367965368, 0.29152542372881357, 0.3666061705989111, 0.24022346368715083, 0.3333333333333333, 0.42566844919786095, 0.3805970149253731, 0.40498812351543945, 0.3568627450980392, 0.4752475247524752, 0.3402555910543131, 0.4302788844621514, 0.9, 0.5825242718446602, 0.51010101010101, 0.5123456790123457, 0.3924050632911392, 0.3568627450980392, 0.3805970149253731, 0.4418604651162791, 0.4302788844621514, 0.47700170357751276, 0.29152542372881357, 0.5502645502645502, 0.5168539325842697, 0.2964071856287425, 0.524822695035461, 0.3139784946236559, 0.39851485148514854, 0.3264299802761341, 0.4066797642436149, 0.3733031674208145, 0.5144230769230769, 0.5333333333333333, 0.3894230769230769, 0.5067340067340067, 0.29044117647058826, 0.3312883435582822, 0.39228295819935693, 0.4711964549483013, 0.3474178403755869, 0.42662116040955633], \"mode\": \"markers\", \"marker\": {\"size\": 12, \"color\": [0.5414364640883977, 0.39067055393586003, 0.5027932960893855, 0.4527363184079602, 0.40285714285714286, 0.4725, 0.4397705544933078, 0.3392857142857143, 0.35545023696682465, 0.5102420856610801, 0.5128805620608899, 0.4965277777777778, 0.5278688524590164, 0.33024691358024694, 0.4081237911025145, 0.27439024390243905, 0.5083798882681564, 0.3877551020408163, 0.4444444444444444, 0.32673267326732675, 0.493006993006993, 0.48699763593380613, 0.44298245614035087, 0.4939271255060729, 0.3930635838150289, 0.3576388888888889, 0.29508196721311475, 0.21287128712871287, 0.4626865671641791, 0.46421267893660534, 0.41770186335403725, 0.40266963292547275, 0.5547945205479452, 0.4050632911392405, 0.6079136690647482, 0.4818791946308725, 0.5226860254083484, 0.4668304668304668, 0.3644067796610169, 0.21428571428571427, 0.37667304015296366, 0.405, 0.315625, 0.41929499072356213, 0.4736147757255937, 0.3601147776183644, 0.3805970149253731, 0.4458204334365325, 0.36097560975609755, 0.3783783783783784, 0.27525252525252525, 0.33641975308641975, 0.30407523510971785, 0.4326241134751773, 0.292817679558011, 0.49434571890145396, 0.28018223234624146, 0.3577981651376147, 0.2720970537261698, 0.4057142857142857, 0.32717190388170053, 0.3434343434343434, 0.2658486707566462, 0.3599137931034483, 0.23875432525951557, 0.4233128834355828, 0.22765598650927488, 0.49171270718232046, 0.341645885286783, 0.3619246861924686, 0.41649484536082476, 0.36673773987206826, 0.3684210526315789, 0.3963963963963964, 0.40898876404494383, 0.4375, 0.48756218905472637, 0.43823146944083224, 0.41853932584269665, 0.3711151736745887, 0.3825, 0.4498346196251378, 0.38031319910514544, 0.4191780821917808, 0.47979139504563234, 0.3536184210526316, 0.2937365010799136, 0.2737642585551331, 0.4032846715328467, 0.4782608695652174, 0.20447284345047922, 0.48792270531400966, 0.3587662337662338, 0.2945326278659612, 0.4292845257903494, 0.4166666666666667, 0.3917525773195876, 0.40324763193504737, 0.3798767967145791, 0.29518072289156627, 0.35405405405405405, 0.3610586011342155, 0.3971631205673759, 0.4302788844621514, 0.4092526690391459, 0.4543010752688172, 0.42050520059435365, 0.3987034035656402, 0.5, 0.3826219512195122, 0.4968684759916493, 0.39356814701378257, 0.3649932157394844, 0.3739130434782609, 0.4495677233429395, 0.23901098901098902, 0.36082474226804123, 0.36464088397790057, 0.423963133640553, 0.41379310344827586, 0.5558139534883721, 0.5361216730038023, 0.30193905817174516, 0.39941690962099125, 0.26846846846846845, 0.3798767967145791, 0.47345132743362833, 0.39356814701378257, 0.423963133640553, 0.3798767967145791, 0.4573002754820937, 0.3739130434782609, 0.3826219512195122, 0.3987034035656402, 0.4968684759916493, 0.5, 0.23901098901098902, 0.3649932157394844, 0.39941690962099125, 0.26846846846846845, 0.4495677233429395, 0.3394109396914446, 0.40667678300455234, 0.47345132743362833, 0.5077951002227171, 0.530562347188264, 0.40498812351543945, 0.2709030100334448, 0.33695652173913043, 0.5348837209302325, 0.33590308370044053, 0.4197994987468672, 0.39728353140916806, 0.37061769616026713, 0.39705882352941174, 0.3425, 0.5367965367965368, 0.29152542372881357, 0.3666061705989111, 0.24022346368715083, 0.3333333333333333, 0.42566844919786095, 0.3805970149253731, 0.40498812351543945, 0.3568627450980392, 0.4752475247524752, 0.3402555910543131, 0.4302788844621514, 0.9, 0.5825242718446602, 0.51010101010101, 0.5123456790123457, 0.3924050632911392, 0.3568627450980392, 0.3805970149253731, 0.4418604651162791, 0.4302788844621514, 0.47700170357751276, 0.29152542372881357, 0.5502645502645502, 0.5168539325842697, 0.2964071856287425, 0.524822695035461, 0.3139784946236559, 0.39851485148514854, 0.3264299802761341, 0.4066797642436149, 0.3733031674208145, 0.5144230769230769, 0.5333333333333333, 0.3894230769230769, 0.5067340067340067, 0.29044117647058826, 0.3312883435582822, 0.39228295819935693, 0.4711964549483013, 0.3474178403755869, 0.42662116040955633], \"colorscale\": \"Portland\"}}], {\"width\": 1000, \"height\": 700, \"title\": \"Lexical Complexity for Songs\", \"hovermode\": \"closest\", \"titlefont\": {\"size\": 20}, \"xaxis\": {\"title\": \"Song\", \"titlefont\": {\"size\": 16}, \"showticklabels\": false, \"showgrid\": false}, \"yaxis\": {\"title\": \"Lexical Complexity\", \"titlefont\": {\"size\": 16}, \"autorange\": true, \"showgrid\": true, \"zeroline\": true, \"dtick\": 0.1, \"gridcolor\": \"#BBC7A4\", \"gridwidth\": 1, \"zerolinecolor\": \"#BBC7A4\", \"zerolinewidth\": 3}, \"margin\": {\"l\": 70, \"r\": 30, \"b\": 180, \"t\": 100}, \"showlegend\": false}, {\"showLink\": true, \"linkText\": \"Export to plot.ly\"})});</script>"
      ],
      "text/vnd.plotly.v1+html": [
       "<div id=\"c5a4bd35-7074-45aa-a4a9-bb3bfd7f067a\" style=\"height: 700px; width: 1000px;\" class=\"plotly-graph-div\"></div><script type=\"text/javascript\">require([\"plotly\"], function(Plotly) { window.PLOTLYENV=window.PLOTLYENV || {};window.PLOTLYENV.BASE_URL=\"https://plot.ly\";Plotly.newPlot(\"c5a4bd35-7074-45aa-a4a9-bb3bfd7f067a\", [{\"type\": \"scatter\", \"x\": [\"Survival\", \"Nonstop\", \"Elevate\", \"Emotionless\", \"Gods Plan\", \"Im Upset\", \"8 Out of 10\", \"Mob Ties\", \"Cant Take a Joke\", \"Sandras Rose\", \"Talk Up\", \"Is There More\", \"Peak\", \"Summer Games\", \"Jaded\", \"Nice For What\", \"Finesse\", \"Ratchet Happy Birthday\", \"Thats How You Feel\", \"Blue Tint\", \"Free Smoke\", \"No Long Talk\", \"Passionfruit\", \"Jorja Interlude\", \"Get It Together\", \"Madiba Riddim\", \"Blem\", \"4422\", \"Gyalchester\", \"Skepta Interlude\", \"Portland\", \"Sacrifices\", \"Nothings Into Somethings\", \"Teenage Fever\", \"KMT\", \"Lose You\", \"Cant Have Everything\", \"Glow\", \"Since Way Back\", \"Fake Love\", \"Keep The Family Close\", \"U With Me\", \"Feel No Ways\", \"Hype\", \"Weston Road Flows\", \"Redemption\", \"With You\", \"Faithful\", \"Still Here\", \"Controlla\", \"One Dance\", \"GRAMMYs\", \"Childs Play\", \"Pop Style\", \"Too Good\", \"Views\", \"Hotline Bling\", \"Digital Dash\", \"Big Rings\", \"Live From The Gutter\", \"Diamonds Dancing\", \"Scholarships\", \"Plastic Bag\", \"Im The Plug\", \"Change Locations\", \"Jumpman\", \"Jersey\", \"30 For 30 Freestyle\", \"Legend\", \"Energy\", \"10 Bands\", \"Know Yourself\", \"No Tellin\", \"Madonna\", \"6 God\", \"Preach\", \"Wednesday Night Interlude\", \"Used To\", \"6 Man\", \"Company\", \"Jungle\", \"6PM In New York\", \"How About Now\", \"My Side\", \"Tuscan Leather\", \"Furthest Thing\", \"Started From The Bottom\", \"Own It\", \"Worst Behaviour\", \"From Time\", \"Hold On Were Going Home\", \"Connect\", \"The Language\", \"305 To My City\", \"Too Much\", \"Drake Speaks\", \"Club Paradise\", \"The Motto\", \"Headlines\", \"Round of Applause\", \"Free Spirit\", \"Trust Issues\", \"Marvins Room\", \"On My Way\", \"Dreams Money Can Buy\", \"Wildfire Remix\", \"Good Life\", \"Well Be Fine\", \"Lord Knows\", \"Under Ground Kings\", \"Make Me Proud\", \"Over My Dead Body\", \"The Real Her\", \"Take Care\", \"The Ride\", \"Doing It Wrong\", \"Cameras\", \"Hate Sleeping Alone\", \"Shot For Me\", \"Good Ones Go\", \"Aston Martin Music\", \"Poppin Bottles\", \"Off That\", \"Look What Youve Done\", \"Practice\", \"Headlines\", \"Light Up\", \"Over My Dead Body\", \"Shot For Me\", \"Headlines\", \"Crew Love\", \"Take Care\", \"Under Ground Kings\", \"Well Be Fine\", \"Make Me Proud\", \"Lord Knows\", \"Doing It Wrong\", \"The Real Her\", \"Look What Youve Done\", \"Practice\", \"The Ride\", \"Shut It Down\", \"Fireworks\", \"Light Up\", \"Up All Night\", \"The Resistance\", \"Miss Me\", \"Find Your Love\", \"Show Me A Good Time\", \"Ceces Interlude\", \"Fancy\", \"Thank Me Now\", \"Unforgettable\", \"Over\", \"Moment 4 Life\", \"Fall For Your Type\", \"Ghetto University\", \"What If I Kissed You\", \"Im Ready For You\", \"I Get Lonely Too\", \"Loving You No More Remix\", \"Deuces Remix\", \"With You\", \"Miss Me\", \"The Usual\", \"Message From You\", \"Feel Love\", \"On My Way\", \"Intro\", \"Faith\", \"Try Harder\", \"Its Been A Pleasure\", \"Fancy Remix\", \"The Usual\", \"With You\", \"Interlude\", \"On My Way\", \"Feeling\", \"What If I Kissed You\", \"Ready For You\", \"Rich Boy\", \"I Get Lonely\", \"Lust For Life\", \"Sooner Than Later\", \"Successful\", \"Uptown\", \"Unstoppable\", \"Little Bit\", \"Ignorant Shit\", \"November 18th\", \"Houstatlantavegas\", \"The Calm\", \"Best I Ever Had\", \"A Night Off\", \"Lets Call It Off\", \"Say Whats Real\", \"Brias Interlude\", \"Brand New\"], \"y\": [0.5414364640883977, 0.39067055393586003, 0.5027932960893855, 0.4527363184079602, 0.40285714285714286, 0.4725, 0.4397705544933078, 0.3392857142857143, 0.35545023696682465, 0.5102420856610801, 0.5128805620608899, 0.4965277777777778, 0.5278688524590164, 0.33024691358024694, 0.4081237911025145, 0.27439024390243905, 0.5083798882681564, 0.3877551020408163, 0.4444444444444444, 0.32673267326732675, 0.493006993006993, 0.48699763593380613, 0.44298245614035087, 0.4939271255060729, 0.3930635838150289, 0.3576388888888889, 0.29508196721311475, 0.21287128712871287, 0.4626865671641791, 0.46421267893660534, 0.41770186335403725, 0.40266963292547275, 0.5547945205479452, 0.4050632911392405, 0.6079136690647482, 0.4818791946308725, 0.5226860254083484, 0.4668304668304668, 0.3644067796610169, 0.21428571428571427, 0.37667304015296366, 0.405, 0.315625, 0.41929499072356213, 0.4736147757255937, 0.3601147776183644, 0.3805970149253731, 0.4458204334365325, 0.36097560975609755, 0.3783783783783784, 0.27525252525252525, 0.33641975308641975, 0.30407523510971785, 0.4326241134751773, 0.292817679558011, 0.49434571890145396, 0.28018223234624146, 0.3577981651376147, 0.2720970537261698, 0.4057142857142857, 0.32717190388170053, 0.3434343434343434, 0.2658486707566462, 0.3599137931034483, 0.23875432525951557, 0.4233128834355828, 0.22765598650927488, 0.49171270718232046, 0.341645885286783, 0.3619246861924686, 0.41649484536082476, 0.36673773987206826, 0.3684210526315789, 0.3963963963963964, 0.40898876404494383, 0.4375, 0.48756218905472637, 0.43823146944083224, 0.41853932584269665, 0.3711151736745887, 0.3825, 0.4498346196251378, 0.38031319910514544, 0.4191780821917808, 0.47979139504563234, 0.3536184210526316, 0.2937365010799136, 0.2737642585551331, 0.4032846715328467, 0.4782608695652174, 0.20447284345047922, 0.48792270531400966, 0.3587662337662338, 0.2945326278659612, 0.4292845257903494, 0.4166666666666667, 0.3917525773195876, 0.40324763193504737, 0.3798767967145791, 0.29518072289156627, 0.35405405405405405, 0.3610586011342155, 0.3971631205673759, 0.4302788844621514, 0.4092526690391459, 0.4543010752688172, 0.42050520059435365, 0.3987034035656402, 0.5, 0.3826219512195122, 0.4968684759916493, 0.39356814701378257, 0.3649932157394844, 0.3739130434782609, 0.4495677233429395, 0.23901098901098902, 0.36082474226804123, 0.36464088397790057, 0.423963133640553, 0.41379310344827586, 0.5558139534883721, 0.5361216730038023, 0.30193905817174516, 0.39941690962099125, 0.26846846846846845, 0.3798767967145791, 0.47345132743362833, 0.39356814701378257, 0.423963133640553, 0.3798767967145791, 0.4573002754820937, 0.3739130434782609, 0.3826219512195122, 0.3987034035656402, 0.4968684759916493, 0.5, 0.23901098901098902, 0.3649932157394844, 0.39941690962099125, 0.26846846846846845, 0.4495677233429395, 0.3394109396914446, 0.40667678300455234, 0.47345132743362833, 0.5077951002227171, 0.530562347188264, 0.40498812351543945, 0.2709030100334448, 0.33695652173913043, 0.5348837209302325, 0.33590308370044053, 0.4197994987468672, 0.39728353140916806, 0.37061769616026713, 0.39705882352941174, 0.3425, 0.5367965367965368, 0.29152542372881357, 0.3666061705989111, 0.24022346368715083, 0.3333333333333333, 0.42566844919786095, 0.3805970149253731, 0.40498812351543945, 0.3568627450980392, 0.4752475247524752, 0.3402555910543131, 0.4302788844621514, 0.9, 0.5825242718446602, 0.51010101010101, 0.5123456790123457, 0.3924050632911392, 0.3568627450980392, 0.3805970149253731, 0.4418604651162791, 0.4302788844621514, 0.47700170357751276, 0.29152542372881357, 0.5502645502645502, 0.5168539325842697, 0.2964071856287425, 0.524822695035461, 0.3139784946236559, 0.39851485148514854, 0.3264299802761341, 0.4066797642436149, 0.3733031674208145, 0.5144230769230769, 0.5333333333333333, 0.3894230769230769, 0.5067340067340067, 0.29044117647058826, 0.3312883435582822, 0.39228295819935693, 0.4711964549483013, 0.3474178403755869, 0.42662116040955633], \"mode\": \"markers\", \"marker\": {\"size\": 12, \"color\": [0.5414364640883977, 0.39067055393586003, 0.5027932960893855, 0.4527363184079602, 0.40285714285714286, 0.4725, 0.4397705544933078, 0.3392857142857143, 0.35545023696682465, 0.5102420856610801, 0.5128805620608899, 0.4965277777777778, 0.5278688524590164, 0.33024691358024694, 0.4081237911025145, 0.27439024390243905, 0.5083798882681564, 0.3877551020408163, 0.4444444444444444, 0.32673267326732675, 0.493006993006993, 0.48699763593380613, 0.44298245614035087, 0.4939271255060729, 0.3930635838150289, 0.3576388888888889, 0.29508196721311475, 0.21287128712871287, 0.4626865671641791, 0.46421267893660534, 0.41770186335403725, 0.40266963292547275, 0.5547945205479452, 0.4050632911392405, 0.6079136690647482, 0.4818791946308725, 0.5226860254083484, 0.4668304668304668, 0.3644067796610169, 0.21428571428571427, 0.37667304015296366, 0.405, 0.315625, 0.41929499072356213, 0.4736147757255937, 0.3601147776183644, 0.3805970149253731, 0.4458204334365325, 0.36097560975609755, 0.3783783783783784, 0.27525252525252525, 0.33641975308641975, 0.30407523510971785, 0.4326241134751773, 0.292817679558011, 0.49434571890145396, 0.28018223234624146, 0.3577981651376147, 0.2720970537261698, 0.4057142857142857, 0.32717190388170053, 0.3434343434343434, 0.2658486707566462, 0.3599137931034483, 0.23875432525951557, 0.4233128834355828, 0.22765598650927488, 0.49171270718232046, 0.341645885286783, 0.3619246861924686, 0.41649484536082476, 0.36673773987206826, 0.3684210526315789, 0.3963963963963964, 0.40898876404494383, 0.4375, 0.48756218905472637, 0.43823146944083224, 0.41853932584269665, 0.3711151736745887, 0.3825, 0.4498346196251378, 0.38031319910514544, 0.4191780821917808, 0.47979139504563234, 0.3536184210526316, 0.2937365010799136, 0.2737642585551331, 0.4032846715328467, 0.4782608695652174, 0.20447284345047922, 0.48792270531400966, 0.3587662337662338, 0.2945326278659612, 0.4292845257903494, 0.4166666666666667, 0.3917525773195876, 0.40324763193504737, 0.3798767967145791, 0.29518072289156627, 0.35405405405405405, 0.3610586011342155, 0.3971631205673759, 0.4302788844621514, 0.4092526690391459, 0.4543010752688172, 0.42050520059435365, 0.3987034035656402, 0.5, 0.3826219512195122, 0.4968684759916493, 0.39356814701378257, 0.3649932157394844, 0.3739130434782609, 0.4495677233429395, 0.23901098901098902, 0.36082474226804123, 0.36464088397790057, 0.423963133640553, 0.41379310344827586, 0.5558139534883721, 0.5361216730038023, 0.30193905817174516, 0.39941690962099125, 0.26846846846846845, 0.3798767967145791, 0.47345132743362833, 0.39356814701378257, 0.423963133640553, 0.3798767967145791, 0.4573002754820937, 0.3739130434782609, 0.3826219512195122, 0.3987034035656402, 0.4968684759916493, 0.5, 0.23901098901098902, 0.3649932157394844, 0.39941690962099125, 0.26846846846846845, 0.4495677233429395, 0.3394109396914446, 0.40667678300455234, 0.47345132743362833, 0.5077951002227171, 0.530562347188264, 0.40498812351543945, 0.2709030100334448, 0.33695652173913043, 0.5348837209302325, 0.33590308370044053, 0.4197994987468672, 0.39728353140916806, 0.37061769616026713, 0.39705882352941174, 0.3425, 0.5367965367965368, 0.29152542372881357, 0.3666061705989111, 0.24022346368715083, 0.3333333333333333, 0.42566844919786095, 0.3805970149253731, 0.40498812351543945, 0.3568627450980392, 0.4752475247524752, 0.3402555910543131, 0.4302788844621514, 0.9, 0.5825242718446602, 0.51010101010101, 0.5123456790123457, 0.3924050632911392, 0.3568627450980392, 0.3805970149253731, 0.4418604651162791, 0.4302788844621514, 0.47700170357751276, 0.29152542372881357, 0.5502645502645502, 0.5168539325842697, 0.2964071856287425, 0.524822695035461, 0.3139784946236559, 0.39851485148514854, 0.3264299802761341, 0.4066797642436149, 0.3733031674208145, 0.5144230769230769, 0.5333333333333333, 0.3894230769230769, 0.5067340067340067, 0.29044117647058826, 0.3312883435582822, 0.39228295819935693, 0.4711964549483013, 0.3474178403755869, 0.42662116040955633], \"colorscale\": \"Portland\"}}], {\"width\": 1000, \"height\": 700, \"title\": \"Lexical Complexity for Songs\", \"hovermode\": \"closest\", \"titlefont\": {\"size\": 20}, \"xaxis\": {\"title\": \"Song\", \"titlefont\": {\"size\": 16}, \"showticklabels\": false, \"showgrid\": false}, \"yaxis\": {\"title\": \"Lexical Complexity\", \"titlefont\": {\"size\": 16}, \"autorange\": true, \"showgrid\": true, \"zeroline\": true, \"dtick\": 0.1, \"gridcolor\": \"#BBC7A4\", \"gridwidth\": 1, \"zerolinecolor\": \"#BBC7A4\", \"zerolinewidth\": 3}, \"margin\": {\"l\": 70, \"r\": 30, \"b\": 180, \"t\": 100}, \"showlegend\": false}, {\"showLink\": true, \"linkText\": \"Export to plot.ly\"})});</script>"
      ]
     },
     "metadata": {},
     "output_type": "display_data"
    }
   ],
   "source": [
    "trace1 = go.Scatter(\n",
    "    x= df_songMetrics['song'],\n",
    "    y= df_songMetrics['lexical_complexity'],\n",
    "    mode='markers',\n",
    "    marker=dict(\n",
    "        size=12,\n",
    "        color = df_songMetrics['lexical_complexity'], #set color equal to a variable\n",
    "        colorscale='Portland'))\n",
    "data = [trace1]\n",
    "\n",
    "layout = go.Layout(\n",
    "        width = 1000,\n",
    "        height = 700,\n",
    "        title = 'Lexical Complexity for Songs',\n",
    "        hovermode= 'closest',\n",
    "        titlefont = dict(size=20),\n",
    "         xaxis = dict(\n",
    "            title = 'Song',\n",
    "            titlefont = dict(size=16),\n",
    "            showticklabels=False,\n",
    "            showgrid=False),\n",
    "         yaxis = dict(\n",
    "            title = 'Lexical Complexity',\n",
    "            titlefont = dict(size=16),\n",
    "            autorange = True,\n",
    "            showgrid = True,\n",
    "            zeroline = True,\n",
    "            dtick = 0.1,\n",
    "            gridcolor = '#BBC7A4',\n",
    "            gridwidth = 1,\n",
    "            zerolinecolor = '#BBC7A4',\n",
    "            zerolinewidth = 3),\n",
    "        margin = dict(\n",
    "            l = 70,\n",
    "            r = 30,\n",
    "            b = 180,\n",
    "            t = 100),\n",
    "        showlegend=False)\n",
    "\n",
    "fig = dict(data=data,layout=layout)\n",
    "iplot(fig, filename='complexity')"
   ]
  },
  {
   "cell_type": "markdown",
   "metadata": {},
   "source": [
    "#### Insights\n",
    "+ The majority of Drake's songs are around 0.5 or under for lexical complexity. Considering the hook is repeated 3-4 times in each song, the overall low level of complexity is understandable.\n",
    "+ The song with the highest lexical complexity is \"Intro\" from Comeback Season; however, this intro is only 3 lines so it doesn't really have the same count of words as the other songs which is an average of 503 words.\n",
    "+ My favorite songs seem to be in the 0.3-0.4 complexity range not far from the average lexical complexity for his songs at 0.40."
   ]
  },
  {
   "cell_type": "markdown",
   "metadata": {},
   "source": [
    "### Average by Year"
   ]
  },
  {
   "cell_type": "code",
   "execution_count": 21,
   "metadata": {
    "collapsed": true
   },
   "outputs": [],
   "source": [
    "df_avg = df_songMetrics.groupby(['year']).mean().round(2)\n",
    "df_avg['year'] = df_avg.index\n",
    "df_avg = df_avg.replace('â','', regex=True)"
   ]
  },
  {
   "cell_type": "markdown",
   "metadata": {},
   "source": [
    "### Plot Sentiment Scores and Lexical Complexity by Year"
   ]
  },
  {
   "cell_type": "code",
   "execution_count": 23,
   "metadata": {},
   "outputs": [
    {
     "data": {
      "application/vnd.plotly.v1+json": {
       "data": [
        {
         "line": {
          "color": "#DA5552",
          "width": 4
         },
         "name": "Sentiment",
         "type": "scatter",
         "x": [
          2009,
          2010,
          2011,
          2012,
          2013,
          2015,
          2016,
          2017,
          2018
         ],
         "y": [
          0.14,
          0.08,
          0.07,
          0.04,
          0.06,
          0.02,
          0.05,
          0.08,
          0.04
         ]
        },
        {
         "line": {
          "color": "#06D6A0",
          "width": 4
         },
         "name": "Lexical Complexity",
         "type": "scatter",
         "x": [
          2009,
          2010,
          2011,
          2012,
          2013,
          2015,
          2016,
          2017,
          2018
         ],
         "y": [
          0.41,
          0.42,
          0.39,
          0.4,
          0.37,
          0.38,
          0.37,
          0.43,
          0.43
         ],
         "yaxis": "y2"
        }
       ],
       "layout": {
        "margin": {
         "b": 80,
         "l": 80,
         "r": 100,
         "t": 100
        },
        "showlegend": false,
        "title": "Average Sentiment Score & Lexical Complexity by Year",
        "titlefont": {
         "size": 20
        },
        "xaxis": {
         "dtick": 1,
         "title": "Year",
         "titlefont": {
          "size": 16
         }
        },
        "yaxis": {
         "autorange": true,
         "gridcolor": "#BBC7A4",
         "gridwidth": 1,
         "showgrid": true,
         "title": "Sentiment Score",
         "titlefont": {
          "color": "#DA5552",
          "size": 16
         },
         "zeroline": true,
         "zerolinecolor": "#BBC7A4",
         "zerolinewidth": 3
        },
        "yaxis2": {
         "overlaying": "y",
         "side": "right",
         "title": "Lexical Complexity",
         "titlefont": {
          "color": "#06D6A0",
          "size": 16
         }
        }
       }
      },
      "text/html": [
       "<div id=\"84ecfc16-232e-419f-b50d-eb37d93e85b3\" style=\"height: 525px; width: 100%;\" class=\"plotly-graph-div\"></div><script type=\"text/javascript\">require([\"plotly\"], function(Plotly) { window.PLOTLYENV=window.PLOTLYENV || {};window.PLOTLYENV.BASE_URL=\"https://plot.ly\";Plotly.newPlot(\"84ecfc16-232e-419f-b50d-eb37d93e85b3\", [{\"type\": \"scatter\", \"x\": [2009, 2010, 2011, 2012, 2013, 2015, 2016, 2017, 2018], \"y\": [0.14, 0.08, 0.07, 0.04, 0.06, 0.02, 0.05, 0.08, 0.04], \"name\": \"Sentiment\", \"line\": {\"color\": \"#DA5552\", \"width\": 4}}, {\"type\": \"scatter\", \"x\": [2009, 2010, 2011, 2012, 2013, 2015, 2016, 2017, 2018], \"y\": [0.41, 0.42, 0.39, 0.4, 0.37, 0.38, 0.37, 0.43, 0.43], \"name\": \"Lexical Complexity\", \"yaxis\": \"y2\", \"line\": {\"color\": \"#06D6A0\", \"width\": 4}}], {\"title\": \"Average Sentiment Score & Lexical Complexity by Year\", \"titlefont\": {\"size\": 20}, \"xaxis\": {\"title\": \"Year\", \"titlefont\": {\"size\": 16}, \"dtick\": 1}, \"yaxis\": {\"title\": \"Sentiment Score\", \"titlefont\": {\"size\": 16, \"color\": \"#DA5552\"}, \"autorange\": true, \"showgrid\": true, \"zeroline\": true, \"gridcolor\": \"#BBC7A4\", \"gridwidth\": 1, \"zerolinecolor\": \"#BBC7A4\", \"zerolinewidth\": 3}, \"yaxis2\": {\"title\": \"Lexical Complexity\", \"titlefont\": {\"size\": 16, \"color\": \"#06D6A0\"}, \"overlaying\": \"y\", \"side\": \"right\"}, \"margin\": {\"l\": 80, \"r\": 100, \"b\": 80, \"t\": 100}, \"showlegend\": false}, {\"showLink\": true, \"linkText\": \"Export to plot.ly\"})});</script>"
      ],
      "text/vnd.plotly.v1+html": [
       "<div id=\"84ecfc16-232e-419f-b50d-eb37d93e85b3\" style=\"height: 525px; width: 100%;\" class=\"plotly-graph-div\"></div><script type=\"text/javascript\">require([\"plotly\"], function(Plotly) { window.PLOTLYENV=window.PLOTLYENV || {};window.PLOTLYENV.BASE_URL=\"https://plot.ly\";Plotly.newPlot(\"84ecfc16-232e-419f-b50d-eb37d93e85b3\", [{\"type\": \"scatter\", \"x\": [2009, 2010, 2011, 2012, 2013, 2015, 2016, 2017, 2018], \"y\": [0.14, 0.08, 0.07, 0.04, 0.06, 0.02, 0.05, 0.08, 0.04], \"name\": \"Sentiment\", \"line\": {\"color\": \"#DA5552\", \"width\": 4}}, {\"type\": \"scatter\", \"x\": [2009, 2010, 2011, 2012, 2013, 2015, 2016, 2017, 2018], \"y\": [0.41, 0.42, 0.39, 0.4, 0.37, 0.38, 0.37, 0.43, 0.43], \"name\": \"Lexical Complexity\", \"yaxis\": \"y2\", \"line\": {\"color\": \"#06D6A0\", \"width\": 4}}], {\"title\": \"Average Sentiment Score & Lexical Complexity by Year\", \"titlefont\": {\"size\": 20}, \"xaxis\": {\"title\": \"Year\", \"titlefont\": {\"size\": 16}, \"dtick\": 1}, \"yaxis\": {\"title\": \"Sentiment Score\", \"titlefont\": {\"size\": 16, \"color\": \"#DA5552\"}, \"autorange\": true, \"showgrid\": true, \"zeroline\": true, \"gridcolor\": \"#BBC7A4\", \"gridwidth\": 1, \"zerolinecolor\": \"#BBC7A4\", \"zerolinewidth\": 3}, \"yaxis2\": {\"title\": \"Lexical Complexity\", \"titlefont\": {\"size\": 16, \"color\": \"#06D6A0\"}, \"overlaying\": \"y\", \"side\": \"right\"}, \"margin\": {\"l\": 80, \"r\": 100, \"b\": 80, \"t\": 100}, \"showlegend\": false}, {\"showLink\": true, \"linkText\": \"Export to plot.ly\"})});</script>"
      ]
     },
     "metadata": {},
     "output_type": "display_data"
    }
   ],
   "source": [
    "trace0 = go.Scatter(\n",
    "    x = df_avg['year'],\n",
    "    y = df_avg['sentiment'],\n",
    "    name = 'Sentiment',\n",
    "    line = dict(\n",
    "        color = ('#DA5552'),\n",
    "        width = 4)\n",
    ")\n",
    "trace1 = go.Scatter(\n",
    "    x = df_avg['year'],\n",
    "    y = df_avg['lexical_complexity'],\n",
    "    name = 'Lexical Complexity',\n",
    "    yaxis='y2',\n",
    "    line = dict(\n",
    "        color = ('#06D6A0'),\n",
    "        width = 4)\n",
    ")\n",
    "data = [trace0,trace1]\n",
    "layout = go.Layout(\n",
    "        title = 'Average Sentiment Score & Lexical Complexity by Year',\n",
    "        titlefont = dict(size=20),\n",
    "        xaxis = dict(\n",
    "            title = 'Year',\n",
    "            titlefont = dict(size=16),\n",
    "            dtick = 1),    \n",
    "        yaxis = dict(\n",
    "            title = 'Sentiment Score',\n",
    "            titlefont = dict(size=16,color='#DA5552'),\n",
    "            autorange = True,\n",
    "            showgrid = True,\n",
    "            zeroline = True,\n",
    "            gridcolor = '#BBC7A4',\n",
    "            gridwidth = 1,\n",
    "            zerolinecolor = '#BBC7A4',\n",
    "            zerolinewidth = 3),\n",
    "        yaxis2=dict(\n",
    "        title='Lexical Complexity',\n",
    "        titlefont=dict(size=16,\n",
    "            color='#06D6A0'\n",
    "        ),\n",
    "        overlaying='y',\n",
    "        side='right'\n",
    "    ),\n",
    "        margin = dict(\n",
    "            l = 80,\n",
    "            r = 100,\n",
    "            b = 80,\n",
    "            t = 100),\n",
    "        showlegend=False)\n",
    "\n",
    "fig = go.Figure(data=data, layout=layout)\n",
    "iplot(fig, filename='scatter-plot-with-colorscale')"
   ]
  },
  {
   "cell_type": "markdown",
   "metadata": {},
   "source": [
    "#### Insights\n",
    "+ The sentiment and lexical complexity of Drake's songs seem to move in the same direction through out the years.\n",
    "+ 2015 had the lowest sentiment score and happens to coincide with the year he released a collaborative mixtape with Future, \"What A Time to Be Alive\" which focused on dealing with personal demons and insecurities.\n",
    "+ 2017-2018 had the highest lexical complexity at an average of 0.43. 2017 was the year he released \"More Life\" an album sprinkled with Jamaican slang (potentially contributing to the higher lexical diversity) and in 2018 he released Scorpion, an album of 25 songs."
   ]
  },
  {
   "cell_type": "markdown",
   "metadata": {},
   "source": [
    "### Plot Sentiment Scores against Lexical Complexity"
   ]
  },
  {
   "cell_type": "code",
   "execution_count": 34,
   "metadata": {},
   "outputs": [
    {
     "data": {
      "application/vnd.plotly.v1+json": {
       "data": [
        {
         "marker": {
          "color": "#77E8CB",
          "line": {
           "color": "#06C392",
           "width": 2
          },
          "size": 12
         },
         "mode": "markers",
         "text": [
          "Survival",
          "Nonstop",
          "Elevate",
          "Emotionless",
          "Gods Plan",
          "Im Upset",
          "8 Out of 10",
          "Mob Ties",
          "Cant Take a Joke",
          "Sandras Rose",
          "Talk Up",
          "Is There More",
          "Peak",
          "Summer Games",
          "Jaded",
          "Nice For What",
          "Finesse",
          "Ratchet Happy Birthday",
          "Thats How You Feel",
          "Blue Tint",
          "Free Smoke",
          "No Long Talk",
          "Passionfruit",
          "Jorja Interlude",
          "Get It Together",
          "Madiba Riddim",
          "Blem",
          "4422",
          "Gyalchester",
          "Skepta Interlude",
          "Portland",
          "Sacrifices",
          "Nothings Into Somethings",
          "Teenage Fever",
          "KMT",
          "Lose You",
          "Cant Have Everything",
          "Glow",
          "Since Way Back",
          "Fake Love",
          "Keep The Family Close",
          "U With Me",
          "Feel No Ways",
          "Hype",
          "Weston Road Flows",
          "Redemption",
          "With You",
          "Faithful",
          "Still Here",
          "Controlla",
          "One Dance",
          "GRAMMYs",
          "Childs Play",
          "Pop Style",
          "Too Good",
          "Views",
          "Hotline Bling",
          "Digital Dash",
          "Big Rings",
          "Live From The Gutter",
          "Diamonds Dancing",
          "Scholarships",
          "Plastic Bag",
          "Im The Plug",
          "Change Locations",
          "Jumpman",
          "Jersey",
          "30 For 30 Freestyle",
          "Legend",
          "Energy",
          "10 Bands",
          "Know Yourself",
          "No Tellin",
          "Madonna",
          "6 God",
          "Preach",
          "Wednesday Night Interlude",
          "Used To",
          "6 Man",
          "Company",
          "Jungle",
          "6PM In New York",
          "How About Now",
          "My Side",
          "Tuscan Leather",
          "Furthest Thing",
          "Started From The Bottom",
          "Own It",
          "Worst Behaviour",
          "From Time",
          "Hold On Were Going Home",
          "Connect",
          "The Language",
          "305 To My City",
          "Too Much",
          "Drake Speaks",
          "Club Paradise",
          "The Motto",
          "Headlines",
          "Round of Applause",
          "Free Spirit",
          "Trust Issues",
          "Marvins Room",
          "On My Way",
          "Dreams Money Can Buy",
          "Wildfire Remix",
          "Good Life",
          "Well Be Fine",
          "Lord Knows",
          "Under Ground Kings",
          "Make Me Proud",
          "Over My Dead Body",
          "The Real Her",
          "Take Care",
          "The Ride",
          "Doing It Wrong",
          "Cameras",
          "Hate Sleeping Alone",
          "Shot For Me",
          "Good Ones Go",
          "Aston Martin Music",
          "Poppin Bottles",
          "Off That",
          "Look What Youve Done",
          "Practice",
          "Headlines",
          "Light Up",
          "Over My Dead Body",
          "Shot For Me",
          "Headlines",
          "Crew Love",
          "Take Care",
          "Under Ground Kings",
          "Well Be Fine",
          "Make Me Proud",
          "Lord Knows",
          "Doing It Wrong",
          "The Real Her",
          "Look What Youve Done",
          "Practice",
          "The Ride",
          "Shut It Down",
          "Fireworks",
          "Light Up",
          "Up All Night",
          "The Resistance",
          "Miss Me",
          "Find Your Love",
          "Show Me A Good Time",
          "Ceces Interlude",
          "Fancy",
          "Thank Me Now",
          "Unforgettable",
          "Over",
          "Moment 4 Life",
          "Fall For Your Type",
          "Ghetto University",
          "What If I Kissed You",
          "Im Ready For You",
          "I Get Lonely Too",
          "Loving You No More Remix",
          "Deuces Remix",
          "With You",
          "Miss Me",
          "The Usual",
          "Message From You",
          "Feel Love",
          "On My Way",
          "Intro",
          "Faith",
          "Try Harder",
          "Its Been A Pleasure",
          "Fancy Remix",
          "The Usual",
          "With You",
          "Interlude",
          "On My Way",
          "Feeling",
          "What If I Kissed You",
          "Ready For You",
          "Rich Boy",
          "I Get Lonely",
          "Lust For Life",
          "Sooner Than Later",
          "Successful",
          "Uptown",
          "Unstoppable",
          "Little Bit",
          "Ignorant Shit",
          "November 18th",
          "Houstatlantavegas",
          "The Calm",
          "Best I Ever Had",
          "A Night Off",
          "Lets Call It Off",
          "Say Whats Real",
          "Brias Interlude",
          "Brand New"
         ],
         "type": "scatter",
         "x": [
          0.1152892561983471,
          -0.16296296296296292,
          0.11294642857142856,
          0.13843995510662177,
          -0.11851851851851848,
          -0.052945665445665445,
          0.08167968750000001,
          -0.4113378684807256,
          0.060468291287256795,
          -0.0027906976744185917,
          0.0940993265993266,
          0.20342306420431422,
          0.17292396756682468,
          0.19229390681003586,
          0.01632518365472911,
          0.028251370907620914,
          0.2328030303030303,
          0.20085470085470086,
          -0.01575670498084292,
          -0.05177095631641085,
          0.2077246603970742,
          0.162406629318394,
          0.018107769423558906,
          -0.051073762838468734,
          -0.11631944444444443,
          0.3167989417989418,
          0.13889860139860136,
          0.028571428571428574,
          0.0368908472479901,
          0.08883768561187916,
          -0.009091635637090199,
          0.03176222616521123,
          0.10833333333333332,
          0.1433838383838384,
          0.022861909915481322,
          0.08180134680134676,
          0.03626068376068376,
          0.18314549435239094,
          0.10177987861811393,
          0.025350140056022402,
          0.0676510989010989,
          0.016512345679012327,
          0.07067460317460317,
          0.026204292161738953,
          0.09899149575379082,
          0.029479316979316984,
          0.0533068783068783,
          -0.14410130718954248,
          0.027604166666666666,
          0.12300556586270874,
          0.09158212560386474,
          0.11388888888888889,
          -0.001059224463479788,
          0.018115942028985508,
          0.28595238095238096,
          0.04150132275132276,
          -0.010351232691658224,
          0.03632246376811592,
          0.225366568914956,
          0.03908926218708826,
          -0.055235930735930694,
          0.05714285714285713,
          0.29307692307692307,
          0.0717948717948718,
          -0.046874999999999986,
          0.018181818181818174,
          0.006036324786324786,
          -0.011071428571428584,
          0.030484466513878268,
          -0.059312169312169344,
          -0.04394454751597609,
          -0.15984848484848488,
          -0.05733869305297878,
          0.13653846153846153,
          -0.016546677959721433,
          -0.018214285714285718,
          -0.0564516129032258,
          0.05435164717079611,
          -0.04833603896103895,
          0.08897754137115838,
          0.03056277056277054,
          0.02740797453912209,
          -0.051824194324194356,
          0.01995751162417825,
          0.042509143155694866,
          0.03133237133237132,
          0.06767376142376146,
          0.3297875852960603,
          -0.2911535812672175,
          0.03346688034188035,
          0.23274193548387095,
          0.05805555555555555,
          0.0427541074909496,
          0.013736669834230802,
          0.08949675324675327,
          -0.09624433106575968,
          0.06036463536463536,
          0.014136211011211021,
          0.009683794466403155,
          0.030922318422318414,
          0.08294639947865753,
          -0.09078540507111936,
          0.019457896152811408,
          0.13968253968253966,
          0.10731481481481484,
          0.16978003026783514,
          0.24112213018463016,
          -0.03308624874521615,
          0.00025974025974025795,
          0.15673379200164914,
          0.09747720364741638,
          0.04681401931401931,
          0.1471574993633817,
          0.10329545454545454,
          0.05067114598364598,
          -0.01619318181818181,
          0.014562556784779,
          -0.2543109668109668,
          0.002529761904761912,
          0.1442967772967773,
          -0.01754643206256109,
          0.0731060606060606,
          0.051056615942979576,
          0.025930877401465633,
          0.017446865751950515,
          0.009683794466403155,
          0.03377636009214959,
          0.04681401931401931,
          0.002529761904761912,
          0.009683794466403155,
          0.3466216216216215,
          0.10329545454545454,
          0.15673379200164914,
          -0.03308624874521615,
          0.09747720364741638,
          0.00025974025974025795,
          -0.01619318181818181,
          0.1471574993633817,
          0.025930877401465633,
          0.017446865751950515,
          0.05067114598364598,
          -0.08089285714285727,
          0.11488997113997113,
          0.03377636009214959,
          0.12035714285714282,
          0.058655202821869486,
          0.07303263185616128,
          0.40444015444015446,
          0.3981507622811969,
          -0.07777777777777778,
          0.09588195620804318,
          0.05881561516807419,
          0.26382887314705494,
          0.08662169312169311,
          0.0587495143745144,
          0.030484466513878268,
          -0.10972222222222226,
          0.10604395604395604,
          0.12143759018759023,
          0.03205128205128205,
          0.22736111111111118,
          0.08267451298701299,
          0.0533068783068783,
          0.07303263185616128,
          -0.009792429792429778,
          -0.1325714285714286,
          0.26461814914645104,
          0.13968253968253966,
          0,
          0.03292111592111593,
          -0.08672839506172839,
          0.11678571428571431,
          0.12467204512659058,
          -0.009792429792429778,
          0.0533068783068783,
          0.03791378458498025,
          0.13968253968253966,
          0.07874566332013143,
          0.10604395604395604,
          0.08099343185550083,
          -0.07876344086021506,
          0.04285714285714285,
          0.039336917562724005,
          0.2894285714285714,
          0.16217772967772967,
          0.27561900921886273,
          0.08372500515357659,
          0.06631042568542568,
          0.07289553558165689,
          -0.06960069444444444,
          0.08537296037296035,
          0.0734436198721913,
          0.43086836409204826,
          0.15495238095238095,
          0.1675324675324676,
          -0.04905251980723681,
          0.3078125,
          0.10340480274442541
         ],
         "y": [
          0.5414364640883977,
          0.39067055393586003,
          0.5027932960893855,
          0.4527363184079602,
          0.40285714285714286,
          0.4725,
          0.4397705544933078,
          0.3392857142857143,
          0.35545023696682465,
          0.5102420856610801,
          0.5128805620608899,
          0.4965277777777778,
          0.5278688524590164,
          0.33024691358024694,
          0.4081237911025145,
          0.27439024390243905,
          0.5083798882681564,
          0.3877551020408163,
          0.4444444444444444,
          0.32673267326732675,
          0.493006993006993,
          0.48699763593380613,
          0.44298245614035087,
          0.4939271255060729,
          0.3930635838150289,
          0.3576388888888889,
          0.29508196721311475,
          0.21287128712871287,
          0.4626865671641791,
          0.46421267893660534,
          0.41770186335403725,
          0.40266963292547275,
          0.5547945205479452,
          0.4050632911392405,
          0.6079136690647482,
          0.4818791946308725,
          0.5226860254083484,
          0.4668304668304668,
          0.3644067796610169,
          0.21428571428571427,
          0.37667304015296366,
          0.405,
          0.315625,
          0.41929499072356213,
          0.4736147757255937,
          0.3601147776183644,
          0.3805970149253731,
          0.4458204334365325,
          0.36097560975609755,
          0.3783783783783784,
          0.27525252525252525,
          0.33641975308641975,
          0.30407523510971785,
          0.4326241134751773,
          0.292817679558011,
          0.49434571890145396,
          0.28018223234624146,
          0.3577981651376147,
          0.2720970537261698,
          0.4057142857142857,
          0.32717190388170053,
          0.3434343434343434,
          0.2658486707566462,
          0.3599137931034483,
          0.23875432525951557,
          0.4233128834355828,
          0.22765598650927488,
          0.49171270718232046,
          0.341645885286783,
          0.3619246861924686,
          0.41649484536082476,
          0.36673773987206826,
          0.3684210526315789,
          0.3963963963963964,
          0.40898876404494383,
          0.4375,
          0.48756218905472637,
          0.43823146944083224,
          0.41853932584269665,
          0.3711151736745887,
          0.3825,
          0.4498346196251378,
          0.38031319910514544,
          0.4191780821917808,
          0.47979139504563234,
          0.3536184210526316,
          0.2937365010799136,
          0.2737642585551331,
          0.4032846715328467,
          0.4782608695652174,
          0.20447284345047922,
          0.48792270531400966,
          0.3587662337662338,
          0.2945326278659612,
          0.4292845257903494,
          0.4166666666666667,
          0.3917525773195876,
          0.40324763193504737,
          0.3798767967145791,
          0.29518072289156627,
          0.35405405405405405,
          0.3610586011342155,
          0.3971631205673759,
          0.4302788844621514,
          0.4092526690391459,
          0.4543010752688172,
          0.42050520059435365,
          0.3987034035656402,
          0.5,
          0.3826219512195122,
          0.4968684759916493,
          0.39356814701378257,
          0.3649932157394844,
          0.3739130434782609,
          0.4495677233429395,
          0.23901098901098902,
          0.36082474226804123,
          0.36464088397790057,
          0.423963133640553,
          0.41379310344827586,
          0.5558139534883721,
          0.5361216730038023,
          0.30193905817174516,
          0.39941690962099125,
          0.26846846846846845,
          0.3798767967145791,
          0.47345132743362833,
          0.39356814701378257,
          0.423963133640553,
          0.3798767967145791,
          0.4573002754820937,
          0.3739130434782609,
          0.3826219512195122,
          0.3987034035656402,
          0.4968684759916493,
          0.5,
          0.23901098901098902,
          0.3649932157394844,
          0.39941690962099125,
          0.26846846846846845,
          0.4495677233429395,
          0.3394109396914446,
          0.40667678300455234,
          0.47345132743362833,
          0.5077951002227171,
          0.530562347188264,
          0.40498812351543945,
          0.2709030100334448,
          0.33695652173913043,
          0.5348837209302325,
          0.33590308370044053,
          0.4197994987468672,
          0.39728353140916806,
          0.37061769616026713,
          0.39705882352941174,
          0.3425,
          0.5367965367965368,
          0.29152542372881357,
          0.3666061705989111,
          0.24022346368715083,
          0.3333333333333333,
          0.42566844919786095,
          0.3805970149253731,
          0.40498812351543945,
          0.3568627450980392,
          0.4752475247524752,
          0.3402555910543131,
          0.4302788844621514,
          0.9,
          0.5825242718446602,
          0.51010101010101,
          0.5123456790123457,
          0.3924050632911392,
          0.3568627450980392,
          0.3805970149253731,
          0.4418604651162791,
          0.4302788844621514,
          0.47700170357751276,
          0.29152542372881357,
          0.5502645502645502,
          0.5168539325842697,
          0.2964071856287425,
          0.524822695035461,
          0.3139784946236559,
          0.39851485148514854,
          0.3264299802761341,
          0.4066797642436149,
          0.3733031674208145,
          0.5144230769230769,
          0.5333333333333333,
          0.3894230769230769,
          0.5067340067340067,
          0.29044117647058826,
          0.3312883435582822,
          0.39228295819935693,
          0.4711964549483013,
          0.3474178403755869,
          0.42662116040955633
         ]
        }
       ],
       "layout": {
        "height": 700,
        "hovermode": "closest",
        "margin": {
         "b": 80,
         "l": 80,
         "r": 30,
         "t": 100
        },
        "showlegend": false,
        "title": "Sentiment Score by Lexical Complexity",
        "titlefont": {
         "size": 20
        },
        "width": 800,
        "xaxis": {
         "title": "Sentiment Score",
         "titlefont": {
          "size": 16
         }
        },
        "yaxis": {
         "autorange": true,
         "dtick": 0.2,
         "gridcolor": "#BBC7A4",
         "gridwidth": 1,
         "showgrid": true,
         "title": "Lexical Complexity",
         "titlefont": {
          "size": 16
         },
         "zeroline": true,
         "zerolinecolor": "#BBC7A4",
         "zerolinewidth": 3
        }
       }
      },
      "text/html": [
       "<div id=\"7893d567-d3ef-42fe-997c-6f863f25d09d\" style=\"height: 700px; width: 800px;\" class=\"plotly-graph-div\"></div><script type=\"text/javascript\">require([\"plotly\"], function(Plotly) { window.PLOTLYENV=window.PLOTLYENV || {};window.PLOTLYENV.BASE_URL=\"https://plot.ly\";Plotly.newPlot(\"7893d567-d3ef-42fe-997c-6f863f25d09d\", [{\"type\": \"scatter\", \"x\": [0.1152892561983471, -0.16296296296296292, 0.11294642857142856, 0.13843995510662177, -0.11851851851851848, -0.052945665445665445, 0.08167968750000001, -0.4113378684807256, 0.060468291287256795, -0.0027906976744185917, 0.0940993265993266, 0.20342306420431422, 0.17292396756682468, 0.19229390681003586, 0.01632518365472911, 0.028251370907620914, 0.2328030303030303, 0.20085470085470086, -0.01575670498084292, -0.05177095631641085, 0.2077246603970742, 0.162406629318394, 0.018107769423558906, -0.051073762838468734, -0.11631944444444443, 0.3167989417989418, 0.13889860139860136, 0.028571428571428574, 0.0368908472479901, 0.08883768561187916, -0.009091635637090199, 0.03176222616521123, 0.10833333333333332, 0.1433838383838384, 0.022861909915481322, 0.08180134680134676, 0.03626068376068376, 0.18314549435239094, 0.10177987861811393, 0.025350140056022402, 0.0676510989010989, 0.016512345679012327, 0.07067460317460317, 0.026204292161738953, 0.09899149575379082, 0.029479316979316984, 0.0533068783068783, -0.14410130718954248, 0.027604166666666666, 0.12300556586270874, 0.09158212560386474, 0.11388888888888889, -0.001059224463479788, 0.018115942028985508, 0.28595238095238096, 0.04150132275132276, -0.010351232691658224, 0.03632246376811592, 0.225366568914956, 0.03908926218708826, -0.055235930735930694, 0.05714285714285713, 0.29307692307692307, 0.0717948717948718, -0.046874999999999986, 0.018181818181818174, 0.006036324786324786, -0.011071428571428584, 0.030484466513878268, -0.059312169312169344, -0.04394454751597609, -0.15984848484848488, -0.05733869305297878, 0.13653846153846153, -0.016546677959721433, -0.018214285714285718, -0.0564516129032258, 0.05435164717079611, -0.04833603896103895, 0.08897754137115838, 0.03056277056277054, 0.02740797453912209, -0.051824194324194356, 0.01995751162417825, 0.042509143155694866, 0.03133237133237132, 0.06767376142376146, 0.3297875852960603, -0.2911535812672175, 0.03346688034188035, 0.23274193548387095, 0.05805555555555555, 0.0427541074909496, 0.013736669834230802, 0.08949675324675327, -0.09624433106575968, 0.06036463536463536, 0.014136211011211021, 0.009683794466403155, 0.030922318422318414, 0.08294639947865753, -0.09078540507111936, 0.019457896152811408, 0.13968253968253966, 0.10731481481481484, 0.16978003026783514, 0.24112213018463016, -0.03308624874521615, 0.00025974025974025795, 0.15673379200164914, 0.09747720364741638, 0.04681401931401931, 0.1471574993633817, 0.10329545454545454, 0.05067114598364598, -0.01619318181818181, 0.014562556784779, -0.2543109668109668, 0.002529761904761912, 0.1442967772967773, -0.01754643206256109, 0.0731060606060606, 0.051056615942979576, 0.025930877401465633, 0.017446865751950515, 0.009683794466403155, 0.03377636009214959, 0.04681401931401931, 0.002529761904761912, 0.009683794466403155, 0.3466216216216215, 0.10329545454545454, 0.15673379200164914, -0.03308624874521615, 0.09747720364741638, 0.00025974025974025795, -0.01619318181818181, 0.1471574993633817, 0.025930877401465633, 0.017446865751950515, 0.05067114598364598, -0.08089285714285727, 0.11488997113997113, 0.03377636009214959, 0.12035714285714282, 0.058655202821869486, 0.07303263185616128, 0.40444015444015446, 0.3981507622811969, -0.07777777777777778, 0.09588195620804318, 0.05881561516807419, 0.26382887314705494, 0.08662169312169311, 0.0587495143745144, 0.030484466513878268, -0.10972222222222226, 0.10604395604395604, 0.12143759018759023, 0.03205128205128205, 0.22736111111111118, 0.08267451298701299, 0.0533068783068783, 0.07303263185616128, -0.009792429792429778, -0.1325714285714286, 0.26461814914645104, 0.13968253968253966, 0.0, 0.03292111592111593, -0.08672839506172839, 0.11678571428571431, 0.12467204512659058, -0.009792429792429778, 0.0533068783068783, 0.03791378458498025, 0.13968253968253966, 0.07874566332013143, 0.10604395604395604, 0.08099343185550083, -0.07876344086021506, 0.04285714285714285, 0.039336917562724005, 0.2894285714285714, 0.16217772967772967, 0.27561900921886273, 0.08372500515357659, 0.06631042568542568, 0.07289553558165689, -0.06960069444444444, 0.08537296037296035, 0.0734436198721913, 0.43086836409204826, 0.15495238095238095, 0.1675324675324676, -0.04905251980723681, 0.3078125, 0.10340480274442541], \"y\": [0.5414364640883977, 0.39067055393586003, 0.5027932960893855, 0.4527363184079602, 0.40285714285714286, 0.4725, 0.4397705544933078, 0.3392857142857143, 0.35545023696682465, 0.5102420856610801, 0.5128805620608899, 0.4965277777777778, 0.5278688524590164, 0.33024691358024694, 0.4081237911025145, 0.27439024390243905, 0.5083798882681564, 0.3877551020408163, 0.4444444444444444, 0.32673267326732675, 0.493006993006993, 0.48699763593380613, 0.44298245614035087, 0.4939271255060729, 0.3930635838150289, 0.3576388888888889, 0.29508196721311475, 0.21287128712871287, 0.4626865671641791, 0.46421267893660534, 0.41770186335403725, 0.40266963292547275, 0.5547945205479452, 0.4050632911392405, 0.6079136690647482, 0.4818791946308725, 0.5226860254083484, 0.4668304668304668, 0.3644067796610169, 0.21428571428571427, 0.37667304015296366, 0.405, 0.315625, 0.41929499072356213, 0.4736147757255937, 0.3601147776183644, 0.3805970149253731, 0.4458204334365325, 0.36097560975609755, 0.3783783783783784, 0.27525252525252525, 0.33641975308641975, 0.30407523510971785, 0.4326241134751773, 0.292817679558011, 0.49434571890145396, 0.28018223234624146, 0.3577981651376147, 0.2720970537261698, 0.4057142857142857, 0.32717190388170053, 0.3434343434343434, 0.2658486707566462, 0.3599137931034483, 0.23875432525951557, 0.4233128834355828, 0.22765598650927488, 0.49171270718232046, 0.341645885286783, 0.3619246861924686, 0.41649484536082476, 0.36673773987206826, 0.3684210526315789, 0.3963963963963964, 0.40898876404494383, 0.4375, 0.48756218905472637, 0.43823146944083224, 0.41853932584269665, 0.3711151736745887, 0.3825, 0.4498346196251378, 0.38031319910514544, 0.4191780821917808, 0.47979139504563234, 0.3536184210526316, 0.2937365010799136, 0.2737642585551331, 0.4032846715328467, 0.4782608695652174, 0.20447284345047922, 0.48792270531400966, 0.3587662337662338, 0.2945326278659612, 0.4292845257903494, 0.4166666666666667, 0.3917525773195876, 0.40324763193504737, 0.3798767967145791, 0.29518072289156627, 0.35405405405405405, 0.3610586011342155, 0.3971631205673759, 0.4302788844621514, 0.4092526690391459, 0.4543010752688172, 0.42050520059435365, 0.3987034035656402, 0.5, 0.3826219512195122, 0.4968684759916493, 0.39356814701378257, 0.3649932157394844, 0.3739130434782609, 0.4495677233429395, 0.23901098901098902, 0.36082474226804123, 0.36464088397790057, 0.423963133640553, 0.41379310344827586, 0.5558139534883721, 0.5361216730038023, 0.30193905817174516, 0.39941690962099125, 0.26846846846846845, 0.3798767967145791, 0.47345132743362833, 0.39356814701378257, 0.423963133640553, 0.3798767967145791, 0.4573002754820937, 0.3739130434782609, 0.3826219512195122, 0.3987034035656402, 0.4968684759916493, 0.5, 0.23901098901098902, 0.3649932157394844, 0.39941690962099125, 0.26846846846846845, 0.4495677233429395, 0.3394109396914446, 0.40667678300455234, 0.47345132743362833, 0.5077951002227171, 0.530562347188264, 0.40498812351543945, 0.2709030100334448, 0.33695652173913043, 0.5348837209302325, 0.33590308370044053, 0.4197994987468672, 0.39728353140916806, 0.37061769616026713, 0.39705882352941174, 0.3425, 0.5367965367965368, 0.29152542372881357, 0.3666061705989111, 0.24022346368715083, 0.3333333333333333, 0.42566844919786095, 0.3805970149253731, 0.40498812351543945, 0.3568627450980392, 0.4752475247524752, 0.3402555910543131, 0.4302788844621514, 0.9, 0.5825242718446602, 0.51010101010101, 0.5123456790123457, 0.3924050632911392, 0.3568627450980392, 0.3805970149253731, 0.4418604651162791, 0.4302788844621514, 0.47700170357751276, 0.29152542372881357, 0.5502645502645502, 0.5168539325842697, 0.2964071856287425, 0.524822695035461, 0.3139784946236559, 0.39851485148514854, 0.3264299802761341, 0.4066797642436149, 0.3733031674208145, 0.5144230769230769, 0.5333333333333333, 0.3894230769230769, 0.5067340067340067, 0.29044117647058826, 0.3312883435582822, 0.39228295819935693, 0.4711964549483013, 0.3474178403755869, 0.42662116040955633], \"mode\": \"markers\", \"marker\": {\"size\": 12, \"color\": \"#77E8CB\", \"line\": {\"width\": 2, \"color\": \"#06C392\"}}, \"text\": [\"Survival\", \"Nonstop\", \"Elevate\", \"Emotionless\", \"Gods Plan\", \"Im Upset\", \"8 Out of 10\", \"Mob Ties\", \"Cant Take a Joke\", \"Sandras Rose\", \"Talk Up\", \"Is There More\", \"Peak\", \"Summer Games\", \"Jaded\", \"Nice For What\", \"Finesse\", \"Ratchet Happy Birthday\", \"Thats How You Feel\", \"Blue Tint\", \"Free Smoke\", \"No Long Talk\", \"Passionfruit\", \"Jorja Interlude\", \"Get It Together\", \"Madiba Riddim\", \"Blem\", \"4422\", \"Gyalchester\", \"Skepta Interlude\", \"Portland\", \"Sacrifices\", \"Nothings Into Somethings\", \"Teenage Fever\", \"KMT\", \"Lose You\", \"Cant Have Everything\", \"Glow\", \"Since Way Back\", \"Fake Love\", \"Keep The Family Close\", \"U With Me\", \"Feel No Ways\", \"Hype\", \"Weston Road Flows\", \"Redemption\", \"With You\", \"Faithful\", \"Still Here\", \"Controlla\", \"One Dance\", \"GRAMMYs\", \"Childs Play\", \"Pop Style\", \"Too Good\", \"Views\", \"Hotline Bling\", \"Digital Dash\", \"Big Rings\", \"Live From The Gutter\", \"Diamonds Dancing\", \"Scholarships\", \"Plastic Bag\", \"Im The Plug\", \"Change Locations\", \"Jumpman\", \"Jersey\", \"30 For 30 Freestyle\", \"Legend\", \"Energy\", \"10 Bands\", \"Know Yourself\", \"No Tellin\", \"Madonna\", \"6 God\", \"Preach\", \"Wednesday Night Interlude\", \"Used To\", \"6 Man\", \"Company\", \"Jungle\", \"6PM In New York\", \"How About Now\", \"My Side\", \"Tuscan Leather\", \"Furthest Thing\", \"Started From The Bottom\", \"Own It\", \"Worst Behaviour\", \"From Time\", \"Hold On Were Going Home\", \"Connect\", \"The Language\", \"305 To My City\", \"Too Much\", \"Drake Speaks\", \"Club Paradise\", \"The Motto\", \"Headlines\", \"Round of Applause\", \"Free Spirit\", \"Trust Issues\", \"Marvins Room\", \"On My Way\", \"Dreams Money Can Buy\", \"Wildfire Remix\", \"Good Life\", \"Well Be Fine\", \"Lord Knows\", \"Under Ground Kings\", \"Make Me Proud\", \"Over My Dead Body\", \"The Real Her\", \"Take Care\", \"The Ride\", \"Doing It Wrong\", \"Cameras\", \"Hate Sleeping Alone\", \"Shot For Me\", \"Good Ones Go\", \"Aston Martin Music\", \"Poppin Bottles\", \"Off That\", \"Look What Youve Done\", \"Practice\", \"Headlines\", \"Light Up\", \"Over My Dead Body\", \"Shot For Me\", \"Headlines\", \"Crew Love\", \"Take Care\", \"Under Ground Kings\", \"Well Be Fine\", \"Make Me Proud\", \"Lord Knows\", \"Doing It Wrong\", \"The Real Her\", \"Look What Youve Done\", \"Practice\", \"The Ride\", \"Shut It Down\", \"Fireworks\", \"Light Up\", \"Up All Night\", \"The Resistance\", \"Miss Me\", \"Find Your Love\", \"Show Me A Good Time\", \"Ceces Interlude\", \"Fancy\", \"Thank Me Now\", \"Unforgettable\", \"Over\", \"Moment 4 Life\", \"Fall For Your Type\", \"Ghetto University\", \"What If I Kissed You\", \"Im Ready For You\", \"I Get Lonely Too\", \"Loving You No More Remix\", \"Deuces Remix\", \"With You\", \"Miss Me\", \"The Usual\", \"Message From You\", \"Feel Love\", \"On My Way\", \"Intro\", \"Faith\", \"Try Harder\", \"Its Been A Pleasure\", \"Fancy Remix\", \"The Usual\", \"With You\", \"Interlude\", \"On My Way\", \"Feeling\", \"What If I Kissed You\", \"Ready For You\", \"Rich Boy\", \"I Get Lonely\", \"Lust For Life\", \"Sooner Than Later\", \"Successful\", \"Uptown\", \"Unstoppable\", \"Little Bit\", \"Ignorant Shit\", \"November 18th\", \"Houstatlantavegas\", \"The Calm\", \"Best I Ever Had\", \"A Night Off\", \"Lets Call It Off\", \"Say Whats Real\", \"Brias Interlude\", \"Brand New\"]}], {\"width\": 800, \"height\": 700, \"title\": \"Sentiment Score by Lexical Complexity\", \"hovermode\": \"closest\", \"titlefont\": {\"size\": 20}, \"xaxis\": {\"title\": \"Sentiment Score\", \"titlefont\": {\"size\": 16}}, \"yaxis\": {\"title\": \"Lexical Complexity\", \"titlefont\": {\"size\": 16}, \"autorange\": true, \"showgrid\": true, \"zeroline\": true, \"dtick\": 0.2, \"gridcolor\": \"#BBC7A4\", \"gridwidth\": 1, \"zerolinecolor\": \"#BBC7A4\", \"zerolinewidth\": 3}, \"margin\": {\"l\": 80, \"r\": 30, \"b\": 80, \"t\": 100}, \"showlegend\": false}, {\"showLink\": true, \"linkText\": \"Export to plot.ly\"})});</script>"
      ],
      "text/vnd.plotly.v1+html": [
       "<div id=\"7893d567-d3ef-42fe-997c-6f863f25d09d\" style=\"height: 700px; width: 800px;\" class=\"plotly-graph-div\"></div><script type=\"text/javascript\">require([\"plotly\"], function(Plotly) { window.PLOTLYENV=window.PLOTLYENV || {};window.PLOTLYENV.BASE_URL=\"https://plot.ly\";Plotly.newPlot(\"7893d567-d3ef-42fe-997c-6f863f25d09d\", [{\"type\": \"scatter\", \"x\": [0.1152892561983471, -0.16296296296296292, 0.11294642857142856, 0.13843995510662177, -0.11851851851851848, -0.052945665445665445, 0.08167968750000001, -0.4113378684807256, 0.060468291287256795, -0.0027906976744185917, 0.0940993265993266, 0.20342306420431422, 0.17292396756682468, 0.19229390681003586, 0.01632518365472911, 0.028251370907620914, 0.2328030303030303, 0.20085470085470086, -0.01575670498084292, -0.05177095631641085, 0.2077246603970742, 0.162406629318394, 0.018107769423558906, -0.051073762838468734, -0.11631944444444443, 0.3167989417989418, 0.13889860139860136, 0.028571428571428574, 0.0368908472479901, 0.08883768561187916, -0.009091635637090199, 0.03176222616521123, 0.10833333333333332, 0.1433838383838384, 0.022861909915481322, 0.08180134680134676, 0.03626068376068376, 0.18314549435239094, 0.10177987861811393, 0.025350140056022402, 0.0676510989010989, 0.016512345679012327, 0.07067460317460317, 0.026204292161738953, 0.09899149575379082, 0.029479316979316984, 0.0533068783068783, -0.14410130718954248, 0.027604166666666666, 0.12300556586270874, 0.09158212560386474, 0.11388888888888889, -0.001059224463479788, 0.018115942028985508, 0.28595238095238096, 0.04150132275132276, -0.010351232691658224, 0.03632246376811592, 0.225366568914956, 0.03908926218708826, -0.055235930735930694, 0.05714285714285713, 0.29307692307692307, 0.0717948717948718, -0.046874999999999986, 0.018181818181818174, 0.006036324786324786, -0.011071428571428584, 0.030484466513878268, -0.059312169312169344, -0.04394454751597609, -0.15984848484848488, -0.05733869305297878, 0.13653846153846153, -0.016546677959721433, -0.018214285714285718, -0.0564516129032258, 0.05435164717079611, -0.04833603896103895, 0.08897754137115838, 0.03056277056277054, 0.02740797453912209, -0.051824194324194356, 0.01995751162417825, 0.042509143155694866, 0.03133237133237132, 0.06767376142376146, 0.3297875852960603, -0.2911535812672175, 0.03346688034188035, 0.23274193548387095, 0.05805555555555555, 0.0427541074909496, 0.013736669834230802, 0.08949675324675327, -0.09624433106575968, 0.06036463536463536, 0.014136211011211021, 0.009683794466403155, 0.030922318422318414, 0.08294639947865753, -0.09078540507111936, 0.019457896152811408, 0.13968253968253966, 0.10731481481481484, 0.16978003026783514, 0.24112213018463016, -0.03308624874521615, 0.00025974025974025795, 0.15673379200164914, 0.09747720364741638, 0.04681401931401931, 0.1471574993633817, 0.10329545454545454, 0.05067114598364598, -0.01619318181818181, 0.014562556784779, -0.2543109668109668, 0.002529761904761912, 0.1442967772967773, -0.01754643206256109, 0.0731060606060606, 0.051056615942979576, 0.025930877401465633, 0.017446865751950515, 0.009683794466403155, 0.03377636009214959, 0.04681401931401931, 0.002529761904761912, 0.009683794466403155, 0.3466216216216215, 0.10329545454545454, 0.15673379200164914, -0.03308624874521615, 0.09747720364741638, 0.00025974025974025795, -0.01619318181818181, 0.1471574993633817, 0.025930877401465633, 0.017446865751950515, 0.05067114598364598, -0.08089285714285727, 0.11488997113997113, 0.03377636009214959, 0.12035714285714282, 0.058655202821869486, 0.07303263185616128, 0.40444015444015446, 0.3981507622811969, -0.07777777777777778, 0.09588195620804318, 0.05881561516807419, 0.26382887314705494, 0.08662169312169311, 0.0587495143745144, 0.030484466513878268, -0.10972222222222226, 0.10604395604395604, 0.12143759018759023, 0.03205128205128205, 0.22736111111111118, 0.08267451298701299, 0.0533068783068783, 0.07303263185616128, -0.009792429792429778, -0.1325714285714286, 0.26461814914645104, 0.13968253968253966, 0.0, 0.03292111592111593, -0.08672839506172839, 0.11678571428571431, 0.12467204512659058, -0.009792429792429778, 0.0533068783068783, 0.03791378458498025, 0.13968253968253966, 0.07874566332013143, 0.10604395604395604, 0.08099343185550083, -0.07876344086021506, 0.04285714285714285, 0.039336917562724005, 0.2894285714285714, 0.16217772967772967, 0.27561900921886273, 0.08372500515357659, 0.06631042568542568, 0.07289553558165689, -0.06960069444444444, 0.08537296037296035, 0.0734436198721913, 0.43086836409204826, 0.15495238095238095, 0.1675324675324676, -0.04905251980723681, 0.3078125, 0.10340480274442541], \"y\": [0.5414364640883977, 0.39067055393586003, 0.5027932960893855, 0.4527363184079602, 0.40285714285714286, 0.4725, 0.4397705544933078, 0.3392857142857143, 0.35545023696682465, 0.5102420856610801, 0.5128805620608899, 0.4965277777777778, 0.5278688524590164, 0.33024691358024694, 0.4081237911025145, 0.27439024390243905, 0.5083798882681564, 0.3877551020408163, 0.4444444444444444, 0.32673267326732675, 0.493006993006993, 0.48699763593380613, 0.44298245614035087, 0.4939271255060729, 0.3930635838150289, 0.3576388888888889, 0.29508196721311475, 0.21287128712871287, 0.4626865671641791, 0.46421267893660534, 0.41770186335403725, 0.40266963292547275, 0.5547945205479452, 0.4050632911392405, 0.6079136690647482, 0.4818791946308725, 0.5226860254083484, 0.4668304668304668, 0.3644067796610169, 0.21428571428571427, 0.37667304015296366, 0.405, 0.315625, 0.41929499072356213, 0.4736147757255937, 0.3601147776183644, 0.3805970149253731, 0.4458204334365325, 0.36097560975609755, 0.3783783783783784, 0.27525252525252525, 0.33641975308641975, 0.30407523510971785, 0.4326241134751773, 0.292817679558011, 0.49434571890145396, 0.28018223234624146, 0.3577981651376147, 0.2720970537261698, 0.4057142857142857, 0.32717190388170053, 0.3434343434343434, 0.2658486707566462, 0.3599137931034483, 0.23875432525951557, 0.4233128834355828, 0.22765598650927488, 0.49171270718232046, 0.341645885286783, 0.3619246861924686, 0.41649484536082476, 0.36673773987206826, 0.3684210526315789, 0.3963963963963964, 0.40898876404494383, 0.4375, 0.48756218905472637, 0.43823146944083224, 0.41853932584269665, 0.3711151736745887, 0.3825, 0.4498346196251378, 0.38031319910514544, 0.4191780821917808, 0.47979139504563234, 0.3536184210526316, 0.2937365010799136, 0.2737642585551331, 0.4032846715328467, 0.4782608695652174, 0.20447284345047922, 0.48792270531400966, 0.3587662337662338, 0.2945326278659612, 0.4292845257903494, 0.4166666666666667, 0.3917525773195876, 0.40324763193504737, 0.3798767967145791, 0.29518072289156627, 0.35405405405405405, 0.3610586011342155, 0.3971631205673759, 0.4302788844621514, 0.4092526690391459, 0.4543010752688172, 0.42050520059435365, 0.3987034035656402, 0.5, 0.3826219512195122, 0.4968684759916493, 0.39356814701378257, 0.3649932157394844, 0.3739130434782609, 0.4495677233429395, 0.23901098901098902, 0.36082474226804123, 0.36464088397790057, 0.423963133640553, 0.41379310344827586, 0.5558139534883721, 0.5361216730038023, 0.30193905817174516, 0.39941690962099125, 0.26846846846846845, 0.3798767967145791, 0.47345132743362833, 0.39356814701378257, 0.423963133640553, 0.3798767967145791, 0.4573002754820937, 0.3739130434782609, 0.3826219512195122, 0.3987034035656402, 0.4968684759916493, 0.5, 0.23901098901098902, 0.3649932157394844, 0.39941690962099125, 0.26846846846846845, 0.4495677233429395, 0.3394109396914446, 0.40667678300455234, 0.47345132743362833, 0.5077951002227171, 0.530562347188264, 0.40498812351543945, 0.2709030100334448, 0.33695652173913043, 0.5348837209302325, 0.33590308370044053, 0.4197994987468672, 0.39728353140916806, 0.37061769616026713, 0.39705882352941174, 0.3425, 0.5367965367965368, 0.29152542372881357, 0.3666061705989111, 0.24022346368715083, 0.3333333333333333, 0.42566844919786095, 0.3805970149253731, 0.40498812351543945, 0.3568627450980392, 0.4752475247524752, 0.3402555910543131, 0.4302788844621514, 0.9, 0.5825242718446602, 0.51010101010101, 0.5123456790123457, 0.3924050632911392, 0.3568627450980392, 0.3805970149253731, 0.4418604651162791, 0.4302788844621514, 0.47700170357751276, 0.29152542372881357, 0.5502645502645502, 0.5168539325842697, 0.2964071856287425, 0.524822695035461, 0.3139784946236559, 0.39851485148514854, 0.3264299802761341, 0.4066797642436149, 0.3733031674208145, 0.5144230769230769, 0.5333333333333333, 0.3894230769230769, 0.5067340067340067, 0.29044117647058826, 0.3312883435582822, 0.39228295819935693, 0.4711964549483013, 0.3474178403755869, 0.42662116040955633], \"mode\": \"markers\", \"marker\": {\"size\": 12, \"color\": \"#77E8CB\", \"line\": {\"width\": 2, \"color\": \"#06C392\"}}, \"text\": [\"Survival\", \"Nonstop\", \"Elevate\", \"Emotionless\", \"Gods Plan\", \"Im Upset\", \"8 Out of 10\", \"Mob Ties\", \"Cant Take a Joke\", \"Sandras Rose\", \"Talk Up\", \"Is There More\", \"Peak\", \"Summer Games\", \"Jaded\", \"Nice For What\", \"Finesse\", \"Ratchet Happy Birthday\", \"Thats How You Feel\", \"Blue Tint\", \"Free Smoke\", \"No Long Talk\", \"Passionfruit\", \"Jorja Interlude\", \"Get It Together\", \"Madiba Riddim\", \"Blem\", \"4422\", \"Gyalchester\", \"Skepta Interlude\", \"Portland\", \"Sacrifices\", \"Nothings Into Somethings\", \"Teenage Fever\", \"KMT\", \"Lose You\", \"Cant Have Everything\", \"Glow\", \"Since Way Back\", \"Fake Love\", \"Keep The Family Close\", \"U With Me\", \"Feel No Ways\", \"Hype\", \"Weston Road Flows\", \"Redemption\", \"With You\", \"Faithful\", \"Still Here\", \"Controlla\", \"One Dance\", \"GRAMMYs\", \"Childs Play\", \"Pop Style\", \"Too Good\", \"Views\", \"Hotline Bling\", \"Digital Dash\", \"Big Rings\", \"Live From The Gutter\", \"Diamonds Dancing\", \"Scholarships\", \"Plastic Bag\", \"Im The Plug\", \"Change Locations\", \"Jumpman\", \"Jersey\", \"30 For 30 Freestyle\", \"Legend\", \"Energy\", \"10 Bands\", \"Know Yourself\", \"No Tellin\", \"Madonna\", \"6 God\", \"Preach\", \"Wednesday Night Interlude\", \"Used To\", \"6 Man\", \"Company\", \"Jungle\", \"6PM In New York\", \"How About Now\", \"My Side\", \"Tuscan Leather\", \"Furthest Thing\", \"Started From The Bottom\", \"Own It\", \"Worst Behaviour\", \"From Time\", \"Hold On Were Going Home\", \"Connect\", \"The Language\", \"305 To My City\", \"Too Much\", \"Drake Speaks\", \"Club Paradise\", \"The Motto\", \"Headlines\", \"Round of Applause\", \"Free Spirit\", \"Trust Issues\", \"Marvins Room\", \"On My Way\", \"Dreams Money Can Buy\", \"Wildfire Remix\", \"Good Life\", \"Well Be Fine\", \"Lord Knows\", \"Under Ground Kings\", \"Make Me Proud\", \"Over My Dead Body\", \"The Real Her\", \"Take Care\", \"The Ride\", \"Doing It Wrong\", \"Cameras\", \"Hate Sleeping Alone\", \"Shot For Me\", \"Good Ones Go\", \"Aston Martin Music\", \"Poppin Bottles\", \"Off That\", \"Look What Youve Done\", \"Practice\", \"Headlines\", \"Light Up\", \"Over My Dead Body\", \"Shot For Me\", \"Headlines\", \"Crew Love\", \"Take Care\", \"Under Ground Kings\", \"Well Be Fine\", \"Make Me Proud\", \"Lord Knows\", \"Doing It Wrong\", \"The Real Her\", \"Look What Youve Done\", \"Practice\", \"The Ride\", \"Shut It Down\", \"Fireworks\", \"Light Up\", \"Up All Night\", \"The Resistance\", \"Miss Me\", \"Find Your Love\", \"Show Me A Good Time\", \"Ceces Interlude\", \"Fancy\", \"Thank Me Now\", \"Unforgettable\", \"Over\", \"Moment 4 Life\", \"Fall For Your Type\", \"Ghetto University\", \"What If I Kissed You\", \"Im Ready For You\", \"I Get Lonely Too\", \"Loving You No More Remix\", \"Deuces Remix\", \"With You\", \"Miss Me\", \"The Usual\", \"Message From You\", \"Feel Love\", \"On My Way\", \"Intro\", \"Faith\", \"Try Harder\", \"Its Been A Pleasure\", \"Fancy Remix\", \"The Usual\", \"With You\", \"Interlude\", \"On My Way\", \"Feeling\", \"What If I Kissed You\", \"Ready For You\", \"Rich Boy\", \"I Get Lonely\", \"Lust For Life\", \"Sooner Than Later\", \"Successful\", \"Uptown\", \"Unstoppable\", \"Little Bit\", \"Ignorant Shit\", \"November 18th\", \"Houstatlantavegas\", \"The Calm\", \"Best I Ever Had\", \"A Night Off\", \"Lets Call It Off\", \"Say Whats Real\", \"Brias Interlude\", \"Brand New\"]}], {\"width\": 800, \"height\": 700, \"title\": \"Sentiment Score by Lexical Complexity\", \"hovermode\": \"closest\", \"titlefont\": {\"size\": 20}, \"xaxis\": {\"title\": \"Sentiment Score\", \"titlefont\": {\"size\": 16}}, \"yaxis\": {\"title\": \"Lexical Complexity\", \"titlefont\": {\"size\": 16}, \"autorange\": true, \"showgrid\": true, \"zeroline\": true, \"dtick\": 0.2, \"gridcolor\": \"#BBC7A4\", \"gridwidth\": 1, \"zerolinecolor\": \"#BBC7A4\", \"zerolinewidth\": 3}, \"margin\": {\"l\": 80, \"r\": 30, \"b\": 80, \"t\": 100}, \"showlegend\": false}, {\"showLink\": true, \"linkText\": \"Export to plot.ly\"})});</script>"
      ]
     },
     "metadata": {},
     "output_type": "display_data"
    }
   ],
   "source": [
    "trace = go.Scatter(\n",
    "    x = df_songMetrics['sentiment'],\n",
    "    y = df_songMetrics['lexical_complexity'],\n",
    "    mode = 'markers',\n",
    "    marker = dict(\n",
    "        size = 12,\n",
    "        color = '#77E8CB',\n",
    "        line = dict(\n",
    "            width = 2,\n",
    "            color = '#06C392'\n",
    "        )\n",
    "    ),\n",
    "    text= df_songMetrics['song']\n",
    ")\n",
    "\n",
    "data = [trace]\n",
    "\n",
    "layout = go.Layout(\n",
    "        width = 800,\n",
    "        height = 700,\n",
    "        title = 'Sentiment Score by Lexical Complexity',\n",
    "        hovermode= 'closest',\n",
    "        titlefont = dict(size=20),\n",
    "        xaxis = dict(\n",
    "            title = 'Sentiment Score',\n",
    "            titlefont = dict(size=16)),    \n",
    "        yaxis = dict(\n",
    "            title = 'Lexical Complexity',\n",
    "            titlefont = dict(size=16),\n",
    "            autorange = True,\n",
    "            showgrid = True,\n",
    "            zeroline = True,\n",
    "            dtick = 0.2,\n",
    "            gridcolor = '#BBC7A4',\n",
    "            gridwidth = 1,\n",
    "            zerolinecolor = '#BBC7A4',\n",
    "            zerolinewidth = 3),\n",
    "        margin = dict(\n",
    "            l = 80,\n",
    "            r = 30,\n",
    "            b = 80,\n",
    "            t = 100),\n",
    "        showlegend=False)\n",
    "\n",
    "fig = dict(data=data,layout=layout)\n",
    "iplot(fig, filename='basic-scatter')"
   ]
  },
  {
   "cell_type": "markdown",
   "metadata": {},
   "source": [
    "#### Insights\n",
    "+ I was hoping to see a relationship between lexical complexity and sentiment but it looks like they cluster around the center.\n",
    "+ The song with the lowest sentiment score, \"Mob Ties\" was also on the lower end for lexical complexity at 0.33, even less than the average.\n",
    "+ However, the song with the highest sentiment score, \"Best I Ever Had\" also happened to be on the lower end for lexical complexity at 0.29 revealing even simpler songs can be compelling and unforgettable."
   ]
  },
  {
   "cell_type": "markdown",
   "metadata": {},
   "source": [
    "## Part 4: Topic Analysis of Lyrics\n",
    "***"
   ]
  },
  {
   "cell_type": "markdown",
   "metadata": {},
   "source": [
    "### Save copy of lyrics for topic analysis"
   ]
  },
  {
   "cell_type": "code",
   "execution_count": 35,
   "metadata": {
    "collapsed": true
   },
   "outputs": [],
   "source": [
    "df_topics = songs.copy()"
   ]
  },
  {
   "cell_type": "markdown",
   "metadata": {},
   "source": [
    "### Create list of the lyrics"
   ]
  },
  {
   "cell_type": "code",
   "execution_count": 36,
   "metadata": {
    "collapsed": true
   },
   "outputs": [],
   "source": [
    "lyrics=df_topics['lyrics'].tolist()"
   ]
  },
  {
   "cell_type": "markdown",
   "metadata": {},
   "source": [
    "### Lemmatize & remove punctuation in the lyrics"
   ]
  },
  {
   "cell_type": "markdown",
   "metadata": {},
   "source": [
    "#### * <font color='gray'>Lemmatization converts the word into its root word</font> *"
   ]
  },
  {
   "cell_type": "code",
   "execution_count": 37,
   "metadata": {
    "collapsed": true
   },
   "outputs": [],
   "source": [
    "lemmatization = lambda x: \" \".join([Word(word).lemmatize() for word in x.split()])\n",
    "lyrics = list(map(lemmatization, lyrics))\n",
    "\n",
    "#remove punctuation\n",
    "lyrics = [w.replace('[^\\w\\s]', '') for w in lyrics]"
   ]
  },
  {
   "cell_type": "markdown",
   "metadata": {},
   "source": [
    "### Create function to display topics"
   ]
  },
  {
   "cell_type": "markdown",
   "metadata": {},
   "source": [
    "####  *<font color='gray'>Topics are a repeating pattern of co-occurring terms in a corpus</font> *"
   ]
  },
  {
   "cell_type": "code",
   "execution_count": 38,
   "metadata": {
    "collapsed": true
   },
   "outputs": [],
   "source": [
    "my_stop_words = text.ENGLISH_STOP_WORDS.union(['ugh','em','ohhh','aha','ll','oho','ck','ve','ooooooh','hooooooo','mothafuckas','mothafucka','woah','aye','skrrt','hey','huh','wa','hoo','ayy','yuh','ay','ain','ya','ooh','yeah','like','just','know','want','need','got','make','wanna','gonna','gotta','gon','don','oh','tryna','told','this','maybe','cause','nigga','niggas','used'])\n",
    "\n",
    "def display_topics(H, W, feature_names, documents, no_top_words):\n",
    "    for topic_idx, topic in enumerate(H):\n",
    "        print (\"Topic %d:\" % (topic_idx))\n",
    "        print (\" \".join([feature_names[i]\n",
    "                        for i in topic.argsort()[:-no_top_words - 1:-1]]))\n",
    "\n",
    "documents = lyrics\n",
    "no_topics = 10\n",
    "no_top_words = 10\n",
    "no_features = 1000\n",
    "no_top_documents = 2"
   ]
  },
  {
   "cell_type": "markdown",
   "metadata": {},
   "source": [
    "###  Use tf-idf for the NMF Model"
   ]
  },
  {
   "cell_type": "code",
   "execution_count": 39,
   "metadata": {
    "collapsed": true
   },
   "outputs": [],
   "source": [
    "tfidf_vectorizer = TfidfVectorizer(max_df=0.95, min_df=2, max_features=no_features, stop_words=my_stop_words)\n",
    "tfidf = tfidf_vectorizer.fit_transform(documents)\n",
    "tfidf_feature_names = tfidf_vectorizer.get_feature_names()"
   ]
  },
  {
   "cell_type": "markdown",
   "metadata": {},
   "source": [
    "### Run NMF Model"
   ]
  },
  {
   "cell_type": "code",
   "execution_count": 40,
   "metadata": {
    "collapsed": true
   },
   "outputs": [],
   "source": [
    "nmf_model = NMF(n_components=no_topics, random_state=1, alpha=.1, l1_ratio=.5, init='nndsvd').fit(tfidf)\n",
    "nmf_W = nmf_model.transform(tfidf)\n",
    "nmf_H = nmf_model.components_\n",
    "nmf = NMF(n_components=no_topics, random_state=1, alpha=.1, l1_ratio=.5, init='nndsvd').fit(tfidf)"
   ]
  },
  {
   "cell_type": "markdown",
   "metadata": {},
   "source": [
    "### Display the topics"
   ]
  },
  {
   "cell_type": "code",
   "execution_count": 41,
   "metadata": {},
   "outputs": [
    {
     "name": "stdout",
     "output_type": "stream",
     "text": [
      "Topic 0:\n",
      "shit love time girl man feel way say thing good\n",
      "Topic 1:\n",
      "going girl right babe emotion open story usual lover choose\n",
      "Topic 2:\n",
      "safe promise mercy fall downtown asleep address false traffic birthday\n",
      "Topic 3:\n",
      "mind somethin yellin rise time money decide catch guy chance\n",
      "Topic 4:\n",
      "lonely face ring anybody place really rule baby mix tell\n",
      "Topic 5:\n",
      "care hurt loved lie carry lost won ashamed tell thinking\n",
      "Topic 6:\n",
      "look worked hurt love wasn kid bounce stressed bank deserve\n",
      "Topic 7:\n",
      "light sun caught party target celebrate wait toast winter dumb\n",
      "Topic 8:\n",
      "kissed afford shoulder dont weight right closer emotion secret open\n",
      "Topic 9:\n",
      "drop working practicing 504 girls practice won right daddy stop\n"
     ]
    }
   ],
   "source": [
    "display_topics(nmf_H, nmf_W, tfidf_feature_names, documents, no_top_words)"
   ]
  },
  {
   "cell_type": "markdown",
   "metadata": {},
   "source": [
    "#### Insights\n",
    "+ Drake has a reputation of being emotional and the topic analysis supports that.\n",
    "+ Most of these topics are emotional with words like \"love\", \"hurt\" and \"lonely\" and generally have the word \"girl\" or another word for girl (i.e. baby).\n",
    "+ The most positive topic is Topic 7, with \"celebrate\" and \"party\".\n",
    "+ Overall, I think Drake just wants to talk about his feelings and maybe that's why I like him so much."
   ]
  },
  {
   "cell_type": "markdown",
   "metadata": {},
   "source": [
    "## Part 5: Word Cloud of Lyrics\n",
    "***"
   ]
  },
  {
   "cell_type": "markdown",
   "metadata": {},
   "source": [
    "### Word cloud with mask"
   ]
  },
  {
   "cell_type": "code",
   "execution_count": 42,
   "metadata": {
    "collapsed": true
   },
   "outputs": [],
   "source": [
    "text = \" \".join(documents)\n",
    "stopwords = my_stop_words\n",
    "mask = np.array(Image.open('/Users/sowmyamurali/Documents/DataViz/drake.jpg'))\n",
    "wc = WordCloud(background_color=\"white\", max_words=300, mask=mask,\n",
    "               stopwords=stopwords,max_font_size=90, random_state=42)"
   ]
  },
  {
   "cell_type": "markdown",
   "metadata": {},
   "source": [
    "### Display and save wordcloud to file"
   ]
  },
  {
   "cell_type": "code",
   "execution_count": 43,
   "metadata": {
    "scrolled": false
   },
   "outputs": [
    {
     "data": {
      "image/png": "[encoded data removed]",
      "text/plain": [
       "<matplotlib.figure.Figure at 0x1a1d129a20>"
      ]
     },
     "metadata": {},
     "output_type": "display_data"
    }
   ],
   "source": [
    "wc.generate(text)\n",
    "plt.figure(figsize=(30,30))\n",
    "plt.imshow(wc, interpolation='bilinear')\n",
    "plt.axis(\"off\")\n",
    "wc.to_file('/Users/sowmyamurali/Documents/DataViz/wordcloud.png')\n",
    "plt.show()"
   ]
  },
  {
   "cell_type": "markdown",
   "metadata": {},
   "source": [
    "#### Insights\n",
    "+ Based on the prominent \"I'm\", I get the sense while I love Drake a lot, Drake loves Drake even more.\n",
    "+ Combined with the topic analysis, the most common theme is girls! Whether it's singing about girls or singing to them."
   ]
  },
  {
   "cell_type": "markdown",
   "metadata": {},
   "source": [
    "## Part 6: KMeans Clustering of Lyrics\n",
    "***"
   ]
  },
  {
   "cell_type": "markdown",
   "metadata": {},
   "source": [
    "### Save Lists of Fields I Need"
   ]
  },
  {
   "cell_type": "code",
   "execution_count": 44,
   "metadata": {
    "collapsed": true
   },
   "outputs": [],
   "source": [
    "clusters = songs.copy()\n",
    "songs = clusters['song'].tolist()\n",
    "lyrics = clusters['lyrics'].tolist()\n",
    "albums = clusters['album'].tolist()"
   ]
  },
  {
   "cell_type": "markdown",
   "metadata": {},
   "source": [
    "### Stem and Tokenize the Words"
   ]
  },
  {
   "cell_type": "markdown",
   "metadata": {},
   "source": [
    "####  *<font color='gray'>Stemming breaks a word down into its root similar to lemmatizing. Tokenizing splits the lyrics into a list its words.</font> *"
   ]
  },
  {
   "cell_type": "code",
   "execution_count": 45,
   "metadata": {
    "collapsed": true
   },
   "outputs": [],
   "source": [
    "stemmer = SnowballStemmer(\"english\")\n",
    "\n",
    "def tokenize_and_stem(text):\n",
    "    tokens = [word for sent in nltk.sent_tokenize(text) for word in nltk.word_tokenize(sent)]\n",
    "    filtered_tokens = []\n",
    "    for token in tokens:\n",
    "        if re.search('[a-zA-Z]', token):\n",
    "            filtered_tokens.append(token)\n",
    "    stems = [stemmer.stem(t) for t in filtered_tokens]\n",
    "    return stems\n",
    "\n",
    "\n",
    "def tokenize_only(text):\n",
    "    tokens = [word.lower() for sent in nltk.sent_tokenize(text) for word in nltk.word_tokenize(sent)]\n",
    "    filtered_tokens = []\n",
    "    for token in tokens:\n",
    "        if re.search('[a-zA-Z]', token):\n",
    "            filtered_tokens.append(token)\n",
    "    return filtered_tokens"
   ]
  },
  {
   "cell_type": "code",
   "execution_count": 46,
   "metadata": {
    "collapsed": true
   },
   "outputs": [],
   "source": [
    "totalvocab_stemmed = []\n",
    "totalvocab_tokenized = []\n",
    "for i in lyrics:\n",
    "    allwords_stemmed = tokenize_and_stem(i)\n",
    "    totalvocab_stemmed.extend(allwords_stemmed)\n",
    "    \n",
    "    allwords_tokenized = tokenize_only(i)\n",
    "    totalvocab_tokenized.extend(allwords_tokenized)"
   ]
  },
  {
   "cell_type": "markdown",
   "metadata": {},
   "source": [
    "###  Use tf-idf for the KMeans Model"
   ]
  },
  {
   "cell_type": "code",
   "execution_count": 47,
   "metadata": {
    "collapsed": true
   },
   "outputs": [],
   "source": [
    "tfidf_vectorizer = TfidfVectorizer(max_df=0.8, max_features=200000,\n",
    "                                 min_df=0.2, stop_words=my_stop_words,\n",
    "                                 use_idf=True, tokenizer=tokenize_and_stem, ngram_range=(1,3))\n",
    "\n",
    "tfidf_matrix = tfidf_vectorizer.fit_transform(lyrics)\n",
    "terms = tfidf_vectorizer.get_feature_names()"
   ]
  },
  {
   "cell_type": "markdown",
   "metadata": {},
   "source": [
    "###  Get a Measure of Similarity Between Songs"
   ]
  },
  {
   "cell_type": "code",
   "execution_count": 48,
   "metadata": {
    "collapsed": true
   },
   "outputs": [],
   "source": [
    "dist = 1 - cosine_similarity(tfidf_matrix)"
   ]
  },
  {
   "cell_type": "markdown",
   "metadata": {},
   "source": [
    "### Run KMeans Model"
   ]
  },
  {
   "cell_type": "code",
   "execution_count": 49,
   "metadata": {
    "collapsed": true
   },
   "outputs": [],
   "source": [
    "num_clusters = 5\n",
    "km = KMeans(n_clusters=num_clusters, init='k-means++', max_iter=100, n_init=1)\n",
    "km.fit(tfidf_matrix)\n",
    "clusters = km.labels_.tolist()"
   ]
  },
  {
   "cell_type": "markdown",
   "metadata": {},
   "source": [
    "### Create Dataframe of Songs with Assigned Clusters"
   ]
  },
  {
   "cell_type": "code",
   "execution_count": 50,
   "metadata": {
    "collapsed": true
   },
   "outputs": [],
   "source": [
    "df_songs = {'song': songs,'album': albums, 'lyrics': lyrics, 'cluster': clusters}\n",
    "\n",
    "df_clusters = pd.DataFrame(df_songs, index = [clusters] , columns = ['song', 'cluster'])"
   ]
  },
  {
   "cell_type": "markdown",
   "metadata": {},
   "source": [
    "### Create Dataframe of Tokenized Lyrics"
   ]
  },
  {
   "cell_type": "code",
   "execution_count": 51,
   "metadata": {
    "collapsed": true
   },
   "outputs": [],
   "source": [
    "df_vocab = pd.DataFrame({'lyrics': totalvocab_tokenized}, index = totalvocab_stemmed)"
   ]
  },
  {
   "cell_type": "markdown",
   "metadata": {},
   "source": [
    "### Top Ten Words Per Cluster"
   ]
  },
  {
   "cell_type": "code",
   "execution_count": 52,
   "metadata": {},
   "outputs": [
    {
     "name": "stdout",
     "output_type": "stream",
     "text": [
      "Top terms per cluster:\n",
      "Cluster 0: shit\n",
      " ca n't\n",
      " ca\n",
      " way\n",
      " ai n't\n",
      " ai\n",
      " onli\n",
      " love\n",
      " say\n",
      " someon\n",
      "Cluster 1: let\n",
      " feel\n",
      " thing\n",
      " man\n",
      " way\n",
      " good\n",
      " realli\n",
      " life\n",
      " shit\n",
      " girl\n",
      "Cluster 2: time\n",
      " wan\n",
      " wan na\n",
      " na\n",
      " say\n",
      " caus\n",
      " mind\n",
      " shit\n",
      " love\n",
      " tri\n",
      "Cluster 3: love\n",
      " money\n",
      " bitch\n",
      " shit\n",
      " ai n't\n",
      " ai\n",
      " talk\n",
      " fuck\n",
      " miss\n",
      " caus\n",
      "Cluster 4: girl\n",
      " right\n",
      " tell\n",
      " night\n",
      " work\n",
      " wo n't\n",
      " wo\n",
      " someth\n",
      " bout\n",
      " let\n"
     ]
    }
   ],
   "source": [
    "print(\"Top terms per cluster:\")\n",
    "order_centroids = km.cluster_centers_.argsort()[:, ::-1]\n",
    "#terms = vectorizer.get_feature_names()\n",
    "\n",
    "for i in range(num_clusters):\n",
    "    print(\"Cluster %d:\" % i, end='')\n",
    "    for ind in order_centroids[i, :10]:\n",
    "        print(' %s' % terms[ind], end='')\n",
    "        print()"
   ]
  },
  {
   "cell_type": "markdown",
   "metadata": {},
   "source": [
    "### Convert Into a 2-dimensional Array for Visualizing"
   ]
  },
  {
   "cell_type": "code",
   "execution_count": 53,
   "metadata": {
    "collapsed": true
   },
   "outputs": [],
   "source": [
    "MDS()\n",
    "mds = MDS(n_components=2, dissimilarity=\"precomputed\", random_state=1)\n",
    "pos = mds.fit_transform(dist) \n",
    "xs, ys = pos[:, 0], pos[:, 1]"
   ]
  },
  {
   "cell_type": "markdown",
   "metadata": {},
   "source": [
    "### Visualize Clusters"
   ]
  },
  {
   "cell_type": "code",
   "execution_count": 56,
   "metadata": {},
   "outputs": [
    {
     "data": {
      "application/vnd.plotly.v1+json": {
       "data": [
        {
         "marker": {
          "color": [
           "#A63446",
           "#A63446",
           "#A63446",
           "#A63446",
           "#A63446",
           "#A63446",
           "#A63446",
           "#A63446",
           "#A63446",
           "#A63446",
           "#A63446",
           "#A63446",
           "#A63446",
           "#A63446",
           "#A63446",
           "#A63446",
           "#A63446",
           "#A63446",
           "#A63446",
           "#A63446",
           "#A63446",
           "#A63446",
           "#A63446",
           "#A63446",
           "#A63446",
           "#A63446",
           "#A63446",
           "#A63446",
           "#A63446",
           "#A63446",
           "#A63446",
           "#A63446",
           "#A63446",
           "#A63446",
           "#A63446",
           "#A63446",
           "#A63446",
           "#A63446",
           "#A63446",
           "#A63446",
           "#A63446",
           "#A63446",
           "#A63446",
           "#A63446",
           "#A63446",
           "#A63446",
           "#A63446",
           "#A63446",
           "#A63446",
           "#A63446",
           "#A63446",
           "#A63446",
           "#A63446"
          ],
          "line": {
           "color": [
            "#A63446",
            "#A63446",
            "#A63446",
            "#A63446",
            "#A63446",
            "#A63446",
            "#A63446",
            "#A63446",
            "#A63446",
            "#A63446",
            "#A63446",
            "#A63446",
            "#A63446",
            "#A63446",
            "#A63446",
            "#A63446",
            "#A63446",
            "#A63446",
            "#A63446",
            "#A63446",
            "#A63446",
            "#A63446",
            "#A63446",
            "#A63446",
            "#A63446",
            "#A63446",
            "#A63446",
            "#A63446",
            "#A63446",
            "#A63446",
            "#A63446",
            "#A63446",
            "#A63446",
            "#A63446",
            "#A63446",
            "#A63446",
            "#A63446",
            "#A63446",
            "#A63446",
            "#A63446",
            "#A63446",
            "#A63446",
            "#A63446",
            "#A63446",
            "#A63446",
            "#A63446",
            "#A63446",
            "#A63446",
            "#A63446",
            "#A63446",
            "#A63446",
            "#A63446",
            "#A63446"
           ],
           "width": 2
          },
          "size": 14
         },
         "mode": "markers",
         "name": "Cluster 1",
         "text": [
          "Nonstop",
          "Elevate",
          "Im Upset",
          "8 Out of 10",
          "Mob Ties",
          "Cant Take a Joke",
          "Sandras Rose",
          "Talk Up",
          "Summer Games",
          "Nice For What",
          "Finesse",
          "Passionfruit",
          "Get It Together",
          "4422",
          "Sacrifices",
          "Lose You",
          "Faithful",
          "Still Here",
          "GRAMMYs",
          "Childs Play",
          "Pop Style",
          "Hotline Bling",
          "30 For 30 Freestyle",
          "Know Yourself",
          "No Tellin",
          "Wednesday Night Interlude",
          "Used To",
          "6 Man",
          "6PM In New York",
          "305 To My City",
          "Too Much",
          "Club Paradise",
          "Round of Applause",
          "On My Way",
          "Well Be Fine",
          "The Real Her",
          "Take Care",
          "Doing It Wrong",
          "Cameras",
          "Off That",
          "Take Care",
          "Well Be Fine",
          "Doing It Wrong",
          "The Real Her",
          "Ceces Interlude",
          "On My Way",
          "On My Way",
          "Feeling",
          "Rich Boy",
          "Sooner Than Later",
          "The Calm",
          "Say Whats Real",
          "Brand New"
         ],
         "type": "scatter",
         "x": [
          -0.22775361523019277,
          0.38054680866624463,
          0.35389504662639437,
          0.3277078459122436,
          -0.4042891854005611,
          0.3972470546765012,
          -0.694471801847282,
          -0.5070602107057072,
          0.4913544619987866,
          0.43684672360726223,
          0.6336802894215424,
          0.484722722029149,
          0.041913464796284786,
          0.702811542900245,
          -0.024386097015830617,
          0.5651985464287358,
          -0.5394755612346818,
          0.5126497381579244,
          0.5275181565417665,
          0.17094779316708947,
          -0.11827550604454552,
          0.5966238875224804,
          -0.09868205532177819,
          -0.28046256922357166,
          -0.5870579265538676,
          -0.5328629681992006,
          -0.2792209117040378,
          -0.6947726643873793,
          0.006207154030535542,
          -0.2614405340122449,
          -0.05158307989161359,
          0.13254414422331462,
          0.11315551183201153,
          -0.458317815360681,
          -0.3128237964736609,
          0.22893484137825734,
          0.3030287459485187,
          0.6645153878766002,
          0.6119408719878063,
          0.41105907838975797,
          0.30302874594851864,
          -0.3128237964736613,
          0.6645153878765888,
          0.22893484137825712,
          0.7034136707626018,
          -0.45831781536068084,
          -0.45831781536068084,
          0.050926115253598976,
          -0.32341535390589465,
          0.2286211396098926,
          0.17301518870959362,
          0.02873386775985761,
          0.6497270582117433
         ],
         "y": [
          -0.46195487403394553,
          -0.3040985272378667,
          -0.2121564090791962,
          -0.2629566397731063,
          -0.45340281119194664,
          -0.23582169721744958,
          0.39720758362320796,
          -0.1557720328595292,
          0.36055325671539745,
          -0.522319674628589,
          -0.22220585820683336,
          -0.06352327829294498,
          -0.6383885475519374,
          -0.3464263097591525,
          -0.2892631033632639,
          0.26913313027963975,
          0.09925585667777548,
          0.2806328253703907,
          -0.1785471183327796,
          -0.30472665597413606,
          -0.3445404745752512,
          0.17314156250560375,
          -0.2790866239564946,
          -0.5433945753897669,
          -0.1926472027712358,
          -0.07475749528084995,
          -0.003695213083024703,
          0.11205034384053857,
          -0.10045427938595727,
          0.6377833596498355,
          -0.14058609431368294,
          0.014230121791729175,
          -0.720593997634014,
          0.25875329901724525,
          0.0759438157588482,
          0.07300927663104465,
          0.06692313089317127,
          -0.03168170884677746,
          0.0902856038714369,
          -0.053624611792510025,
          0.06692313089317124,
          0.07594381575884829,
          -0.0316817088469296,
          0.07300927663104467,
          0.1614978020953891,
          0.25875329901724525,
          0.25875329901724514,
          -0.026275941388656465,
          -0.6871966493278536,
          0.235390407226711,
          -0.027618675192635275,
          0.010532155692548622,
          0.494550308404232
         ]
        },
        {
         "marker": {
          "color": [
           "#5FAD56",
           "#5FAD56",
           "#5FAD56",
           "#5FAD56",
           "#5FAD56",
           "#5FAD56",
           "#5FAD56",
           "#5FAD56",
           "#5FAD56",
           "#5FAD56",
           "#5FAD56",
           "#5FAD56",
           "#5FAD56",
           "#5FAD56",
           "#5FAD56",
           "#5FAD56",
           "#5FAD56",
           "#5FAD56",
           "#5FAD56",
           "#5FAD56",
           "#5FAD56",
           "#5FAD56",
           "#5FAD56",
           "#5FAD56",
           "#5FAD56",
           "#5FAD56",
           "#5FAD56",
           "#5FAD56",
           "#5FAD56",
           "#5FAD56",
           "#5FAD56",
           "#5FAD56",
           "#5FAD56",
           "#5FAD56",
           "#5FAD56",
           "#5FAD56",
           "#5FAD56",
           "#5FAD56",
           "#5FAD56",
           "#5FAD56",
           "#5FAD56",
           "#5FAD56",
           "#5FAD56",
           "#5FAD56",
           "#5FAD56",
           "#5FAD56",
           "#5FAD56",
           "#5FAD56",
           "#5FAD56",
           "#5FAD56",
           "#5FAD56",
           "#5FAD56",
           "#5FAD56",
           "#5FAD56",
           "#5FAD56",
           "#5FAD56",
           "#5FAD56",
           "#5FAD56",
           "#5FAD56",
           "#5FAD56",
           "#5FAD56",
           "#5FAD56",
           "#5FAD56",
           "#5FAD56",
           "#5FAD56",
           "#5FAD56",
           "#5FAD56",
           "#5FAD56"
          ],
          "line": {
           "color": [
            "#5FAD56",
            "#5FAD56",
            "#5FAD56",
            "#5FAD56",
            "#5FAD56",
            "#5FAD56",
            "#5FAD56",
            "#5FAD56",
            "#5FAD56",
            "#5FAD56",
            "#5FAD56",
            "#5FAD56",
            "#5FAD56",
            "#5FAD56",
            "#5FAD56",
            "#5FAD56",
            "#5FAD56",
            "#5FAD56",
            "#5FAD56",
            "#5FAD56",
            "#5FAD56",
            "#5FAD56",
            "#5FAD56",
            "#5FAD56",
            "#5FAD56",
            "#5FAD56",
            "#5FAD56",
            "#5FAD56",
            "#5FAD56",
            "#5FAD56",
            "#5FAD56",
            "#5FAD56",
            "#5FAD56",
            "#5FAD56",
            "#5FAD56",
            "#5FAD56",
            "#5FAD56",
            "#5FAD56",
            "#5FAD56",
            "#5FAD56",
            "#5FAD56",
            "#5FAD56",
            "#5FAD56",
            "#5FAD56",
            "#5FAD56",
            "#5FAD56",
            "#5FAD56",
            "#5FAD56",
            "#5FAD56",
            "#5FAD56",
            "#5FAD56",
            "#5FAD56",
            "#5FAD56",
            "#5FAD56",
            "#5FAD56",
            "#5FAD56",
            "#5FAD56",
            "#5FAD56",
            "#5FAD56",
            "#5FAD56",
            "#5FAD56",
            "#5FAD56",
            "#5FAD56",
            "#5FAD56",
            "#5FAD56",
            "#5FAD56",
            "#5FAD56",
            "#5FAD56"
           ],
           "width": 2
          },
          "size": 14
         },
         "mode": "markers",
         "name": "Cluster 2",
         "text": [
          "Survival",
          "Emotionless",
          "Gods Plan",
          "Is There More",
          "Free Smoke",
          "No Long Talk",
          "Jorja Interlude",
          "Portland",
          "Nothings Into Somethings",
          "KMT",
          "Cant Have Everything",
          "Keep The Family Close",
          "Feel No Ways",
          "Hype",
          "Weston Road Flows",
          "Too Good",
          "Views",
          "Big Rings",
          "Diamonds Dancing",
          "Im The Plug",
          "Jumpman",
          "Legend",
          "10 Bands",
          "6 God",
          "Preach",
          "Jungle",
          "My Side",
          "Furthest Thing",
          "Started From The Bottom",
          "Hold On Were Going Home",
          "Connect",
          "Drake Speaks",
          "Trust Issues",
          "Marvins Room",
          "Wildfire Remix",
          "Good Life",
          "Under Ground Kings",
          "The Ride",
          "Shot For Me",
          "Good Ones Go",
          "Poppin Bottles",
          "Look What Youve Done",
          "Shot For Me",
          "Under Ground Kings",
          "Look What Youve Done",
          "The Ride",
          "Fireworks",
          "The Resistance",
          "Find Your Love",
          "Show Me A Good Time",
          "Fancy",
          "Unforgettable",
          "Over",
          "Moment 4 Life",
          "Fall For Your Type",
          "Ghetto University",
          "The Usual",
          "Message From You",
          "Intro",
          "Faith",
          "Its Been A Pleasure",
          "Fancy Remix",
          "The Usual",
          "Interlude",
          "Lust For Life",
          "Uptown",
          "Houstatlantavegas",
          "Lets Call It Off"
         ],
         "type": "scatter",
         "x": [
          -0.47636039446096784,
          0.3655759669160489,
          0.7104265086840206,
          0.43131421406267395,
          -0.04540485325327397,
          -0.44296392531866097,
          -0.6204473725343986,
          -0.4998796826495815,
          0.6687764050953676,
          -0.38065322914847033,
          0.3758979178385203,
          0.47207769172868985,
          -0.49812482129547175,
          -0.28989080111436855,
          -0.11545544951241521,
          0.469239390030135,
          -0.24074031828072037,
          -0.3733326273524392,
          -0.14090511129207461,
          -0.4717606503785045,
          -0.5763572269568596,
          0.43056346106294646,
          -0.5458890681463541,
          -0.6714661603565935,
          -0.5129994045579161,
          0.3759407974645249,
          -0.3025196768371148,
          0.1840187430995081,
          -0.7344938564799609,
          0.4558667487797684,
          0.22456423610802034,
          -0.12023833607486413,
          -0.2902525159602499,
          0.06990890051698301,
          0.1203668888328132,
          -0.13772726999602045,
          0.3485810780837621,
          0.0008598472099110852,
          0.1295941603569684,
          0.3268891621077115,
          -0.2301920353783593,
          0.21359978691320083,
          0.1295941603569684,
          0.34858107808375816,
          0.213599786913201,
          0.0008598472074392987,
          0.21894783946757765,
          -0.06590162882889908,
          -0.08637192649996847,
          0.171370770428216,
          -0.23113216342414214,
          -0.11223522668872377,
          -0.07385365956001716,
          -0.6498446007351865,
          0.4305634610629468,
          0.40661263646758483,
          0.26430133750184676,
          0.340220777790316,
          0.6051842407664404,
          0.09057360522241799,
          0.4850163711631115,
          -0.09246076714092269,
          0.1966084647857066,
          -0.5631708816226481,
          0.008084491176179385,
          -0.30752735120307984,
          -0.21049811326759402,
          0.4974385655192129
         ],
         "y": [
          0.11880128972210996,
          0.07088688761175513,
          -0.14716124005171197,
          -0.32553941925980456,
          -0.2300815787148693,
          0.44492779629228535,
          -0.1156191417420068,
          0.16838934667263647,
          0.26678908701008075,
          0.4471749194597847,
          0.39599801474840396,
          0.09616065308951419,
          0.39092809336111106,
          0.22542548954448335,
          0.12035581032282404,
          0.1760047603764071,
          0.18515066739649622,
          -0.6532186284661142,
          0.32210627578597256,
          -0.5703647928951834,
          0.4676873685786504,
          0.07126653552217622,
          0.010870238041190814,
          0.058588495686703386,
          0.30656115110824467,
          0.41929238352898207,
          0.3149189493225218,
          -0.20888846390459312,
          0.24485742750474715,
          0.5773716217220068,
          -0.3240354109678186,
          -0.053352967349902525,
          -0.10312194004185134,
          0.2848196992659375,
          -0.13041038143200256,
          0.23387143916616088,
          0.19450934373526482,
          0.3668848904686514,
          0.1589453323494466,
          0.5822667191975157,
          -0.05440846064348524,
          -0.10355128792842369,
          0.15894533234944652,
          0.1945093437352734,
          -0.10355128792842357,
          0.3668848904685842,
          0.3052371380365863,
          0.19721420328081105,
          -0.8152740944972939,
          0.5309450129171647,
          0.5887313852310366,
          0.2281453098505741,
          0.3250949352495393,
          -0.09441746982739843,
          0.07126653552217554,
          0.34991139462560417,
          -0.43042116402998326,
          0.5097407357098676,
          -0.5913128526097445,
          -0.415748297255851,
          -0.40802467450506497,
          0.5334042873709566,
          0.3445085560831196,
          0.4752508100925273,
          0.4801210256721572,
          -0.39736181721559305,
          0.47954670065056737,
          0.30782540491331506
         ]
        },
        {
         "marker": {
          "color": [
           "#0C6291",
           "#0C6291",
           "#0C6291",
           "#0C6291",
           "#0C6291",
           "#0C6291",
           "#0C6291",
           "#0C6291",
           "#0C6291",
           "#0C6291",
           "#0C6291",
           "#0C6291",
           "#0C6291",
           "#0C6291",
           "#0C6291",
           "#0C6291",
           "#0C6291",
           "#0C6291",
           "#0C6291",
           "#0C6291",
           "#0C6291",
           "#0C6291",
           "#0C6291",
           "#0C6291",
           "#0C6291",
           "#0C6291",
           "#0C6291",
           "#0C6291",
           "#0C6291",
           "#0C6291",
           "#0C6291",
           "#0C6291",
           "#0C6291",
           "#0C6291",
           "#0C6291",
           "#0C6291",
           "#0C6291",
           "#0C6291",
           "#0C6291"
          ],
          "line": {
           "color": [
            "#0C6291",
            "#0C6291",
            "#0C6291",
            "#0C6291",
            "#0C6291",
            "#0C6291",
            "#0C6291",
            "#0C6291",
            "#0C6291",
            "#0C6291",
            "#0C6291",
            "#0C6291",
            "#0C6291",
            "#0C6291",
            "#0C6291",
            "#0C6291",
            "#0C6291",
            "#0C6291",
            "#0C6291",
            "#0C6291",
            "#0C6291",
            "#0C6291",
            "#0C6291",
            "#0C6291",
            "#0C6291",
            "#0C6291",
            "#0C6291",
            "#0C6291",
            "#0C6291",
            "#0C6291",
            "#0C6291",
            "#0C6291",
            "#0C6291",
            "#0C6291",
            "#0C6291",
            "#0C6291",
            "#0C6291",
            "#0C6291",
            "#0C6291"
           ],
           "width": 2
          },
          "size": 14
         },
         "mode": "markers",
         "name": "Cluster 3",
         "text": [
          "Jaded",
          "Ratchet Happy Birthday",
          "Thats How You Feel",
          "Blue Tint",
          "Madiba Riddim",
          "Blem",
          "Gyalchester",
          "Skepta Interlude",
          "Glow",
          "Fake Love",
          "U With Me",
          "Redemption",
          "Controlla",
          "One Dance",
          "Energy",
          "Tuscan Leather",
          "Own It",
          "Headlines",
          "Lord Knows",
          "Make Me Proud",
          "Over My Dead Body",
          "Headlines",
          "Over My Dead Body",
          "Headlines",
          "Make Me Proud",
          "Lord Knows",
          "Thank Me Now",
          "Im Ready For You",
          "I Get Lonely Too",
          "Deuces Remix",
          "Feel Love",
          "Try Harder",
          "Ready For You",
          "I Get Lonely",
          "Successful",
          "Little Bit",
          "November 18th",
          "Best I Ever Had",
          "Brias Interlude"
         ],
         "type": "scatter",
         "x": [
          0.1515142267671364,
          -0.08116349883396892,
          -0.14750584796674715,
          0.0013568611204064322,
          -0.26109787095960535,
          0.3412982902664281,
          0.2855657428845375,
          -0.5169490609583443,
          -0.1546439902254725,
          0.2250959662158887,
          -0.08922501641685834,
          0.3650513296190373,
          0.2696911991646087,
          0.2009132442722532,
          -0.3651263943745087,
          0.034026330904143975,
          -0.19227911423440264,
          0.046119887371782096,
          -0.20191969412392086,
          0.06217206756618041,
          -0.08669006112546951,
          0.04611988737178209,
          -0.0866900611254695,
          0.04611988737178209,
          0.06217206756618046,
          -0.2019196941239208,
          0.09151691009165908,
          -0.28090950475298226,
          0.015063983175980105,
          0.005350537247303836,
          0.16898621211997014,
          -0.5032594593038489,
          0.2755556173609676,
          0.010906869529644689,
          0.08422196641278573,
          0.3484146494832156,
          -0.2650523138882718,
          -0.4622707584260857,
          0.10175630060640438
         ],
         "y": [
          -0.6377993544013036,
          -0.5205845550381558,
          -0.4491665085802301,
          -0.4766434074071257,
          0.41787689118448545,
          -0.5111705559080063,
          -0.3471493371897271,
          0.035270355197388886,
          -0.1979522972907962,
          -0.5730619706256895,
          -0.489615149749273,
          -0.15810782218944422,
          -0.5158423597293845,
          -0.5041842801533085,
          -0.36746326383100303,
          -0.20420538341557173,
          -0.5045372124655987,
          -0.33023380654013,
          -0.2794167074359767,
          0.11808991294322241,
          0.05264471406635843,
          -0.33023380654013,
          0.05264471406635843,
          -0.33023380654013,
          0.1180899129432224,
          -0.27941670743597646,
          -0.2372951529059622,
          0.5142455432715174,
          -0.5358762799528978,
          0.030554315283772154,
          -0.5554194617597705,
          -0.4642252870034182,
          0.462169977306719,
          -0.5267138778576672,
          -0.623457040815424,
          -0.1176713322018767,
          -0.2917322946515832,
          -0.07590106205226255,
          -0.7608492622907921
         ]
        },
        {
         "marker": {
          "color": [
           "#F2C14E",
           "#F2C14E",
           "#F2C14E",
           "#F2C14E",
           "#F2C14E",
           "#F2C14E",
           "#F2C14E",
           "#F2C14E",
           "#F2C14E",
           "#F2C14E",
           "#F2C14E",
           "#F2C14E",
           "#F2C14E",
           "#F2C14E",
           "#F2C14E",
           "#F2C14E",
           "#F2C14E",
           "#F2C14E",
           "#F2C14E",
           "#F2C14E",
           "#F2C14E",
           "#F2C14E"
          ],
          "line": {
           "color": [
            "#F2C14E",
            "#F2C14E",
            "#F2C14E",
            "#F2C14E",
            "#F2C14E",
            "#F2C14E",
            "#F2C14E",
            "#F2C14E",
            "#F2C14E",
            "#F2C14E",
            "#F2C14E",
            "#F2C14E",
            "#F2C14E",
            "#F2C14E",
            "#F2C14E",
            "#F2C14E",
            "#F2C14E",
            "#F2C14E",
            "#F2C14E",
            "#F2C14E",
            "#F2C14E",
            "#F2C14E"
           ],
           "width": 2
          },
          "size": 14
         },
         "mode": "markers",
         "name": "Cluster 4",
         "text": [
          "Teenage Fever",
          "Digital Dash",
          "Live From The Gutter",
          "Scholarships",
          "Change Locations",
          "Jersey",
          "Worst Behaviour",
          "From Time",
          "The Language",
          "The Motto",
          "Free Spirit",
          "Dreams Money Can Buy",
          "Aston Martin Music",
          "Light Up",
          "Crew Love",
          "Light Up",
          "Up All Night",
          "Miss Me",
          "Loving You No More Remix",
          "Miss Me",
          "Unstoppable",
          "Ignorant Shit"
         ],
         "type": "scatter",
         "x": [
          0.501982082427575,
          -0.4683523612546092,
          -0.49834962085447654,
          -0.2734877277544744,
          -0.6023824350272389,
          -0.5930878544582359,
          0.4382008833250296,
          -0.01015611052490259,
          -0.24423251732210197,
          -0.46687146676954555,
          -0.23473282364091705,
          0.2885933461076088,
          -0.1752803764854435,
          -0.20018833552641976,
          0.5788538753871562,
          -0.2001883355264199,
          -0.463016265591671,
          -0.3568400185490684,
          0.6485804618647489,
          -0.3568390679990725,
          -0.421844743822514,
          -0.4035933802272443
         ],
         "y": [
          -0.045531913127880436,
          -0.2210097143686503,
          -0.27436801981967945,
          -0.4245866037681547,
          -0.4389393148888963,
          -0.2747149979960751,
          -0.22338484583961796,
          0.19453690582486213,
          0.09120157658171939,
          -0.3331295063782906,
          -0.1552153974905662,
          0.19128196935457747,
          -0.09324942252080122,
          -0.01302272952586725,
          -0.15704206446624067,
          -0.013022729525867255,
          -0.12981670681354052,
          -0.20917070136979846,
          -0.17320957808330834,
          -0.20917509033350398,
          0.011731144495239865,
          -0.12914360168293426
         ]
        },
        {
         "marker": {
          "color": [
           "#F78154",
           "#F78154",
           "#F78154",
           "#F78154",
           "#F78154",
           "#F78154",
           "#F78154",
           "#F78154",
           "#F78154",
           "#F78154",
           "#F78154",
           "#F78154",
           "#F78154",
           "#F78154",
           "#F78154",
           "#F78154"
          ],
          "line": {
           "color": [
            "#F78154",
            "#F78154",
            "#F78154",
            "#F78154",
            "#F78154",
            "#F78154",
            "#F78154",
            "#F78154",
            "#F78154",
            "#F78154",
            "#F78154",
            "#F78154",
            "#F78154",
            "#F78154",
            "#F78154",
            "#F78154"
           ],
           "width": 2
          },
          "size": 14
         },
         "mode": "markers",
         "name": "Cluster 5",
         "text": [
          "Peak",
          "Since Way Back",
          "With You",
          "Plastic Bag",
          "Madonna",
          "Company",
          "How About Now",
          "Hate Sleeping Alone",
          "Practice",
          "Practice",
          "Shut It Down",
          "What If I Kissed You",
          "With You",
          "With You",
          "What If I Kissed You",
          "A Night Off"
         ],
         "type": "scatter",
         "x": [
          0.14158537289066825,
          0.22701924559950118,
          0.08009013064094606,
          -0.10711542075670752,
          -0.3674534056677774,
          -0.09946579047504622,
          -0.3469852773048259,
          0.20430523766498285,
          -0.014659245855866806,
          -0.014659245855866867,
          -0.038122101226788274,
          0.15765046283172243,
          0.08009013064094588,
          0.08009013064094585,
          0.1576615828798852,
          -0.13980969449471126
         ],
         "y": [
          0.44529924767812096,
          0.49168907621913965,
          0.6211578938478264,
          0.7145412638115552,
          0.5387066719439364,
          0.49397400473181974,
          0.3746397722851229,
          0.4419341601519854,
          0.5805732010863782,
          0.580573201086378,
          0.45264425721546264,
          0.6780169105310246,
          0.6211578938478262,
          0.6211578938478264,
          0.678013554113712,
          0.5613891578824952
         ]
        }
       ],
       "layout": {
        "height": 700,
        "hovermode": "closest",
        "margin": {
         "b": 80,
         "l": 80,
         "r": 30,
         "t": 100
        },
        "showlegend": true,
        "title": "Song Clusters",
        "titlefont": {
         "size": 22
        },
        "width": 1000,
        "xaxis": {
         "showgrid": false,
         "showticklabels": false,
         "titlefont": {
          "size": 16
         },
         "zeroline": false
        },
        "yaxis": {
         "autorange": true,
         "gridcolor": "#BBC7A4",
         "gridwidth": 1,
         "showgrid": false,
         "showticklabels": false,
         "titlefont": {
          "size": 16
         },
         "zeroline": false,
         "zerolinecolor": "#BBC7A4",
         "zerolinewidth": 3
        }
       }
      },
      "text/html": [
       "<div id=\"8ddd4dc9-0445-4514-bed6-7570f57e3fe0\" style=\"height: 700px; width: 1000px;\" class=\"plotly-graph-div\"></div><script type=\"text/javascript\">require([\"plotly\"], function(Plotly) { window.PLOTLYENV=window.PLOTLYENV || {};window.PLOTLYENV.BASE_URL=\"https://plot.ly\";Plotly.newPlot(\"8ddd4dc9-0445-4514-bed6-7570f57e3fe0\", [{\"type\": \"scatter\", \"x\": [-0.22775361523019277, 0.38054680866624463, 0.35389504662639437, 0.3277078459122436, -0.4042891854005611, 0.3972470546765012, -0.694471801847282, -0.5070602107057072, 0.4913544619987866, 0.43684672360726223, 0.6336802894215424, 0.484722722029149, 0.041913464796284786, 0.702811542900245, -0.024386097015830617, 0.5651985464287358, -0.5394755612346818, 0.5126497381579244, 0.5275181565417665, 0.17094779316708947, -0.11827550604454552, 0.5966238875224804, -0.09868205532177819, -0.28046256922357166, -0.5870579265538676, -0.5328629681992006, -0.2792209117040378, -0.6947726643873793, 0.006207154030535542, -0.2614405340122449, -0.05158307989161359, 0.13254414422331462, 0.11315551183201153, -0.458317815360681, -0.3128237964736609, 0.22893484137825734, 0.3030287459485187, 0.6645153878766002, 0.6119408719878063, 0.41105907838975797, 0.30302874594851864, -0.3128237964736613, 0.6645153878765888, 0.22893484137825712, 0.7034136707626018, -0.45831781536068084, -0.45831781536068084, 0.050926115253598976, -0.32341535390589465, 0.2286211396098926, 0.17301518870959362, 0.02873386775985761, 0.6497270582117433], \"y\": [-0.46195487403394553, -0.3040985272378667, -0.2121564090791962, -0.2629566397731063, -0.45340281119194664, -0.23582169721744958, 0.39720758362320796, -0.1557720328595292, 0.36055325671539745, -0.522319674628589, -0.22220585820683336, -0.06352327829294498, -0.6383885475519374, -0.3464263097591525, -0.2892631033632639, 0.26913313027963975, 0.09925585667777548, 0.2806328253703907, -0.1785471183327796, -0.30472665597413606, -0.3445404745752512, 0.17314156250560375, -0.2790866239564946, -0.5433945753897669, -0.1926472027712358, -0.07475749528084995, -0.003695213083024703, 0.11205034384053857, -0.10045427938595727, 0.6377833596498355, -0.14058609431368294, 0.014230121791729175, -0.720593997634014, 0.25875329901724525, 0.0759438157588482, 0.07300927663104465, 0.06692313089317127, -0.03168170884677746, 0.0902856038714369, -0.053624611792510025, 0.06692313089317124, 0.07594381575884829, -0.0316817088469296, 0.07300927663104467, 0.1614978020953891, 0.25875329901724525, 0.25875329901724514, -0.026275941388656465, -0.6871966493278536, 0.235390407226711, -0.027618675192635275, 0.010532155692548622, 0.494550308404232], \"mode\": \"markers\", \"marker\": {\"size\": 14, \"color\": [\"#A63446\", \"#A63446\", \"#A63446\", \"#A63446\", \"#A63446\", \"#A63446\", \"#A63446\", \"#A63446\", \"#A63446\", \"#A63446\", \"#A63446\", \"#A63446\", \"#A63446\", \"#A63446\", \"#A63446\", \"#A63446\", \"#A63446\", \"#A63446\", \"#A63446\", \"#A63446\", \"#A63446\", \"#A63446\", \"#A63446\", \"#A63446\", \"#A63446\", \"#A63446\", \"#A63446\", \"#A63446\", \"#A63446\", \"#A63446\", \"#A63446\", \"#A63446\", \"#A63446\", \"#A63446\", \"#A63446\", \"#A63446\", \"#A63446\", \"#A63446\", \"#A63446\", \"#A63446\", \"#A63446\", \"#A63446\", \"#A63446\", \"#A63446\", \"#A63446\", \"#A63446\", \"#A63446\", \"#A63446\", \"#A63446\", \"#A63446\", \"#A63446\", \"#A63446\", \"#A63446\"], \"line\": {\"width\": 2, \"color\": [\"#A63446\", \"#A63446\", \"#A63446\", \"#A63446\", \"#A63446\", \"#A63446\", \"#A63446\", \"#A63446\", \"#A63446\", \"#A63446\", \"#A63446\", \"#A63446\", \"#A63446\", \"#A63446\", \"#A63446\", \"#A63446\", \"#A63446\", \"#A63446\", \"#A63446\", \"#A63446\", \"#A63446\", \"#A63446\", \"#A63446\", \"#A63446\", \"#A63446\", \"#A63446\", \"#A63446\", \"#A63446\", \"#A63446\", \"#A63446\", \"#A63446\", \"#A63446\", \"#A63446\", \"#A63446\", \"#A63446\", \"#A63446\", \"#A63446\", \"#A63446\", \"#A63446\", \"#A63446\", \"#A63446\", \"#A63446\", \"#A63446\", \"#A63446\", \"#A63446\", \"#A63446\", \"#A63446\", \"#A63446\", \"#A63446\", \"#A63446\", \"#A63446\", \"#A63446\", \"#A63446\"]}}, \"text\": [\"Nonstop\", \"Elevate\", \"Im Upset\", \"8 Out of 10\", \"Mob Ties\", \"Cant Take a Joke\", \"Sandras Rose\", \"Talk Up\", \"Summer Games\", \"Nice For What\", \"Finesse\", \"Passionfruit\", \"Get It Together\", \"4422\", \"Sacrifices\", \"Lose You\", \"Faithful\", \"Still Here\", \"GRAMMYs\", \"Childs Play\", \"Pop Style\", \"Hotline Bling\", \"30 For 30 Freestyle\", \"Know Yourself\", \"No Tellin\", \"Wednesday Night Interlude\", \"Used To\", \"6 Man\", \"6PM In New York\", \"305 To My City\", \"Too Much\", \"Club Paradise\", \"Round of Applause\", \"On My Way\", \"Well Be Fine\", \"The Real Her\", \"Take Care\", \"Doing It Wrong\", \"Cameras\", \"Off That\", \"Take Care\", \"Well Be Fine\", \"Doing It Wrong\", \"The Real Her\", \"Ceces Interlude\", \"On My Way\", \"On My Way\", \"Feeling\", \"Rich Boy\", \"Sooner Than Later\", \"The Calm\", \"Say Whats Real\", \"Brand New\"], \"name\": \"Cluster 1\"}, {\"type\": \"scatter\", \"x\": [-0.47636039446096784, 0.3655759669160489, 0.7104265086840206, 0.43131421406267395, -0.04540485325327397, -0.44296392531866097, -0.6204473725343986, -0.4998796826495815, 0.6687764050953676, -0.38065322914847033, 0.3758979178385203, 0.47207769172868985, -0.49812482129547175, -0.28989080111436855, -0.11545544951241521, 0.469239390030135, -0.24074031828072037, -0.3733326273524392, -0.14090511129207461, -0.4717606503785045, -0.5763572269568596, 0.43056346106294646, -0.5458890681463541, -0.6714661603565935, -0.5129994045579161, 0.3759407974645249, -0.3025196768371148, 0.1840187430995081, -0.7344938564799609, 0.4558667487797684, 0.22456423610802034, -0.12023833607486413, -0.2902525159602499, 0.06990890051698301, 0.1203668888328132, -0.13772726999602045, 0.3485810780837621, 0.0008598472099110852, 0.1295941603569684, 0.3268891621077115, -0.2301920353783593, 0.21359978691320083, 0.1295941603569684, 0.34858107808375816, 0.213599786913201, 0.0008598472074392987, 0.21894783946757765, -0.06590162882889908, -0.08637192649996847, 0.171370770428216, -0.23113216342414214, -0.11223522668872377, -0.07385365956001716, -0.6498446007351865, 0.4305634610629468, 0.40661263646758483, 0.26430133750184676, 0.340220777790316, 0.6051842407664404, 0.09057360522241799, 0.4850163711631115, -0.09246076714092269, 0.1966084647857066, -0.5631708816226481, 0.008084491176179385, -0.30752735120307984, -0.21049811326759402, 0.4974385655192129], \"y\": [0.11880128972210996, 0.07088688761175513, -0.14716124005171197, -0.32553941925980456, -0.2300815787148693, 0.44492779629228535, -0.1156191417420068, 0.16838934667263647, 0.26678908701008075, 0.4471749194597847, 0.39599801474840396, 0.09616065308951419, 0.39092809336111106, 0.22542548954448335, 0.12035581032282404, 0.1760047603764071, 0.18515066739649622, -0.6532186284661142, 0.32210627578597256, -0.5703647928951834, 0.4676873685786504, 0.07126653552217622, 0.010870238041190814, 0.058588495686703386, 0.30656115110824467, 0.41929238352898207, 0.3149189493225218, -0.20888846390459312, 0.24485742750474715, 0.5773716217220068, -0.3240354109678186, -0.053352967349902525, -0.10312194004185134, 0.2848196992659375, -0.13041038143200256, 0.23387143916616088, 0.19450934373526482, 0.3668848904686514, 0.1589453323494466, 0.5822667191975157, -0.05440846064348524, -0.10355128792842369, 0.15894533234944652, 0.1945093437352734, -0.10355128792842357, 0.3668848904685842, 0.3052371380365863, 0.19721420328081105, -0.8152740944972939, 0.5309450129171647, 0.5887313852310366, 0.2281453098505741, 0.3250949352495393, -0.09441746982739843, 0.07126653552217554, 0.34991139462560417, -0.43042116402998326, 0.5097407357098676, -0.5913128526097445, -0.415748297255851, -0.40802467450506497, 0.5334042873709566, 0.3445085560831196, 0.4752508100925273, 0.4801210256721572, -0.39736181721559305, 0.47954670065056737, 0.30782540491331506], \"mode\": \"markers\", \"marker\": {\"size\": 14, \"color\": [\"#5FAD56\", \"#5FAD56\", \"#5FAD56\", \"#5FAD56\", \"#5FAD56\", \"#5FAD56\", \"#5FAD56\", \"#5FAD56\", \"#5FAD56\", \"#5FAD56\", \"#5FAD56\", \"#5FAD56\", \"#5FAD56\", \"#5FAD56\", \"#5FAD56\", \"#5FAD56\", \"#5FAD56\", \"#5FAD56\", \"#5FAD56\", \"#5FAD56\", \"#5FAD56\", \"#5FAD56\", \"#5FAD56\", \"#5FAD56\", \"#5FAD56\", \"#5FAD56\", \"#5FAD56\", \"#5FAD56\", \"#5FAD56\", \"#5FAD56\", \"#5FAD56\", \"#5FAD56\", \"#5FAD56\", \"#5FAD56\", \"#5FAD56\", \"#5FAD56\", \"#5FAD56\", \"#5FAD56\", \"#5FAD56\", \"#5FAD56\", \"#5FAD56\", \"#5FAD56\", \"#5FAD56\", \"#5FAD56\", \"#5FAD56\", \"#5FAD56\", \"#5FAD56\", \"#5FAD56\", \"#5FAD56\", \"#5FAD56\", \"#5FAD56\", \"#5FAD56\", \"#5FAD56\", \"#5FAD56\", \"#5FAD56\", \"#5FAD56\", \"#5FAD56\", \"#5FAD56\", \"#5FAD56\", \"#5FAD56\", \"#5FAD56\", \"#5FAD56\", \"#5FAD56\", \"#5FAD56\", \"#5FAD56\", \"#5FAD56\", \"#5FAD56\", \"#5FAD56\"], \"line\": {\"width\": 2, \"color\": [\"#5FAD56\", \"#5FAD56\", \"#5FAD56\", \"#5FAD56\", \"#5FAD56\", \"#5FAD56\", \"#5FAD56\", \"#5FAD56\", \"#5FAD56\", \"#5FAD56\", \"#5FAD56\", \"#5FAD56\", \"#5FAD56\", \"#5FAD56\", \"#5FAD56\", \"#5FAD56\", \"#5FAD56\", \"#5FAD56\", \"#5FAD56\", \"#5FAD56\", \"#5FAD56\", \"#5FAD56\", \"#5FAD56\", \"#5FAD56\", \"#5FAD56\", \"#5FAD56\", \"#5FAD56\", \"#5FAD56\", \"#5FAD56\", \"#5FAD56\", \"#5FAD56\", \"#5FAD56\", \"#5FAD56\", \"#5FAD56\", \"#5FAD56\", \"#5FAD56\", \"#5FAD56\", \"#5FAD56\", \"#5FAD56\", \"#5FAD56\", \"#5FAD56\", \"#5FAD56\", \"#5FAD56\", \"#5FAD56\", \"#5FAD56\", \"#5FAD56\", \"#5FAD56\", \"#5FAD56\", \"#5FAD56\", \"#5FAD56\", \"#5FAD56\", \"#5FAD56\", \"#5FAD56\", \"#5FAD56\", \"#5FAD56\", \"#5FAD56\", \"#5FAD56\", \"#5FAD56\", \"#5FAD56\", \"#5FAD56\", \"#5FAD56\", \"#5FAD56\", \"#5FAD56\", \"#5FAD56\", \"#5FAD56\", \"#5FAD56\", \"#5FAD56\", \"#5FAD56\"]}}, \"text\": [\"Survival\", \"Emotionless\", \"Gods Plan\", \"Is There More\", \"Free Smoke\", \"No Long Talk\", \"Jorja Interlude\", \"Portland\", \"Nothings Into Somethings\", \"KMT\", \"Cant Have Everything\", \"Keep The Family Close\", \"Feel No Ways\", \"Hype\", \"Weston Road Flows\", \"Too Good\", \"Views\", \"Big Rings\", \"Diamonds Dancing\", \"Im The Plug\", \"Jumpman\", \"Legend\", \"10 Bands\", \"6 God\", \"Preach\", \"Jungle\", \"My Side\", \"Furthest Thing\", \"Started From The Bottom\", \"Hold On Were Going Home\", \"Connect\", \"Drake Speaks\", \"Trust Issues\", \"Marvins Room\", \"Wildfire Remix\", \"Good Life\", \"Under Ground Kings\", \"The Ride\", \"Shot For Me\", \"Good Ones Go\", \"Poppin Bottles\", \"Look What Youve Done\", \"Shot For Me\", \"Under Ground Kings\", \"Look What Youve Done\", \"The Ride\", \"Fireworks\", \"The Resistance\", \"Find Your Love\", \"Show Me A Good Time\", \"Fancy\", \"Unforgettable\", \"Over\", \"Moment 4 Life\", \"Fall For Your Type\", \"Ghetto University\", \"The Usual\", \"Message From You\", \"Intro\", \"Faith\", \"Its Been A Pleasure\", \"Fancy Remix\", \"The Usual\", \"Interlude\", \"Lust For Life\", \"Uptown\", \"Houstatlantavegas\", \"Lets Call It Off\"], \"name\": \"Cluster 2\"}, {\"type\": \"scatter\", \"x\": [0.1515142267671364, -0.08116349883396892, -0.14750584796674715, 0.0013568611204064322, -0.26109787095960535, 0.3412982902664281, 0.2855657428845375, -0.5169490609583443, -0.1546439902254725, 0.2250959662158887, -0.08922501641685834, 0.3650513296190373, 0.2696911991646087, 0.2009132442722532, -0.3651263943745087, 0.034026330904143975, -0.19227911423440264, 0.046119887371782096, -0.20191969412392086, 0.06217206756618041, -0.08669006112546951, 0.04611988737178209, -0.0866900611254695, 0.04611988737178209, 0.06217206756618046, -0.2019196941239208, 0.09151691009165908, -0.28090950475298226, 0.015063983175980105, 0.005350537247303836, 0.16898621211997014, -0.5032594593038489, 0.2755556173609676, 0.010906869529644689, 0.08422196641278573, 0.3484146494832156, -0.2650523138882718, -0.4622707584260857, 0.10175630060640438], \"y\": [-0.6377993544013036, -0.5205845550381558, -0.4491665085802301, -0.4766434074071257, 0.41787689118448545, -0.5111705559080063, -0.3471493371897271, 0.035270355197388886, -0.1979522972907962, -0.5730619706256895, -0.489615149749273, -0.15810782218944422, -0.5158423597293845, -0.5041842801533085, -0.36746326383100303, -0.20420538341557173, -0.5045372124655987, -0.33023380654013, -0.2794167074359767, 0.11808991294322241, 0.05264471406635843, -0.33023380654013, 0.05264471406635843, -0.33023380654013, 0.1180899129432224, -0.27941670743597646, -0.2372951529059622, 0.5142455432715174, -0.5358762799528978, 0.030554315283772154, -0.5554194617597705, -0.4642252870034182, 0.462169977306719, -0.5267138778576672, -0.623457040815424, -0.1176713322018767, -0.2917322946515832, -0.07590106205226255, -0.7608492622907921], \"mode\": \"markers\", \"marker\": {\"size\": 14, \"color\": [\"#0C6291\", \"#0C6291\", \"#0C6291\", \"#0C6291\", \"#0C6291\", \"#0C6291\", \"#0C6291\", \"#0C6291\", \"#0C6291\", \"#0C6291\", \"#0C6291\", \"#0C6291\", \"#0C6291\", \"#0C6291\", \"#0C6291\", \"#0C6291\", \"#0C6291\", \"#0C6291\", \"#0C6291\", \"#0C6291\", \"#0C6291\", \"#0C6291\", \"#0C6291\", \"#0C6291\", \"#0C6291\", \"#0C6291\", \"#0C6291\", \"#0C6291\", \"#0C6291\", \"#0C6291\", \"#0C6291\", \"#0C6291\", \"#0C6291\", \"#0C6291\", \"#0C6291\", \"#0C6291\", \"#0C6291\", \"#0C6291\", \"#0C6291\"], \"line\": {\"width\": 2, \"color\": [\"#0C6291\", \"#0C6291\", \"#0C6291\", \"#0C6291\", \"#0C6291\", \"#0C6291\", \"#0C6291\", \"#0C6291\", \"#0C6291\", \"#0C6291\", \"#0C6291\", \"#0C6291\", \"#0C6291\", \"#0C6291\", \"#0C6291\", \"#0C6291\", \"#0C6291\", \"#0C6291\", \"#0C6291\", \"#0C6291\", \"#0C6291\", \"#0C6291\", \"#0C6291\", \"#0C6291\", \"#0C6291\", \"#0C6291\", \"#0C6291\", \"#0C6291\", \"#0C6291\", \"#0C6291\", \"#0C6291\", \"#0C6291\", \"#0C6291\", \"#0C6291\", \"#0C6291\", \"#0C6291\", \"#0C6291\", \"#0C6291\", \"#0C6291\"]}}, \"text\": [\"Jaded\", \"Ratchet Happy Birthday\", \"Thats How You Feel\", \"Blue Tint\", \"Madiba Riddim\", \"Blem\", \"Gyalchester\", \"Skepta Interlude\", \"Glow\", \"Fake Love\", \"U With Me\", \"Redemption\", \"Controlla\", \"One Dance\", \"Energy\", \"Tuscan Leather\", \"Own It\", \"Headlines\", \"Lord Knows\", \"Make Me Proud\", \"Over My Dead Body\", \"Headlines\", \"Over My Dead Body\", \"Headlines\", \"Make Me Proud\", \"Lord Knows\", \"Thank Me Now\", \"Im Ready For You\", \"I Get Lonely Too\", \"Deuces Remix\", \"Feel Love\", \"Try Harder\", \"Ready For You\", \"I Get Lonely\", \"Successful\", \"Little Bit\", \"November 18th\", \"Best I Ever Had\", \"Brias Interlude\"], \"name\": \"Cluster 3\"}, {\"type\": \"scatter\", \"x\": [0.501982082427575, -0.4683523612546092, -0.49834962085447654, -0.2734877277544744, -0.6023824350272389, -0.5930878544582359, 0.4382008833250296, -0.01015611052490259, -0.24423251732210197, -0.46687146676954555, -0.23473282364091705, 0.2885933461076088, -0.1752803764854435, -0.20018833552641976, 0.5788538753871562, -0.2001883355264199, -0.463016265591671, -0.3568400185490684, 0.6485804618647489, -0.3568390679990725, -0.421844743822514, -0.4035933802272443], \"y\": [-0.045531913127880436, -0.2210097143686503, -0.27436801981967945, -0.4245866037681547, -0.4389393148888963, -0.2747149979960751, -0.22338484583961796, 0.19453690582486213, 0.09120157658171939, -0.3331295063782906, -0.1552153974905662, 0.19128196935457747, -0.09324942252080122, -0.01302272952586725, -0.15704206446624067, -0.013022729525867255, -0.12981670681354052, -0.20917070136979846, -0.17320957808330834, -0.20917509033350398, 0.011731144495239865, -0.12914360168293426], \"mode\": \"markers\", \"marker\": {\"size\": 14, \"color\": [\"#F2C14E\", \"#F2C14E\", \"#F2C14E\", \"#F2C14E\", \"#F2C14E\", \"#F2C14E\", \"#F2C14E\", \"#F2C14E\", \"#F2C14E\", \"#F2C14E\", \"#F2C14E\", \"#F2C14E\", \"#F2C14E\", \"#F2C14E\", \"#F2C14E\", \"#F2C14E\", \"#F2C14E\", \"#F2C14E\", \"#F2C14E\", \"#F2C14E\", \"#F2C14E\", \"#F2C14E\"], \"line\": {\"width\": 2, \"color\": [\"#F2C14E\", \"#F2C14E\", \"#F2C14E\", \"#F2C14E\", \"#F2C14E\", \"#F2C14E\", \"#F2C14E\", \"#F2C14E\", \"#F2C14E\", \"#F2C14E\", \"#F2C14E\", \"#F2C14E\", \"#F2C14E\", \"#F2C14E\", \"#F2C14E\", \"#F2C14E\", \"#F2C14E\", \"#F2C14E\", \"#F2C14E\", \"#F2C14E\", \"#F2C14E\", \"#F2C14E\"]}}, \"text\": [\"Teenage Fever\", \"Digital Dash\", \"Live From The Gutter\", \"Scholarships\", \"Change Locations\", \"Jersey\", \"Worst Behaviour\", \"From Time\", \"The Language\", \"The Motto\", \"Free Spirit\", \"Dreams Money Can Buy\", \"Aston Martin Music\", \"Light Up\", \"Crew Love\", \"Light Up\", \"Up All Night\", \"Miss Me\", \"Loving You No More Remix\", \"Miss Me\", \"Unstoppable\", \"Ignorant Shit\"], \"name\": \"Cluster 4\"}, {\"type\": \"scatter\", \"x\": [0.14158537289066825, 0.22701924559950118, 0.08009013064094606, -0.10711542075670752, -0.3674534056677774, -0.09946579047504622, -0.3469852773048259, 0.20430523766498285, -0.014659245855866806, -0.014659245855866867, -0.038122101226788274, 0.15765046283172243, 0.08009013064094588, 0.08009013064094585, 0.1576615828798852, -0.13980969449471126], \"y\": [0.44529924767812096, 0.49168907621913965, 0.6211578938478264, 0.7145412638115552, 0.5387066719439364, 0.49397400473181974, 0.3746397722851229, 0.4419341601519854, 0.5805732010863782, 0.580573201086378, 0.45264425721546264, 0.6780169105310246, 0.6211578938478262, 0.6211578938478264, 0.678013554113712, 0.5613891578824952], \"mode\": \"markers\", \"marker\": {\"size\": 14, \"color\": [\"#F78154\", \"#F78154\", \"#F78154\", \"#F78154\", \"#F78154\", \"#F78154\", \"#F78154\", \"#F78154\", \"#F78154\", \"#F78154\", \"#F78154\", \"#F78154\", \"#F78154\", \"#F78154\", \"#F78154\", \"#F78154\"], \"line\": {\"width\": 2, \"color\": [\"#F78154\", \"#F78154\", \"#F78154\", \"#F78154\", \"#F78154\", \"#F78154\", \"#F78154\", \"#F78154\", \"#F78154\", \"#F78154\", \"#F78154\", \"#F78154\", \"#F78154\", \"#F78154\", \"#F78154\", \"#F78154\"]}}, \"text\": [\"Peak\", \"Since Way Back\", \"With You\", \"Plastic Bag\", \"Madonna\", \"Company\", \"How About Now\", \"Hate Sleeping Alone\", \"Practice\", \"Practice\", \"Shut It Down\", \"What If I Kissed You\", \"With You\", \"With You\", \"What If I Kissed You\", \"A Night Off\"], \"name\": \"Cluster 5\"}], {\"width\": 1000, \"height\": 700, \"title\": \"Song Clusters\", \"hovermode\": \"closest\", \"titlefont\": {\"size\": 22}, \"xaxis\": {\"titlefont\": {\"size\": 16}, \"showgrid\": false, \"showticklabels\": false, \"zeroline\": false}, \"yaxis\": {\"titlefont\": {\"size\": 16}, \"autorange\": true, \"showgrid\": false, \"showticklabels\": false, \"zeroline\": false, \"gridcolor\": \"#BBC7A4\", \"gridwidth\": 1, \"zerolinecolor\": \"#BBC7A4\", \"zerolinewidth\": 3}, \"margin\": {\"l\": 80, \"r\": 30, \"b\": 80, \"t\": 100}, \"showlegend\": true}, {\"showLink\": true, \"linkText\": \"Export to plot.ly\"})});</script>"
      ],
      "text/vnd.plotly.v1+html": [
       "<div id=\"8ddd4dc9-0445-4514-bed6-7570f57e3fe0\" style=\"height: 700px; width: 1000px;\" class=\"plotly-graph-div\"></div><script type=\"text/javascript\">require([\"plotly\"], function(Plotly) { window.PLOTLYENV=window.PLOTLYENV || {};window.PLOTLYENV.BASE_URL=\"https://plot.ly\";Plotly.newPlot(\"8ddd4dc9-0445-4514-bed6-7570f57e3fe0\", [{\"type\": \"scatter\", \"x\": [-0.22775361523019277, 0.38054680866624463, 0.35389504662639437, 0.3277078459122436, -0.4042891854005611, 0.3972470546765012, -0.694471801847282, -0.5070602107057072, 0.4913544619987866, 0.43684672360726223, 0.6336802894215424, 0.484722722029149, 0.041913464796284786, 0.702811542900245, -0.024386097015830617, 0.5651985464287358, -0.5394755612346818, 0.5126497381579244, 0.5275181565417665, 0.17094779316708947, -0.11827550604454552, 0.5966238875224804, -0.09868205532177819, -0.28046256922357166, -0.5870579265538676, -0.5328629681992006, -0.2792209117040378, -0.6947726643873793, 0.006207154030535542, -0.2614405340122449, -0.05158307989161359, 0.13254414422331462, 0.11315551183201153, -0.458317815360681, -0.3128237964736609, 0.22893484137825734, 0.3030287459485187, 0.6645153878766002, 0.6119408719878063, 0.41105907838975797, 0.30302874594851864, -0.3128237964736613, 0.6645153878765888, 0.22893484137825712, 0.7034136707626018, -0.45831781536068084, -0.45831781536068084, 0.050926115253598976, -0.32341535390589465, 0.2286211396098926, 0.17301518870959362, 0.02873386775985761, 0.6497270582117433], \"y\": [-0.46195487403394553, -0.3040985272378667, -0.2121564090791962, -0.2629566397731063, -0.45340281119194664, -0.23582169721744958, 0.39720758362320796, -0.1557720328595292, 0.36055325671539745, -0.522319674628589, -0.22220585820683336, -0.06352327829294498, -0.6383885475519374, -0.3464263097591525, -0.2892631033632639, 0.26913313027963975, 0.09925585667777548, 0.2806328253703907, -0.1785471183327796, -0.30472665597413606, -0.3445404745752512, 0.17314156250560375, -0.2790866239564946, -0.5433945753897669, -0.1926472027712358, -0.07475749528084995, -0.003695213083024703, 0.11205034384053857, -0.10045427938595727, 0.6377833596498355, -0.14058609431368294, 0.014230121791729175, -0.720593997634014, 0.25875329901724525, 0.0759438157588482, 0.07300927663104465, 0.06692313089317127, -0.03168170884677746, 0.0902856038714369, -0.053624611792510025, 0.06692313089317124, 0.07594381575884829, -0.0316817088469296, 0.07300927663104467, 0.1614978020953891, 0.25875329901724525, 0.25875329901724514, -0.026275941388656465, -0.6871966493278536, 0.235390407226711, -0.027618675192635275, 0.010532155692548622, 0.494550308404232], \"mode\": \"markers\", \"marker\": {\"size\": 14, \"color\": [\"#A63446\", \"#A63446\", \"#A63446\", \"#A63446\", \"#A63446\", \"#A63446\", \"#A63446\", \"#A63446\", \"#A63446\", \"#A63446\", \"#A63446\", \"#A63446\", \"#A63446\", \"#A63446\", \"#A63446\", \"#A63446\", \"#A63446\", \"#A63446\", \"#A63446\", \"#A63446\", \"#A63446\", \"#A63446\", \"#A63446\", \"#A63446\", \"#A63446\", \"#A63446\", \"#A63446\", \"#A63446\", \"#A63446\", \"#A63446\", \"#A63446\", \"#A63446\", \"#A63446\", \"#A63446\", \"#A63446\", \"#A63446\", \"#A63446\", \"#A63446\", \"#A63446\", \"#A63446\", \"#A63446\", \"#A63446\", \"#A63446\", \"#A63446\", \"#A63446\", \"#A63446\", \"#A63446\", \"#A63446\", \"#A63446\", \"#A63446\", \"#A63446\", \"#A63446\", \"#A63446\"], \"line\": {\"width\": 2, \"color\": [\"#A63446\", \"#A63446\", \"#A63446\", \"#A63446\", \"#A63446\", \"#A63446\", \"#A63446\", \"#A63446\", \"#A63446\", \"#A63446\", \"#A63446\", \"#A63446\", \"#A63446\", \"#A63446\", \"#A63446\", \"#A63446\", \"#A63446\", \"#A63446\", \"#A63446\", \"#A63446\", \"#A63446\", \"#A63446\", \"#A63446\", \"#A63446\", \"#A63446\", \"#A63446\", \"#A63446\", \"#A63446\", \"#A63446\", \"#A63446\", \"#A63446\", \"#A63446\", \"#A63446\", \"#A63446\", \"#A63446\", \"#A63446\", \"#A63446\", \"#A63446\", \"#A63446\", \"#A63446\", \"#A63446\", \"#A63446\", \"#A63446\", \"#A63446\", \"#A63446\", \"#A63446\", \"#A63446\", \"#A63446\", \"#A63446\", \"#A63446\", \"#A63446\", \"#A63446\", \"#A63446\"]}}, \"text\": [\"Nonstop\", \"Elevate\", \"Im Upset\", \"8 Out of 10\", \"Mob Ties\", \"Cant Take a Joke\", \"Sandras Rose\", \"Talk Up\", \"Summer Games\", \"Nice For What\", \"Finesse\", \"Passionfruit\", \"Get It Together\", \"4422\", \"Sacrifices\", \"Lose You\", \"Faithful\", \"Still Here\", \"GRAMMYs\", \"Childs Play\", \"Pop Style\", \"Hotline Bling\", \"30 For 30 Freestyle\", \"Know Yourself\", \"No Tellin\", \"Wednesday Night Interlude\", \"Used To\", \"6 Man\", \"6PM In New York\", \"305 To My City\", \"Too Much\", \"Club Paradise\", \"Round of Applause\", \"On My Way\", \"Well Be Fine\", \"The Real Her\", \"Take Care\", \"Doing It Wrong\", \"Cameras\", \"Off That\", \"Take Care\", \"Well Be Fine\", \"Doing It Wrong\", \"The Real Her\", \"Ceces Interlude\", \"On My Way\", \"On My Way\", \"Feeling\", \"Rich Boy\", \"Sooner Than Later\", \"The Calm\", \"Say Whats Real\", \"Brand New\"], \"name\": \"Cluster 1\"}, {\"type\": \"scatter\", \"x\": [-0.47636039446096784, 0.3655759669160489, 0.7104265086840206, 0.43131421406267395, -0.04540485325327397, -0.44296392531866097, -0.6204473725343986, -0.4998796826495815, 0.6687764050953676, -0.38065322914847033, 0.3758979178385203, 0.47207769172868985, -0.49812482129547175, -0.28989080111436855, -0.11545544951241521, 0.469239390030135, -0.24074031828072037, -0.3733326273524392, -0.14090511129207461, -0.4717606503785045, -0.5763572269568596, 0.43056346106294646, -0.5458890681463541, -0.6714661603565935, -0.5129994045579161, 0.3759407974645249, -0.3025196768371148, 0.1840187430995081, -0.7344938564799609, 0.4558667487797684, 0.22456423610802034, -0.12023833607486413, -0.2902525159602499, 0.06990890051698301, 0.1203668888328132, -0.13772726999602045, 0.3485810780837621, 0.0008598472099110852, 0.1295941603569684, 0.3268891621077115, -0.2301920353783593, 0.21359978691320083, 0.1295941603569684, 0.34858107808375816, 0.213599786913201, 0.0008598472074392987, 0.21894783946757765, -0.06590162882889908, -0.08637192649996847, 0.171370770428216, -0.23113216342414214, -0.11223522668872377, -0.07385365956001716, -0.6498446007351865, 0.4305634610629468, 0.40661263646758483, 0.26430133750184676, 0.340220777790316, 0.6051842407664404, 0.09057360522241799, 0.4850163711631115, -0.09246076714092269, 0.1966084647857066, -0.5631708816226481, 0.008084491176179385, -0.30752735120307984, -0.21049811326759402, 0.4974385655192129], \"y\": [0.11880128972210996, 0.07088688761175513, -0.14716124005171197, -0.32553941925980456, -0.2300815787148693, 0.44492779629228535, -0.1156191417420068, 0.16838934667263647, 0.26678908701008075, 0.4471749194597847, 0.39599801474840396, 0.09616065308951419, 0.39092809336111106, 0.22542548954448335, 0.12035581032282404, 0.1760047603764071, 0.18515066739649622, -0.6532186284661142, 0.32210627578597256, -0.5703647928951834, 0.4676873685786504, 0.07126653552217622, 0.010870238041190814, 0.058588495686703386, 0.30656115110824467, 0.41929238352898207, 0.3149189493225218, -0.20888846390459312, 0.24485742750474715, 0.5773716217220068, -0.3240354109678186, -0.053352967349902525, -0.10312194004185134, 0.2848196992659375, -0.13041038143200256, 0.23387143916616088, 0.19450934373526482, 0.3668848904686514, 0.1589453323494466, 0.5822667191975157, -0.05440846064348524, -0.10355128792842369, 0.15894533234944652, 0.1945093437352734, -0.10355128792842357, 0.3668848904685842, 0.3052371380365863, 0.19721420328081105, -0.8152740944972939, 0.5309450129171647, 0.5887313852310366, 0.2281453098505741, 0.3250949352495393, -0.09441746982739843, 0.07126653552217554, 0.34991139462560417, -0.43042116402998326, 0.5097407357098676, -0.5913128526097445, -0.415748297255851, -0.40802467450506497, 0.5334042873709566, 0.3445085560831196, 0.4752508100925273, 0.4801210256721572, -0.39736181721559305, 0.47954670065056737, 0.30782540491331506], \"mode\": \"markers\", \"marker\": {\"size\": 14, \"color\": [\"#5FAD56\", \"#5FAD56\", \"#5FAD56\", \"#5FAD56\", \"#5FAD56\", \"#5FAD56\", \"#5FAD56\", \"#5FAD56\", \"#5FAD56\", \"#5FAD56\", \"#5FAD56\", \"#5FAD56\", \"#5FAD56\", \"#5FAD56\", \"#5FAD56\", \"#5FAD56\", \"#5FAD56\", \"#5FAD56\", \"#5FAD56\", \"#5FAD56\", \"#5FAD56\", \"#5FAD56\", \"#5FAD56\", \"#5FAD56\", \"#5FAD56\", \"#5FAD56\", \"#5FAD56\", \"#5FAD56\", \"#5FAD56\", \"#5FAD56\", \"#5FAD56\", \"#5FAD56\", \"#5FAD56\", \"#5FAD56\", \"#5FAD56\", \"#5FAD56\", \"#5FAD56\", \"#5FAD56\", \"#5FAD56\", \"#5FAD56\", \"#5FAD56\", \"#5FAD56\", \"#5FAD56\", \"#5FAD56\", \"#5FAD56\", \"#5FAD56\", \"#5FAD56\", \"#5FAD56\", \"#5FAD56\", \"#5FAD56\", \"#5FAD56\", \"#5FAD56\", \"#5FAD56\", \"#5FAD56\", \"#5FAD56\", \"#5FAD56\", \"#5FAD56\", \"#5FAD56\", \"#5FAD56\", \"#5FAD56\", \"#5FAD56\", \"#5FAD56\", \"#5FAD56\", \"#5FAD56\", \"#5FAD56\", \"#5FAD56\", \"#5FAD56\", \"#5FAD56\"], \"line\": {\"width\": 2, \"color\": [\"#5FAD56\", \"#5FAD56\", \"#5FAD56\", \"#5FAD56\", \"#5FAD56\", \"#5FAD56\", \"#5FAD56\", \"#5FAD56\", \"#5FAD56\", \"#5FAD56\", \"#5FAD56\", \"#5FAD56\", \"#5FAD56\", \"#5FAD56\", \"#5FAD56\", \"#5FAD56\", \"#5FAD56\", \"#5FAD56\", \"#5FAD56\", \"#5FAD56\", \"#5FAD56\", \"#5FAD56\", \"#5FAD56\", \"#5FAD56\", \"#5FAD56\", \"#5FAD56\", \"#5FAD56\", \"#5FAD56\", \"#5FAD56\", \"#5FAD56\", \"#5FAD56\", \"#5FAD56\", \"#5FAD56\", \"#5FAD56\", \"#5FAD56\", \"#5FAD56\", \"#5FAD56\", \"#5FAD56\", \"#5FAD56\", \"#5FAD56\", \"#5FAD56\", \"#5FAD56\", \"#5FAD56\", \"#5FAD56\", \"#5FAD56\", \"#5FAD56\", \"#5FAD56\", \"#5FAD56\", \"#5FAD56\", \"#5FAD56\", \"#5FAD56\", \"#5FAD56\", \"#5FAD56\", \"#5FAD56\", \"#5FAD56\", \"#5FAD56\", \"#5FAD56\", \"#5FAD56\", \"#5FAD56\", \"#5FAD56\", \"#5FAD56\", \"#5FAD56\", \"#5FAD56\", \"#5FAD56\", \"#5FAD56\", \"#5FAD56\", \"#5FAD56\", \"#5FAD56\"]}}, \"text\": [\"Survival\", \"Emotionless\", \"Gods Plan\", \"Is There More\", \"Free Smoke\", \"No Long Talk\", \"Jorja Interlude\", \"Portland\", \"Nothings Into Somethings\", \"KMT\", \"Cant Have Everything\", \"Keep The Family Close\", \"Feel No Ways\", \"Hype\", \"Weston Road Flows\", \"Too Good\", \"Views\", \"Big Rings\", \"Diamonds Dancing\", \"Im The Plug\", \"Jumpman\", \"Legend\", \"10 Bands\", \"6 God\", \"Preach\", \"Jungle\", \"My Side\", \"Furthest Thing\", \"Started From The Bottom\", \"Hold On Were Going Home\", \"Connect\", \"Drake Speaks\", \"Trust Issues\", \"Marvins Room\", \"Wildfire Remix\", \"Good Life\", \"Under Ground Kings\", \"The Ride\", \"Shot For Me\", \"Good Ones Go\", \"Poppin Bottles\", \"Look What Youve Done\", \"Shot For Me\", \"Under Ground Kings\", \"Look What Youve Done\", \"The Ride\", \"Fireworks\", \"The Resistance\", \"Find Your Love\", \"Show Me A Good Time\", \"Fancy\", \"Unforgettable\", \"Over\", \"Moment 4 Life\", \"Fall For Your Type\", \"Ghetto University\", \"The Usual\", \"Message From You\", \"Intro\", \"Faith\", \"Its Been A Pleasure\", \"Fancy Remix\", \"The Usual\", \"Interlude\", \"Lust For Life\", \"Uptown\", \"Houstatlantavegas\", \"Lets Call It Off\"], \"name\": \"Cluster 2\"}, {\"type\": \"scatter\", \"x\": [0.1515142267671364, -0.08116349883396892, -0.14750584796674715, 0.0013568611204064322, -0.26109787095960535, 0.3412982902664281, 0.2855657428845375, -0.5169490609583443, -0.1546439902254725, 0.2250959662158887, -0.08922501641685834, 0.3650513296190373, 0.2696911991646087, 0.2009132442722532, -0.3651263943745087, 0.034026330904143975, -0.19227911423440264, 0.046119887371782096, -0.20191969412392086, 0.06217206756618041, -0.08669006112546951, 0.04611988737178209, -0.0866900611254695, 0.04611988737178209, 0.06217206756618046, -0.2019196941239208, 0.09151691009165908, -0.28090950475298226, 0.015063983175980105, 0.005350537247303836, 0.16898621211997014, -0.5032594593038489, 0.2755556173609676, 0.010906869529644689, 0.08422196641278573, 0.3484146494832156, -0.2650523138882718, -0.4622707584260857, 0.10175630060640438], \"y\": [-0.6377993544013036, -0.5205845550381558, -0.4491665085802301, -0.4766434074071257, 0.41787689118448545, -0.5111705559080063, -0.3471493371897271, 0.035270355197388886, -0.1979522972907962, -0.5730619706256895, -0.489615149749273, -0.15810782218944422, -0.5158423597293845, -0.5041842801533085, -0.36746326383100303, -0.20420538341557173, -0.5045372124655987, -0.33023380654013, -0.2794167074359767, 0.11808991294322241, 0.05264471406635843, -0.33023380654013, 0.05264471406635843, -0.33023380654013, 0.1180899129432224, -0.27941670743597646, -0.2372951529059622, 0.5142455432715174, -0.5358762799528978, 0.030554315283772154, -0.5554194617597705, -0.4642252870034182, 0.462169977306719, -0.5267138778576672, -0.623457040815424, -0.1176713322018767, -0.2917322946515832, -0.07590106205226255, -0.7608492622907921], \"mode\": \"markers\", \"marker\": {\"size\": 14, \"color\": [\"#0C6291\", \"#0C6291\", \"#0C6291\", \"#0C6291\", \"#0C6291\", \"#0C6291\", \"#0C6291\", \"#0C6291\", \"#0C6291\", \"#0C6291\", \"#0C6291\", \"#0C6291\", \"#0C6291\", \"#0C6291\", \"#0C6291\", \"#0C6291\", \"#0C6291\", \"#0C6291\", \"#0C6291\", \"#0C6291\", \"#0C6291\", \"#0C6291\", \"#0C6291\", \"#0C6291\", \"#0C6291\", \"#0C6291\", \"#0C6291\", \"#0C6291\", \"#0C6291\", \"#0C6291\", \"#0C6291\", \"#0C6291\", \"#0C6291\", \"#0C6291\", \"#0C6291\", \"#0C6291\", \"#0C6291\", \"#0C6291\", \"#0C6291\"], \"line\": {\"width\": 2, \"color\": [\"#0C6291\", \"#0C6291\", \"#0C6291\", \"#0C6291\", \"#0C6291\", \"#0C6291\", \"#0C6291\", \"#0C6291\", \"#0C6291\", \"#0C6291\", \"#0C6291\", \"#0C6291\", \"#0C6291\", \"#0C6291\", \"#0C6291\", \"#0C6291\", \"#0C6291\", \"#0C6291\", \"#0C6291\", \"#0C6291\", \"#0C6291\", \"#0C6291\", \"#0C6291\", \"#0C6291\", \"#0C6291\", \"#0C6291\", \"#0C6291\", \"#0C6291\", \"#0C6291\", \"#0C6291\", \"#0C6291\", \"#0C6291\", \"#0C6291\", \"#0C6291\", \"#0C6291\", \"#0C6291\", \"#0C6291\", \"#0C6291\", \"#0C6291\"]}}, \"text\": [\"Jaded\", \"Ratchet Happy Birthday\", \"Thats How You Feel\", \"Blue Tint\", \"Madiba Riddim\", \"Blem\", \"Gyalchester\", \"Skepta Interlude\", \"Glow\", \"Fake Love\", \"U With Me\", \"Redemption\", \"Controlla\", \"One Dance\", \"Energy\", \"Tuscan Leather\", \"Own It\", \"Headlines\", \"Lord Knows\", \"Make Me Proud\", \"Over My Dead Body\", \"Headlines\", \"Over My Dead Body\", \"Headlines\", \"Make Me Proud\", \"Lord Knows\", \"Thank Me Now\", \"Im Ready For You\", \"I Get Lonely Too\", \"Deuces Remix\", \"Feel Love\", \"Try Harder\", \"Ready For You\", \"I Get Lonely\", \"Successful\", \"Little Bit\", \"November 18th\", \"Best I Ever Had\", \"Brias Interlude\"], \"name\": \"Cluster 3\"}, {\"type\": \"scatter\", \"x\": [0.501982082427575, -0.4683523612546092, -0.49834962085447654, -0.2734877277544744, -0.6023824350272389, -0.5930878544582359, 0.4382008833250296, -0.01015611052490259, -0.24423251732210197, -0.46687146676954555, -0.23473282364091705, 0.2885933461076088, -0.1752803764854435, -0.20018833552641976, 0.5788538753871562, -0.2001883355264199, -0.463016265591671, -0.3568400185490684, 0.6485804618647489, -0.3568390679990725, -0.421844743822514, -0.4035933802272443], \"y\": [-0.045531913127880436, -0.2210097143686503, -0.27436801981967945, -0.4245866037681547, -0.4389393148888963, -0.2747149979960751, -0.22338484583961796, 0.19453690582486213, 0.09120157658171939, -0.3331295063782906, -0.1552153974905662, 0.19128196935457747, -0.09324942252080122, -0.01302272952586725, -0.15704206446624067, -0.013022729525867255, -0.12981670681354052, -0.20917070136979846, -0.17320957808330834, -0.20917509033350398, 0.011731144495239865, -0.12914360168293426], \"mode\": \"markers\", \"marker\": {\"size\": 14, \"color\": [\"#F2C14E\", \"#F2C14E\", \"#F2C14E\", \"#F2C14E\", \"#F2C14E\", \"#F2C14E\", \"#F2C14E\", \"#F2C14E\", \"#F2C14E\", \"#F2C14E\", \"#F2C14E\", \"#F2C14E\", \"#F2C14E\", \"#F2C14E\", \"#F2C14E\", \"#F2C14E\", \"#F2C14E\", \"#F2C14E\", \"#F2C14E\", \"#F2C14E\", \"#F2C14E\", \"#F2C14E\"], \"line\": {\"width\": 2, \"color\": [\"#F2C14E\", \"#F2C14E\", \"#F2C14E\", \"#F2C14E\", \"#F2C14E\", \"#F2C14E\", \"#F2C14E\", \"#F2C14E\", \"#F2C14E\", \"#F2C14E\", \"#F2C14E\", \"#F2C14E\", \"#F2C14E\", \"#F2C14E\", \"#F2C14E\", \"#F2C14E\", \"#F2C14E\", \"#F2C14E\", \"#F2C14E\", \"#F2C14E\", \"#F2C14E\", \"#F2C14E\"]}}, \"text\": [\"Teenage Fever\", \"Digital Dash\", \"Live From The Gutter\", \"Scholarships\", \"Change Locations\", \"Jersey\", \"Worst Behaviour\", \"From Time\", \"The Language\", \"The Motto\", \"Free Spirit\", \"Dreams Money Can Buy\", \"Aston Martin Music\", \"Light Up\", \"Crew Love\", \"Light Up\", \"Up All Night\", \"Miss Me\", \"Loving You No More Remix\", \"Miss Me\", \"Unstoppable\", \"Ignorant Shit\"], \"name\": \"Cluster 4\"}, {\"type\": \"scatter\", \"x\": [0.14158537289066825, 0.22701924559950118, 0.08009013064094606, -0.10711542075670752, -0.3674534056677774, -0.09946579047504622, -0.3469852773048259, 0.20430523766498285, -0.014659245855866806, -0.014659245855866867, -0.038122101226788274, 0.15765046283172243, 0.08009013064094588, 0.08009013064094585, 0.1576615828798852, -0.13980969449471126], \"y\": [0.44529924767812096, 0.49168907621913965, 0.6211578938478264, 0.7145412638115552, 0.5387066719439364, 0.49397400473181974, 0.3746397722851229, 0.4419341601519854, 0.5805732010863782, 0.580573201086378, 0.45264425721546264, 0.6780169105310246, 0.6211578938478262, 0.6211578938478264, 0.678013554113712, 0.5613891578824952], \"mode\": \"markers\", \"marker\": {\"size\": 14, \"color\": [\"#F78154\", \"#F78154\", \"#F78154\", \"#F78154\", \"#F78154\", \"#F78154\", \"#F78154\", \"#F78154\", \"#F78154\", \"#F78154\", \"#F78154\", \"#F78154\", \"#F78154\", \"#F78154\", \"#F78154\", \"#F78154\"], \"line\": {\"width\": 2, \"color\": [\"#F78154\", \"#F78154\", \"#F78154\", \"#F78154\", \"#F78154\", \"#F78154\", \"#F78154\", \"#F78154\", \"#F78154\", \"#F78154\", \"#F78154\", \"#F78154\", \"#F78154\", \"#F78154\", \"#F78154\", \"#F78154\"]}}, \"text\": [\"Peak\", \"Since Way Back\", \"With You\", \"Plastic Bag\", \"Madonna\", \"Company\", \"How About Now\", \"Hate Sleeping Alone\", \"Practice\", \"Practice\", \"Shut It Down\", \"What If I Kissed You\", \"With You\", \"With You\", \"What If I Kissed You\", \"A Night Off\"], \"name\": \"Cluster 5\"}], {\"width\": 1000, \"height\": 700, \"title\": \"Song Clusters\", \"hovermode\": \"closest\", \"titlefont\": {\"size\": 22}, \"xaxis\": {\"titlefont\": {\"size\": 16}, \"showgrid\": false, \"showticklabels\": false, \"zeroline\": false}, \"yaxis\": {\"titlefont\": {\"size\": 16}, \"autorange\": true, \"showgrid\": false, \"showticklabels\": false, \"zeroline\": false, \"gridcolor\": \"#BBC7A4\", \"gridwidth\": 1, \"zerolinecolor\": \"#BBC7A4\", \"zerolinewidth\": 3}, \"margin\": {\"l\": 80, \"r\": 30, \"b\": 80, \"t\": 100}, \"showlegend\": true}, {\"showLink\": true, \"linkText\": \"Export to plot.ly\"})});</script>"
      ]
     },
     "metadata": {},
     "output_type": "display_data"
    }
   ],
   "source": [
    "df = pd.DataFrame(dict(x=xs, y=ys, label=clusters, title=songs)) \n",
    "df.loc[df['label']==0,'color'] = '#A63446'\n",
    "df.loc[df['label']==1,'color'] = '#5FAD56'\n",
    "df.loc[df['label']==2,'color'] = '#0C6291'\n",
    "df.loc[df['label']==3,'color'] = '#F2C14E'\n",
    "df.loc[df['label']==4,'color'] = '#F78154'\n",
    "groups0 = df.loc[df['label']==0]\n",
    "groups1 = df.loc[df['label']==1]\n",
    "groups2 = df.loc[df['label']==2]\n",
    "groups3 = df.loc[df['label']==3]\n",
    "groups4 = df.loc[df['label']==4]\n",
    "\n",
    "cluster0 = go.Scatter(\n",
    "    x = groups0.x,\n",
    "    y = groups0.y,\n",
    "    mode = 'markers',\n",
    "    marker = dict(\n",
    "        size = 14,\n",
    "        color = groups0['color'],\n",
    "        line = dict(\n",
    "            width = 2,\n",
    "            color = groups0['color']\n",
    "        )\n",
    "    ),\n",
    "    text= groups0['title'],\n",
    "    name='Cluster 1'\n",
    ")\n",
    "\n",
    "cluster1 = go.Scatter(\n",
    "    x = groups1.x,\n",
    "    y = groups1.y,\n",
    "    mode = 'markers',\n",
    "    marker = dict(\n",
    "        size = 14,\n",
    "        color = groups1['color'],\n",
    "        line = dict(\n",
    "            width = 2,\n",
    "            color = groups1['color']\n",
    "        )\n",
    "    ),\n",
    "    text= groups1['title'],\n",
    "    name='Cluster 2'\n",
    ")\n",
    "cluster2 = go.Scatter(\n",
    "    x = groups2.x,\n",
    "    y = groups2.y,\n",
    "    mode = 'markers',\n",
    "    marker = dict(\n",
    "        size = 14,\n",
    "        color = groups2['color'],\n",
    "        line = dict(\n",
    "            width = 2,\n",
    "            color = groups2['color']\n",
    "        )\n",
    "    ),\n",
    "    text= groups2['title'],\n",
    "    name='Cluster 3'\n",
    ")\n",
    "cluster3 = go.Scatter(\n",
    "    x = groups3.x,\n",
    "    y = groups3.y,\n",
    "    mode = 'markers',\n",
    "    marker = dict(\n",
    "        size = 14,\n",
    "        color = groups3['color'],\n",
    "        line = dict(\n",
    "            width = 2,\n",
    "            color = groups3['color']\n",
    "        )\n",
    "    ),\n",
    "    text= groups3['title'],\n",
    "    name='Cluster 4'\n",
    ")\n",
    "cluster4 = go.Scatter(\n",
    "    x = groups4.x,\n",
    "    y = groups4.y,\n",
    "    mode = 'markers',\n",
    "    marker = dict(\n",
    "        size = 14,\n",
    "        color = groups4['color'],\n",
    "        line = dict(\n",
    "            width = 2,\n",
    "            color = groups4['color']\n",
    "        )\n",
    "    ),\n",
    "    text= groups4['title'],\n",
    "    name='Cluster 5'\n",
    ")\n",
    "data = [cluster0,cluster1,cluster2,cluster3,cluster4]\n",
    "\n",
    "layout = go.Layout(\n",
    "         width = 1000,\n",
    "        height = 700,\n",
    "        title = 'Song Clusters',\n",
    "        hovermode= 'closest',\n",
    "        titlefont = dict(size=22),\n",
    "        xaxis = dict(\n",
    "            titlefont = dict(size=16),\n",
    "            showgrid = False,\n",
    "            showticklabels = False,\n",
    "            zeroline = False),    \n",
    "        yaxis = dict(\n",
    "            titlefont = dict(size=16),\n",
    "            autorange = True,\n",
    "            showgrid = False,\n",
    "            showticklabels = False,\n",
    "            zeroline = False,\n",
    "            gridcolor = '#BBC7A4',\n",
    "            gridwidth = 1,\n",
    "            zerolinecolor = '#BBC7A4',\n",
    "            zerolinewidth = 3),\n",
    "        margin = dict(\n",
    "            l = 80,\n",
    "            r = 30,\n",
    "            b = 80,\n",
    "            t = 100),\n",
    "        showlegend=True)\n",
    "\n",
    "fig = dict(data=data,layout=layout)\n",
    "iplot(fig, filename='basic-scatter')"
   ]
  },
  {
   "cell_type": "markdown",
   "metadata": {},
   "source": [
    "#### Insights\n",
    "+ Cluster 5 is the most distinct at the top but also the cluster with the fewest values.\n",
    "+ I can't say from my personal knowledge what is the common theme in the clusters. For me, it was easier to draw insights from the topic analysis."
   ]
  },
  {
   "cell_type": "markdown",
   "metadata": {},
   "source": [
    "## Part 7: Ward Clustering of Lyrics\n",
    "***"
   ]
  },
  {
   "cell_type": "markdown",
   "metadata": {},
   "source": [
    "####  *<font color='gray'>At each stage, pairs of clusters with minimum distance are merged into one cluster. There are 3 main clusters with the largest cluster split into 4 major subclusters.</font> *"
   ]
  },
  {
   "cell_type": "code",
   "execution_count": 55,
   "metadata": {
    "scrolled": false
   },
   "outputs": [
    {
     "data": {
      "application/vnd.plotly.v1+json": {
       "data": [
        {
         "hoverinfo": "text",
         "marker": {
          "color": "rgb(61,153,112)"
         },
         "mode": "lines",
         "text": null,
         "type": "scatter",
         "x": [
          0,
          11.25261524118115,
          11.25261524118115,
          0
         ],
         "xaxis": "x",
         "y": [
          -5,
          -5,
          -15,
          -15
         ],
         "yaxis": "y"
        },
        {
         "hoverinfo": "text",
         "marker": {
          "color": "rgb(61,153,112)"
         },
         "mode": "lines",
         "text": null,
         "type": "scatter",
         "x": [
          0,
          9.800926654347263,
          9.800926654347263,
          0
         ],
         "xaxis": "x",
         "y": [
          -35,
          -35,
          -45,
          -45
         ],
         "yaxis": "y"
        },
        {
         "hoverinfo": "text",
         "marker": {
          "color": "rgb(61,153,112)"
         },
         "mode": "lines",
         "text": null,
         "type": "scatter",
         "x": [
          0,
          15.811484870490794,
          15.811484870490794,
          9.800926654347263
         ],
         "xaxis": "x",
         "y": [
          -25,
          -25,
          -40,
          -40
         ],
         "yaxis": "y"
        },
        {
         "hoverinfo": "text",
         "marker": {
          "color": "rgb(61,153,112)"
         },
         "mode": "lines",
         "text": null,
         "type": "scatter",
         "x": [
          11.25261524118115,
          35.696414954177094,
          35.696414954177094,
          15.811484870490794
         ],
         "xaxis": "x",
         "y": [
          -10,
          -10,
          -32.5,
          -32.5
         ],
         "yaxis": "y"
        },
        {
         "hoverinfo": "text",
         "marker": {
          "color": "rgb(61,153,112)"
         },
         "mode": "lines",
         "text": null,
         "type": "scatter",
         "x": [
          0,
          19.648018417510084,
          19.648018417510084,
          0
         ],
         "xaxis": "x",
         "y": [
          -55,
          -55,
          -65,
          -65
         ],
         "yaxis": "y"
        },
        {
         "hoverinfo": "text",
         "marker": {
          "color": "rgb(61,153,112)"
         },
         "mode": "lines",
         "text": null,
         "type": "scatter",
         "x": [
          0,
          6.025748778163549,
          6.025748778163549,
          0
         ],
         "xaxis": "x",
         "y": [
          -75,
          -75,
          -85,
          -85
         ],
         "yaxis": "y"
        },
        {
         "hoverinfo": "text",
         "marker": {
          "color": "rgb(61,153,112)"
         },
         "mode": "lines",
         "text": null,
         "type": "scatter",
         "x": [
          0,
          8.070650216898846,
          8.070650216898846,
          0
         ],
         "xaxis": "x",
         "y": [
          -95,
          -95,
          -105,
          -105
         ],
         "yaxis": "y"
        },
        {
         "hoverinfo": "text",
         "marker": {
          "color": "rgb(61,153,112)"
         },
         "mode": "lines",
         "text": null,
         "type": "scatter",
         "x": [
          6.025748778163549,
          14.890998472268167,
          14.890998472268167,
          8.070650216898846
         ],
         "xaxis": "x",
         "y": [
          -80,
          -80,
          -100,
          -100
         ],
         "yaxis": "y"
        },
        {
         "hoverinfo": "text",
         "marker": {
          "color": "rgb(61,153,112)"
         },
         "mode": "lines",
         "text": null,
         "type": "scatter",
         "x": [
          0,
          8.83345196282109,
          8.83345196282109,
          0
         ],
         "xaxis": "x",
         "y": [
          -125,
          -125,
          -135,
          -135
         ],
         "yaxis": "y"
        },
        {
         "hoverinfo": "text",
         "marker": {
          "color": "rgb(61,153,112)"
         },
         "mode": "lines",
         "text": null,
         "type": "scatter",
         "x": [
          0,
          11.359307181112356,
          11.359307181112356,
          8.83345196282109
         ],
         "xaxis": "x",
         "y": [
          -115,
          -115,
          -130,
          -130
         ],
         "yaxis": "y"
        },
        {
         "hoverinfo": "text",
         "marker": {
          "color": "rgb(61,153,112)"
         },
         "mode": "lines",
         "text": null,
         "type": "scatter",
         "x": [
          0,
          5.385987711153342,
          5.385987711153342,
          0
         ],
         "xaxis": "x",
         "y": [
          -155,
          -155,
          -165,
          -165
         ],
         "yaxis": "y"
        },
        {
         "hoverinfo": "text",
         "marker": {
          "color": "rgb(61,153,112)"
         },
         "mode": "lines",
         "text": null,
         "type": "scatter",
         "x": [
          0,
          14.944294298599635,
          14.944294298599635,
          5.385987711153342
         ],
         "xaxis": "x",
         "y": [
          -145,
          -145,
          -160,
          -160
         ],
         "yaxis": "y"
        },
        {
         "hoverinfo": "text",
         "marker": {
          "color": "rgb(61,153,112)"
         },
         "mode": "lines",
         "text": null,
         "type": "scatter",
         "x": [
          11.359307181112356,
          20.524496485312607,
          20.524496485312607,
          14.944294298599635
         ],
         "xaxis": "x",
         "y": [
          -122.5,
          -122.5,
          -152.5,
          -152.5
         ],
         "yaxis": "y"
        },
        {
         "hoverinfo": "text",
         "marker": {
          "color": "rgb(61,153,112)"
         },
         "mode": "lines",
         "text": null,
         "type": "scatter",
         "x": [
          14.890998472268167,
          31.450022072195726,
          31.450022072195726,
          20.524496485312607
         ],
         "xaxis": "x",
         "y": [
          -90,
          -90,
          -137.5,
          -137.5
         ],
         "yaxis": "y"
        },
        {
         "hoverinfo": "text",
         "marker": {
          "color": "rgb(61,153,112)"
         },
         "mode": "lines",
         "text": null,
         "type": "scatter",
         "x": [
          19.648018417510084,
          39.06110460492974,
          39.06110460492974,
          31.450022072195726
         ],
         "xaxis": "x",
         "y": [
          -60,
          -60,
          -113.75,
          -113.75
         ],
         "yaxis": "y"
        },
        {
         "hoverinfo": "text",
         "marker": {
          "color": "rgb(61,153,112)"
         },
         "mode": "lines",
         "text": null,
         "type": "scatter",
         "x": [
          35.696414954177094,
          46.284068530157086,
          46.284068530157086,
          39.06110460492974
         ],
         "xaxis": "x",
         "y": [
          -21.25,
          -21.25,
          -86.875,
          -86.875
         ],
         "yaxis": "y"
        },
        {
         "hoverinfo": "text",
         "marker": {
          "color": "rgb(61,153,112)"
         },
         "mode": "lines",
         "text": null,
         "type": "scatter",
         "x": [
          0,
          32.932312099181836,
          32.932312099181836,
          0
         ],
         "xaxis": "x",
         "y": [
          -175,
          -175,
          -185,
          -185
         ],
         "yaxis": "y"
        },
        {
         "hoverinfo": "text",
         "marker": {
          "color": "rgb(61,153,112)"
         },
         "mode": "lines",
         "text": null,
         "type": "scatter",
         "x": [
          0,
          5.385296586024882,
          5.385296586024882,
          0
         ],
         "xaxis": "x",
         "y": [
          -195,
          -195,
          -205,
          -205
         ],
         "yaxis": "y"
        },
        {
         "hoverinfo": "text",
         "marker": {
          "color": "rgb(61,153,112)"
         },
         "mode": "lines",
         "text": null,
         "type": "scatter",
         "x": [
          0,
          12.451517252841542,
          12.451517252841542,
          0
         ],
         "xaxis": "x",
         "y": [
          -215,
          -215,
          -225,
          -225
         ],
         "yaxis": "y"
        },
        {
         "hoverinfo": "text",
         "marker": {
          "color": "rgb(61,153,112)"
         },
         "mode": "lines",
         "text": null,
         "type": "scatter",
         "x": [
          5.385296586024882,
          20.61661612237131,
          20.61661612237131,
          12.451517252841542
         ],
         "xaxis": "x",
         "y": [
          -200,
          -200,
          -220,
          -220
         ],
         "yaxis": "y"
        },
        {
         "hoverinfo": "text",
         "marker": {
          "color": "rgb(61,153,112)"
         },
         "mode": "lines",
         "text": null,
         "type": "scatter",
         "x": [
          0,
          4.905130337265406,
          4.905130337265406,
          0
         ],
         "xaxis": "x",
         "y": [
          -235,
          -235,
          -245,
          -245
         ],
         "yaxis": "y"
        },
        {
         "hoverinfo": "text",
         "marker": {
          "color": "rgb(61,153,112)"
         },
         "mode": "lines",
         "text": null,
         "type": "scatter",
         "x": [
          0,
          6.78264683267024,
          6.78264683267024,
          0
         ],
         "xaxis": "x",
         "y": [
          -255,
          -255,
          -265,
          -265
         ],
         "yaxis": "y"
        },
        {
         "hoverinfo": "text",
         "marker": {
          "color": "rgb(61,153,112)"
         },
         "mode": "lines",
         "text": null,
         "type": "scatter",
         "x": [
          0,
          8.075916618592846,
          8.075916618592846,
          0
         ],
         "xaxis": "x",
         "y": [
          -275,
          -275,
          -285,
          -285
         ],
         "yaxis": "y"
        },
        {
         "hoverinfo": "text",
         "marker": {
          "color": "rgb(61,153,112)"
         },
         "mode": "lines",
         "text": null,
         "type": "scatter",
         "x": [
          6.78264683267024,
          12.247469287311976,
          12.247469287311976,
          8.075916618592846
         ],
         "xaxis": "x",
         "y": [
          -260,
          -260,
          -280,
          -280
         ],
         "yaxis": "y"
        },
        {
         "hoverinfo": "text",
         "marker": {
          "color": "rgb(61,153,112)"
         },
         "mode": "lines",
         "text": null,
         "type": "scatter",
         "x": [
          4.905130337265406,
          23.366817168484022,
          23.366817168484022,
          12.247469287311976
         ],
         "xaxis": "x",
         "y": [
          -240,
          -240,
          -270,
          -270
         ],
         "yaxis": "y"
        },
        {
         "hoverinfo": "text",
         "marker": {
          "color": "rgb(61,153,112)"
         },
         "mode": "lines",
         "text": null,
         "type": "scatter",
         "x": [
          20.61661612237131,
          40.37790593428464,
          40.37790593428464,
          23.366817168484022
         ],
         "xaxis": "x",
         "y": [
          -210,
          -210,
          -255,
          -255
         ],
         "yaxis": "y"
        },
        {
         "hoverinfo": "text",
         "marker": {
          "color": "rgb(61,153,112)"
         },
         "mode": "lines",
         "text": null,
         "type": "scatter",
         "x": [
          0,
          7.882568749961157,
          7.882568749961157,
          0
         ],
         "xaxis": "x",
         "y": [
          -305,
          -305,
          -315,
          -315
         ],
         "yaxis": "y"
        },
        {
         "hoverinfo": "text",
         "marker": {
          "color": "rgb(61,153,112)"
         },
         "mode": "lines",
         "text": null,
         "type": "scatter",
         "x": [
          0,
          23.60172801882864,
          23.60172801882864,
          7.882568749961157
         ],
         "xaxis": "x",
         "y": [
          -295,
          -295,
          -310,
          -310
         ],
         "yaxis": "y"
        },
        {
         "hoverinfo": "text",
         "marker": {
          "color": "rgb(61,153,112)"
         },
         "mode": "lines",
         "text": null,
         "type": "scatter",
         "x": [
          0,
          3.5039464392162145,
          3.5039464392162145,
          0
         ],
         "xaxis": "x",
         "y": [
          -345,
          -345,
          -355,
          -355
         ],
         "yaxis": "y"
        },
        {
         "hoverinfo": "text",
         "marker": {
          "color": "rgb(61,153,112)"
         },
         "mode": "lines",
         "text": null,
         "type": "scatter",
         "x": [
          0,
          7.563916927920096,
          7.563916927920096,
          3.5039464392162145
         ],
         "xaxis": "x",
         "y": [
          -335,
          -335,
          -350,
          -350
         ],
         "yaxis": "y"
        },
        {
         "hoverinfo": "text",
         "marker": {
          "color": "rgb(61,153,112)"
         },
         "mode": "lines",
         "text": null,
         "type": "scatter",
         "x": [
          0,
          13.638184943855062,
          13.638184943855062,
          7.563916927920096
         ],
         "xaxis": "x",
         "y": [
          -325,
          -325,
          -342.5,
          -342.5
         ],
         "yaxis": "y"
        },
        {
         "hoverinfo": "text",
         "marker": {
          "color": "rgb(61,153,112)"
         },
         "mode": "lines",
         "text": null,
         "type": "scatter",
         "x": [
          0,
          20.9102008081131,
          20.9102008081131,
          0
         ],
         "xaxis": "x",
         "y": [
          -365,
          -365,
          -375,
          -375
         ],
         "yaxis": "y"
        },
        {
         "hoverinfo": "text",
         "marker": {
          "color": "rgb(61,153,112)"
         },
         "mode": "lines",
         "text": null,
         "type": "scatter",
         "x": [
          13.638184943855062,
          26.000267830734092,
          26.000267830734092,
          20.9102008081131
         ],
         "xaxis": "x",
         "y": [
          -333.75,
          -333.75,
          -370,
          -370
         ],
         "yaxis": "y"
        },
        {
         "hoverinfo": "text",
         "marker": {
          "color": "rgb(61,153,112)"
         },
         "mode": "lines",
         "text": null,
         "type": "scatter",
         "x": [
          23.60172801882864,
          47.69324101644715,
          47.69324101644715,
          26.000267830734092
         ],
         "xaxis": "x",
         "y": [
          -302.5,
          -302.5,
          -351.875,
          -351.875
         ],
         "yaxis": "y"
        },
        {
         "hoverinfo": "text",
         "marker": {
          "color": "rgb(61,153,112)"
         },
         "mode": "lines",
         "text": null,
         "type": "scatter",
         "x": [
          40.37790593428464,
          66.74091633430851,
          66.74091633430851,
          47.69324101644715
         ],
         "xaxis": "x",
         "y": [
          -232.5,
          -232.5,
          -327.1875,
          -327.1875
         ],
         "yaxis": "y"
        },
        {
         "hoverinfo": "text",
         "marker": {
          "color": "rgb(61,153,112)"
         },
         "mode": "lines",
         "text": null,
         "type": "scatter",
         "x": [
          32.932312099181836,
          77.02167753869846,
          77.02167753869846,
          66.74091633430851
         ],
         "xaxis": "x",
         "y": [
          -180,
          -180,
          -279.84375,
          -279.84375
         ],
         "yaxis": "y"
        },
        {
         "hoverinfo": "text",
         "marker": {
          "color": "rgb(61,153,112)"
         },
         "mode": "lines",
         "text": null,
         "type": "scatter",
         "x": [
          46.284068530157086,
          123.23361224774429,
          123.23361224774429,
          77.02167753869846
         ],
         "xaxis": "x",
         "y": [
          -54.0625,
          -54.0625,
          -229.921875,
          -229.921875
         ],
         "yaxis": "y"
        },
        {
         "hoverinfo": "text",
         "marker": {
          "color": "rgb(61,153,112)"
         },
         "mode": "lines",
         "text": null,
         "type": "scatter",
         "x": [
          0,
          23.233981334047026,
          23.233981334047026,
          0
         ],
         "xaxis": "x",
         "y": [
          -395,
          -395,
          -405,
          -405
         ],
         "yaxis": "y"
        },
        {
         "hoverinfo": "text",
         "marker": {
          "color": "rgb(61,153,112)"
         },
         "mode": "lines",
         "text": null,
         "type": "scatter",
         "x": [
          0,
          12.960507393369607,
          12.960507393369607,
          0
         ],
         "xaxis": "x",
         "y": [
          -425,
          -425,
          -435,
          -435
         ],
         "yaxis": "y"
        },
        {
         "hoverinfo": "text",
         "marker": {
          "color": "rgb(61,153,112)"
         },
         "mode": "lines",
         "text": null,
         "type": "scatter",
         "x": [
          0,
          32.94889257613108,
          32.94889257613108,
          12.960507393369607
         ],
         "xaxis": "x",
         "y": [
          -415,
          -415,
          -430,
          -430
         ],
         "yaxis": "y"
        },
        {
         "hoverinfo": "text",
         "marker": {
          "color": "rgb(61,153,112)"
         },
         "mode": "lines",
         "text": null,
         "type": "scatter",
         "x": [
          23.233981334047026,
          79.54573565938148,
          79.54573565938148,
          32.94889257613108
         ],
         "xaxis": "x",
         "y": [
          -400,
          -400,
          -422.5,
          -422.5
         ],
         "yaxis": "y"
        },
        {
         "hoverinfo": "text",
         "marker": {
          "color": "rgb(61,153,112)"
         },
         "mode": "lines",
         "text": null,
         "type": "scatter",
         "x": [
          0,
          144.70078191669788,
          144.70078191669788,
          79.54573565938148
         ],
         "xaxis": "x",
         "y": [
          -385,
          -385,
          -411.25,
          -411.25
         ],
         "yaxis": "y"
        },
        {
         "hoverinfo": "text",
         "marker": {
          "color": "rgb(61,153,112)"
         },
         "mode": "lines",
         "text": null,
         "type": "scatter",
         "x": [
          123.23361224774429,
          239.50943184603187,
          239.50943184603187,
          144.70078191669788
         ],
         "xaxis": "x",
         "y": [
          -141.9921875,
          -141.9921875,
          -398.125,
          -398.125
         ],
         "yaxis": "y"
        },
        {
         "hoverinfo": "text",
         "marker": {
          "color": "rgb(255,65,54)"
         },
         "mode": "lines",
         "text": null,
         "type": "scatter",
         "x": [
          0,
          3.6085601693614624,
          3.6085601693614624,
          0
         ],
         "xaxis": "x",
         "y": [
          -455,
          -455,
          -465,
          -465
         ],
         "yaxis": "y"
        },
        {
         "hoverinfo": "text",
         "marker": {
          "color": "rgb(255,65,54)"
         },
         "mode": "lines",
         "text": null,
         "type": "scatter",
         "x": [
          0,
          23.537212276729473,
          23.537212276729473,
          3.6085601693614624
         ],
         "xaxis": "x",
         "y": [
          -445,
          -445,
          -460,
          -460
         ],
         "yaxis": "y"
        },
        {
         "hoverinfo": "text",
         "marker": {
          "color": "rgb(255,65,54)"
         },
         "mode": "lines",
         "text": null,
         "type": "scatter",
         "x": [
          0,
          5.658792327594033,
          5.658792327594033,
          0
         ],
         "xaxis": "x",
         "y": [
          -485,
          -485,
          -495,
          -495
         ],
         "yaxis": "y"
        },
        {
         "hoverinfo": "text",
         "marker": {
          "color": "rgb(255,65,54)"
         },
         "mode": "lines",
         "text": null,
         "type": "scatter",
         "x": [
          0,
          12.369880696420696,
          12.369880696420696,
          5.658792327594033
         ],
         "xaxis": "x",
         "y": [
          -475,
          -475,
          -490,
          -490
         ],
         "yaxis": "y"
        },
        {
         "hoverinfo": "text",
         "marker": {
          "color": "rgb(255,65,54)"
         },
         "mode": "lines",
         "text": null,
         "type": "scatter",
         "x": [
          0,
          5.099348225436066,
          5.099348225436066,
          0
         ],
         "xaxis": "x",
         "y": [
          -515,
          -515,
          -525,
          -525
         ],
         "yaxis": "y"
        },
        {
         "hoverinfo": "text",
         "marker": {
          "color": "rgb(255,65,54)"
         },
         "mode": "lines",
         "text": null,
         "type": "scatter",
         "x": [
          0,
          7.211529047293172,
          7.211529047293172,
          5.099348225436066
         ],
         "xaxis": "x",
         "y": [
          -505,
          -505,
          -520,
          -520
         ],
         "yaxis": "y"
        },
        {
         "hoverinfo": "text",
         "marker": {
          "color": "rgb(255,65,54)"
         },
         "mode": "lines",
         "text": null,
         "type": "scatter",
         "x": [
          0,
          5.099035551168161,
          5.099035551168161,
          0
         ],
         "xaxis": "x",
         "y": [
          -545,
          -545,
          -555,
          -555
         ],
         "yaxis": "y"
        },
        {
         "hoverinfo": "text",
         "marker": {
          "color": "rgb(255,65,54)"
         },
         "mode": "lines",
         "text": null,
         "type": "scatter",
         "x": [
          0,
          10.296543469946632,
          10.296543469946632,
          5.099035551168161
         ],
         "xaxis": "x",
         "y": [
          -535,
          -535,
          -550,
          -550
         ],
         "yaxis": "y"
        },
        {
         "hoverinfo": "text",
         "marker": {
          "color": "rgb(255,65,54)"
         },
         "mode": "lines",
         "text": null,
         "type": "scatter",
         "x": [
          7.211529047293172,
          23.411531118281907,
          23.411531118281907,
          10.296543469946632
         ],
         "xaxis": "x",
         "y": [
          -512.5,
          -512.5,
          -542.5,
          -542.5
         ],
         "yaxis": "y"
        },
        {
         "hoverinfo": "text",
         "marker": {
          "color": "rgb(255,65,54)"
         },
         "mode": "lines",
         "text": null,
         "type": "scatter",
         "x": [
          12.369880696420696,
          30.414601666891315,
          30.414601666891315,
          23.411531118281907
         ],
         "xaxis": "x",
         "y": [
          -482.5,
          -482.5,
          -527.5,
          -527.5
         ],
         "yaxis": "y"
        },
        {
         "hoverinfo": "text",
         "marker": {
          "color": "rgb(255,65,54)"
         },
         "mode": "lines",
         "text": null,
         "type": "scatter",
         "x": [
          23.537212276729473,
          62.37026445253379,
          62.37026445253379,
          30.414601666891315
         ],
         "xaxis": "x",
         "y": [
          -452.5,
          -452.5,
          -505,
          -505
         ],
         "yaxis": "y"
        },
        {
         "hoverinfo": "text",
         "marker": {
          "color": "rgb(255,65,54)"
         },
         "mode": "lines",
         "text": null,
         "type": "scatter",
         "x": [
          0,
          3.162321726750512,
          3.162321726750512,
          0
         ],
         "xaxis": "x",
         "y": [
          -575,
          -575,
          -585,
          -585
         ],
         "yaxis": "y"
        },
        {
         "hoverinfo": "text",
         "marker": {
          "color": "rgb(255,65,54)"
         },
         "mode": "lines",
         "text": null,
         "type": "scatter",
         "x": [
          0,
          2.8752314071639393,
          2.8752314071639393,
          0
         ],
         "xaxis": "x",
         "y": [
          -605,
          -605,
          -615,
          -615
         ],
         "yaxis": "y"
        },
        {
         "hoverinfo": "text",
         "marker": {
          "color": "rgb(255,65,54)"
         },
         "mode": "lines",
         "text": null,
         "type": "scatter",
         "x": [
          0,
          5.099026819898445,
          5.099026819898445,
          2.8752314071639393
         ],
         "xaxis": "x",
         "y": [
          -595,
          -595,
          -610,
          -610
         ],
         "yaxis": "y"
        },
        {
         "hoverinfo": "text",
         "marker": {
          "color": "rgb(255,65,54)"
         },
         "mode": "lines",
         "text": null,
         "type": "scatter",
         "x": [
          3.162321726750512,
          19.24775379464954,
          19.24775379464954,
          5.099026819898445
         ],
         "xaxis": "x",
         "y": [
          -580,
          -580,
          -602.5,
          -602.5
         ],
         "yaxis": "y"
        },
        {
         "hoverinfo": "text",
         "marker": {
          "color": "rgb(255,65,54)"
         },
         "mode": "lines",
         "text": null,
         "type": "scatter",
         "x": [
          0,
          45.17964983769838,
          45.17964983769838,
          19.24775379464954
         ],
         "xaxis": "x",
         "y": [
          -565,
          -565,
          -591.25,
          -591.25
         ],
         "yaxis": "y"
        },
        {
         "hoverinfo": "text",
         "marker": {
          "color": "rgb(255,65,54)"
         },
         "mode": "lines",
         "text": null,
         "type": "scatter",
         "x": [
          0,
          5.389877570341495,
          5.389877570341495,
          0
         ],
         "xaxis": "x",
         "y": [
          -645,
          -645,
          -655,
          -655
         ],
         "yaxis": "y"
        },
        {
         "hoverinfo": "text",
         "marker": {
          "color": "rgb(255,65,54)"
         },
         "mode": "lines",
         "text": null,
         "type": "scatter",
         "x": [
          0,
          14.142144937040351,
          14.142144937040351,
          5.389877570341495
         ],
         "xaxis": "x",
         "y": [
          -635,
          -635,
          -650,
          -650
         ],
         "yaxis": "y"
        },
        {
         "hoverinfo": "text",
         "marker": {
          "color": "rgb(255,65,54)"
         },
         "mode": "lines",
         "text": null,
         "type": "scatter",
         "x": [
          0,
          20.61570910358761,
          20.61570910358761,
          14.142144937040351
         ],
         "xaxis": "x",
         "y": [
          -625,
          -625,
          -642.5,
          -642.5
         ],
         "yaxis": "y"
        },
        {
         "hoverinfo": "text",
         "marker": {
          "color": "rgb(255,65,54)"
         },
         "mode": "lines",
         "text": null,
         "type": "scatter",
         "x": [
          0,
          2.8425234514473394,
          2.8425234514473394,
          0
         ],
         "xaxis": "x",
         "y": [
          -685,
          -685,
          -695,
          -695
         ],
         "yaxis": "y"
        },
        {
         "hoverinfo": "text",
         "marker": {
          "color": "rgb(255,65,54)"
         },
         "mode": "lines",
         "text": null,
         "type": "scatter",
         "x": [
          0,
          8.54401051498811,
          8.54401051498811,
          2.8425234514473394
         ],
         "xaxis": "x",
         "y": [
          -675,
          -675,
          -690,
          -690
         ],
         "yaxis": "y"
        },
        {
         "hoverinfo": "text",
         "marker": {
          "color": "rgb(255,65,54)"
         },
         "mode": "lines",
         "text": null,
         "type": "scatter",
         "x": [
          0,
          15.652574369455301,
          15.652574369455301,
          8.54401051498811
         ],
         "xaxis": "x",
         "y": [
          -665,
          -665,
          -682.5,
          -682.5
         ],
         "yaxis": "y"
        },
        {
         "hoverinfo": "text",
         "marker": {
          "color": "rgb(255,65,54)"
         },
         "mode": "lines",
         "text": null,
         "type": "scatter",
         "x": [
          0,
          5.038851262760594,
          5.038851262760594,
          0
         ],
         "xaxis": "x",
         "y": [
          -705,
          -705,
          -715,
          -715
         ],
         "yaxis": "y"
        },
        {
         "hoverinfo": "text",
         "marker": {
          "color": "rgb(255,65,54)"
         },
         "mode": "lines",
         "text": null,
         "type": "scatter",
         "x": [
          0,
          3.63938113689497,
          3.63938113689497,
          0
         ],
         "xaxis": "x",
         "y": [
          -745,
          -745,
          -755,
          -755
         ],
         "yaxis": "y"
        },
        {
         "hoverinfo": "text",
         "marker": {
          "color": "rgb(255,65,54)"
         },
         "mode": "lines",
         "text": null,
         "type": "scatter",
         "x": [
          0,
          10.050156014642873,
          10.050156014642873,
          3.63938113689497
         ],
         "xaxis": "x",
         "y": [
          -735,
          -735,
          -750,
          -750
         ],
         "yaxis": "y"
        },
        {
         "hoverinfo": "text",
         "marker": {
          "color": "rgb(255,65,54)"
         },
         "mode": "lines",
         "text": null,
         "type": "scatter",
         "x": [
          0,
          11.40721462410635,
          11.40721462410635,
          10.050156014642873
         ],
         "xaxis": "x",
         "y": [
          -725,
          -725,
          -742.5,
          -742.5
         ],
         "yaxis": "y"
        },
        {
         "hoverinfo": "text",
         "marker": {
          "color": "rgb(255,65,54)"
         },
         "mode": "lines",
         "text": null,
         "type": "scatter",
         "x": [
          5.038851262760594,
          28.861924264879686,
          28.861924264879686,
          11.40721462410635
         ],
         "xaxis": "x",
         "y": [
          -710,
          -710,
          -733.75,
          -733.75
         ],
         "yaxis": "y"
        },
        {
         "hoverinfo": "text",
         "marker": {
          "color": "rgb(255,65,54)"
         },
         "mode": "lines",
         "text": null,
         "type": "scatter",
         "x": [
          15.652574369455301,
          37.57971510333869,
          37.57971510333869,
          28.861924264879686
         ],
         "xaxis": "x",
         "y": [
          -673.75,
          -673.75,
          -721.875,
          -721.875
         ],
         "yaxis": "y"
        },
        {
         "hoverinfo": "text",
         "marker": {
          "color": "rgb(255,65,54)"
         },
         "mode": "lines",
         "text": null,
         "type": "scatter",
         "x": [
          20.61570910358761,
          62.968245970335545,
          62.968245970335545,
          37.57971510333869
         ],
         "xaxis": "x",
         "y": [
          -633.75,
          -633.75,
          -697.8125,
          -697.8125
         ],
         "yaxis": "y"
        },
        {
         "hoverinfo": "text",
         "marker": {
          "color": "rgb(255,65,54)"
         },
         "mode": "lines",
         "text": null,
         "type": "scatter",
         "x": [
          45.17964983769838,
          88.14271379971856,
          88.14271379971856,
          62.968245970335545
         ],
         "xaxis": "x",
         "y": [
          -578.125,
          -578.125,
          -665.78125,
          -665.78125
         ],
         "yaxis": "y"
        },
        {
         "hoverinfo": "text",
         "marker": {
          "color": "rgb(255,65,54)"
         },
         "mode": "lines",
         "text": null,
         "type": "scatter",
         "x": [
          62.37026445253379,
          120.93407204030598,
          120.93407204030598,
          88.14271379971856
         ],
         "xaxis": "x",
         "y": [
          -478.75,
          -478.75,
          -621.953125,
          -621.953125
         ],
         "yaxis": "y"
        },
        {
         "hoverinfo": "text",
         "marker": {
          "color": "rgb(35,205,205)"
         },
         "mode": "lines",
         "text": null,
         "type": "scatter",
         "x": [
          0,
          3.6131906143231394,
          3.6131906143231394,
          0
         ],
         "xaxis": "x",
         "y": [
          -795,
          -795,
          -805,
          -805
         ],
         "yaxis": "y"
        },
        {
         "hoverinfo": "text",
         "marker": {
          "color": "rgb(35,205,205)"
         },
         "mode": "lines",
         "text": null,
         "type": "scatter",
         "x": [
          0,
          5.918389145530353,
          5.918389145530353,
          3.6131906143231394
         ],
         "xaxis": "x",
         "y": [
          -785,
          -785,
          -800,
          -800
         ],
         "yaxis": "y"
        },
        {
         "hoverinfo": "text",
         "marker": {
          "color": "rgb(35,205,205)"
         },
         "mode": "lines",
         "text": null,
         "type": "scatter",
         "x": [
          0,
          11.180431774054792,
          11.180431774054792,
          5.918389145530353
         ],
         "xaxis": "x",
         "y": [
          -775,
          -775,
          -792.5,
          -792.5
         ],
         "yaxis": "y"
        },
        {
         "hoverinfo": "text",
         "marker": {
          "color": "rgb(35,205,205)"
         },
         "mode": "lines",
         "text": null,
         "type": "scatter",
         "x": [
          0,
          17.49377148373758,
          17.49377148373758,
          11.180431774054792
         ],
         "xaxis": "x",
         "y": [
          -765,
          -765,
          -783.75,
          -783.75
         ],
         "yaxis": "y"
        },
        {
         "hoverinfo": "text",
         "marker": {
          "color": "rgb(35,205,205)"
         },
         "mode": "lines",
         "text": null,
         "type": "scatter",
         "x": [
          0,
          6.136416705811266,
          6.136416705811266,
          0
         ],
         "xaxis": "x",
         "y": [
          -825,
          -825,
          -835,
          -835
         ],
         "yaxis": "y"
        },
        {
         "hoverinfo": "text",
         "marker": {
          "color": "rgb(35,205,205)"
         },
         "mode": "lines",
         "text": null,
         "type": "scatter",
         "x": [
          0,
          16.140792433207274,
          16.140792433207274,
          6.136416705811266
         ],
         "xaxis": "x",
         "y": [
          -815,
          -815,
          -830,
          -830
         ],
         "yaxis": "y"
        },
        {
         "hoverinfo": "text",
         "marker": {
          "color": "rgb(35,205,205)"
         },
         "mode": "lines",
         "text": null,
         "type": "scatter",
         "x": [
          0,
          21.667256258277163,
          21.667256258277163,
          0
         ],
         "xaxis": "x",
         "y": [
          -845,
          -845,
          -855,
          -855
         ],
         "yaxis": "y"
        },
        {
         "hoverinfo": "text",
         "marker": {
          "color": "rgb(35,205,205)"
         },
         "mode": "lines",
         "text": null,
         "type": "scatter",
         "x": [
          16.140792433207274,
          33.74930356016123,
          33.74930356016123,
          21.667256258277163
         ],
         "xaxis": "x",
         "y": [
          -822.5,
          -822.5,
          -850,
          -850
         ],
         "yaxis": "y"
        },
        {
         "hoverinfo": "text",
         "marker": {
          "color": "rgb(35,205,205)"
         },
         "mode": "lines",
         "text": null,
         "type": "scatter",
         "x": [
          17.49377148373758,
          49.8318031626773,
          49.8318031626773,
          33.74930356016123
         ],
         "xaxis": "x",
         "y": [
          -774.375,
          -774.375,
          -836.25,
          -836.25
         ],
         "yaxis": "y"
        },
        {
         "hoverinfo": "text",
         "marker": {
          "color": "rgb(35,205,205)"
         },
         "mode": "lines",
         "text": null,
         "type": "scatter",
         "x": [
          0,
          5.385197014807125,
          5.385197014807125,
          0
         ],
         "xaxis": "x",
         "y": [
          -865,
          -865,
          -875,
          -875
         ],
         "yaxis": "y"
        },
        {
         "hoverinfo": "text",
         "marker": {
          "color": "rgb(35,205,205)"
         },
         "mode": "lines",
         "text": null,
         "type": "scatter",
         "x": [
          0,
          4.474630669181541,
          4.474630669181541,
          0
         ],
         "xaxis": "x",
         "y": [
          -885,
          -885,
          -895,
          -895
         ],
         "yaxis": "y"
        },
        {
         "hoverinfo": "text",
         "marker": {
          "color": "rgb(35,205,205)"
         },
         "mode": "lines",
         "text": null,
         "type": "scatter",
         "x": [
          0,
          8.310407942172514,
          8.310407942172514,
          0
         ],
         "xaxis": "x",
         "y": [
          -905,
          -905,
          -915,
          -915
         ],
         "yaxis": "y"
        },
        {
         "hoverinfo": "text",
         "marker": {
          "color": "rgb(35,205,205)"
         },
         "mode": "lines",
         "text": null,
         "type": "scatter",
         "x": [
          4.474630669181541,
          16.52567166542233,
          16.52567166542233,
          8.310407942172514
         ],
         "xaxis": "x",
         "y": [
          -890,
          -890,
          -910,
          -910
         ],
         "yaxis": "y"
        },
        {
         "hoverinfo": "text",
         "marker": {
          "color": "rgb(35,205,205)"
         },
         "mode": "lines",
         "text": null,
         "type": "scatter",
         "x": [
          5.385197014807125,
          29.69884269452201,
          29.69884269452201,
          16.52567166542233
         ],
         "xaxis": "x",
         "y": [
          -870,
          -870,
          -900,
          -900
         ],
         "yaxis": "y"
        },
        {
         "hoverinfo": "text",
         "marker": {
          "color": "rgb(35,205,205)"
         },
         "mode": "lines",
         "text": null,
         "type": "scatter",
         "x": [
          0,
          33.615817130408004,
          33.615817130408004,
          0
         ],
         "xaxis": "x",
         "y": [
          -925,
          -925,
          -935,
          -935
         ],
         "yaxis": "y"
        },
        {
         "hoverinfo": "text",
         "marker": {
          "color": "rgb(35,205,205)"
         },
         "mode": "lines",
         "text": null,
         "type": "scatter",
         "x": [
          29.69884269452201,
          64.84598927318075,
          64.84598927318075,
          33.615817130408004
         ],
         "xaxis": "x",
         "y": [
          -885,
          -885,
          -930,
          -930
         ],
         "yaxis": "y"
        },
        {
         "hoverinfo": "text",
         "marker": {
          "color": "rgb(35,205,205)"
         },
         "mode": "lines",
         "text": null,
         "type": "scatter",
         "x": [
          49.8318031626773,
          89.68291617680664,
          89.68291617680664,
          64.84598927318075
         ],
         "xaxis": "x",
         "y": [
          -805.3125,
          -805.3125,
          -907.5,
          -907.5
         ],
         "yaxis": "y"
        },
        {
         "hoverinfo": "text",
         "marker": {
          "color": "rgb(35,205,205)"
         },
         "mode": "lines",
         "text": null,
         "type": "scatter",
         "x": [
          0,
          3.3234781224658727,
          3.3234781224658727,
          0
         ],
         "xaxis": "x",
         "y": [
          -955,
          -955,
          -965,
          -965
         ],
         "yaxis": "y"
        },
        {
         "hoverinfo": "text",
         "marker": {
          "color": "rgb(35,205,205)"
         },
         "mode": "lines",
         "text": null,
         "type": "scatter",
         "x": [
          0,
          12.692562277731357,
          12.692562277731357,
          3.3234781224658727
         ],
         "xaxis": "x",
         "y": [
          -945,
          -945,
          -960,
          -960
         ],
         "yaxis": "y"
        },
        {
         "hoverinfo": "text",
         "marker": {
          "color": "rgb(35,205,205)"
         },
         "mode": "lines",
         "text": null,
         "type": "scatter",
         "x": [
          0,
          21.95847244651405,
          21.95847244651405,
          0
         ],
         "xaxis": "x",
         "y": [
          -975,
          -975,
          -985,
          -985
         ],
         "yaxis": "y"
        },
        {
         "hoverinfo": "text",
         "marker": {
          "color": "rgb(35,205,205)"
         },
         "mode": "lines",
         "text": null,
         "type": "scatter",
         "x": [
          12.692562277731357,
          25.105459127676447,
          25.105459127676447,
          21.95847244651405
         ],
         "xaxis": "x",
         "y": [
          -952.5,
          -952.5,
          -980,
          -980
         ],
         "yaxis": "y"
        },
        {
         "hoverinfo": "text",
         "marker": {
          "color": "rgb(35,205,205)"
         },
         "mode": "lines",
         "text": null,
         "type": "scatter",
         "x": [
          0,
          9.27446199981869,
          9.27446199981869,
          0
         ],
         "xaxis": "x",
         "y": [
          -995,
          -995,
          -1005,
          -1005
         ],
         "yaxis": "y"
        },
        {
         "hoverinfo": "text",
         "marker": {
          "color": "rgb(35,205,205)"
         },
         "mode": "lines",
         "text": null,
         "type": "scatter",
         "x": [
          0,
          11.875977238297429,
          11.875977238297429,
          0
         ],
         "xaxis": "x",
         "y": [
          -1015,
          -1015,
          -1025,
          -1025
         ],
         "yaxis": "y"
        },
        {
         "hoverinfo": "text",
         "marker": {
          "color": "rgb(35,205,205)"
         },
         "mode": "lines",
         "text": null,
         "type": "scatter",
         "x": [
          9.27446199981869,
          28.723926732516777,
          28.723926732516777,
          11.875977238297429
         ],
         "xaxis": "x",
         "y": [
          -1000,
          -1000,
          -1020,
          -1020
         ],
         "yaxis": "y"
        },
        {
         "hoverinfo": "text",
         "marker": {
          "color": "rgb(35,205,205)"
         },
         "mode": "lines",
         "text": null,
         "type": "scatter",
         "x": [
          0,
          8.775023269629735,
          8.775023269629735,
          0
         ],
         "xaxis": "x",
         "y": [
          -1035,
          -1035,
          -1045,
          -1045
         ],
         "yaxis": "y"
        },
        {
         "hoverinfo": "text",
         "marker": {
          "color": "rgb(35,205,205)"
         },
         "mode": "lines",
         "text": null,
         "type": "scatter",
         "x": [
          0,
          13.342038096663003,
          13.342038096663003,
          0
         ],
         "xaxis": "x",
         "y": [
          -1055,
          -1055,
          -1065,
          -1065
         ],
         "yaxis": "y"
        },
        {
         "hoverinfo": "text",
         "marker": {
          "color": "rgb(35,205,205)"
         },
         "mode": "lines",
         "text": null,
         "type": "scatter",
         "x": [
          8.775023269629735,
          31.468032469482747,
          31.468032469482747,
          13.342038096663003
         ],
         "xaxis": "x",
         "y": [
          -1040,
          -1040,
          -1060,
          -1060
         ],
         "yaxis": "y"
        },
        {
         "hoverinfo": "text",
         "marker": {
          "color": "rgb(35,205,205)"
         },
         "mode": "lines",
         "text": null,
         "type": "scatter",
         "x": [
          28.723926732516777,
          42.20240406016859,
          42.20240406016859,
          31.468032469482747
         ],
         "xaxis": "x",
         "y": [
          -1010,
          -1010,
          -1050,
          -1050
         ],
         "yaxis": "y"
        },
        {
         "hoverinfo": "text",
         "marker": {
          "color": "rgb(35,205,205)"
         },
         "mode": "lines",
         "text": null,
         "type": "scatter",
         "x": [
          25.105459127676447,
          67.08556352448255,
          67.08556352448255,
          42.20240406016859
         ],
         "xaxis": "x",
         "y": [
          -966.25,
          -966.25,
          -1030,
          -1030
         ],
         "yaxis": "y"
        },
        {
         "hoverinfo": "text",
         "marker": {
          "color": "rgb(35,205,205)"
         },
         "mode": "lines",
         "text": null,
         "type": "scatter",
         "x": [
          0,
          6.403158854288414,
          6.403158854288414,
          0
         ],
         "xaxis": "x",
         "y": [
          -1085,
          -1085,
          -1095,
          -1095
         ],
         "yaxis": "y"
        },
        {
         "hoverinfo": "text",
         "marker": {
          "color": "rgb(35,205,205)"
         },
         "mode": "lines",
         "text": null,
         "type": "scatter",
         "x": [
          0,
          7.723939561916253,
          7.723939561916253,
          6.403158854288414
         ],
         "xaxis": "x",
         "y": [
          -1075,
          -1075,
          -1090,
          -1090
         ],
         "yaxis": "y"
        },
        {
         "hoverinfo": "text",
         "marker": {
          "color": "rgb(35,205,205)"
         },
         "mode": "lines",
         "text": null,
         "type": "scatter",
         "x": [
          0,
          9.700790308825237,
          9.700790308825237,
          0
         ],
         "xaxis": "x",
         "y": [
          -1115,
          -1115,
          -1125,
          -1125
         ],
         "yaxis": "y"
        },
        {
         "hoverinfo": "text",
         "marker": {
          "color": "rgb(35,205,205)"
         },
         "mode": "lines",
         "text": null,
         "type": "scatter",
         "x": [
          0,
          17.16202441894382,
          17.16202441894382,
          9.700790308825237
         ],
         "xaxis": "x",
         "y": [
          -1105,
          -1105,
          -1120,
          -1120
         ],
         "yaxis": "y"
        },
        {
         "hoverinfo": "text",
         "marker": {
          "color": "rgb(35,205,205)"
         },
         "mode": "lines",
         "text": null,
         "type": "scatter",
         "x": [
          7.723939561916253,
          23.35495955833804,
          23.35495955833804,
          17.16202441894382
         ],
         "xaxis": "x",
         "y": [
          -1082.5,
          -1082.5,
          -1112.5,
          -1112.5
         ],
         "yaxis": "y"
        },
        {
         "hoverinfo": "text",
         "marker": {
          "color": "rgb(35,205,205)"
         },
         "mode": "lines",
         "text": null,
         "type": "scatter",
         "x": [
          0,
          10.816923003242472,
          10.816923003242472,
          0
         ],
         "xaxis": "x",
         "y": [
          -1145,
          -1145,
          -1155,
          -1155
         ],
         "yaxis": "y"
        },
        {
         "hoverinfo": "text",
         "marker": {
          "color": "rgb(35,205,205)"
         },
         "mode": "lines",
         "text": null,
         "type": "scatter",
         "x": [
          0,
          3.748742325261853,
          3.748742325261853,
          0
         ],
         "xaxis": "x",
         "y": [
          -1185,
          -1185,
          -1195,
          -1195
         ],
         "yaxis": "y"
        },
        {
         "hoverinfo": "text",
         "marker": {
          "color": "rgb(35,205,205)"
         },
         "mode": "lines",
         "text": null,
         "type": "scatter",
         "x": [
          0,
          10.249036455542267,
          10.249036455542267,
          3.748742325261853
         ],
         "xaxis": "x",
         "y": [
          -1175,
          -1175,
          -1190,
          -1190
         ],
         "yaxis": "y"
        },
        {
         "hoverinfo": "text",
         "marker": {
          "color": "rgb(35,205,205)"
         },
         "mode": "lines",
         "text": null,
         "type": "scatter",
         "x": [
          0,
          22.761537775533945,
          22.761537775533945,
          10.249036455542267
         ],
         "xaxis": "x",
         "y": [
          -1165,
          -1165,
          -1182.5,
          -1182.5
         ],
         "yaxis": "y"
        },
        {
         "hoverinfo": "text",
         "marker": {
          "color": "rgb(35,205,205)"
         },
         "mode": "lines",
         "text": null,
         "type": "scatter",
         "x": [
          10.816923003242472,
          31.780854222440805,
          31.780854222440805,
          22.761537775533945
         ],
         "xaxis": "x",
         "y": [
          -1150,
          -1150,
          -1173.75,
          -1173.75
         ],
         "yaxis": "y"
        },
        {
         "hoverinfo": "text",
         "marker": {
          "color": "rgb(35,205,205)"
         },
         "mode": "lines",
         "text": null,
         "type": "scatter",
         "x": [
          0,
          54.27132112436915,
          54.27132112436915,
          31.780854222440805
         ],
         "xaxis": "x",
         "y": [
          -1135,
          -1135,
          -1161.875,
          -1161.875
         ],
         "yaxis": "y"
        },
        {
         "hoverinfo": "text",
         "marker": {
          "color": "rgb(35,205,205)"
         },
         "mode": "lines",
         "text": null,
         "type": "scatter",
         "x": [
          23.35495955833804,
          70.24265904673591,
          70.24265904673591,
          54.27132112436915
         ],
         "xaxis": "x",
         "y": [
          -1097.5,
          -1097.5,
          -1148.4375,
          -1148.4375
         ],
         "yaxis": "y"
        },
        {
         "hoverinfo": "text",
         "marker": {
          "color": "rgb(35,205,205)"
         },
         "mode": "lines",
         "text": null,
         "type": "scatter",
         "x": [
          67.08556352448255,
          118.50761797046532,
          118.50761797046532,
          70.24265904673591
         ],
         "xaxis": "x",
         "y": [
          -998.125,
          -998.125,
          -1122.96875,
          -1122.96875
         ],
         "yaxis": "y"
        },
        {
         "hoverinfo": "text",
         "marker": {
          "color": "rgb(35,205,205)"
         },
         "mode": "lines",
         "text": null,
         "type": "scatter",
         "x": [
          89.68291617680664,
          144.67694611732787,
          144.67694611732787,
          118.50761797046532
         ],
         "xaxis": "x",
         "y": [
          -856.40625,
          -856.40625,
          -1060.546875,
          -1060.546875
         ],
         "yaxis": "y"
        },
        {
         "hoverinfo": "text",
         "marker": {
          "color": "rgb(35,205,205)"
         },
         "mode": "lines",
         "text": null,
         "type": "scatter",
         "x": [
          0,
          5.1464686123709935,
          5.1464686123709935,
          0
         ],
         "xaxis": "x",
         "y": [
          -1215,
          -1215,
          -1225,
          -1225
         ],
         "yaxis": "y"
        },
        {
         "hoverinfo": "text",
         "marker": {
          "color": "rgb(35,205,205)"
         },
         "mode": "lines",
         "text": null,
         "type": "scatter",
         "x": [
          0,
          6.085531533654189,
          6.085531533654189,
          5.1464686123709935
         ],
         "xaxis": "x",
         "y": [
          -1205,
          -1205,
          -1220,
          -1220
         ],
         "yaxis": "y"
        },
        {
         "hoverinfo": "text",
         "marker": {
          "color": "rgb(35,205,205)"
         },
         "mode": "lines",
         "text": null,
         "type": "scatter",
         "x": [
          0,
          1.4142135623730951,
          1.4142135623730951,
          0
         ],
         "xaxis": "x",
         "y": [
          -1255,
          -1255,
          -1265,
          -1265
         ],
         "yaxis": "y"
        },
        {
         "hoverinfo": "text",
         "marker": {
          "color": "rgb(35,205,205)"
         },
         "mode": "lines",
         "text": null,
         "type": "scatter",
         "x": [
          0,
          5.830951894845301,
          5.830951894845301,
          1.4142135623730951
         ],
         "xaxis": "x",
         "y": [
          -1245,
          -1245,
          -1260,
          -1260
         ],
         "yaxis": "y"
        },
        {
         "hoverinfo": "text",
         "marker": {
          "color": "rgb(35,205,205)"
         },
         "mode": "lines",
         "text": null,
         "type": "scatter",
         "x": [
          0,
          10.842174706872129,
          10.842174706872129,
          5.830951894845301
         ],
         "xaxis": "x",
         "y": [
          -1235,
          -1235,
          -1252.5,
          -1252.5
         ],
         "yaxis": "y"
        },
        {
         "hoverinfo": "text",
         "marker": {
          "color": "rgb(35,205,205)"
         },
         "mode": "lines",
         "text": null,
         "type": "scatter",
         "x": [
          0,
          4.47213595499958,
          4.47213595499958,
          0
         ],
         "xaxis": "x",
         "y": [
          -1285,
          -1285,
          -1295,
          -1295
         ],
         "yaxis": "y"
        },
        {
         "hoverinfo": "text",
         "marker": {
          "color": "rgb(35,205,205)"
         },
         "mode": "lines",
         "text": null,
         "type": "scatter",
         "x": [
          0,
          7.0710678118654755,
          7.0710678118654755,
          4.47213595499958
         ],
         "xaxis": "x",
         "y": [
          -1275,
          -1275,
          -1290,
          -1290
         ],
         "yaxis": "y"
        },
        {
         "hoverinfo": "text",
         "marker": {
          "color": "rgb(35,205,205)"
         },
         "mode": "lines",
         "text": null,
         "type": "scatter",
         "x": [
          0,
          2.23606797749979,
          2.23606797749979,
          0
         ],
         "xaxis": "x",
         "y": [
          -1305,
          -1305,
          -1315,
          -1315
         ],
         "yaxis": "y"
        },
        {
         "hoverinfo": "text",
         "marker": {
          "color": "rgb(35,205,205)"
         },
         "mode": "lines",
         "text": null,
         "type": "scatter",
         "x": [
          0,
          2.23606797749979,
          2.23606797749979,
          0
         ],
         "xaxis": "x",
         "y": [
          -1325,
          -1325,
          -1335,
          -1335
         ],
         "yaxis": "y"
        },
        {
         "hoverinfo": "text",
         "marker": {
          "color": "rgb(35,205,205)"
         },
         "mode": "lines",
         "text": null,
         "type": "scatter",
         "x": [
          2.23606797749979,
          3.1622776601683795,
          3.1622776601683795,
          2.23606797749979
         ],
         "xaxis": "x",
         "y": [
          -1310,
          -1310,
          -1330,
          -1330
         ],
         "yaxis": "y"
        },
        {
         "hoverinfo": "text",
         "marker": {
          "color": "rgb(35,205,205)"
         },
         "mode": "lines",
         "text": null,
         "type": "scatter",
         "x": [
          0,
          3.1622776601683795,
          3.1622776601683795,
          0
         ],
         "xaxis": "x",
         "y": [
          -1355,
          -1355,
          -1365,
          -1365
         ],
         "yaxis": "y"
        },
        {
         "hoverinfo": "text",
         "marker": {
          "color": "rgb(35,205,205)"
         },
         "mode": "lines",
         "text": null,
         "type": "scatter",
         "x": [
          0,
          4.123105625617661,
          4.123105625617661,
          3.1622776601683795
         ],
         "xaxis": "x",
         "y": [
          -1345,
          -1345,
          -1360,
          -1360
         ],
         "yaxis": "y"
        },
        {
         "hoverinfo": "text",
         "marker": {
          "color": "rgb(35,205,205)"
         },
         "mode": "lines",
         "text": null,
         "type": "scatter",
         "x": [
          3.1622776601683795,
          9.899494936611665,
          9.899494936611665,
          4.123105625617661
         ],
         "xaxis": "x",
         "y": [
          -1320,
          -1320,
          -1352.5,
          -1352.5
         ],
         "yaxis": "y"
        },
        {
         "hoverinfo": "text",
         "marker": {
          "color": "rgb(35,205,205)"
         },
         "mode": "lines",
         "text": null,
         "type": "scatter",
         "x": [
          7.0710678118654755,
          13.341664064126334,
          13.341664064126334,
          9.899494936611665
         ],
         "xaxis": "x",
         "y": [
          -1282.5,
          -1282.5,
          -1336.25,
          -1336.25
         ],
         "yaxis": "y"
        },
        {
         "hoverinfo": "text",
         "marker": {
          "color": "rgb(35,205,205)"
         },
         "mode": "lines",
         "text": null,
         "type": "scatter",
         "x": [
          10.842174706872129,
          22.50672682498141,
          22.50672682498141,
          13.341664064126334
         ],
         "xaxis": "x",
         "y": [
          -1243.75,
          -1243.75,
          -1309.375,
          -1309.375
         ],
         "yaxis": "y"
        },
        {
         "hoverinfo": "text",
         "marker": {
          "color": "rgb(35,205,205)"
         },
         "mode": "lines",
         "text": null,
         "type": "scatter",
         "x": [
          6.085531533654189,
          38.625993551372325,
          38.625993551372325,
          22.50672682498141
         ],
         "xaxis": "x",
         "y": [
          -1212.5,
          -1212.5,
          -1276.5625,
          -1276.5625
         ],
         "yaxis": "y"
        },
        {
         "hoverinfo": "text",
         "marker": {
          "color": "rgb(35,205,205)"
         },
         "mode": "lines",
         "text": null,
         "type": "scatter",
         "x": [
          0,
          5.000113523715685,
          5.000113523715685,
          0
         ],
         "xaxis": "x",
         "y": [
          -1375,
          -1375,
          -1385,
          -1385
         ],
         "yaxis": "y"
        },
        {
         "hoverinfo": "text",
         "marker": {
          "color": "rgb(35,205,205)"
         },
         "mode": "lines",
         "text": null,
         "type": "scatter",
         "x": [
          0,
          9.44070762323157,
          9.44070762323157,
          0
         ],
         "xaxis": "x",
         "y": [
          -1395,
          -1395,
          -1405,
          -1405
         ],
         "yaxis": "y"
        },
        {
         "hoverinfo": "text",
         "marker": {
          "color": "rgb(35,205,205)"
         },
         "mode": "lines",
         "text": null,
         "type": "scatter",
         "x": [
          5.000113523715685,
          11.40510890273728,
          11.40510890273728,
          9.44070762323157
         ],
         "xaxis": "x",
         "y": [
          -1380,
          -1380,
          -1400,
          -1400
         ],
         "yaxis": "y"
        },
        {
         "hoverinfo": "text",
         "marker": {
          "color": "rgb(35,205,205)"
         },
         "mode": "lines",
         "text": null,
         "type": "scatter",
         "x": [
          0,
          13.941682350891073,
          13.941682350891073,
          0
         ],
         "xaxis": "x",
         "y": [
          -1415,
          -1415,
          -1425,
          -1425
         ],
         "yaxis": "y"
        },
        {
         "hoverinfo": "text",
         "marker": {
          "color": "rgb(35,205,205)"
         },
         "mode": "lines",
         "text": null,
         "type": "scatter",
         "x": [
          0,
          6.281373628546072,
          6.281373628546072,
          0
         ],
         "xaxis": "x",
         "y": [
          -1445,
          -1445,
          -1455,
          -1455
         ],
         "yaxis": "y"
        },
        {
         "hoverinfo": "text",
         "marker": {
          "color": "rgb(35,205,205)"
         },
         "mode": "lines",
         "text": null,
         "type": "scatter",
         "x": [
          0,
          15.377434323545792,
          15.377434323545792,
          6.281373628546072
         ],
         "xaxis": "x",
         "y": [
          -1435,
          -1435,
          -1450,
          -1450
         ],
         "yaxis": "y"
        },
        {
         "hoverinfo": "text",
         "marker": {
          "color": "rgb(35,205,205)"
         },
         "mode": "lines",
         "text": null,
         "type": "scatter",
         "x": [
          13.941682350891073,
          28.02696620792801,
          28.02696620792801,
          15.377434323545792
         ],
         "xaxis": "x",
         "y": [
          -1420,
          -1420,
          -1442.5,
          -1442.5
         ],
         "yaxis": "y"
        },
        {
         "hoverinfo": "text",
         "marker": {
          "color": "rgb(35,205,205)"
         },
         "mode": "lines",
         "text": null,
         "type": "scatter",
         "x": [
          11.40510890273728,
          46.32963260547924,
          46.32963260547924,
          28.02696620792801
         ],
         "xaxis": "x",
         "y": [
          -1390,
          -1390,
          -1431.25,
          -1431.25
         ],
         "yaxis": "y"
        },
        {
         "hoverinfo": "text",
         "marker": {
          "color": "rgb(35,205,205)"
         },
         "mode": "lines",
         "text": null,
         "type": "scatter",
         "x": [
          38.625993551372325,
          71.00704799825748,
          71.00704799825748,
          46.32963260547924
         ],
         "xaxis": "x",
         "y": [
          -1244.53125,
          -1244.53125,
          -1410.625,
          -1410.625
         ],
         "yaxis": "y"
        },
        {
         "hoverinfo": "text",
         "marker": {
          "color": "rgb(35,205,205)"
         },
         "mode": "lines",
         "text": null,
         "type": "scatter",
         "x": [
          0,
          1.8274768190607216,
          1.8274768190607216,
          0
         ],
         "xaxis": "x",
         "y": [
          -1485,
          -1485,
          -1495,
          -1495
         ],
         "yaxis": "y"
        },
        {
         "hoverinfo": "text",
         "marker": {
          "color": "rgb(35,205,205)"
         },
         "mode": "lines",
         "text": null,
         "type": "scatter",
         "x": [
          0,
          3.6225448298622114,
          3.6225448298622114,
          1.8274768190607216
         ],
         "xaxis": "x",
         "y": [
          -1475,
          -1475,
          -1490,
          -1490
         ],
         "yaxis": "y"
        },
        {
         "hoverinfo": "text",
         "marker": {
          "color": "rgb(35,205,205)"
         },
         "mode": "lines",
         "text": null,
         "type": "scatter",
         "x": [
          0,
          9.440488919773246,
          9.440488919773246,
          3.6225448298622114
         ],
         "xaxis": "x",
         "y": [
          -1465,
          -1465,
          -1482.5,
          -1482.5
         ],
         "yaxis": "y"
        },
        {
         "hoverinfo": "text",
         "marker": {
          "color": "rgb(35,205,205)"
         },
         "mode": "lines",
         "text": null,
         "type": "scatter",
         "x": [
          0,
          9.925301674211607,
          9.925301674211607,
          0
         ],
         "xaxis": "x",
         "y": [
          -1515,
          -1515,
          -1525,
          -1525
         ],
         "yaxis": "y"
        },
        {
         "hoverinfo": "text",
         "marker": {
          "color": "rgb(35,205,205)"
         },
         "mode": "lines",
         "text": null,
         "type": "scatter",
         "x": [
          0,
          19.65085008207373,
          19.65085008207373,
          9.925301674211607
         ],
         "xaxis": "x",
         "y": [
          -1505,
          -1505,
          -1520,
          -1520
         ],
         "yaxis": "y"
        },
        {
         "hoverinfo": "text",
         "marker": {
          "color": "rgb(35,205,205)"
         },
         "mode": "lines",
         "text": null,
         "type": "scatter",
         "x": [
          9.440488919773246,
          31.308695315549965,
          31.308695315549965,
          19.65085008207373
         ],
         "xaxis": "x",
         "y": [
          -1473.75,
          -1473.75,
          -1512.5,
          -1512.5
         ],
         "yaxis": "y"
        },
        {
         "hoverinfo": "text",
         "marker": {
          "color": "rgb(35,205,205)"
         },
         "mode": "lines",
         "text": null,
         "type": "scatter",
         "x": [
          0,
          9.374574101408168,
          9.374574101408168,
          0
         ],
         "xaxis": "x",
         "y": [
          -1535,
          -1535,
          -1545,
          -1545
         ],
         "yaxis": "y"
        },
        {
         "hoverinfo": "text",
         "marker": {
          "color": "rgb(35,205,205)"
         },
         "mode": "lines",
         "text": null,
         "type": "scatter",
         "x": [
          0,
          6.033450322720186,
          6.033450322720186,
          0
         ],
         "xaxis": "x",
         "y": [
          -1565,
          -1565,
          -1575,
          -1575
         ],
         "yaxis": "y"
        },
        {
         "hoverinfo": "text",
         "marker": {
          "color": "rgb(35,205,205)"
         },
         "mode": "lines",
         "text": null,
         "type": "scatter",
         "x": [
          0,
          12.100598669031267,
          12.100598669031267,
          6.033450322720186
         ],
         "xaxis": "x",
         "y": [
          -1555,
          -1555,
          -1570,
          -1570
         ],
         "yaxis": "y"
        },
        {
         "hoverinfo": "text",
         "marker": {
          "color": "rgb(35,205,205)"
         },
         "mode": "lines",
         "text": null,
         "type": "scatter",
         "x": [
          9.374574101408168,
          22.077194631490936,
          22.077194631490936,
          12.100598669031267
         ],
         "xaxis": "x",
         "y": [
          -1540,
          -1540,
          -1562.5,
          -1562.5
         ],
         "yaxis": "y"
        },
        {
         "hoverinfo": "text",
         "marker": {
          "color": "rgb(35,205,205)"
         },
         "mode": "lines",
         "text": null,
         "type": "scatter",
         "x": [
          0,
          7.228684022550419,
          7.228684022550419,
          0
         ],
         "xaxis": "x",
         "y": [
          -1605,
          -1605,
          -1615,
          -1615
         ],
         "yaxis": "y"
        },
        {
         "hoverinfo": "text",
         "marker": {
          "color": "rgb(35,205,205)"
         },
         "mode": "lines",
         "text": null,
         "type": "scatter",
         "x": [
          0,
          15.816659483448966,
          15.816659483448966,
          7.228684022550419
         ],
         "xaxis": "x",
         "y": [
          -1595,
          -1595,
          -1610,
          -1610
         ],
         "yaxis": "y"
        },
        {
         "hoverinfo": "text",
         "marker": {
          "color": "rgb(35,205,205)"
         },
         "mode": "lines",
         "text": null,
         "type": "scatter",
         "x": [
          0,
          28.236618053063246,
          28.236618053063246,
          15.816659483448966
         ],
         "xaxis": "x",
         "y": [
          -1585,
          -1585,
          -1602.5,
          -1602.5
         ],
         "yaxis": "y"
        },
        {
         "hoverinfo": "text",
         "marker": {
          "color": "rgb(35,205,205)"
         },
         "mode": "lines",
         "text": null,
         "type": "scatter",
         "x": [
          22.077194631490936,
          54.17455712401157,
          54.17455712401157,
          28.236618053063246
         ],
         "xaxis": "x",
         "y": [
          -1551.25,
          -1551.25,
          -1593.75,
          -1593.75
         ],
         "yaxis": "y"
        },
        {
         "hoverinfo": "text",
         "marker": {
          "color": "rgb(35,205,205)"
         },
         "mode": "lines",
         "text": null,
         "type": "scatter",
         "x": [
          31.308695315549965,
          71.12451473894996,
          71.12451473894996,
          54.17455712401157
         ],
         "xaxis": "x",
         "y": [
          -1493.125,
          -1493.125,
          -1572.5,
          -1572.5
         ],
         "yaxis": "y"
        },
        {
         "hoverinfo": "text",
         "marker": {
          "color": "rgb(35,205,205)"
         },
         "mode": "lines",
         "text": null,
         "type": "scatter",
         "x": [
          71.00704799825748,
          126.59418289883342,
          126.59418289883342,
          71.12451473894996
         ],
         "xaxis": "x",
         "y": [
          -1327.578125,
          -1327.578125,
          -1532.8125,
          -1532.8125
         ],
         "yaxis": "y"
        },
        {
         "hoverinfo": "text",
         "marker": {
          "color": "rgb(35,205,205)"
         },
         "mode": "lines",
         "text": null,
         "type": "scatter",
         "x": [
          0,
          4.489617099684207,
          4.489617099684207,
          0
         ],
         "xaxis": "x",
         "y": [
          -1645,
          -1645,
          -1655,
          -1655
         ],
         "yaxis": "y"
        },
        {
         "hoverinfo": "text",
         "marker": {
          "color": "rgb(35,205,205)"
         },
         "mode": "lines",
         "text": null,
         "type": "scatter",
         "x": [
          0,
          14.041058017065938,
          14.041058017065938,
          4.489617099684207
         ],
         "xaxis": "x",
         "y": [
          -1635,
          -1635,
          -1650,
          -1650
         ],
         "yaxis": "y"
        },
        {
         "hoverinfo": "text",
         "marker": {
          "color": "rgb(35,205,205)"
         },
         "mode": "lines",
         "text": null,
         "type": "scatter",
         "x": [
          0,
          16.653659540322423,
          16.653659540322423,
          0
         ],
         "xaxis": "x",
         "y": [
          -1665,
          -1665,
          -1675,
          -1675
         ],
         "yaxis": "y"
        },
        {
         "hoverinfo": "text",
         "marker": {
          "color": "rgb(35,205,205)"
         },
         "mode": "lines",
         "text": null,
         "type": "scatter",
         "x": [
          14.041058017065938,
          33.07231506639021,
          33.07231506639021,
          16.653659540322423
         ],
         "xaxis": "x",
         "y": [
          -1642.5,
          -1642.5,
          -1670,
          -1670
         ],
         "yaxis": "y"
        },
        {
         "hoverinfo": "text",
         "marker": {
          "color": "rgb(35,205,205)"
         },
         "mode": "lines",
         "text": null,
         "type": "scatter",
         "x": [
          0,
          39.63729709912321,
          39.63729709912321,
          33.07231506639021
         ],
         "xaxis": "x",
         "y": [
          -1625,
          -1625,
          -1656.25,
          -1656.25
         ],
         "yaxis": "y"
        },
        {
         "hoverinfo": "text",
         "marker": {
          "color": "rgb(35,205,205)"
         },
         "mode": "lines",
         "text": null,
         "type": "scatter",
         "x": [
          0,
          8.162827394690805,
          8.162827394690805,
          0
         ],
         "xaxis": "x",
         "y": [
          -1695,
          -1695,
          -1705,
          -1705
         ],
         "yaxis": "y"
        },
        {
         "hoverinfo": "text",
         "marker": {
          "color": "rgb(35,205,205)"
         },
         "mode": "lines",
         "text": null,
         "type": "scatter",
         "x": [
          0,
          9.223965730071425,
          9.223965730071425,
          0
         ],
         "xaxis": "x",
         "y": [
          -1715,
          -1715,
          -1725,
          -1725
         ],
         "yaxis": "y"
        },
        {
         "hoverinfo": "text",
         "marker": {
          "color": "rgb(35,205,205)"
         },
         "mode": "lines",
         "text": null,
         "type": "scatter",
         "x": [
          8.162827394690805,
          19.184036285685828,
          19.184036285685828,
          9.223965730071425
         ],
         "xaxis": "x",
         "y": [
          -1700,
          -1700,
          -1720,
          -1720
         ],
         "yaxis": "y"
        },
        {
         "hoverinfo": "text",
         "marker": {
          "color": "rgb(35,205,205)"
         },
         "mode": "lines",
         "text": null,
         "type": "scatter",
         "x": [
          0,
          30.118909341648767,
          30.118909341648767,
          19.184036285685828
         ],
         "xaxis": "x",
         "y": [
          -1685,
          -1685,
          -1710,
          -1710
         ],
         "yaxis": "y"
        },
        {
         "hoverinfo": "text",
         "marker": {
          "color": "rgb(35,205,205)"
         },
         "mode": "lines",
         "text": null,
         "type": "scatter",
         "x": [
          0,
          15.621928457926828,
          15.621928457926828,
          0
         ],
         "xaxis": "x",
         "y": [
          -1745,
          -1745,
          -1755,
          -1755
         ],
         "yaxis": "y"
        },
        {
         "hoverinfo": "text",
         "marker": {
          "color": "rgb(35,205,205)"
         },
         "mode": "lines",
         "text": null,
         "type": "scatter",
         "x": [
          0,
          32.03957812191709,
          32.03957812191709,
          15.621928457926828
         ],
         "xaxis": "x",
         "y": [
          -1735,
          -1735,
          -1750,
          -1750
         ],
         "yaxis": "y"
        },
        {
         "hoverinfo": "text",
         "marker": {
          "color": "rgb(35,205,205)"
         },
         "mode": "lines",
         "text": null,
         "type": "scatter",
         "x": [
          30.118909341648767,
          52.788491941919425,
          52.788491941919425,
          32.03957812191709
         ],
         "xaxis": "x",
         "y": [
          -1697.5,
          -1697.5,
          -1742.5,
          -1742.5
         ],
         "yaxis": "y"
        },
        {
         "hoverinfo": "text",
         "marker": {
          "color": "rgb(35,205,205)"
         },
         "mode": "lines",
         "text": null,
         "type": "scatter",
         "x": [
          39.63729709912321,
          76.85748489164904,
          76.85748489164904,
          52.788491941919425
         ],
         "xaxis": "x",
         "y": [
          -1640.625,
          -1640.625,
          -1720,
          -1720
         ],
         "yaxis": "y"
        },
        {
         "hoverinfo": "text",
         "marker": {
          "color": "rgb(35,205,205)"
         },
         "mode": "lines",
         "text": null,
         "type": "scatter",
         "x": [
          0,
          5.916383655484742,
          5.916383655484742,
          0
         ],
         "xaxis": "x",
         "y": [
          -1775,
          -1775,
          -1785,
          -1785
         ],
         "yaxis": "y"
        },
        {
         "hoverinfo": "text",
         "marker": {
          "color": "rgb(35,205,205)"
         },
         "mode": "lines",
         "text": null,
         "type": "scatter",
         "x": [
          0,
          12.047159311354122,
          12.047159311354122,
          5.916383655484742
         ],
         "xaxis": "x",
         "y": [
          -1765,
          -1765,
          -1780,
          -1780
         ],
         "yaxis": "y"
        },
        {
         "hoverinfo": "text",
         "marker": {
          "color": "rgb(35,205,205)"
         },
         "mode": "lines",
         "text": null,
         "type": "scatter",
         "x": [
          0,
          5.126790179770823,
          5.126790179770823,
          0
         ],
         "xaxis": "x",
         "y": [
          -1795,
          -1795,
          -1805,
          -1805
         ],
         "yaxis": "y"
        },
        {
         "hoverinfo": "text",
         "marker": {
          "color": "rgb(35,205,205)"
         },
         "mode": "lines",
         "text": null,
         "type": "scatter",
         "x": [
          0,
          9.90269873378555,
          9.90269873378555,
          0
         ],
         "xaxis": "x",
         "y": [
          -1815,
          -1815,
          -1825,
          -1825
         ],
         "yaxis": "y"
        },
        {
         "hoverinfo": "text",
         "marker": {
          "color": "rgb(35,205,205)"
         },
         "mode": "lines",
         "text": null,
         "type": "scatter",
         "x": [
          5.126790179770823,
          21.501252036736982,
          21.501252036736982,
          9.90269873378555
         ],
         "xaxis": "x",
         "y": [
          -1800,
          -1800,
          -1820,
          -1820
         ],
         "yaxis": "y"
        },
        {
         "hoverinfo": "text",
         "marker": {
          "color": "rgb(35,205,205)"
         },
         "mode": "lines",
         "text": null,
         "type": "scatter",
         "x": [
          12.047159311354122,
          32.984935763927034,
          32.984935763927034,
          21.501252036736982
         ],
         "xaxis": "x",
         "y": [
          -1772.5,
          -1772.5,
          -1810,
          -1810
         ],
         "yaxis": "y"
        },
        {
         "hoverinfo": "text",
         "marker": {
          "color": "rgb(35,205,205)"
         },
         "mode": "lines",
         "text": null,
         "type": "scatter",
         "x": [
          0,
          7.146027936642897,
          7.146027936642897,
          0
         ],
         "xaxis": "x",
         "y": [
          -1845,
          -1845,
          -1855,
          -1855
         ],
         "yaxis": "y"
        },
        {
         "hoverinfo": "text",
         "marker": {
          "color": "rgb(35,205,205)"
         },
         "mode": "lines",
         "text": null,
         "type": "scatter",
         "x": [
          0,
          27.03896821888618,
          27.03896821888618,
          7.146027936642897
         ],
         "xaxis": "x",
         "y": [
          -1835,
          -1835,
          -1850,
          -1850
         ],
         "yaxis": "y"
        },
        {
         "hoverinfo": "text",
         "marker": {
          "color": "rgb(35,205,205)"
         },
         "mode": "lines",
         "text": null,
         "type": "scatter",
         "x": [
          0,
          14.563788473680928,
          14.563788473680928,
          0
         ],
         "xaxis": "x",
         "y": [
          -1875,
          -1875,
          -1885,
          -1885
         ],
         "yaxis": "y"
        },
        {
         "hoverinfo": "text",
         "marker": {
          "color": "rgb(35,205,205)"
         },
         "mode": "lines",
         "text": null,
         "type": "scatter",
         "x": [
          0,
          27.65916087872358,
          27.65916087872358,
          14.563788473680928
         ],
         "xaxis": "x",
         "y": [
          -1865,
          -1865,
          -1880,
          -1880
         ],
         "yaxis": "y"
        },
        {
         "hoverinfo": "text",
         "marker": {
          "color": "rgb(35,205,205)"
         },
         "mode": "lines",
         "text": null,
         "type": "scatter",
         "x": [
          0,
          7.284339928299793,
          7.284339928299793,
          0
         ],
         "xaxis": "x",
         "y": [
          -1905,
          -1905,
          -1915,
          -1915
         ],
         "yaxis": "y"
        },
        {
         "hoverinfo": "text",
         "marker": {
          "color": "rgb(35,205,205)"
         },
         "mode": "lines",
         "text": null,
         "type": "scatter",
         "x": [
          0,
          20.61575045877792,
          20.61575045877792,
          7.284339928299793
         ],
         "xaxis": "x",
         "y": [
          -1895,
          -1895,
          -1910,
          -1910
         ],
         "yaxis": "y"
        },
        {
         "hoverinfo": "text",
         "marker": {
          "color": "rgb(35,205,205)"
         },
         "mode": "lines",
         "text": null,
         "type": "scatter",
         "x": [
          0,
          6.325199696842085,
          6.325199696842085,
          0
         ],
         "xaxis": "x",
         "y": [
          -1955,
          -1955,
          -1965,
          -1965
         ],
         "yaxis": "y"
        },
        {
         "hoverinfo": "text",
         "marker": {
          "color": "rgb(35,205,205)"
         },
         "mode": "lines",
         "text": null,
         "type": "scatter",
         "x": [
          0,
          14.560243652219613,
          14.560243652219613,
          6.325199696842085
         ],
         "xaxis": "x",
         "y": [
          -1945,
          -1945,
          -1960,
          -1960
         ],
         "yaxis": "y"
        },
        {
         "hoverinfo": "text",
         "marker": {
          "color": "rgb(35,205,205)"
         },
         "mode": "lines",
         "text": null,
         "type": "scatter",
         "x": [
          0,
          22.02292457817628,
          22.02292457817628,
          14.560243652219613
         ],
         "xaxis": "x",
         "y": [
          -1935,
          -1935,
          -1952.5,
          -1952.5
         ],
         "yaxis": "y"
        },
        {
         "hoverinfo": "text",
         "marker": {
          "color": "rgb(35,205,205)"
         },
         "mode": "lines",
         "text": null,
         "type": "scatter",
         "x": [
          0,
          32.01648411293209,
          32.01648411293209,
          22.02292457817628
         ],
         "xaxis": "x",
         "y": [
          -1925,
          -1925,
          -1943.75,
          -1943.75
         ],
         "yaxis": "y"
        },
        {
         "hoverinfo": "text",
         "marker": {
          "color": "rgb(35,205,205)"
         },
         "mode": "lines",
         "text": null,
         "type": "scatter",
         "x": [
          20.61575045877792,
          51.62377596280258,
          51.62377596280258,
          32.01648411293209
         ],
         "xaxis": "x",
         "y": [
          -1902.5,
          -1902.5,
          -1934.375,
          -1934.375
         ],
         "yaxis": "y"
        },
        {
         "hoverinfo": "text",
         "marker": {
          "color": "rgb(35,205,205)"
         },
         "mode": "lines",
         "text": null,
         "type": "scatter",
         "x": [
          27.65916087872358,
          66.0984219520913,
          66.0984219520913,
          51.62377596280258
         ],
         "xaxis": "x",
         "y": [
          -1872.5,
          -1872.5,
          -1918.4375,
          -1918.4375
         ],
         "yaxis": "y"
        },
        {
         "hoverinfo": "text",
         "marker": {
          "color": "rgb(35,205,205)"
         },
         "mode": "lines",
         "text": null,
         "type": "scatter",
         "x": [
          27.03896821888618,
          96.104181843905,
          96.104181843905,
          66.0984219520913
         ],
         "xaxis": "x",
         "y": [
          -1842.5,
          -1842.5,
          -1895.46875,
          -1895.46875
         ],
         "yaxis": "y"
        },
        {
         "hoverinfo": "text",
         "marker": {
          "color": "rgb(35,205,205)"
         },
         "mode": "lines",
         "text": null,
         "type": "scatter",
         "x": [
          32.984935763927034,
          115.12870243310785,
          115.12870243310785,
          96.104181843905
         ],
         "xaxis": "x",
         "y": [
          -1791.25,
          -1791.25,
          -1868.984375,
          -1868.984375
         ],
         "yaxis": "y"
        },
        {
         "hoverinfo": "text",
         "marker": {
          "color": "rgb(35,205,205)"
         },
         "mode": "lines",
         "text": null,
         "type": "scatter",
         "x": [
          76.85748489164904,
          157.27096861184955,
          157.27096861184955,
          115.12870243310785
         ],
         "xaxis": "x",
         "y": [
          -1680.3125,
          -1680.3125,
          -1830.1171875,
          -1830.1171875
         ],
         "yaxis": "y"
        },
        {
         "hoverinfo": "text",
         "marker": {
          "color": "rgb(35,205,205)"
         },
         "mode": "lines",
         "text": null,
         "type": "scatter",
         "x": [
          126.59418289883342,
          196.22413390142998,
          196.22413390142998,
          157.27096861184955
         ],
         "xaxis": "x",
         "y": [
          -1430.1953125,
          -1430.1953125,
          -1755.21484375,
          -1755.21484375
         ],
         "yaxis": "y"
        },
        {
         "hoverinfo": "text",
         "marker": {
          "color": "rgb(35,205,205)"
         },
         "mode": "lines",
         "text": null,
         "type": "scatter",
         "x": [
          144.67694611732787,
          288.821732291693,
          288.821732291693,
          196.22413390142998
         ],
         "xaxis": "x",
         "y": [
          -958.4765625,
          -958.4765625,
          -1592.705078125,
          -1592.705078125
         ],
         "yaxis": "y"
        },
        {
         "hoverinfo": "text",
         "marker": {
          "color": "rgb(0,116,217)"
         },
         "mode": "lines",
         "text": null,
         "type": "scatter",
         "x": [
          120.93407204030598,
          415.3093513854903,
          415.3093513854903,
          288.821732291693
         ],
         "xaxis": "x",
         "y": [
          -550.3515625,
          -550.3515625,
          -1275.5908203125,
          -1275.5908203125
         ],
         "yaxis": "y"
        },
        {
         "hoverinfo": "text",
         "marker": {
          "color": "rgb(0,116,217)"
         },
         "mode": "lines",
         "text": null,
         "type": "scatter",
         "x": [
          239.50943184603187,
          581.4589767315025,
          581.4589767315025,
          415.3093513854903
         ],
         "xaxis": "x",
         "y": [
          -270.05859375,
          -270.05859375,
          -912.97119140625,
          -912.97119140625
         ],
         "yaxis": "y"
        }
       ],
       "layout": {
        "autosize": false,
        "height": 2500,
        "hovermode": "closest",
        "margin": {
         "b": 30,
         "l": 180,
         "pad": 4,
         "r": 30,
         "t": 40
        },
        "showlegend": false,
        "title": "Dendrogram of Lyrics",
        "width": 900,
        "xaxis": {
         "mirror": "allticks",
         "rangemode": "tozero",
         "showgrid": false,
         "showline": true,
         "showticklabels": false,
         "ticks": "",
         "type": "linear",
         "zeroline": false
        },
        "yaxis": {
         "mirror": "allticks",
         "rangemode": "tozero",
         "showgrid": false,
         "showline": true,
         "showticklabels": true,
         "tickmode": "array",
         "ticks": "",
         "ticktext": [
          "Ignorant Shit",
          "A Night Off",
          "Sooner Than Later",
          "I Get Lonely",
          "Successful",
          "Uptown",
          "Little Bit",
          "Fancy Remix",
          "Rich Boy",
          "Miss Me",
          "Interlude",
          "On My Way",
          "Intro",
          "The Usual",
          "Ready For You",
          "November 18th",
          "Houstatlantavegas",
          "Ghetto University",
          "Lust For Life",
          "Ceces Interlude",
          "Unforgettable",
          "Well Be Fine",
          "Fancy",
          "Practice",
          "Doing It Wrong",
          "Look What Youve Done",
          "Light Up",
          "Find Your Love",
          "The Usual",
          "With You",
          "Faith",
          "Feeling",
          "On My Way",
          "Fall For Your Type",
          "Over",
          "Feel Love",
          "Show Me A Good Time",
          "Message From You",
          "Brand New",
          "Say Whats Real",
          "Brias Interlude",
          "Best I Ever Had",
          "The Calm",
          "Lets Call It Off",
          "Energy",
          "Weston Road Flows",
          "Change Locations",
          "Company",
          "Feel No Ways",
          "Pop Style",
          "Redemption",
          "GRAMMYs",
          "Im The Plug",
          "The Language",
          "Know Yourself",
          "6 God",
          "Scholarships",
          "Portland",
          "Sacrifices",
          "Headlines",
          "Lose You",
          "The Motto",
          "Plastic Bag",
          "How About Now",
          "Hype",
          "6 Man",
          "Jungle",
          "Jersey",
          "Since Way Back",
          "10 Bands",
          "Gyalchester",
          "Views",
          "Drake Speaks",
          "Own It",
          "Preach",
          "Headlines",
          "Over My Dead Body",
          "Cameras",
          "My Side",
          "Free Spirit",
          "Good Ones Go",
          "Madonna",
          "Lord Knows",
          "Try Harder",
          "Connect",
          "The Resistance",
          "Under Ground Kings",
          "The Real Her",
          "Aston Martin Music",
          "Headlines",
          "Light Up",
          "Fireworks",
          "Good Life",
          "Hate Sleeping Alone",
          "Crew Love",
          "The Real Her",
          "Moment 4 Life",
          "The Ride",
          "I Get Lonely Too",
          "Off That",
          "Shot For Me",
          "On My Way",
          "Shot For Me",
          "Under Ground Kings",
          "Make Me Proud",
          "Trust Issues",
          "Take Care",
          "Unstoppable",
          "Deuces Remix",
          "With You",
          "Loving You No More Remix",
          "Its Been A Pleasure",
          "What If I Kissed You",
          "Look What Youve Done",
          "Practice",
          "Miss Me",
          "Up All Night",
          "What If I Kissed You",
          "Thank Me Now",
          "Im Ready For You",
          "Faithful",
          "Talk Up",
          "Cant Have Everything",
          "Fake Love",
          "Blue Tint",
          "Elevate",
          "Jorja Interlude",
          "Finesse",
          "Cant Take a Joke",
          "Jaded",
          "8 Out of 10",
          "Sandras Rose",
          "Mob Ties",
          "Thats How You Feel",
          "Nice For What",
          "Peak",
          "Ratchet Happy Birthday",
          "One Dance",
          "Digital Dash",
          "Nothings Into Somethings",
          "30 For 30 Freestyle",
          "Skepta Interlude",
          "Too Good",
          "Used To",
          "Free Smoke",
          "Wednesday Night Interlude",
          "Summer Games",
          "Madiba Riddim",
          "Passionfruit",
          "Teenage Fever",
          "4422",
          "Im Upset",
          "Glow",
          "No Long Talk",
          "305 To My City",
          "Lord Knows",
          "Gods Plan",
          "KMT",
          "Is There More",
          "Legend",
          "Still Here",
          "Doing It Wrong",
          "Too Much",
          "From Time",
          "Keep The Family Close",
          "Hold On Were Going Home",
          "Blem",
          "With You",
          "Big Rings",
          "Emotionless",
          "U With Me",
          "Childs Play",
          "Round of Applause",
          "Get It Together",
          "Nonstop",
          "Controlla",
          "Take Care",
          "Make Me Proud",
          "The Ride",
          "Dreams Money Can Buy",
          "Shut It Down",
          "Marvins Room",
          "Poppin Bottles",
          "No Tellin",
          "Furthest Thing",
          "Over My Dead Body",
          "Worst Behaviour",
          "Diamonds Dancing",
          "Wildfire Remix",
          "Started From The Bottom",
          "Hotline Bling",
          "Club Paradise",
          "Well Be Fine",
          "6PM In New York",
          "Live From The Gutter",
          "Jumpman",
          "Tuscan Leather"
         ],
         "tickvals": [
          -5,
          -15,
          -25,
          -35,
          -45,
          -55,
          -65,
          -75,
          -85,
          -95,
          -105,
          -115,
          -125,
          -135,
          -145,
          -155,
          -165,
          -175,
          -185,
          -195,
          -205,
          -215,
          -225,
          -235,
          -245,
          -255,
          -265,
          -275,
          -285,
          -295,
          -305,
          -315,
          -325,
          -335,
          -345,
          -355,
          -365,
          -375,
          -385,
          -395,
          -405,
          -415,
          -425,
          -435,
          -445,
          -455,
          -465,
          -475,
          -485,
          -495,
          -505,
          -515,
          -525,
          -535,
          -545,
          -555,
          -565,
          -575,
          -585,
          -595,
          -605,
          -615,
          -625,
          -635,
          -645,
          -655,
          -665,
          -675,
          -685,
          -695,
          -705,
          -715,
          -725,
          -735,
          -745,
          -755,
          -765,
          -775,
          -785,
          -795,
          -805,
          -815,
          -825,
          -835,
          -845,
          -855,
          -865,
          -875,
          -885,
          -895,
          -905,
          -915,
          -925,
          -935,
          -945,
          -955,
          -965,
          -975,
          -985,
          -995,
          -1005,
          -1015,
          -1025,
          -1035,
          -1045,
          -1055,
          -1065,
          -1075,
          -1085,
          -1095,
          -1105,
          -1115,
          -1125,
          -1135,
          -1145,
          -1155,
          -1165,
          -1175,
          -1185,
          -1195,
          -1205,
          -1215,
          -1225,
          -1235,
          -1245,
          -1255,
          -1265,
          -1275,
          -1285,
          -1295,
          -1305,
          -1315,
          -1325,
          -1335,
          -1345,
          -1355,
          -1365,
          -1375,
          -1385,
          -1395,
          -1405,
          -1415,
          -1425,
          -1435,
          -1445,
          -1455,
          -1465,
          -1475,
          -1485,
          -1495,
          -1505,
          -1515,
          -1525,
          -1535,
          -1545,
          -1555,
          -1565,
          -1575,
          -1585,
          -1595,
          -1605,
          -1615,
          -1625,
          -1635,
          -1645,
          -1655,
          -1665,
          -1675,
          -1685,
          -1695,
          -1705,
          -1715,
          -1725,
          -1735,
          -1745,
          -1755,
          -1765,
          -1775,
          -1785,
          -1795,
          -1805,
          -1815,
          -1825,
          -1835,
          -1845,
          -1855,
          -1865,
          -1875,
          -1885,
          -1895,
          -1905,
          -1915,
          -1925,
          -1935,
          -1945,
          -1955,
          -1965
         ],
         "type": "linear",
         "zeroline": false
        }
       }
      },
      "text/html": [
       "<div id=\"0b444d35-14c1-4d68-af26-cb7e38b0782f\" style=\"height: 2500px; width: 900px;\" class=\"plotly-graph-div\"></div><script type=\"text/javascript\">require([\"plotly\"], function(Plotly) { window.PLOTLYENV=window.PLOTLYENV || {};window.PLOTLYENV.BASE_URL=\"https://plot.ly\";Plotly.newPlot(\"0b444d35-14c1-4d68-af26-cb7e38b0782f\", [{\"type\": \"scatter\", \"x\": [0.0, 11.25261524118115, 11.25261524118115, 0.0], \"y\": [-5.0, -5.0, -15.0, -15.0], \"mode\": \"lines\", \"marker\": {\"color\": \"rgb(61,153,112)\"}, \"text\": null, \"hoverinfo\": \"text\", \"xaxis\": \"x\", \"yaxis\": \"y\"}, {\"type\": \"scatter\", \"x\": [0.0, 9.800926654347263, 9.800926654347263, 0.0], \"y\": [-35.0, -35.0, -45.0, -45.0], \"mode\": \"lines\", \"marker\": {\"color\": \"rgb(61,153,112)\"}, \"text\": null, \"hoverinfo\": \"text\", \"xaxis\": \"x\", \"yaxis\": \"y\"}, {\"type\": \"scatter\", \"x\": [0.0, 15.811484870490794, 15.811484870490794, 9.800926654347263], \"y\": [-25.0, -25.0, -40.0, -40.0], \"mode\": \"lines\", \"marker\": {\"color\": \"rgb(61,153,112)\"}, \"text\": null, \"hoverinfo\": \"text\", \"xaxis\": \"x\", \"yaxis\": \"y\"}, {\"type\": \"scatter\", \"x\": [11.25261524118115, 35.696414954177094, 35.696414954177094, 15.811484870490794], \"y\": [-10.0, -10.0, -32.5, -32.5], \"mode\": \"lines\", \"marker\": {\"color\": \"rgb(61,153,112)\"}, \"text\": null, \"hoverinfo\": \"text\", \"xaxis\": \"x\", \"yaxis\": \"y\"}, {\"type\": \"scatter\", \"x\": [0.0, 19.648018417510084, 19.648018417510084, 0.0], \"y\": [-55.0, -55.0, -65.0, -65.0], \"mode\": \"lines\", \"marker\": {\"color\": \"rgb(61,153,112)\"}, \"text\": null, \"hoverinfo\": \"text\", \"xaxis\": \"x\", \"yaxis\": \"y\"}, {\"type\": \"scatter\", \"x\": [0.0, 6.025748778163549, 6.025748778163549, 0.0], \"y\": [-75.0, -75.0, -85.0, -85.0], \"mode\": \"lines\", \"marker\": {\"color\": \"rgb(61,153,112)\"}, \"text\": null, \"hoverinfo\": \"text\", \"xaxis\": \"x\", \"yaxis\": \"y\"}, {\"type\": \"scatter\", \"x\": [0.0, 8.070650216898846, 8.070650216898846, 0.0], \"y\": [-95.0, -95.0, -105.0, -105.0], \"mode\": \"lines\", \"marker\": {\"color\": \"rgb(61,153,112)\"}, \"text\": null, \"hoverinfo\": \"text\", \"xaxis\": \"x\", \"yaxis\": \"y\"}, {\"type\": \"scatter\", \"x\": [6.025748778163549, 14.890998472268167, 14.890998472268167, 8.070650216898846], \"y\": [-80.0, -80.0, -100.0, -100.0], \"mode\": \"lines\", \"marker\": {\"color\": \"rgb(61,153,112)\"}, \"text\": null, \"hoverinfo\": \"text\", \"xaxis\": \"x\", \"yaxis\": \"y\"}, {\"type\": \"scatter\", \"x\": [0.0, 8.83345196282109, 8.83345196282109, 0.0], \"y\": [-125.0, -125.0, -135.0, -135.0], \"mode\": \"lines\", \"marker\": {\"color\": \"rgb(61,153,112)\"}, \"text\": null, \"hoverinfo\": \"text\", \"xaxis\": \"x\", \"yaxis\": \"y\"}, {\"type\": \"scatter\", \"x\": [0.0, 11.359307181112356, 11.359307181112356, 8.83345196282109], \"y\": [-115.0, -115.0, -130.0, -130.0], \"mode\": \"lines\", \"marker\": {\"color\": \"rgb(61,153,112)\"}, \"text\": null, \"hoverinfo\": \"text\", \"xaxis\": \"x\", \"yaxis\": \"y\"}, {\"type\": \"scatter\", \"x\": [0.0, 5.385987711153342, 5.385987711153342, 0.0], \"y\": [-155.0, -155.0, -165.0, -165.0], \"mode\": \"lines\", \"marker\": {\"color\": \"rgb(61,153,112)\"}, \"text\": null, \"hoverinfo\": \"text\", \"xaxis\": \"x\", \"yaxis\": \"y\"}, {\"type\": \"scatter\", \"x\": [0.0, 14.944294298599635, 14.944294298599635, 5.385987711153342], \"y\": [-145.0, -145.0, -160.0, -160.0], \"mode\": \"lines\", \"marker\": {\"color\": \"rgb(61,153,112)\"}, \"text\": null, \"hoverinfo\": \"text\", \"xaxis\": \"x\", \"yaxis\": \"y\"}, {\"type\": \"scatter\", \"x\": [11.359307181112356, 20.524496485312607, 20.524496485312607, 14.944294298599635], \"y\": [-122.5, -122.5, -152.5, -152.5], \"mode\": \"lines\", \"marker\": {\"color\": \"rgb(61,153,112)\"}, \"text\": null, \"hoverinfo\": \"text\", \"xaxis\": \"x\", \"yaxis\": \"y\"}, {\"type\": \"scatter\", \"x\": [14.890998472268167, 31.450022072195726, 31.450022072195726, 20.524496485312607], \"y\": [-90.0, -90.0, -137.5, -137.5], \"mode\": \"lines\", \"marker\": {\"color\": \"rgb(61,153,112)\"}, \"text\": null, \"hoverinfo\": \"text\", \"xaxis\": \"x\", \"yaxis\": \"y\"}, {\"type\": \"scatter\", \"x\": [19.648018417510084, 39.06110460492974, 39.06110460492974, 31.450022072195726], \"y\": [-60.0, -60.0, -113.75, -113.75], \"mode\": \"lines\", \"marker\": {\"color\": \"rgb(61,153,112)\"}, \"text\": null, \"hoverinfo\": \"text\", \"xaxis\": \"x\", \"yaxis\": \"y\"}, {\"type\": \"scatter\", \"x\": [35.696414954177094, 46.284068530157086, 46.284068530157086, 39.06110460492974], \"y\": [-21.25, -21.25, -86.875, -86.875], \"mode\": \"lines\", \"marker\": {\"color\": \"rgb(61,153,112)\"}, \"text\": null, \"hoverinfo\": \"text\", \"xaxis\": \"x\", \"yaxis\": \"y\"}, {\"type\": \"scatter\", \"x\": [0.0, 32.932312099181836, 32.932312099181836, 0.0], \"y\": [-175.0, -175.0, -185.0, -185.0], \"mode\": \"lines\", \"marker\": {\"color\": \"rgb(61,153,112)\"}, \"text\": null, \"hoverinfo\": \"text\", \"xaxis\": \"x\", \"yaxis\": \"y\"}, {\"type\": \"scatter\", \"x\": [0.0, 5.385296586024882, 5.385296586024882, 0.0], \"y\": [-195.0, -195.0, -205.0, -205.0], \"mode\": \"lines\", \"marker\": {\"color\": \"rgb(61,153,112)\"}, \"text\": null, \"hoverinfo\": \"text\", \"xaxis\": \"x\", \"yaxis\": \"y\"}, {\"type\": \"scatter\", \"x\": [0.0, 12.451517252841542, 12.451517252841542, 0.0], \"y\": [-215.0, -215.0, -225.0, -225.0], \"mode\": \"lines\", \"marker\": {\"color\": \"rgb(61,153,112)\"}, \"text\": null, \"hoverinfo\": \"text\", \"xaxis\": \"x\", \"yaxis\": \"y\"}, {\"type\": \"scatter\", \"x\": [5.385296586024882, 20.61661612237131, 20.61661612237131, 12.451517252841542], \"y\": [-200.0, -200.0, -220.0, -220.0], \"mode\": \"lines\", \"marker\": {\"color\": \"rgb(61,153,112)\"}, \"text\": null, \"hoverinfo\": \"text\", \"xaxis\": \"x\", \"yaxis\": \"y\"}, {\"type\": \"scatter\", \"x\": [0.0, 4.905130337265406, 4.905130337265406, 0.0], \"y\": [-235.0, -235.0, -245.0, -245.0], \"mode\": \"lines\", \"marker\": {\"color\": \"rgb(61,153,112)\"}, \"text\": null, \"hoverinfo\": \"text\", \"xaxis\": \"x\", \"yaxis\": \"y\"}, {\"type\": \"scatter\", \"x\": [0.0, 6.78264683267024, 6.78264683267024, 0.0], \"y\": [-255.0, -255.0, -265.0, -265.0], \"mode\": \"lines\", \"marker\": {\"color\": \"rgb(61,153,112)\"}, \"text\": null, \"hoverinfo\": \"text\", \"xaxis\": \"x\", \"yaxis\": \"y\"}, {\"type\": \"scatter\", \"x\": [0.0, 8.075916618592846, 8.075916618592846, 0.0], \"y\": [-275.0, -275.0, -285.0, -285.0], \"mode\": \"lines\", \"marker\": {\"color\": \"rgb(61,153,112)\"}, \"text\": null, \"hoverinfo\": \"text\", \"xaxis\": \"x\", \"yaxis\": \"y\"}, {\"type\": \"scatter\", \"x\": [6.78264683267024, 12.247469287311976, 12.247469287311976, 8.075916618592846], \"y\": [-260.0, -260.0, -280.0, -280.0], \"mode\": \"lines\", \"marker\": {\"color\": \"rgb(61,153,112)\"}, \"text\": null, \"hoverinfo\": \"text\", \"xaxis\": \"x\", \"yaxis\": \"y\"}, {\"type\": \"scatter\", \"x\": [4.905130337265406, 23.366817168484022, 23.366817168484022, 12.247469287311976], \"y\": [-240.0, -240.0, -270.0, -270.0], \"mode\": \"lines\", \"marker\": {\"color\": \"rgb(61,153,112)\"}, \"text\": null, \"hoverinfo\": \"text\", \"xaxis\": \"x\", \"yaxis\": \"y\"}, {\"type\": \"scatter\", \"x\": [20.61661612237131, 40.37790593428464, 40.37790593428464, 23.366817168484022], \"y\": [-210.0, -210.0, -255.0, -255.0], \"mode\": \"lines\", \"marker\": {\"color\": \"rgb(61,153,112)\"}, \"text\": null, \"hoverinfo\": \"text\", \"xaxis\": \"x\", \"yaxis\": \"y\"}, {\"type\": \"scatter\", \"x\": [0.0, 7.882568749961157, 7.882568749961157, 0.0], \"y\": [-305.0, -305.0, -315.0, -315.0], \"mode\": \"lines\", \"marker\": {\"color\": \"rgb(61,153,112)\"}, \"text\": null, \"hoverinfo\": \"text\", \"xaxis\": \"x\", \"yaxis\": \"y\"}, {\"type\": \"scatter\", \"x\": [0.0, 23.60172801882864, 23.60172801882864, 7.882568749961157], \"y\": [-295.0, -295.0, -310.0, -310.0], \"mode\": \"lines\", \"marker\": {\"color\": \"rgb(61,153,112)\"}, \"text\": null, \"hoverinfo\": \"text\", \"xaxis\": \"x\", \"yaxis\": \"y\"}, {\"type\": \"scatter\", \"x\": [0.0, 3.5039464392162145, 3.5039464392162145, 0.0], \"y\": [-345.0, -345.0, -355.0, -355.0], \"mode\": \"lines\", \"marker\": {\"color\": \"rgb(61,153,112)\"}, \"text\": null, \"hoverinfo\": \"text\", \"xaxis\": \"x\", \"yaxis\": \"y\"}, {\"type\": \"scatter\", \"x\": [0.0, 7.563916927920096, 7.563916927920096, 3.5039464392162145], \"y\": [-335.0, -335.0, -350.0, -350.0], \"mode\": \"lines\", \"marker\": {\"color\": \"rgb(61,153,112)\"}, \"text\": null, \"hoverinfo\": \"text\", \"xaxis\": \"x\", \"yaxis\": \"y\"}, {\"type\": \"scatter\", \"x\": [0.0, 13.638184943855062, 13.638184943855062, 7.563916927920096], \"y\": [-325.0, -325.0, -342.5, -342.5], \"mode\": \"lines\", \"marker\": {\"color\": \"rgb(61,153,112)\"}, \"text\": null, \"hoverinfo\": \"text\", \"xaxis\": \"x\", \"yaxis\": \"y\"}, {\"type\": \"scatter\", \"x\": [0.0, 20.9102008081131, 20.9102008081131, 0.0], \"y\": [-365.0, -365.0, -375.0, -375.0], \"mode\": \"lines\", \"marker\": {\"color\": \"rgb(61,153,112)\"}, \"text\": null, \"hoverinfo\": \"text\", \"xaxis\": \"x\", \"yaxis\": \"y\"}, {\"type\": \"scatter\", \"x\": [13.638184943855062, 26.000267830734092, 26.000267830734092, 20.9102008081131], \"y\": [-333.75, -333.75, -370.0, -370.0], \"mode\": \"lines\", \"marker\": {\"color\": \"rgb(61,153,112)\"}, \"text\": null, \"hoverinfo\": \"text\", \"xaxis\": \"x\", \"yaxis\": \"y\"}, {\"type\": \"scatter\", \"x\": [23.60172801882864, 47.69324101644715, 47.69324101644715, 26.000267830734092], \"y\": [-302.5, -302.5, -351.875, -351.875], \"mode\": \"lines\", \"marker\": {\"color\": \"rgb(61,153,112)\"}, \"text\": null, \"hoverinfo\": \"text\", \"xaxis\": \"x\", \"yaxis\": \"y\"}, {\"type\": \"scatter\", \"x\": [40.37790593428464, 66.74091633430851, 66.74091633430851, 47.69324101644715], \"y\": [-232.5, -232.5, -327.1875, -327.1875], \"mode\": \"lines\", \"marker\": {\"color\": \"rgb(61,153,112)\"}, \"text\": null, \"hoverinfo\": \"text\", \"xaxis\": \"x\", \"yaxis\": \"y\"}, {\"type\": \"scatter\", \"x\": [32.932312099181836, 77.02167753869846, 77.02167753869846, 66.74091633430851], \"y\": [-180.0, -180.0, -279.84375, -279.84375], \"mode\": \"lines\", \"marker\": {\"color\": \"rgb(61,153,112)\"}, \"text\": null, \"hoverinfo\": \"text\", \"xaxis\": \"x\", \"yaxis\": \"y\"}, {\"type\": \"scatter\", \"x\": [46.284068530157086, 123.23361224774429, 123.23361224774429, 77.02167753869846], \"y\": [-54.0625, -54.0625, -229.921875, -229.921875], \"mode\": \"lines\", \"marker\": {\"color\": \"rgb(61,153,112)\"}, \"text\": null, \"hoverinfo\": \"text\", \"xaxis\": \"x\", \"yaxis\": \"y\"}, {\"type\": \"scatter\", \"x\": [0.0, 23.233981334047026, 23.233981334047026, 0.0], \"y\": [-395.0, -395.0, -405.0, -405.0], \"mode\": \"lines\", \"marker\": {\"color\": \"rgb(61,153,112)\"}, \"text\": null, \"hoverinfo\": \"text\", \"xaxis\": \"x\", \"yaxis\": \"y\"}, {\"type\": \"scatter\", \"x\": [0.0, 12.960507393369607, 12.960507393369607, 0.0], \"y\": [-425.0, -425.0, -435.0, -435.0], \"mode\": \"lines\", \"marker\": {\"color\": \"rgb(61,153,112)\"}, \"text\": null, \"hoverinfo\": \"text\", \"xaxis\": \"x\", \"yaxis\": \"y\"}, {\"type\": \"scatter\", \"x\": [0.0, 32.94889257613108, 32.94889257613108, 12.960507393369607], \"y\": [-415.0, -415.0, -430.0, -430.0], \"mode\": \"lines\", \"marker\": {\"color\": \"rgb(61,153,112)\"}, \"text\": null, \"hoverinfo\": \"text\", \"xaxis\": \"x\", \"yaxis\": \"y\"}, {\"type\": \"scatter\", \"x\": [23.233981334047026, 79.54573565938148, 79.54573565938148, 32.94889257613108], \"y\": [-400.0, -400.0, -422.5, -422.5], \"mode\": \"lines\", \"marker\": {\"color\": \"rgb(61,153,112)\"}, \"text\": null, \"hoverinfo\": \"text\", \"xaxis\": \"x\", \"yaxis\": \"y\"}, {\"type\": \"scatter\", \"x\": [0.0, 144.70078191669788, 144.70078191669788, 79.54573565938148], \"y\": [-385.0, -385.0, -411.25, -411.25], \"mode\": \"lines\", \"marker\": {\"color\": \"rgb(61,153,112)\"}, \"text\": null, \"hoverinfo\": \"text\", \"xaxis\": \"x\", \"yaxis\": \"y\"}, {\"type\": \"scatter\", \"x\": [123.23361224774429, 239.50943184603187, 239.50943184603187, 144.70078191669788], \"y\": [-141.9921875, -141.9921875, -398.125, -398.125], \"mode\": \"lines\", \"marker\": {\"color\": \"rgb(61,153,112)\"}, \"text\": null, \"hoverinfo\": \"text\", \"xaxis\": \"x\", \"yaxis\": \"y\"}, {\"type\": \"scatter\", \"x\": [0.0, 3.6085601693614624, 3.6085601693614624, 0.0], \"y\": [-455.0, -455.0, -465.0, -465.0], \"mode\": \"lines\", \"marker\": {\"color\": \"rgb(255,65,54)\"}, \"text\": null, \"hoverinfo\": \"text\", \"xaxis\": \"x\", \"yaxis\": \"y\"}, {\"type\": \"scatter\", \"x\": [0.0, 23.537212276729473, 23.537212276729473, 3.6085601693614624], \"y\": [-445.0, -445.0, -460.0, -460.0], \"mode\": \"lines\", \"marker\": {\"color\": \"rgb(255,65,54)\"}, \"text\": null, \"hoverinfo\": \"text\", \"xaxis\": \"x\", \"yaxis\": \"y\"}, {\"type\": \"scatter\", \"x\": [0.0, 5.658792327594033, 5.658792327594033, 0.0], \"y\": [-485.0, -485.0, -495.0, -495.0], \"mode\": \"lines\", \"marker\": {\"color\": \"rgb(255,65,54)\"}, \"text\": null, \"hoverinfo\": \"text\", \"xaxis\": \"x\", \"yaxis\": \"y\"}, {\"type\": \"scatter\", \"x\": [0.0, 12.369880696420696, 12.369880696420696, 5.658792327594033], \"y\": [-475.0, -475.0, -490.0, -490.0], \"mode\": \"lines\", \"marker\": {\"color\": \"rgb(255,65,54)\"}, \"text\": null, \"hoverinfo\": \"text\", \"xaxis\": \"x\", \"yaxis\": \"y\"}, {\"type\": \"scatter\", \"x\": [0.0, 5.099348225436066, 5.099348225436066, 0.0], \"y\": [-515.0, -515.0, -525.0, -525.0], \"mode\": \"lines\", \"marker\": {\"color\": \"rgb(255,65,54)\"}, \"text\": null, \"hoverinfo\": \"text\", \"xaxis\": \"x\", \"yaxis\": \"y\"}, {\"type\": \"scatter\", \"x\": [0.0, 7.211529047293172, 7.211529047293172, 5.099348225436066], \"y\": [-505.0, -505.0, -520.0, -520.0], \"mode\": \"lines\", \"marker\": {\"color\": \"rgb(255,65,54)\"}, \"text\": null, \"hoverinfo\": \"text\", \"xaxis\": \"x\", \"yaxis\": \"y\"}, {\"type\": \"scatter\", \"x\": [0.0, 5.099035551168161, 5.099035551168161, 0.0], \"y\": [-545.0, -545.0, -555.0, -555.0], \"mode\": \"lines\", \"marker\": {\"color\": \"rgb(255,65,54)\"}, \"text\": null, \"hoverinfo\": \"text\", \"xaxis\": \"x\", \"yaxis\": \"y\"}, {\"type\": \"scatter\", \"x\": [0.0, 10.296543469946632, 10.296543469946632, 5.099035551168161], \"y\": [-535.0, -535.0, -550.0, -550.0], \"mode\": \"lines\", \"marker\": {\"color\": \"rgb(255,65,54)\"}, \"text\": null, \"hoverinfo\": \"text\", \"xaxis\": \"x\", \"yaxis\": \"y\"}, {\"type\": \"scatter\", \"x\": [7.211529047293172, 23.411531118281907, 23.411531118281907, 10.296543469946632], \"y\": [-512.5, -512.5, -542.5, -542.5], \"mode\": \"lines\", \"marker\": {\"color\": \"rgb(255,65,54)\"}, \"text\": null, \"hoverinfo\": \"text\", \"xaxis\": \"x\", \"yaxis\": \"y\"}, {\"type\": \"scatter\", \"x\": [12.369880696420696, 30.414601666891315, 30.414601666891315, 23.411531118281907], \"y\": [-482.5, -482.5, -527.5, -527.5], \"mode\": \"lines\", \"marker\": {\"color\": \"rgb(255,65,54)\"}, \"text\": null, \"hoverinfo\": \"text\", \"xaxis\": \"x\", \"yaxis\": \"y\"}, {\"type\": \"scatter\", \"x\": [23.537212276729473, 62.37026445253379, 62.37026445253379, 30.414601666891315], \"y\": [-452.5, -452.5, -505.0, -505.0], \"mode\": \"lines\", \"marker\": {\"color\": \"rgb(255,65,54)\"}, \"text\": null, \"hoverinfo\": \"text\", \"xaxis\": \"x\", \"yaxis\": \"y\"}, {\"type\": \"scatter\", \"x\": [0.0, 3.162321726750512, 3.162321726750512, 0.0], \"y\": [-575.0, -575.0, -585.0, -585.0], \"mode\": \"lines\", \"marker\": {\"color\": \"rgb(255,65,54)\"}, \"text\": null, \"hoverinfo\": \"text\", \"xaxis\": \"x\", \"yaxis\": \"y\"}, {\"type\": \"scatter\", \"x\": [0.0, 2.8752314071639393, 2.8752314071639393, 0.0], \"y\": [-605.0, -605.0, -615.0, -615.0], \"mode\": \"lines\", \"marker\": {\"color\": \"rgb(255,65,54)\"}, \"text\": null, \"hoverinfo\": \"text\", \"xaxis\": \"x\", \"yaxis\": \"y\"}, {\"type\": \"scatter\", \"x\": [0.0, 5.099026819898445, 5.099026819898445, 2.8752314071639393], \"y\": [-595.0, -595.0, -610.0, -610.0], \"mode\": \"lines\", \"marker\": {\"color\": \"rgb(255,65,54)\"}, \"text\": null, \"hoverinfo\": \"text\", \"xaxis\": \"x\", \"yaxis\": \"y\"}, {\"type\": \"scatter\", \"x\": [3.162321726750512, 19.24775379464954, 19.24775379464954, 5.099026819898445], \"y\": [-580.0, -580.0, -602.5, -602.5], \"mode\": \"lines\", \"marker\": {\"color\": \"rgb(255,65,54)\"}, \"text\": null, \"hoverinfo\": \"text\", \"xaxis\": \"x\", \"yaxis\": \"y\"}, {\"type\": \"scatter\", \"x\": [0.0, 45.17964983769838, 45.17964983769838, 19.24775379464954], \"y\": [-565.0, -565.0, -591.25, -591.25], \"mode\": \"lines\", \"marker\": {\"color\": \"rgb(255,65,54)\"}, \"text\": null, \"hoverinfo\": \"text\", \"xaxis\": \"x\", \"yaxis\": \"y\"}, {\"type\": \"scatter\", \"x\": [0.0, 5.389877570341495, 5.389877570341495, 0.0], \"y\": [-645.0, -645.0, -655.0, -655.0], \"mode\": \"lines\", \"marker\": {\"color\": \"rgb(255,65,54)\"}, \"text\": null, \"hoverinfo\": \"text\", \"xaxis\": \"x\", \"yaxis\": \"y\"}, {\"type\": \"scatter\", \"x\": [0.0, 14.142144937040351, 14.142144937040351, 5.389877570341495], \"y\": [-635.0, -635.0, -650.0, -650.0], \"mode\": \"lines\", \"marker\": {\"color\": \"rgb(255,65,54)\"}, \"text\": null, \"hoverinfo\": \"text\", \"xaxis\": \"x\", \"yaxis\": \"y\"}, {\"type\": \"scatter\", \"x\": [0.0, 20.61570910358761, 20.61570910358761, 14.142144937040351], \"y\": [-625.0, -625.0, -642.5, -642.5], \"mode\": \"lines\", \"marker\": {\"color\": \"rgb(255,65,54)\"}, \"text\": null, \"hoverinfo\": \"text\", \"xaxis\": \"x\", \"yaxis\": \"y\"}, {\"type\": \"scatter\", \"x\": [0.0, 2.8425234514473394, 2.8425234514473394, 0.0], \"y\": [-685.0, -685.0, -695.0, -695.0], \"mode\": \"lines\", \"marker\": {\"color\": \"rgb(255,65,54)\"}, \"text\": null, \"hoverinfo\": \"text\", \"xaxis\": \"x\", \"yaxis\": \"y\"}, {\"type\": \"scatter\", \"x\": [0.0, 8.54401051498811, 8.54401051498811, 2.8425234514473394], \"y\": [-675.0, -675.0, -690.0, -690.0], \"mode\": \"lines\", \"marker\": {\"color\": \"rgb(255,65,54)\"}, \"text\": null, \"hoverinfo\": \"text\", \"xaxis\": \"x\", \"yaxis\": \"y\"}, {\"type\": \"scatter\", \"x\": [0.0, 15.652574369455301, 15.652574369455301, 8.54401051498811], \"y\": [-665.0, -665.0, -682.5, -682.5], \"mode\": \"lines\", \"marker\": {\"color\": \"rgb(255,65,54)\"}, \"text\": null, \"hoverinfo\": \"text\", \"xaxis\": \"x\", \"yaxis\": \"y\"}, {\"type\": \"scatter\", \"x\": [0.0, 5.038851262760594, 5.038851262760594, 0.0], \"y\": [-705.0, -705.0, -715.0, -715.0], \"mode\": \"lines\", \"marker\": {\"color\": \"rgb(255,65,54)\"}, \"text\": null, \"hoverinfo\": \"text\", \"xaxis\": \"x\", \"yaxis\": \"y\"}, {\"type\": \"scatter\", \"x\": [0.0, 3.63938113689497, 3.63938113689497, 0.0], \"y\": [-745.0, -745.0, -755.0, -755.0], \"mode\": \"lines\", \"marker\": {\"color\": \"rgb(255,65,54)\"}, \"text\": null, \"hoverinfo\": \"text\", \"xaxis\": \"x\", \"yaxis\": \"y\"}, {\"type\": \"scatter\", \"x\": [0.0, 10.050156014642873, 10.050156014642873, 3.63938113689497], \"y\": [-735.0, -735.0, -750.0, -750.0], \"mode\": \"lines\", \"marker\": {\"color\": \"rgb(255,65,54)\"}, \"text\": null, \"hoverinfo\": \"text\", \"xaxis\": \"x\", \"yaxis\": \"y\"}, {\"type\": \"scatter\", \"x\": [0.0, 11.40721462410635, 11.40721462410635, 10.050156014642873], \"y\": [-725.0, -725.0, -742.5, -742.5], \"mode\": \"lines\", \"marker\": {\"color\": \"rgb(255,65,54)\"}, \"text\": null, \"hoverinfo\": \"text\", \"xaxis\": \"x\", \"yaxis\": \"y\"}, {\"type\": \"scatter\", \"x\": [5.038851262760594, 28.861924264879686, 28.861924264879686, 11.40721462410635], \"y\": [-710.0, -710.0, -733.75, -733.75], \"mode\": \"lines\", \"marker\": {\"color\": \"rgb(255,65,54)\"}, \"text\": null, \"hoverinfo\": \"text\", \"xaxis\": \"x\", \"yaxis\": \"y\"}, {\"type\": \"scatter\", \"x\": [15.652574369455301, 37.57971510333869, 37.57971510333869, 28.861924264879686], \"y\": [-673.75, -673.75, -721.875, -721.875], \"mode\": \"lines\", \"marker\": {\"color\": \"rgb(255,65,54)\"}, \"text\": null, \"hoverinfo\": \"text\", \"xaxis\": \"x\", \"yaxis\": \"y\"}, {\"type\": \"scatter\", \"x\": [20.61570910358761, 62.968245970335545, 62.968245970335545, 37.57971510333869], \"y\": [-633.75, -633.75, -697.8125, -697.8125], \"mode\": \"lines\", \"marker\": {\"color\": \"rgb(255,65,54)\"}, \"text\": null, \"hoverinfo\": \"text\", \"xaxis\": \"x\", \"yaxis\": \"y\"}, {\"type\": \"scatter\", \"x\": [45.17964983769838, 88.14271379971856, 88.14271379971856, 62.968245970335545], \"y\": [-578.125, -578.125, -665.78125, -665.78125], \"mode\": \"lines\", \"marker\": {\"color\": \"rgb(255,65,54)\"}, \"text\": null, \"hoverinfo\": \"text\", \"xaxis\": \"x\", \"yaxis\": \"y\"}, {\"type\": \"scatter\", \"x\": [62.37026445253379, 120.93407204030598, 120.93407204030598, 88.14271379971856], \"y\": [-478.75, -478.75, -621.953125, -621.953125], \"mode\": \"lines\", \"marker\": {\"color\": \"rgb(255,65,54)\"}, \"text\": null, \"hoverinfo\": \"text\", \"xaxis\": \"x\", \"yaxis\": \"y\"}, {\"type\": \"scatter\", \"x\": [0.0, 3.6131906143231394, 3.6131906143231394, 0.0], \"y\": [-795.0, -795.0, -805.0, -805.0], \"mode\": \"lines\", \"marker\": {\"color\": \"rgb(35,205,205)\"}, \"text\": null, \"hoverinfo\": \"text\", \"xaxis\": \"x\", \"yaxis\": \"y\"}, {\"type\": \"scatter\", \"x\": [0.0, 5.918389145530353, 5.918389145530353, 3.6131906143231394], \"y\": [-785.0, -785.0, -800.0, -800.0], \"mode\": \"lines\", \"marker\": {\"color\": \"rgb(35,205,205)\"}, \"text\": null, \"hoverinfo\": \"text\", \"xaxis\": \"x\", \"yaxis\": \"y\"}, {\"type\": \"scatter\", \"x\": [0.0, 11.180431774054792, 11.180431774054792, 5.918389145530353], \"y\": [-775.0, -775.0, -792.5, -792.5], \"mode\": \"lines\", \"marker\": {\"color\": \"rgb(35,205,205)\"}, \"text\": null, \"hoverinfo\": \"text\", \"xaxis\": \"x\", \"yaxis\": \"y\"}, {\"type\": \"scatter\", \"x\": [0.0, 17.49377148373758, 17.49377148373758, 11.180431774054792], \"y\": [-765.0, -765.0, -783.75, -783.75], \"mode\": \"lines\", \"marker\": {\"color\": \"rgb(35,205,205)\"}, \"text\": null, \"hoverinfo\": \"text\", \"xaxis\": \"x\", \"yaxis\": \"y\"}, {\"type\": \"scatter\", \"x\": [0.0, 6.136416705811266, 6.136416705811266, 0.0], \"y\": [-825.0, -825.0, -835.0, -835.0], \"mode\": \"lines\", \"marker\": {\"color\": \"rgb(35,205,205)\"}, \"text\": null, \"hoverinfo\": \"text\", \"xaxis\": \"x\", \"yaxis\": \"y\"}, {\"type\": \"scatter\", \"x\": [0.0, 16.140792433207274, 16.140792433207274, 6.136416705811266], \"y\": [-815.0, -815.0, -830.0, -830.0], \"mode\": \"lines\", \"marker\": {\"color\": \"rgb(35,205,205)\"}, \"text\": null, \"hoverinfo\": \"text\", \"xaxis\": \"x\", \"yaxis\": \"y\"}, {\"type\": \"scatter\", \"x\": [0.0, 21.667256258277163, 21.667256258277163, 0.0], \"y\": [-845.0, -845.0, -855.0, -855.0], \"mode\": \"lines\", \"marker\": {\"color\": \"rgb(35,205,205)\"}, \"text\": null, \"hoverinfo\": \"text\", \"xaxis\": \"x\", \"yaxis\": \"y\"}, {\"type\": \"scatter\", \"x\": [16.140792433207274, 33.74930356016123, 33.74930356016123, 21.667256258277163], \"y\": [-822.5, -822.5, -850.0, -850.0], \"mode\": \"lines\", \"marker\": {\"color\": \"rgb(35,205,205)\"}, \"text\": null, \"hoverinfo\": \"text\", \"xaxis\": \"x\", \"yaxis\": \"y\"}, {\"type\": \"scatter\", \"x\": [17.49377148373758, 49.8318031626773, 49.8318031626773, 33.74930356016123], \"y\": [-774.375, -774.375, -836.25, -836.25], \"mode\": \"lines\", \"marker\": {\"color\": \"rgb(35,205,205)\"}, \"text\": null, \"hoverinfo\": \"text\", \"xaxis\": \"x\", \"yaxis\": \"y\"}, {\"type\": \"scatter\", \"x\": [0.0, 5.385197014807125, 5.385197014807125, 0.0], \"y\": [-865.0, -865.0, -875.0, -875.0], \"mode\": \"lines\", \"marker\": {\"color\": \"rgb(35,205,205)\"}, \"text\": null, \"hoverinfo\": \"text\", \"xaxis\": \"x\", \"yaxis\": \"y\"}, {\"type\": \"scatter\", \"x\": [0.0, 4.474630669181541, 4.474630669181541, 0.0], \"y\": [-885.0, -885.0, -895.0, -895.0], \"mode\": \"lines\", \"marker\": {\"color\": \"rgb(35,205,205)\"}, \"text\": null, \"hoverinfo\": \"text\", \"xaxis\": \"x\", \"yaxis\": \"y\"}, {\"type\": \"scatter\", \"x\": [0.0, 8.310407942172514, 8.310407942172514, 0.0], \"y\": [-905.0, -905.0, -915.0, -915.0], \"mode\": \"lines\", \"marker\": {\"color\": \"rgb(35,205,205)\"}, \"text\": null, \"hoverinfo\": \"text\", \"xaxis\": \"x\", \"yaxis\": \"y\"}, {\"type\": \"scatter\", \"x\": [4.474630669181541, 16.52567166542233, 16.52567166542233, 8.310407942172514], \"y\": [-890.0, -890.0, -910.0, -910.0], \"mode\": \"lines\", \"marker\": {\"color\": \"rgb(35,205,205)\"}, \"text\": null, \"hoverinfo\": \"text\", \"xaxis\": \"x\", \"yaxis\": \"y\"}, {\"type\": \"scatter\", \"x\": [5.385197014807125, 29.69884269452201, 29.69884269452201, 16.52567166542233], \"y\": [-870.0, -870.0, -900.0, -900.0], \"mode\": \"lines\", \"marker\": {\"color\": \"rgb(35,205,205)\"}, \"text\": null, \"hoverinfo\": \"text\", \"xaxis\": \"x\", \"yaxis\": \"y\"}, {\"type\": \"scatter\", \"x\": [0.0, 33.615817130408004, 33.615817130408004, 0.0], \"y\": [-925.0, -925.0, -935.0, -935.0], \"mode\": \"lines\", \"marker\": {\"color\": \"rgb(35,205,205)\"}, \"text\": null, \"hoverinfo\": \"text\", \"xaxis\": \"x\", \"yaxis\": \"y\"}, {\"type\": \"scatter\", \"x\": [29.69884269452201, 64.84598927318075, 64.84598927318075, 33.615817130408004], \"y\": [-885.0, -885.0, -930.0, -930.0], \"mode\": \"lines\", \"marker\": {\"color\": \"rgb(35,205,205)\"}, \"text\": null, \"hoverinfo\": \"text\", \"xaxis\": \"x\", \"yaxis\": \"y\"}, {\"type\": \"scatter\", \"x\": [49.8318031626773, 89.68291617680664, 89.68291617680664, 64.84598927318075], \"y\": [-805.3125, -805.3125, -907.5, -907.5], \"mode\": \"lines\", \"marker\": {\"color\": \"rgb(35,205,205)\"}, \"text\": null, \"hoverinfo\": \"text\", \"xaxis\": \"x\", \"yaxis\": \"y\"}, {\"type\": \"scatter\", \"x\": [0.0, 3.3234781224658727, 3.3234781224658727, 0.0], \"y\": [-955.0, -955.0, -965.0, -965.0], \"mode\": \"lines\", \"marker\": {\"color\": \"rgb(35,205,205)\"}, \"text\": null, \"hoverinfo\": \"text\", \"xaxis\": \"x\", \"yaxis\": \"y\"}, {\"type\": \"scatter\", \"x\": [0.0, 12.692562277731357, 12.692562277731357, 3.3234781224658727], \"y\": [-945.0, -945.0, -960.0, -960.0], \"mode\": \"lines\", \"marker\": {\"color\": \"rgb(35,205,205)\"}, \"text\": null, \"hoverinfo\": \"text\", \"xaxis\": \"x\", \"yaxis\": \"y\"}, {\"type\": \"scatter\", \"x\": [0.0, 21.95847244651405, 21.95847244651405, 0.0], \"y\": [-975.0, -975.0, -985.0, -985.0], \"mode\": \"lines\", \"marker\": {\"color\": \"rgb(35,205,205)\"}, \"text\": null, \"hoverinfo\": \"text\", \"xaxis\": \"x\", \"yaxis\": \"y\"}, {\"type\": \"scatter\", \"x\": [12.692562277731357, 25.105459127676447, 25.105459127676447, 21.95847244651405], \"y\": [-952.5, -952.5, -980.0, -980.0], \"mode\": \"lines\", \"marker\": {\"color\": \"rgb(35,205,205)\"}, \"text\": null, \"hoverinfo\": \"text\", \"xaxis\": \"x\", \"yaxis\": \"y\"}, {\"type\": \"scatter\", \"x\": [0.0, 9.27446199981869, 9.27446199981869, 0.0], \"y\": [-995.0, -995.0, -1005.0, -1005.0], \"mode\": \"lines\", \"marker\": {\"color\": \"rgb(35,205,205)\"}, \"text\": null, \"hoverinfo\": \"text\", \"xaxis\": \"x\", \"yaxis\": \"y\"}, {\"type\": \"scatter\", \"x\": [0.0, 11.875977238297429, 11.875977238297429, 0.0], \"y\": [-1015.0, -1015.0, -1025.0, -1025.0], \"mode\": \"lines\", \"marker\": {\"color\": \"rgb(35,205,205)\"}, \"text\": null, \"hoverinfo\": \"text\", \"xaxis\": \"x\", \"yaxis\": \"y\"}, {\"type\": \"scatter\", \"x\": [9.27446199981869, 28.723926732516777, 28.723926732516777, 11.875977238297429], \"y\": [-1000.0, -1000.0, -1020.0, -1020.0], \"mode\": \"lines\", \"marker\": {\"color\": \"rgb(35,205,205)\"}, \"text\": null, \"hoverinfo\": \"text\", \"xaxis\": \"x\", \"yaxis\": \"y\"}, {\"type\": \"scatter\", \"x\": [0.0, 8.775023269629735, 8.775023269629735, 0.0], \"y\": [-1035.0, -1035.0, -1045.0, -1045.0], \"mode\": \"lines\", \"marker\": {\"color\": \"rgb(35,205,205)\"}, \"text\": null, \"hoverinfo\": \"text\", \"xaxis\": \"x\", \"yaxis\": \"y\"}, {\"type\": \"scatter\", \"x\": [0.0, 13.342038096663003, 13.342038096663003, 0.0], \"y\": [-1055.0, -1055.0, -1065.0, -1065.0], \"mode\": \"lines\", \"marker\": {\"color\": \"rgb(35,205,205)\"}, \"text\": null, \"hoverinfo\": \"text\", \"xaxis\": \"x\", \"yaxis\": \"y\"}, {\"type\": \"scatter\", \"x\": [8.775023269629735, 31.468032469482747, 31.468032469482747, 13.342038096663003], \"y\": [-1040.0, -1040.0, -1060.0, -1060.0], \"mode\": \"lines\", \"marker\": {\"color\": \"rgb(35,205,205)\"}, \"text\": null, \"hoverinfo\": \"text\", \"xaxis\": \"x\", \"yaxis\": \"y\"}, {\"type\": \"scatter\", \"x\": [28.723926732516777, 42.20240406016859, 42.20240406016859, 31.468032469482747], \"y\": [-1010.0, -1010.0, -1050.0, -1050.0], \"mode\": \"lines\", \"marker\": {\"color\": \"rgb(35,205,205)\"}, \"text\": null, \"hoverinfo\": \"text\", \"xaxis\": \"x\", \"yaxis\": \"y\"}, {\"type\": \"scatter\", \"x\": [25.105459127676447, 67.08556352448255, 67.08556352448255, 42.20240406016859], \"y\": [-966.25, -966.25, -1030.0, -1030.0], \"mode\": \"lines\", \"marker\": {\"color\": \"rgb(35,205,205)\"}, \"text\": null, \"hoverinfo\": \"text\", \"xaxis\": \"x\", \"yaxis\": \"y\"}, {\"type\": \"scatter\", \"x\": [0.0, 6.403158854288414, 6.403158854288414, 0.0], \"y\": [-1085.0, -1085.0, -1095.0, -1095.0], \"mode\": \"lines\", \"marker\": {\"color\": \"rgb(35,205,205)\"}, \"text\": null, \"hoverinfo\": \"text\", \"xaxis\": \"x\", \"yaxis\": \"y\"}, {\"type\": \"scatter\", \"x\": [0.0, 7.723939561916253, 7.723939561916253, 6.403158854288414], \"y\": [-1075.0, -1075.0, -1090.0, -1090.0], \"mode\": \"lines\", \"marker\": {\"color\": \"rgb(35,205,205)\"}, \"text\": null, \"hoverinfo\": \"text\", \"xaxis\": \"x\", \"yaxis\": \"y\"}, {\"type\": \"scatter\", \"x\": [0.0, 9.700790308825237, 9.700790308825237, 0.0], \"y\": [-1115.0, -1115.0, -1125.0, -1125.0], \"mode\": \"lines\", \"marker\": {\"color\": \"rgb(35,205,205)\"}, \"text\": null, \"hoverinfo\": \"text\", \"xaxis\": \"x\", \"yaxis\": \"y\"}, {\"type\": \"scatter\", \"x\": [0.0, 17.16202441894382, 17.16202441894382, 9.700790308825237], \"y\": [-1105.0, -1105.0, -1120.0, -1120.0], \"mode\": \"lines\", \"marker\": {\"color\": \"rgb(35,205,205)\"}, \"text\": null, \"hoverinfo\": \"text\", \"xaxis\": \"x\", \"yaxis\": \"y\"}, {\"type\": \"scatter\", \"x\": [7.723939561916253, 23.35495955833804, 23.35495955833804, 17.16202441894382], \"y\": [-1082.5, -1082.5, -1112.5, -1112.5], \"mode\": \"lines\", \"marker\": {\"color\": \"rgb(35,205,205)\"}, \"text\": null, \"hoverinfo\": \"text\", \"xaxis\": \"x\", \"yaxis\": \"y\"}, {\"type\": \"scatter\", \"x\": [0.0, 10.816923003242472, 10.816923003242472, 0.0], \"y\": [-1145.0, -1145.0, -1155.0, -1155.0], \"mode\": \"lines\", \"marker\": {\"color\": \"rgb(35,205,205)\"}, \"text\": null, \"hoverinfo\": \"text\", \"xaxis\": \"x\", \"yaxis\": \"y\"}, {\"type\": \"scatter\", \"x\": [0.0, 3.748742325261853, 3.748742325261853, 0.0], \"y\": [-1185.0, -1185.0, -1195.0, -1195.0], \"mode\": \"lines\", \"marker\": {\"color\": \"rgb(35,205,205)\"}, \"text\": null, \"hoverinfo\": \"text\", \"xaxis\": \"x\", \"yaxis\": \"y\"}, {\"type\": \"scatter\", \"x\": [0.0, 10.249036455542267, 10.249036455542267, 3.748742325261853], \"y\": [-1175.0, -1175.0, -1190.0, -1190.0], \"mode\": \"lines\", \"marker\": {\"color\": \"rgb(35,205,205)\"}, \"text\": null, \"hoverinfo\": \"text\", \"xaxis\": \"x\", \"yaxis\": \"y\"}, {\"type\": \"scatter\", \"x\": [0.0, 22.761537775533945, 22.761537775533945, 10.249036455542267], \"y\": [-1165.0, -1165.0, -1182.5, -1182.5], \"mode\": \"lines\", \"marker\": {\"color\": \"rgb(35,205,205)\"}, \"text\": null, \"hoverinfo\": \"text\", \"xaxis\": \"x\", \"yaxis\": \"y\"}, {\"type\": \"scatter\", \"x\": [10.816923003242472, 31.780854222440805, 31.780854222440805, 22.761537775533945], \"y\": [-1150.0, -1150.0, -1173.75, -1173.75], \"mode\": \"lines\", \"marker\": {\"color\": \"rgb(35,205,205)\"}, \"text\": null, \"hoverinfo\": \"text\", \"xaxis\": \"x\", \"yaxis\": \"y\"}, {\"type\": \"scatter\", \"x\": [0.0, 54.27132112436915, 54.27132112436915, 31.780854222440805], \"y\": [-1135.0, -1135.0, -1161.875, -1161.875], \"mode\": \"lines\", \"marker\": {\"color\": \"rgb(35,205,205)\"}, \"text\": null, \"hoverinfo\": \"text\", \"xaxis\": \"x\", \"yaxis\": \"y\"}, {\"type\": \"scatter\", \"x\": [23.35495955833804, 70.24265904673591, 70.24265904673591, 54.27132112436915], \"y\": [-1097.5, -1097.5, -1148.4375, -1148.4375], \"mode\": \"lines\", \"marker\": {\"color\": \"rgb(35,205,205)\"}, \"text\": null, \"hoverinfo\": \"text\", \"xaxis\": \"x\", \"yaxis\": \"y\"}, {\"type\": \"scatter\", \"x\": [67.08556352448255, 118.50761797046532, 118.50761797046532, 70.24265904673591], \"y\": [-998.125, -998.125, -1122.96875, -1122.96875], \"mode\": \"lines\", \"marker\": {\"color\": \"rgb(35,205,205)\"}, \"text\": null, \"hoverinfo\": \"text\", \"xaxis\": \"x\", \"yaxis\": \"y\"}, {\"type\": \"scatter\", \"x\": [89.68291617680664, 144.67694611732787, 144.67694611732787, 118.50761797046532], \"y\": [-856.40625, -856.40625, -1060.546875, -1060.546875], \"mode\": \"lines\", \"marker\": {\"color\": \"rgb(35,205,205)\"}, \"text\": null, \"hoverinfo\": \"text\", \"xaxis\": \"x\", \"yaxis\": \"y\"}, {\"type\": \"scatter\", \"x\": [0.0, 5.1464686123709935, 5.1464686123709935, 0.0], \"y\": [-1215.0, -1215.0, -1225.0, -1225.0], \"mode\": \"lines\", \"marker\": {\"color\": \"rgb(35,205,205)\"}, \"text\": null, \"hoverinfo\": \"text\", \"xaxis\": \"x\", \"yaxis\": \"y\"}, {\"type\": \"scatter\", \"x\": [0.0, 6.085531533654189, 6.085531533654189, 5.1464686123709935], \"y\": [-1205.0, -1205.0, -1220.0, -1220.0], \"mode\": \"lines\", \"marker\": {\"color\": \"rgb(35,205,205)\"}, \"text\": null, \"hoverinfo\": \"text\", \"xaxis\": \"x\", \"yaxis\": \"y\"}, {\"type\": \"scatter\", \"x\": [0.0, 1.4142135623730951, 1.4142135623730951, 0.0], \"y\": [-1255.0, -1255.0, -1265.0, -1265.0], \"mode\": \"lines\", \"marker\": {\"color\": \"rgb(35,205,205)\"}, \"text\": null, \"hoverinfo\": \"text\", \"xaxis\": \"x\", \"yaxis\": \"y\"}, {\"type\": \"scatter\", \"x\": [0.0, 5.830951894845301, 5.830951894845301, 1.4142135623730951], \"y\": [-1245.0, -1245.0, -1260.0, -1260.0], \"mode\": \"lines\", \"marker\": {\"color\": \"rgb(35,205,205)\"}, \"text\": null, \"hoverinfo\": \"text\", \"xaxis\": \"x\", \"yaxis\": \"y\"}, {\"type\": \"scatter\", \"x\": [0.0, 10.842174706872129, 10.842174706872129, 5.830951894845301], \"y\": [-1235.0, -1235.0, -1252.5, -1252.5], \"mode\": \"lines\", \"marker\": {\"color\": \"rgb(35,205,205)\"}, \"text\": null, \"hoverinfo\": \"text\", \"xaxis\": \"x\", \"yaxis\": \"y\"}, {\"type\": \"scatter\", \"x\": [0.0, 4.47213595499958, 4.47213595499958, 0.0], \"y\": [-1285.0, -1285.0, -1295.0, -1295.0], \"mode\": \"lines\", \"marker\": {\"color\": \"rgb(35,205,205)\"}, \"text\": null, \"hoverinfo\": \"text\", \"xaxis\": \"x\", \"yaxis\": \"y\"}, {\"type\": \"scatter\", \"x\": [0.0, 7.0710678118654755, 7.0710678118654755, 4.47213595499958], \"y\": [-1275.0, -1275.0, -1290.0, -1290.0], \"mode\": \"lines\", \"marker\": {\"color\": \"rgb(35,205,205)\"}, \"text\": null, \"hoverinfo\": \"text\", \"xaxis\": \"x\", \"yaxis\": \"y\"}, {\"type\": \"scatter\", \"x\": [0.0, 2.23606797749979, 2.23606797749979, 0.0], \"y\": [-1305.0, -1305.0, -1315.0, -1315.0], \"mode\": \"lines\", \"marker\": {\"color\": \"rgb(35,205,205)\"}, \"text\": null, \"hoverinfo\": \"text\", \"xaxis\": \"x\", \"yaxis\": \"y\"}, {\"type\": \"scatter\", \"x\": [0.0, 2.23606797749979, 2.23606797749979, 0.0], \"y\": [-1325.0, -1325.0, -1335.0, -1335.0], \"mode\": \"lines\", \"marker\": {\"color\": \"rgb(35,205,205)\"}, \"text\": null, \"hoverinfo\": \"text\", \"xaxis\": \"x\", \"yaxis\": \"y\"}, {\"type\": \"scatter\", \"x\": [2.23606797749979, 3.1622776601683795, 3.1622776601683795, 2.23606797749979], \"y\": [-1310.0, -1310.0, -1330.0, -1330.0], \"mode\": \"lines\", \"marker\": {\"color\": \"rgb(35,205,205)\"}, \"text\": null, \"hoverinfo\": \"text\", \"xaxis\": \"x\", \"yaxis\": \"y\"}, {\"type\": \"scatter\", \"x\": [0.0, 3.1622776601683795, 3.1622776601683795, 0.0], \"y\": [-1355.0, -1355.0, -1365.0, -1365.0], \"mode\": \"lines\", \"marker\": {\"color\": \"rgb(35,205,205)\"}, \"text\": null, \"hoverinfo\": \"text\", \"xaxis\": \"x\", \"yaxis\": \"y\"}, {\"type\": \"scatter\", \"x\": [0.0, 4.123105625617661, 4.123105625617661, 3.1622776601683795], \"y\": [-1345.0, -1345.0, -1360.0, -1360.0], \"mode\": \"lines\", \"marker\": {\"color\": \"rgb(35,205,205)\"}, \"text\": null, \"hoverinfo\": \"text\", \"xaxis\": \"x\", \"yaxis\": \"y\"}, {\"type\": \"scatter\", \"x\": [3.1622776601683795, 9.899494936611665, 9.899494936611665, 4.123105625617661], \"y\": [-1320.0, -1320.0, -1352.5, -1352.5], \"mode\": \"lines\", \"marker\": {\"color\": \"rgb(35,205,205)\"}, \"text\": null, \"hoverinfo\": \"text\", \"xaxis\": \"x\", \"yaxis\": \"y\"}, {\"type\": \"scatter\", \"x\": [7.0710678118654755, 13.341664064126334, 13.341664064126334, 9.899494936611665], \"y\": [-1282.5, -1282.5, -1336.25, -1336.25], \"mode\": \"lines\", \"marker\": {\"color\": \"rgb(35,205,205)\"}, \"text\": null, \"hoverinfo\": \"text\", \"xaxis\": \"x\", \"yaxis\": \"y\"}, {\"type\": \"scatter\", \"x\": [10.842174706872129, 22.50672682498141, 22.50672682498141, 13.341664064126334], \"y\": [-1243.75, -1243.75, -1309.375, -1309.375], \"mode\": \"lines\", \"marker\": {\"color\": \"rgb(35,205,205)\"}, \"text\": null, \"hoverinfo\": \"text\", \"xaxis\": \"x\", \"yaxis\": \"y\"}, {\"type\": \"scatter\", \"x\": [6.085531533654189, 38.625993551372325, 38.625993551372325, 22.50672682498141], \"y\": [-1212.5, -1212.5, -1276.5625, -1276.5625], \"mode\": \"lines\", \"marker\": {\"color\": \"rgb(35,205,205)\"}, \"text\": null, \"hoverinfo\": \"text\", \"xaxis\": \"x\", \"yaxis\": \"y\"}, {\"type\": \"scatter\", \"x\": [0.0, 5.000113523715685, 5.000113523715685, 0.0], \"y\": [-1375.0, -1375.0, -1385.0, -1385.0], \"mode\": \"lines\", \"marker\": {\"color\": \"rgb(35,205,205)\"}, \"text\": null, \"hoverinfo\": \"text\", \"xaxis\": \"x\", \"yaxis\": \"y\"}, {\"type\": \"scatter\", \"x\": [0.0, 9.44070762323157, 9.44070762323157, 0.0], \"y\": [-1395.0, -1395.0, -1405.0, -1405.0], \"mode\": \"lines\", \"marker\": {\"color\": \"rgb(35,205,205)\"}, \"text\": null, \"hoverinfo\": \"text\", \"xaxis\": \"x\", \"yaxis\": \"y\"}, {\"type\": \"scatter\", \"x\": [5.000113523715685, 11.40510890273728, 11.40510890273728, 9.44070762323157], \"y\": [-1380.0, -1380.0, -1400.0, -1400.0], \"mode\": \"lines\", \"marker\": {\"color\": \"rgb(35,205,205)\"}, \"text\": null, \"hoverinfo\": \"text\", \"xaxis\": \"x\", \"yaxis\": \"y\"}, {\"type\": \"scatter\", \"x\": [0.0, 13.941682350891073, 13.941682350891073, 0.0], \"y\": [-1415.0, -1415.0, -1425.0, -1425.0], \"mode\": \"lines\", \"marker\": {\"color\": \"rgb(35,205,205)\"}, \"text\": null, \"hoverinfo\": \"text\", \"xaxis\": \"x\", \"yaxis\": \"y\"}, {\"type\": \"scatter\", \"x\": [0.0, 6.281373628546072, 6.281373628546072, 0.0], \"y\": [-1445.0, -1445.0, -1455.0, -1455.0], \"mode\": \"lines\", \"marker\": {\"color\": \"rgb(35,205,205)\"}, \"text\": null, \"hoverinfo\": \"text\", \"xaxis\": \"x\", \"yaxis\": \"y\"}, {\"type\": \"scatter\", \"x\": [0.0, 15.377434323545792, 15.377434323545792, 6.281373628546072], \"y\": [-1435.0, -1435.0, -1450.0, -1450.0], \"mode\": \"lines\", \"marker\": {\"color\": \"rgb(35,205,205)\"}, \"text\": null, \"hoverinfo\": \"text\", \"xaxis\": \"x\", \"yaxis\": \"y\"}, {\"type\": \"scatter\", \"x\": [13.941682350891073, 28.02696620792801, 28.02696620792801, 15.377434323545792], \"y\": [-1420.0, -1420.0, -1442.5, -1442.5], \"mode\": \"lines\", \"marker\": {\"color\": \"rgb(35,205,205)\"}, \"text\": null, \"hoverinfo\": \"text\", \"xaxis\": \"x\", \"yaxis\": \"y\"}, {\"type\": \"scatter\", \"x\": [11.40510890273728, 46.32963260547924, 46.32963260547924, 28.02696620792801], \"y\": [-1390.0, -1390.0, -1431.25, -1431.25], \"mode\": \"lines\", \"marker\": {\"color\": \"rgb(35,205,205)\"}, \"text\": null, \"hoverinfo\": \"text\", \"xaxis\": \"x\", \"yaxis\": \"y\"}, {\"type\": \"scatter\", \"x\": [38.625993551372325, 71.00704799825748, 71.00704799825748, 46.32963260547924], \"y\": [-1244.53125, -1244.53125, -1410.625, -1410.625], \"mode\": \"lines\", \"marker\": {\"color\": \"rgb(35,205,205)\"}, \"text\": null, \"hoverinfo\": \"text\", \"xaxis\": \"x\", \"yaxis\": \"y\"}, {\"type\": \"scatter\", \"x\": [0.0, 1.8274768190607216, 1.8274768190607216, 0.0], \"y\": [-1485.0, -1485.0, -1495.0, -1495.0], \"mode\": \"lines\", \"marker\": {\"color\": \"rgb(35,205,205)\"}, \"text\": null, \"hoverinfo\": \"text\", \"xaxis\": \"x\", \"yaxis\": \"y\"}, {\"type\": \"scatter\", \"x\": [0.0, 3.6225448298622114, 3.6225448298622114, 1.8274768190607216], \"y\": [-1475.0, -1475.0, -1490.0, -1490.0], \"mode\": \"lines\", \"marker\": {\"color\": \"rgb(35,205,205)\"}, \"text\": null, \"hoverinfo\": \"text\", \"xaxis\": \"x\", \"yaxis\": \"y\"}, {\"type\": \"scatter\", \"x\": [0.0, 9.440488919773246, 9.440488919773246, 3.6225448298622114], \"y\": [-1465.0, -1465.0, -1482.5, -1482.5], \"mode\": \"lines\", \"marker\": {\"color\": \"rgb(35,205,205)\"}, \"text\": null, \"hoverinfo\": \"text\", \"xaxis\": \"x\", \"yaxis\": \"y\"}, {\"type\": \"scatter\", \"x\": [0.0, 9.925301674211607, 9.925301674211607, 0.0], \"y\": [-1515.0, -1515.0, -1525.0, -1525.0], \"mode\": \"lines\", \"marker\": {\"color\": \"rgb(35,205,205)\"}, \"text\": null, \"hoverinfo\": \"text\", \"xaxis\": \"x\", \"yaxis\": \"y\"}, {\"type\": \"scatter\", \"x\": [0.0, 19.65085008207373, 19.65085008207373, 9.925301674211607], \"y\": [-1505.0, -1505.0, -1520.0, -1520.0], \"mode\": \"lines\", \"marker\": {\"color\": \"rgb(35,205,205)\"}, \"text\": null, \"hoverinfo\": \"text\", \"xaxis\": \"x\", \"yaxis\": \"y\"}, {\"type\": \"scatter\", \"x\": [9.440488919773246, 31.308695315549965, 31.308695315549965, 19.65085008207373], \"y\": [-1473.75, -1473.75, -1512.5, -1512.5], \"mode\": \"lines\", \"marker\": {\"color\": \"rgb(35,205,205)\"}, \"text\": null, \"hoverinfo\": \"text\", \"xaxis\": \"x\", \"yaxis\": \"y\"}, {\"type\": \"scatter\", \"x\": [0.0, 9.374574101408168, 9.374574101408168, 0.0], \"y\": [-1535.0, -1535.0, -1545.0, -1545.0], \"mode\": \"lines\", \"marker\": {\"color\": \"rgb(35,205,205)\"}, \"text\": null, \"hoverinfo\": \"text\", \"xaxis\": \"x\", \"yaxis\": \"y\"}, {\"type\": \"scatter\", \"x\": [0.0, 6.033450322720186, 6.033450322720186, 0.0], \"y\": [-1565.0, -1565.0, -1575.0, -1575.0], \"mode\": \"lines\", \"marker\": {\"color\": \"rgb(35,205,205)\"}, \"text\": null, \"hoverinfo\": \"text\", \"xaxis\": \"x\", \"yaxis\": \"y\"}, {\"type\": \"scatter\", \"x\": [0.0, 12.100598669031267, 12.100598669031267, 6.033450322720186], \"y\": [-1555.0, -1555.0, -1570.0, -1570.0], \"mode\": \"lines\", \"marker\": {\"color\": \"rgb(35,205,205)\"}, \"text\": null, \"hoverinfo\": \"text\", \"xaxis\": \"x\", \"yaxis\": \"y\"}, {\"type\": \"scatter\", \"x\": [9.374574101408168, 22.077194631490936, 22.077194631490936, 12.100598669031267], \"y\": [-1540.0, -1540.0, -1562.5, -1562.5], \"mode\": \"lines\", \"marker\": {\"color\": \"rgb(35,205,205)\"}, \"text\": null, \"hoverinfo\": \"text\", \"xaxis\": \"x\", \"yaxis\": \"y\"}, {\"type\": \"scatter\", \"x\": [0.0, 7.228684022550419, 7.228684022550419, 0.0], \"y\": [-1605.0, -1605.0, -1615.0, -1615.0], \"mode\": \"lines\", \"marker\": {\"color\": \"rgb(35,205,205)\"}, \"text\": null, \"hoverinfo\": \"text\", \"xaxis\": \"x\", \"yaxis\": \"y\"}, {\"type\": \"scatter\", \"x\": [0.0, 15.816659483448966, 15.816659483448966, 7.228684022550419], \"y\": [-1595.0, -1595.0, -1610.0, -1610.0], \"mode\": \"lines\", \"marker\": {\"color\": \"rgb(35,205,205)\"}, \"text\": null, \"hoverinfo\": \"text\", \"xaxis\": \"x\", \"yaxis\": \"y\"}, {\"type\": \"scatter\", \"x\": [0.0, 28.236618053063246, 28.236618053063246, 15.816659483448966], \"y\": [-1585.0, -1585.0, -1602.5, -1602.5], \"mode\": \"lines\", \"marker\": {\"color\": \"rgb(35,205,205)\"}, \"text\": null, \"hoverinfo\": \"text\", \"xaxis\": \"x\", \"yaxis\": \"y\"}, {\"type\": \"scatter\", \"x\": [22.077194631490936, 54.17455712401157, 54.17455712401157, 28.236618053063246], \"y\": [-1551.25, -1551.25, -1593.75, -1593.75], \"mode\": \"lines\", \"marker\": {\"color\": \"rgb(35,205,205)\"}, \"text\": null, \"hoverinfo\": \"text\", \"xaxis\": \"x\", \"yaxis\": \"y\"}, {\"type\": \"scatter\", \"x\": [31.308695315549965, 71.12451473894996, 71.12451473894996, 54.17455712401157], \"y\": [-1493.125, -1493.125, -1572.5, -1572.5], \"mode\": \"lines\", \"marker\": {\"color\": \"rgb(35,205,205)\"}, \"text\": null, \"hoverinfo\": \"text\", \"xaxis\": \"x\", \"yaxis\": \"y\"}, {\"type\": \"scatter\", \"x\": [71.00704799825748, 126.59418289883342, 126.59418289883342, 71.12451473894996], \"y\": [-1327.578125, -1327.578125, -1532.8125, -1532.8125], \"mode\": \"lines\", \"marker\": {\"color\": \"rgb(35,205,205)\"}, \"text\": null, \"hoverinfo\": \"text\", \"xaxis\": \"x\", \"yaxis\": \"y\"}, {\"type\": \"scatter\", \"x\": [0.0, 4.489617099684207, 4.489617099684207, 0.0], \"y\": [-1645.0, -1645.0, -1655.0, -1655.0], \"mode\": \"lines\", \"marker\": {\"color\": \"rgb(35,205,205)\"}, \"text\": null, \"hoverinfo\": \"text\", \"xaxis\": \"x\", \"yaxis\": \"y\"}, {\"type\": \"scatter\", \"x\": [0.0, 14.041058017065938, 14.041058017065938, 4.489617099684207], \"y\": [-1635.0, -1635.0, -1650.0, -1650.0], \"mode\": \"lines\", \"marker\": {\"color\": \"rgb(35,205,205)\"}, \"text\": null, \"hoverinfo\": \"text\", \"xaxis\": \"x\", \"yaxis\": \"y\"}, {\"type\": \"scatter\", \"x\": [0.0, 16.653659540322423, 16.653659540322423, 0.0], \"y\": [-1665.0, -1665.0, -1675.0, -1675.0], \"mode\": \"lines\", \"marker\": {\"color\": \"rgb(35,205,205)\"}, \"text\": null, \"hoverinfo\": \"text\", \"xaxis\": \"x\", \"yaxis\": \"y\"}, {\"type\": \"scatter\", \"x\": [14.041058017065938, 33.07231506639021, 33.07231506639021, 16.653659540322423], \"y\": [-1642.5, -1642.5, -1670.0, -1670.0], \"mode\": \"lines\", \"marker\": {\"color\": \"rgb(35,205,205)\"}, \"text\": null, \"hoverinfo\": \"text\", \"xaxis\": \"x\", \"yaxis\": \"y\"}, {\"type\": \"scatter\", \"x\": [0.0, 39.63729709912321, 39.63729709912321, 33.07231506639021], \"y\": [-1625.0, -1625.0, -1656.25, -1656.25], \"mode\": \"lines\", \"marker\": {\"color\": \"rgb(35,205,205)\"}, \"text\": null, \"hoverinfo\": \"text\", \"xaxis\": \"x\", \"yaxis\": \"y\"}, {\"type\": \"scatter\", \"x\": [0.0, 8.162827394690805, 8.162827394690805, 0.0], \"y\": [-1695.0, -1695.0, -1705.0, -1705.0], \"mode\": \"lines\", \"marker\": {\"color\": \"rgb(35,205,205)\"}, \"text\": null, \"hoverinfo\": \"text\", \"xaxis\": \"x\", \"yaxis\": \"y\"}, {\"type\": \"scatter\", \"x\": [0.0, 9.223965730071425, 9.223965730071425, 0.0], \"y\": [-1715.0, -1715.0, -1725.0, -1725.0], \"mode\": \"lines\", \"marker\": {\"color\": \"rgb(35,205,205)\"}, \"text\": null, \"hoverinfo\": \"text\", \"xaxis\": \"x\", \"yaxis\": \"y\"}, {\"type\": \"scatter\", \"x\": [8.162827394690805, 19.184036285685828, 19.184036285685828, 9.223965730071425], \"y\": [-1700.0, -1700.0, -1720.0, -1720.0], \"mode\": \"lines\", \"marker\": {\"color\": \"rgb(35,205,205)\"}, \"text\": null, \"hoverinfo\": \"text\", \"xaxis\": \"x\", \"yaxis\": \"y\"}, {\"type\": \"scatter\", \"x\": [0.0, 30.118909341648767, 30.118909341648767, 19.184036285685828], \"y\": [-1685.0, -1685.0, -1710.0, -1710.0], \"mode\": \"lines\", \"marker\": {\"color\": \"rgb(35,205,205)\"}, \"text\": null, \"hoverinfo\": \"text\", \"xaxis\": \"x\", \"yaxis\": \"y\"}, {\"type\": \"scatter\", \"x\": [0.0, 15.621928457926828, 15.621928457926828, 0.0], \"y\": [-1745.0, -1745.0, -1755.0, -1755.0], \"mode\": \"lines\", \"marker\": {\"color\": \"rgb(35,205,205)\"}, \"text\": null, \"hoverinfo\": \"text\", \"xaxis\": \"x\", \"yaxis\": \"y\"}, {\"type\": \"scatter\", \"x\": [0.0, 32.03957812191709, 32.03957812191709, 15.621928457926828], \"y\": [-1735.0, -1735.0, -1750.0, -1750.0], \"mode\": \"lines\", \"marker\": {\"color\": \"rgb(35,205,205)\"}, \"text\": null, \"hoverinfo\": \"text\", \"xaxis\": \"x\", \"yaxis\": \"y\"}, {\"type\": \"scatter\", \"x\": [30.118909341648767, 52.788491941919425, 52.788491941919425, 32.03957812191709], \"y\": [-1697.5, -1697.5, -1742.5, -1742.5], \"mode\": \"lines\", \"marker\": {\"color\": \"rgb(35,205,205)\"}, \"text\": null, \"hoverinfo\": \"text\", \"xaxis\": \"x\", \"yaxis\": \"y\"}, {\"type\": \"scatter\", \"x\": [39.63729709912321, 76.85748489164904, 76.85748489164904, 52.788491941919425], \"y\": [-1640.625, -1640.625, -1720.0, -1720.0], \"mode\": \"lines\", \"marker\": {\"color\": \"rgb(35,205,205)\"}, \"text\": null, \"hoverinfo\": \"text\", \"xaxis\": \"x\", \"yaxis\": \"y\"}, {\"type\": \"scatter\", \"x\": [0.0, 5.916383655484742, 5.916383655484742, 0.0], \"y\": [-1775.0, -1775.0, -1785.0, -1785.0], \"mode\": \"lines\", \"marker\": {\"color\": \"rgb(35,205,205)\"}, \"text\": null, \"hoverinfo\": \"text\", \"xaxis\": \"x\", \"yaxis\": \"y\"}, {\"type\": \"scatter\", \"x\": [0.0, 12.047159311354122, 12.047159311354122, 5.916383655484742], \"y\": [-1765.0, -1765.0, -1780.0, -1780.0], \"mode\": \"lines\", \"marker\": {\"color\": \"rgb(35,205,205)\"}, \"text\": null, \"hoverinfo\": \"text\", \"xaxis\": \"x\", \"yaxis\": \"y\"}, {\"type\": \"scatter\", \"x\": [0.0, 5.126790179770823, 5.126790179770823, 0.0], \"y\": [-1795.0, -1795.0, -1805.0, -1805.0], \"mode\": \"lines\", \"marker\": {\"color\": \"rgb(35,205,205)\"}, \"text\": null, \"hoverinfo\": \"text\", \"xaxis\": \"x\", \"yaxis\": \"y\"}, {\"type\": \"scatter\", \"x\": [0.0, 9.90269873378555, 9.90269873378555, 0.0], \"y\": [-1815.0, -1815.0, -1825.0, -1825.0], \"mode\": \"lines\", \"marker\": {\"color\": \"rgb(35,205,205)\"}, \"text\": null, \"hoverinfo\": \"text\", \"xaxis\": \"x\", \"yaxis\": \"y\"}, {\"type\": \"scatter\", \"x\": [5.126790179770823, 21.501252036736982, 21.501252036736982, 9.90269873378555], \"y\": [-1800.0, -1800.0, -1820.0, -1820.0], \"mode\": \"lines\", \"marker\": {\"color\": \"rgb(35,205,205)\"}, \"text\": null, \"hoverinfo\": \"text\", \"xaxis\": \"x\", \"yaxis\": \"y\"}, {\"type\": \"scatter\", \"x\": [12.047159311354122, 32.984935763927034, 32.984935763927034, 21.501252036736982], \"y\": [-1772.5, -1772.5, -1810.0, -1810.0], \"mode\": \"lines\", \"marker\": {\"color\": \"rgb(35,205,205)\"}, \"text\": null, \"hoverinfo\": \"text\", \"xaxis\": \"x\", \"yaxis\": \"y\"}, {\"type\": \"scatter\", \"x\": [0.0, 7.146027936642897, 7.146027936642897, 0.0], \"y\": [-1845.0, -1845.0, -1855.0, -1855.0], \"mode\": \"lines\", \"marker\": {\"color\": \"rgb(35,205,205)\"}, \"text\": null, \"hoverinfo\": \"text\", \"xaxis\": \"x\", \"yaxis\": \"y\"}, {\"type\": \"scatter\", \"x\": [0.0, 27.03896821888618, 27.03896821888618, 7.146027936642897], \"y\": [-1835.0, -1835.0, -1850.0, -1850.0], \"mode\": \"lines\", \"marker\": {\"color\": \"rgb(35,205,205)\"}, \"text\": null, \"hoverinfo\": \"text\", \"xaxis\": \"x\", \"yaxis\": \"y\"}, {\"type\": \"scatter\", \"x\": [0.0, 14.563788473680928, 14.563788473680928, 0.0], \"y\": [-1875.0, -1875.0, -1885.0, -1885.0], \"mode\": \"lines\", \"marker\": {\"color\": \"rgb(35,205,205)\"}, \"text\": null, \"hoverinfo\": \"text\", \"xaxis\": \"x\", \"yaxis\": \"y\"}, {\"type\": \"scatter\", \"x\": [0.0, 27.65916087872358, 27.65916087872358, 14.563788473680928], \"y\": [-1865.0, -1865.0, -1880.0, -1880.0], \"mode\": \"lines\", \"marker\": {\"color\": \"rgb(35,205,205)\"}, \"text\": null, \"hoverinfo\": \"text\", \"xaxis\": \"x\", \"yaxis\": \"y\"}, {\"type\": \"scatter\", \"x\": [0.0, 7.284339928299793, 7.284339928299793, 0.0], \"y\": [-1905.0, -1905.0, -1915.0, -1915.0], \"mode\": \"lines\", \"marker\": {\"color\": \"rgb(35,205,205)\"}, \"text\": null, \"hoverinfo\": \"text\", \"xaxis\": \"x\", \"yaxis\": \"y\"}, {\"type\": \"scatter\", \"x\": [0.0, 20.61575045877792, 20.61575045877792, 7.284339928299793], \"y\": [-1895.0, -1895.0, -1910.0, -1910.0], \"mode\": \"lines\", \"marker\": {\"color\": \"rgb(35,205,205)\"}, \"text\": null, \"hoverinfo\": \"text\", \"xaxis\": \"x\", \"yaxis\": \"y\"}, {\"type\": \"scatter\", \"x\": [0.0, 6.325199696842085, 6.325199696842085, 0.0], \"y\": [-1955.0, -1955.0, -1965.0, -1965.0], \"mode\": \"lines\", \"marker\": {\"color\": \"rgb(35,205,205)\"}, \"text\": null, \"hoverinfo\": \"text\", \"xaxis\": \"x\", \"yaxis\": \"y\"}, {\"type\": \"scatter\", \"x\": [0.0, 14.560243652219613, 14.560243652219613, 6.325199696842085], \"y\": [-1945.0, -1945.0, -1960.0, -1960.0], \"mode\": \"lines\", \"marker\": {\"color\": \"rgb(35,205,205)\"}, \"text\": null, \"hoverinfo\": \"text\", \"xaxis\": \"x\", \"yaxis\": \"y\"}, {\"type\": \"scatter\", \"x\": [0.0, 22.02292457817628, 22.02292457817628, 14.560243652219613], \"y\": [-1935.0, -1935.0, -1952.5, -1952.5], \"mode\": \"lines\", \"marker\": {\"color\": \"rgb(35,205,205)\"}, \"text\": null, \"hoverinfo\": \"text\", \"xaxis\": \"x\", \"yaxis\": \"y\"}, {\"type\": \"scatter\", \"x\": [0.0, 32.01648411293209, 32.01648411293209, 22.02292457817628], \"y\": [-1925.0, -1925.0, -1943.75, -1943.75], \"mode\": \"lines\", \"marker\": {\"color\": \"rgb(35,205,205)\"}, \"text\": null, \"hoverinfo\": \"text\", \"xaxis\": \"x\", \"yaxis\": \"y\"}, {\"type\": \"scatter\", \"x\": [20.61575045877792, 51.62377596280258, 51.62377596280258, 32.01648411293209], \"y\": [-1902.5, -1902.5, -1934.375, -1934.375], \"mode\": \"lines\", \"marker\": {\"color\": \"rgb(35,205,205)\"}, \"text\": null, \"hoverinfo\": \"text\", \"xaxis\": \"x\", \"yaxis\": \"y\"}, {\"type\": \"scatter\", \"x\": [27.65916087872358, 66.0984219520913, 66.0984219520913, 51.62377596280258], \"y\": [-1872.5, -1872.5, -1918.4375, -1918.4375], \"mode\": \"lines\", \"marker\": {\"color\": \"rgb(35,205,205)\"}, \"text\": null, \"hoverinfo\": \"text\", \"xaxis\": \"x\", \"yaxis\": \"y\"}, {\"type\": \"scatter\", \"x\": [27.03896821888618, 96.104181843905, 96.104181843905, 66.0984219520913], \"y\": [-1842.5, -1842.5, -1895.46875, -1895.46875], \"mode\": \"lines\", \"marker\": {\"color\": \"rgb(35,205,205)\"}, \"text\": null, \"hoverinfo\": \"text\", \"xaxis\": \"x\", \"yaxis\": \"y\"}, {\"type\": \"scatter\", \"x\": [32.984935763927034, 115.12870243310785, 115.12870243310785, 96.104181843905], \"y\": [-1791.25, -1791.25, -1868.984375, -1868.984375], \"mode\": \"lines\", \"marker\": {\"color\": \"rgb(35,205,205)\"}, \"text\": null, \"hoverinfo\": \"text\", \"xaxis\": \"x\", \"yaxis\": \"y\"}, {\"type\": \"scatter\", \"x\": [76.85748489164904, 157.27096861184955, 157.27096861184955, 115.12870243310785], \"y\": [-1680.3125, -1680.3125, -1830.1171875, -1830.1171875], \"mode\": \"lines\", \"marker\": {\"color\": \"rgb(35,205,205)\"}, \"text\": null, \"hoverinfo\": \"text\", \"xaxis\": \"x\", \"yaxis\": \"y\"}, {\"type\": \"scatter\", \"x\": [126.59418289883342, 196.22413390142998, 196.22413390142998, 157.27096861184955], \"y\": [-1430.1953125, -1430.1953125, -1755.21484375, -1755.21484375], \"mode\": \"lines\", \"marker\": {\"color\": \"rgb(35,205,205)\"}, \"text\": null, \"hoverinfo\": \"text\", \"xaxis\": \"x\", \"yaxis\": \"y\"}, {\"type\": \"scatter\", \"x\": [144.67694611732787, 288.821732291693, 288.821732291693, 196.22413390142998], \"y\": [-958.4765625, -958.4765625, -1592.705078125, -1592.705078125], \"mode\": \"lines\", \"marker\": {\"color\": \"rgb(35,205,205)\"}, \"text\": null, \"hoverinfo\": \"text\", \"xaxis\": \"x\", \"yaxis\": \"y\"}, {\"type\": \"scatter\", \"x\": [120.93407204030598, 415.3093513854903, 415.3093513854903, 288.821732291693], \"y\": [-550.3515625, -550.3515625, -1275.5908203125, -1275.5908203125], \"mode\": \"lines\", \"marker\": {\"color\": \"rgb(0,116,217)\"}, \"text\": null, \"hoverinfo\": \"text\", \"xaxis\": \"x\", \"yaxis\": \"y\"}, {\"type\": \"scatter\", \"x\": [239.50943184603187, 581.4589767315025, 581.4589767315025, 415.3093513854903], \"y\": [-270.05859375, -270.05859375, -912.97119140625, -912.97119140625], \"mode\": \"lines\", \"marker\": {\"color\": \"rgb(0,116,217)\"}, \"text\": null, \"hoverinfo\": \"text\", \"xaxis\": \"x\", \"yaxis\": \"y\"}], {\"xaxis\": {\"type\": \"linear\", \"ticks\": \"\", \"mirror\": \"allticks\", \"rangemode\": \"tozero\", \"showticklabels\": false, \"zeroline\": false, \"showgrid\": false, \"showline\": true}, \"yaxis\": {\"tickvals\": [-5.0, -15.0, -25.0, -35.0, -45.0, -55.0, -65.0, -75.0, -85.0, -95.0, -105.0, -115.0, -125.0, -135.0, -145.0, -155.0, -165.0, -175.0, -185.0, -195.0, -205.0, -215.0, -225.0, -235.0, -245.0, -255.0, -265.0, -275.0, -285.0, -295.0, -305.0, -315.0, -325.0, -335.0, -345.0, -355.0, -365.0, -375.0, -385.0, -395.0, -405.0, -415.0, -425.0, -435.0, -445.0, -455.0, -465.0, -475.0, -485.0, -495.0, -505.0, -515.0, -525.0, -535.0, -545.0, -555.0, -565.0, -575.0, -585.0, -595.0, -605.0, -615.0, -625.0, -635.0, -645.0, -655.0, -665.0, -675.0, -685.0, -695.0, -705.0, -715.0, -725.0, -735.0, -745.0, -755.0, -765.0, -775.0, -785.0, -795.0, -805.0, -815.0, -825.0, -835.0, -845.0, -855.0, -865.0, -875.0, -885.0, -895.0, -905.0, -915.0, -925.0, -935.0, -945.0, -955.0, -965.0, -975.0, -985.0, -995.0, -1005.0, -1015.0, -1025.0, -1035.0, -1045.0, -1055.0, -1065.0, -1075.0, -1085.0, -1095.0, -1105.0, -1115.0, -1125.0, -1135.0, -1145.0, -1155.0, -1165.0, -1175.0, -1185.0, -1195.0, -1205.0, -1215.0, -1225.0, -1235.0, -1245.0, -1255.0, -1265.0, -1275.0, -1285.0, -1295.0, -1305.0, -1315.0, -1325.0, -1335.0, -1345.0, -1355.0, -1365.0, -1375.0, -1385.0, -1395.0, -1405.0, -1415.0, -1425.0, -1435.0, -1445.0, -1455.0, -1465.0, -1475.0, -1485.0, -1495.0, -1505.0, -1515.0, -1525.0, -1535.0, -1545.0, -1555.0, -1565.0, -1575.0, -1585.0, -1595.0, -1605.0, -1615.0, -1625.0, -1635.0, -1645.0, -1655.0, -1665.0, -1675.0, -1685.0, -1695.0, -1705.0, -1715.0, -1725.0, -1735.0, -1745.0, -1755.0, -1765.0, -1775.0, -1785.0, -1795.0, -1805.0, -1815.0, -1825.0, -1835.0, -1845.0, -1855.0, -1865.0, -1875.0, -1885.0, -1895.0, -1905.0, -1915.0, -1925.0, -1935.0, -1945.0, -1955.0, -1965.0], \"ticktext\": [\"Ignorant Shit\", \"A Night Off\", \"Sooner Than Later\", \"I Get Lonely\", \"Successful\", \"Uptown\", \"Little Bit\", \"Fancy Remix\", \"Rich Boy\", \"Miss Me\", \"Interlude\", \"On My Way\", \"Intro\", \"The Usual\", \"Ready For You\", \"November 18th\", \"Houstatlantavegas\", \"Ghetto University\", \"Lust For Life\", \"Ceces Interlude\", \"Unforgettable\", \"Well Be Fine\", \"Fancy\", \"Practice\", \"Doing It Wrong\", \"Look What Youve Done\", \"Light Up\", \"Find Your Love\", \"The Usual\", \"With You\", \"Faith\", \"Feeling\", \"On My Way\", \"Fall For Your Type\", \"Over\", \"Feel Love\", \"Show Me A Good Time\", \"Message From You\", \"Brand New\", \"Say Whats Real\", \"Brias Interlude\", \"Best I Ever Had\", \"The Calm\", \"Lets Call It Off\", \"Energy\", \"Weston Road Flows\", \"Change Locations\", \"Company\", \"Feel No Ways\", \"Pop Style\", \"Redemption\", \"GRAMMYs\", \"Im The Plug\", \"The Language\", \"Know Yourself\", \"6 God\", \"Scholarships\", \"Portland\", \"Sacrifices\", \"Headlines\", \"Lose You\", \"The Motto\", \"Plastic Bag\", \"How About Now\", \"Hype\", \"6 Man\", \"Jungle\", \"Jersey\", \"Since Way Back\", \"10 Bands\", \"Gyalchester\", \"Views\", \"Drake Speaks\", \"Own It\", \"Preach\", \"Headlines\", \"Over My Dead Body\", \"Cameras\", \"My Side\", \"Free Spirit\", \"Good Ones Go\", \"Madonna\", \"Lord Knows\", \"Try Harder\", \"Connect\", \"The Resistance\", \"Under Ground Kings\", \"The Real Her\", \"Aston Martin Music\", \"Headlines\", \"Light Up\", \"Fireworks\", \"Good Life\", \"Hate Sleeping Alone\", \"Crew Love\", \"The Real Her\", \"Moment 4 Life\", \"The Ride\", \"I Get Lonely Too\", \"Off That\", \"Shot For Me\", \"On My Way\", \"Shot For Me\", \"Under Ground Kings\", \"Make Me Proud\", \"Trust Issues\", \"Take Care\", \"Unstoppable\", \"Deuces Remix\", \"With You\", \"Loving You No More Remix\", \"Its Been A Pleasure\", \"What If I Kissed You\", \"Look What Youve Done\", \"Practice\", \"Miss Me\", \"Up All Night\", \"What If I Kissed You\", \"Thank Me Now\", \"Im Ready For You\", \"Faithful\", \"Talk Up\", \"Cant Have Everything\", \"Fake Love\", \"Blue Tint\", \"Elevate\", \"Jorja Interlude\", \"Finesse\", \"Cant Take a Joke\", \"Jaded\", \"8 Out of 10\", \"Sandras Rose\", \"Mob Ties\", \"Thats How You Feel\", \"Nice For What\", \"Peak\", \"Ratchet Happy Birthday\", \"One Dance\", \"Digital Dash\", \"Nothings Into Somethings\", \"30 For 30 Freestyle\", \"Skepta Interlude\", \"Too Good\", \"Used To\", \"Free Smoke\", \"Wednesday Night Interlude\", \"Summer Games\", \"Madiba Riddim\", \"Passionfruit\", \"Teenage Fever\", \"4422\", \"Im Upset\", \"Glow\", \"No Long Talk\", \"305 To My City\", \"Lord Knows\", \"Gods Plan\", \"KMT\", \"Is There More\", \"Legend\", \"Still Here\", \"Doing It Wrong\", \"Too Much\", \"From Time\", \"Keep The Family Close\", \"Hold On Were Going Home\", \"Blem\", \"With You\", \"Big Rings\", \"Emotionless\", \"U With Me\", \"Childs Play\", \"Round of Applause\", \"Get It Together\", \"Nonstop\", \"Controlla\", \"Take Care\", \"Make Me Proud\", \"The Ride\", \"Dreams Money Can Buy\", \"Shut It Down\", \"Marvins Room\", \"Poppin Bottles\", \"No Tellin\", \"Furthest Thing\", \"Over My Dead Body\", \"Worst Behaviour\", \"Diamonds Dancing\", \"Wildfire Remix\", \"Started From The Bottom\", \"Hotline Bling\", \"Club Paradise\", \"Well Be Fine\", \"6PM In New York\", \"Live From The Gutter\", \"Jumpman\", \"Tuscan Leather\"], \"tickmode\": \"array\", \"type\": \"linear\", \"ticks\": \"\", \"mirror\": \"allticks\", \"rangemode\": \"tozero\", \"showticklabels\": true, \"zeroline\": false, \"showgrid\": false, \"showline\": true}, \"showlegend\": false, \"autosize\": false, \"hovermode\": \"closest\", \"width\": 900, \"height\": 2500, \"title\": \"Dendrogram of Lyrics\", \"margin\": {\"l\": 180, \"r\": 30, \"b\": 30, \"t\": 40, \"pad\": 4}}, {\"showLink\": true, \"linkText\": \"Export to plot.ly\"})});</script>"
      ],
      "text/vnd.plotly.v1+html": [
       "<div id=\"0b444d35-14c1-4d68-af26-cb7e38b0782f\" style=\"height: 2500px; width: 900px;\" class=\"plotly-graph-div\"></div><script type=\"text/javascript\">require([\"plotly\"], function(Plotly) { window.PLOTLYENV=window.PLOTLYENV || {};window.PLOTLYENV.BASE_URL=\"https://plot.ly\";Plotly.newPlot(\"0b444d35-14c1-4d68-af26-cb7e38b0782f\", [{\"type\": \"scatter\", \"x\": [0.0, 11.25261524118115, 11.25261524118115, 0.0], \"y\": [-5.0, -5.0, -15.0, -15.0], \"mode\": \"lines\", \"marker\": {\"color\": \"rgb(61,153,112)\"}, \"text\": null, \"hoverinfo\": \"text\", \"xaxis\": \"x\", \"yaxis\": \"y\"}, {\"type\": \"scatter\", \"x\": [0.0, 9.800926654347263, 9.800926654347263, 0.0], \"y\": [-35.0, -35.0, -45.0, -45.0], \"mode\": \"lines\", \"marker\": {\"color\": \"rgb(61,153,112)\"}, \"text\": null, \"hoverinfo\": \"text\", \"xaxis\": \"x\", \"yaxis\": \"y\"}, {\"type\": \"scatter\", \"x\": [0.0, 15.811484870490794, 15.811484870490794, 9.800926654347263], \"y\": [-25.0, -25.0, -40.0, -40.0], \"mode\": \"lines\", \"marker\": {\"color\": \"rgb(61,153,112)\"}, \"text\": null, \"hoverinfo\": \"text\", \"xaxis\": \"x\", \"yaxis\": \"y\"}, {\"type\": \"scatter\", \"x\": [11.25261524118115, 35.696414954177094, 35.696414954177094, 15.811484870490794], \"y\": [-10.0, -10.0, -32.5, -32.5], \"mode\": \"lines\", \"marker\": {\"color\": \"rgb(61,153,112)\"}, \"text\": null, \"hoverinfo\": \"text\", \"xaxis\": \"x\", \"yaxis\": \"y\"}, {\"type\": \"scatter\", \"x\": [0.0, 19.648018417510084, 19.648018417510084, 0.0], \"y\": [-55.0, -55.0, -65.0, -65.0], \"mode\": \"lines\", \"marker\": {\"color\": \"rgb(61,153,112)\"}, \"text\": null, \"hoverinfo\": \"text\", \"xaxis\": \"x\", \"yaxis\": \"y\"}, {\"type\": \"scatter\", \"x\": [0.0, 6.025748778163549, 6.025748778163549, 0.0], \"y\": [-75.0, -75.0, -85.0, -85.0], \"mode\": \"lines\", \"marker\": {\"color\": \"rgb(61,153,112)\"}, \"text\": null, \"hoverinfo\": \"text\", \"xaxis\": \"x\", \"yaxis\": \"y\"}, {\"type\": \"scatter\", \"x\": [0.0, 8.070650216898846, 8.070650216898846, 0.0], \"y\": [-95.0, -95.0, -105.0, -105.0], \"mode\": \"lines\", \"marker\": {\"color\": \"rgb(61,153,112)\"}, \"text\": null, \"hoverinfo\": \"text\", \"xaxis\": \"x\", \"yaxis\": \"y\"}, {\"type\": \"scatter\", \"x\": [6.025748778163549, 14.890998472268167, 14.890998472268167, 8.070650216898846], \"y\": [-80.0, -80.0, -100.0, -100.0], \"mode\": \"lines\", \"marker\": {\"color\": \"rgb(61,153,112)\"}, \"text\": null, \"hoverinfo\": \"text\", \"xaxis\": \"x\", \"yaxis\": \"y\"}, {\"type\": \"scatter\", \"x\": [0.0, 8.83345196282109, 8.83345196282109, 0.0], \"y\": [-125.0, -125.0, -135.0, -135.0], \"mode\": \"lines\", \"marker\": {\"color\": \"rgb(61,153,112)\"}, \"text\": null, \"hoverinfo\": \"text\", \"xaxis\": \"x\", \"yaxis\": \"y\"}, {\"type\": \"scatter\", \"x\": [0.0, 11.359307181112356, 11.359307181112356, 8.83345196282109], \"y\": [-115.0, -115.0, -130.0, -130.0], \"mode\": \"lines\", \"marker\": {\"color\": \"rgb(61,153,112)\"}, \"text\": null, \"hoverinfo\": \"text\", \"xaxis\": \"x\", \"yaxis\": \"y\"}, {\"type\": \"scatter\", \"x\": [0.0, 5.385987711153342, 5.385987711153342, 0.0], \"y\": [-155.0, -155.0, -165.0, -165.0], \"mode\": \"lines\", \"marker\": {\"color\": \"rgb(61,153,112)\"}, \"text\": null, \"hoverinfo\": \"text\", \"xaxis\": \"x\", \"yaxis\": \"y\"}, {\"type\": \"scatter\", \"x\": [0.0, 14.944294298599635, 14.944294298599635, 5.385987711153342], \"y\": [-145.0, -145.0, -160.0, -160.0], \"mode\": \"lines\", \"marker\": {\"color\": \"rgb(61,153,112)\"}, \"text\": null, \"hoverinfo\": \"text\", \"xaxis\": \"x\", \"yaxis\": \"y\"}, {\"type\": \"scatter\", \"x\": [11.359307181112356, 20.524496485312607, 20.524496485312607, 14.944294298599635], \"y\": [-122.5, -122.5, -152.5, -152.5], \"mode\": \"lines\", \"marker\": {\"color\": \"rgb(61,153,112)\"}, \"text\": null, \"hoverinfo\": \"text\", \"xaxis\": \"x\", \"yaxis\": \"y\"}, {\"type\": \"scatter\", \"x\": [14.890998472268167, 31.450022072195726, 31.450022072195726, 20.524496485312607], \"y\": [-90.0, -90.0, -137.5, -137.5], \"mode\": \"lines\", \"marker\": {\"color\": \"rgb(61,153,112)\"}, \"text\": null, \"hoverinfo\": \"text\", \"xaxis\": \"x\", \"yaxis\": \"y\"}, {\"type\": \"scatter\", \"x\": [19.648018417510084, 39.06110460492974, 39.06110460492974, 31.450022072195726], \"y\": [-60.0, -60.0, -113.75, -113.75], \"mode\": \"lines\", \"marker\": {\"color\": \"rgb(61,153,112)\"}, \"text\": null, \"hoverinfo\": \"text\", \"xaxis\": \"x\", \"yaxis\": \"y\"}, {\"type\": \"scatter\", \"x\": [35.696414954177094, 46.284068530157086, 46.284068530157086, 39.06110460492974], \"y\": [-21.25, -21.25, -86.875, -86.875], \"mode\": \"lines\", \"marker\": {\"color\": \"rgb(61,153,112)\"}, \"text\": null, \"hoverinfo\": \"text\", \"xaxis\": \"x\", \"yaxis\": \"y\"}, {\"type\": \"scatter\", \"x\": [0.0, 32.932312099181836, 32.932312099181836, 0.0], \"y\": [-175.0, -175.0, -185.0, -185.0], \"mode\": \"lines\", \"marker\": {\"color\": \"rgb(61,153,112)\"}, \"text\": null, \"hoverinfo\": \"text\", \"xaxis\": \"x\", \"yaxis\": \"y\"}, {\"type\": \"scatter\", \"x\": [0.0, 5.385296586024882, 5.385296586024882, 0.0], \"y\": [-195.0, -195.0, -205.0, -205.0], \"mode\": \"lines\", \"marker\": {\"color\": \"rgb(61,153,112)\"}, \"text\": null, \"hoverinfo\": \"text\", \"xaxis\": \"x\", \"yaxis\": \"y\"}, {\"type\": \"scatter\", \"x\": [0.0, 12.451517252841542, 12.451517252841542, 0.0], \"y\": [-215.0, -215.0, -225.0, -225.0], \"mode\": \"lines\", \"marker\": {\"color\": \"rgb(61,153,112)\"}, \"text\": null, \"hoverinfo\": \"text\", \"xaxis\": \"x\", \"yaxis\": \"y\"}, {\"type\": \"scatter\", \"x\": [5.385296586024882, 20.61661612237131, 20.61661612237131, 12.451517252841542], \"y\": [-200.0, -200.0, -220.0, -220.0], \"mode\": \"lines\", \"marker\": {\"color\": \"rgb(61,153,112)\"}, \"text\": null, \"hoverinfo\": \"text\", \"xaxis\": \"x\", \"yaxis\": \"y\"}, {\"type\": \"scatter\", \"x\": [0.0, 4.905130337265406, 4.905130337265406, 0.0], \"y\": [-235.0, -235.0, -245.0, -245.0], \"mode\": \"lines\", \"marker\": {\"color\": \"rgb(61,153,112)\"}, \"text\": null, \"hoverinfo\": \"text\", \"xaxis\": \"x\", \"yaxis\": \"y\"}, {\"type\": \"scatter\", \"x\": [0.0, 6.78264683267024, 6.78264683267024, 0.0], \"y\": [-255.0, -255.0, -265.0, -265.0], \"mode\": \"lines\", \"marker\": {\"color\": \"rgb(61,153,112)\"}, \"text\": null, \"hoverinfo\": \"text\", \"xaxis\": \"x\", \"yaxis\": \"y\"}, {\"type\": \"scatter\", \"x\": [0.0, 8.075916618592846, 8.075916618592846, 0.0], \"y\": [-275.0, -275.0, -285.0, -285.0], \"mode\": \"lines\", \"marker\": {\"color\": \"rgb(61,153,112)\"}, \"text\": null, \"hoverinfo\": \"text\", \"xaxis\": \"x\", \"yaxis\": \"y\"}, {\"type\": \"scatter\", \"x\": [6.78264683267024, 12.247469287311976, 12.247469287311976, 8.075916618592846], \"y\": [-260.0, -260.0, -280.0, -280.0], \"mode\": \"lines\", \"marker\": {\"color\": \"rgb(61,153,112)\"}, \"text\": null, \"hoverinfo\": \"text\", \"xaxis\": \"x\", \"yaxis\": \"y\"}, {\"type\": \"scatter\", \"x\": [4.905130337265406, 23.366817168484022, 23.366817168484022, 12.247469287311976], \"y\": [-240.0, -240.0, -270.0, -270.0], \"mode\": \"lines\", \"marker\": {\"color\": \"rgb(61,153,112)\"}, \"text\": null, \"hoverinfo\": \"text\", \"xaxis\": \"x\", \"yaxis\": \"y\"}, {\"type\": \"scatter\", \"x\": [20.61661612237131, 40.37790593428464, 40.37790593428464, 23.366817168484022], \"y\": [-210.0, -210.0, -255.0, -255.0], \"mode\": \"lines\", \"marker\": {\"color\": \"rgb(61,153,112)\"}, \"text\": null, \"hoverinfo\": \"text\", \"xaxis\": \"x\", \"yaxis\": \"y\"}, {\"type\": \"scatter\", \"x\": [0.0, 7.882568749961157, 7.882568749961157, 0.0], \"y\": [-305.0, -305.0, -315.0, -315.0], \"mode\": \"lines\", \"marker\": {\"color\": \"rgb(61,153,112)\"}, \"text\": null, \"hoverinfo\": \"text\", \"xaxis\": \"x\", \"yaxis\": \"y\"}, {\"type\": \"scatter\", \"x\": [0.0, 23.60172801882864, 23.60172801882864, 7.882568749961157], \"y\": [-295.0, -295.0, -310.0, -310.0], \"mode\": \"lines\", \"marker\": {\"color\": \"rgb(61,153,112)\"}, \"text\": null, \"hoverinfo\": \"text\", \"xaxis\": \"x\", \"yaxis\": \"y\"}, {\"type\": \"scatter\", \"x\": [0.0, 3.5039464392162145, 3.5039464392162145, 0.0], \"y\": [-345.0, -345.0, -355.0, -355.0], \"mode\": \"lines\", \"marker\": {\"color\": \"rgb(61,153,112)\"}, \"text\": null, \"hoverinfo\": \"text\", \"xaxis\": \"x\", \"yaxis\": \"y\"}, {\"type\": \"scatter\", \"x\": [0.0, 7.563916927920096, 7.563916927920096, 3.5039464392162145], \"y\": [-335.0, -335.0, -350.0, -350.0], \"mode\": \"lines\", \"marker\": {\"color\": \"rgb(61,153,112)\"}, \"text\": null, \"hoverinfo\": \"text\", \"xaxis\": \"x\", \"yaxis\": \"y\"}, {\"type\": \"scatter\", \"x\": [0.0, 13.638184943855062, 13.638184943855062, 7.563916927920096], \"y\": [-325.0, -325.0, -342.5, -342.5], \"mode\": \"lines\", \"marker\": {\"color\": \"rgb(61,153,112)\"}, \"text\": null, \"hoverinfo\": \"text\", \"xaxis\": \"x\", \"yaxis\": \"y\"}, {\"type\": \"scatter\", \"x\": [0.0, 20.9102008081131, 20.9102008081131, 0.0], \"y\": [-365.0, -365.0, -375.0, -375.0], \"mode\": \"lines\", \"marker\": {\"color\": \"rgb(61,153,112)\"}, \"text\": null, \"hoverinfo\": \"text\", \"xaxis\": \"x\", \"yaxis\": \"y\"}, {\"type\": \"scatter\", \"x\": [13.638184943855062, 26.000267830734092, 26.000267830734092, 20.9102008081131], \"y\": [-333.75, -333.75, -370.0, -370.0], \"mode\": \"lines\", \"marker\": {\"color\": \"rgb(61,153,112)\"}, \"text\": null, \"hoverinfo\": \"text\", \"xaxis\": \"x\", \"yaxis\": \"y\"}, {\"type\": \"scatter\", \"x\": [23.60172801882864, 47.69324101644715, 47.69324101644715, 26.000267830734092], \"y\": [-302.5, -302.5, -351.875, -351.875], \"mode\": \"lines\", \"marker\": {\"color\": \"rgb(61,153,112)\"}, \"text\": null, \"hoverinfo\": \"text\", \"xaxis\": \"x\", \"yaxis\": \"y\"}, {\"type\": \"scatter\", \"x\": [40.37790593428464, 66.74091633430851, 66.74091633430851, 47.69324101644715], \"y\": [-232.5, -232.5, -327.1875, -327.1875], \"mode\": \"lines\", \"marker\": {\"color\": \"rgb(61,153,112)\"}, \"text\": null, \"hoverinfo\": \"text\", \"xaxis\": \"x\", \"yaxis\": \"y\"}, {\"type\": \"scatter\", \"x\": [32.932312099181836, 77.02167753869846, 77.02167753869846, 66.74091633430851], \"y\": [-180.0, -180.0, -279.84375, -279.84375], \"mode\": \"lines\", \"marker\": {\"color\": \"rgb(61,153,112)\"}, \"text\": null, \"hoverinfo\": \"text\", \"xaxis\": \"x\", \"yaxis\": \"y\"}, {\"type\": \"scatter\", \"x\": [46.284068530157086, 123.23361224774429, 123.23361224774429, 77.02167753869846], \"y\": [-54.0625, -54.0625, -229.921875, -229.921875], \"mode\": \"lines\", \"marker\": {\"color\": \"rgb(61,153,112)\"}, \"text\": null, \"hoverinfo\": \"text\", \"xaxis\": \"x\", \"yaxis\": \"y\"}, {\"type\": \"scatter\", \"x\": [0.0, 23.233981334047026, 23.233981334047026, 0.0], \"y\": [-395.0, -395.0, -405.0, -405.0], \"mode\": \"lines\", \"marker\": {\"color\": \"rgb(61,153,112)\"}, \"text\": null, \"hoverinfo\": \"text\", \"xaxis\": \"x\", \"yaxis\": \"y\"}, {\"type\": \"scatter\", \"x\": [0.0, 12.960507393369607, 12.960507393369607, 0.0], \"y\": [-425.0, -425.0, -435.0, -435.0], \"mode\": \"lines\", \"marker\": {\"color\": \"rgb(61,153,112)\"}, \"text\": null, \"hoverinfo\": \"text\", \"xaxis\": \"x\", \"yaxis\": \"y\"}, {\"type\": \"scatter\", \"x\": [0.0, 32.94889257613108, 32.94889257613108, 12.960507393369607], \"y\": [-415.0, -415.0, -430.0, -430.0], \"mode\": \"lines\", \"marker\": {\"color\": \"rgb(61,153,112)\"}, \"text\": null, \"hoverinfo\": \"text\", \"xaxis\": \"x\", \"yaxis\": \"y\"}, {\"type\": \"scatter\", \"x\": [23.233981334047026, 79.54573565938148, 79.54573565938148, 32.94889257613108], \"y\": [-400.0, -400.0, -422.5, -422.5], \"mode\": \"lines\", \"marker\": {\"color\": \"rgb(61,153,112)\"}, \"text\": null, \"hoverinfo\": \"text\", \"xaxis\": \"x\", \"yaxis\": \"y\"}, {\"type\": \"scatter\", \"x\": [0.0, 144.70078191669788, 144.70078191669788, 79.54573565938148], \"y\": [-385.0, -385.0, -411.25, -411.25], \"mode\": \"lines\", \"marker\": {\"color\": \"rgb(61,153,112)\"}, \"text\": null, \"hoverinfo\": \"text\", \"xaxis\": \"x\", \"yaxis\": \"y\"}, {\"type\": \"scatter\", \"x\": [123.23361224774429, 239.50943184603187, 239.50943184603187, 144.70078191669788], \"y\": [-141.9921875, -141.9921875, -398.125, -398.125], \"mode\": \"lines\", \"marker\": {\"color\": \"rgb(61,153,112)\"}, \"text\": null, \"hoverinfo\": \"text\", \"xaxis\": \"x\", \"yaxis\": \"y\"}, {\"type\": \"scatter\", \"x\": [0.0, 3.6085601693614624, 3.6085601693614624, 0.0], \"y\": [-455.0, -455.0, -465.0, -465.0], \"mode\": \"lines\", \"marker\": {\"color\": \"rgb(255,65,54)\"}, \"text\": null, \"hoverinfo\": \"text\", \"xaxis\": \"x\", \"yaxis\": \"y\"}, {\"type\": \"scatter\", \"x\": [0.0, 23.537212276729473, 23.537212276729473, 3.6085601693614624], \"y\": [-445.0, -445.0, -460.0, -460.0], \"mode\": \"lines\", \"marker\": {\"color\": \"rgb(255,65,54)\"}, \"text\": null, \"hoverinfo\": \"text\", \"xaxis\": \"x\", \"yaxis\": \"y\"}, {\"type\": \"scatter\", \"x\": [0.0, 5.658792327594033, 5.658792327594033, 0.0], \"y\": [-485.0, -485.0, -495.0, -495.0], \"mode\": \"lines\", \"marker\": {\"color\": \"rgb(255,65,54)\"}, \"text\": null, \"hoverinfo\": \"text\", \"xaxis\": \"x\", \"yaxis\": \"y\"}, {\"type\": \"scatter\", \"x\": [0.0, 12.369880696420696, 12.369880696420696, 5.658792327594033], \"y\": [-475.0, -475.0, -490.0, -490.0], \"mode\": \"lines\", \"marker\": {\"color\": \"rgb(255,65,54)\"}, \"text\": null, \"hoverinfo\": \"text\", \"xaxis\": \"x\", \"yaxis\": \"y\"}, {\"type\": \"scatter\", \"x\": [0.0, 5.099348225436066, 5.099348225436066, 0.0], \"y\": [-515.0, -515.0, -525.0, -525.0], \"mode\": \"lines\", \"marker\": {\"color\": \"rgb(255,65,54)\"}, \"text\": null, \"hoverinfo\": \"text\", \"xaxis\": \"x\", \"yaxis\": \"y\"}, {\"type\": \"scatter\", \"x\": [0.0, 7.211529047293172, 7.211529047293172, 5.099348225436066], \"y\": [-505.0, -505.0, -520.0, -520.0], \"mode\": \"lines\", \"marker\": {\"color\": \"rgb(255,65,54)\"}, \"text\": null, \"hoverinfo\": \"text\", \"xaxis\": \"x\", \"yaxis\": \"y\"}, {\"type\": \"scatter\", \"x\": [0.0, 5.099035551168161, 5.099035551168161, 0.0], \"y\": [-545.0, -545.0, -555.0, -555.0], \"mode\": \"lines\", \"marker\": {\"color\": \"rgb(255,65,54)\"}, \"text\": null, \"hoverinfo\": \"text\", \"xaxis\": \"x\", \"yaxis\": \"y\"}, {\"type\": \"scatter\", \"x\": [0.0, 10.296543469946632, 10.296543469946632, 5.099035551168161], \"y\": [-535.0, -535.0, -550.0, -550.0], \"mode\": \"lines\", \"marker\": {\"color\": \"rgb(255,65,54)\"}, \"text\": null, \"hoverinfo\": \"text\", \"xaxis\": \"x\", \"yaxis\": \"y\"}, {\"type\": \"scatter\", \"x\": [7.211529047293172, 23.411531118281907, 23.411531118281907, 10.296543469946632], \"y\": [-512.5, -512.5, -542.5, -542.5], \"mode\": \"lines\", \"marker\": {\"color\": \"rgb(255,65,54)\"}, \"text\": null, \"hoverinfo\": \"text\", \"xaxis\": \"x\", \"yaxis\": \"y\"}, {\"type\": \"scatter\", \"x\": [12.369880696420696, 30.414601666891315, 30.414601666891315, 23.411531118281907], \"y\": [-482.5, -482.5, -527.5, -527.5], \"mode\": \"lines\", \"marker\": {\"color\": \"rgb(255,65,54)\"}, \"text\": null, \"hoverinfo\": \"text\", \"xaxis\": \"x\", \"yaxis\": \"y\"}, {\"type\": \"scatter\", \"x\": [23.537212276729473, 62.37026445253379, 62.37026445253379, 30.414601666891315], \"y\": [-452.5, -452.5, -505.0, -505.0], \"mode\": \"lines\", \"marker\": {\"color\": \"rgb(255,65,54)\"}, \"text\": null, \"hoverinfo\": \"text\", \"xaxis\": \"x\", \"yaxis\": \"y\"}, {\"type\": \"scatter\", \"x\": [0.0, 3.162321726750512, 3.162321726750512, 0.0], \"y\": [-575.0, -575.0, -585.0, -585.0], \"mode\": \"lines\", \"marker\": {\"color\": \"rgb(255,65,54)\"}, \"text\": null, \"hoverinfo\": \"text\", \"xaxis\": \"x\", \"yaxis\": \"y\"}, {\"type\": \"scatter\", \"x\": [0.0, 2.8752314071639393, 2.8752314071639393, 0.0], \"y\": [-605.0, -605.0, -615.0, -615.0], \"mode\": \"lines\", \"marker\": {\"color\": \"rgb(255,65,54)\"}, \"text\": null, \"hoverinfo\": \"text\", \"xaxis\": \"x\", \"yaxis\": \"y\"}, {\"type\": \"scatter\", \"x\": [0.0, 5.099026819898445, 5.099026819898445, 2.8752314071639393], \"y\": [-595.0, -595.0, -610.0, -610.0], \"mode\": \"lines\", \"marker\": {\"color\": \"rgb(255,65,54)\"}, \"text\": null, \"hoverinfo\": \"text\", \"xaxis\": \"x\", \"yaxis\": \"y\"}, {\"type\": \"scatter\", \"x\": [3.162321726750512, 19.24775379464954, 19.24775379464954, 5.099026819898445], \"y\": [-580.0, -580.0, -602.5, -602.5], \"mode\": \"lines\", \"marker\": {\"color\": \"rgb(255,65,54)\"}, \"text\": null, \"hoverinfo\": \"text\", \"xaxis\": \"x\", \"yaxis\": \"y\"}, {\"type\": \"scatter\", \"x\": [0.0, 45.17964983769838, 45.17964983769838, 19.24775379464954], \"y\": [-565.0, -565.0, -591.25, -591.25], \"mode\": \"lines\", \"marker\": {\"color\": \"rgb(255,65,54)\"}, \"text\": null, \"hoverinfo\": \"text\", \"xaxis\": \"x\", \"yaxis\": \"y\"}, {\"type\": \"scatter\", \"x\": [0.0, 5.389877570341495, 5.389877570341495, 0.0], \"y\": [-645.0, -645.0, -655.0, -655.0], \"mode\": \"lines\", \"marker\": {\"color\": \"rgb(255,65,54)\"}, \"text\": null, \"hoverinfo\": \"text\", \"xaxis\": \"x\", \"yaxis\": \"y\"}, {\"type\": \"scatter\", \"x\": [0.0, 14.142144937040351, 14.142144937040351, 5.389877570341495], \"y\": [-635.0, -635.0, -650.0, -650.0], \"mode\": \"lines\", \"marker\": {\"color\": \"rgb(255,65,54)\"}, \"text\": null, \"hoverinfo\": \"text\", \"xaxis\": \"x\", \"yaxis\": \"y\"}, {\"type\": \"scatter\", \"x\": [0.0, 20.61570910358761, 20.61570910358761, 14.142144937040351], \"y\": [-625.0, -625.0, -642.5, -642.5], \"mode\": \"lines\", \"marker\": {\"color\": \"rgb(255,65,54)\"}, \"text\": null, \"hoverinfo\": \"text\", \"xaxis\": \"x\", \"yaxis\": \"y\"}, {\"type\": \"scatter\", \"x\": [0.0, 2.8425234514473394, 2.8425234514473394, 0.0], \"y\": [-685.0, -685.0, -695.0, -695.0], \"mode\": \"lines\", \"marker\": {\"color\": \"rgb(255,65,54)\"}, \"text\": null, \"hoverinfo\": \"text\", \"xaxis\": \"x\", \"yaxis\": \"y\"}, {\"type\": \"scatter\", \"x\": [0.0, 8.54401051498811, 8.54401051498811, 2.8425234514473394], \"y\": [-675.0, -675.0, -690.0, -690.0], \"mode\": \"lines\", \"marker\": {\"color\": \"rgb(255,65,54)\"}, \"text\": null, \"hoverinfo\": \"text\", \"xaxis\": \"x\", \"yaxis\": \"y\"}, {\"type\": \"scatter\", \"x\": [0.0, 15.652574369455301, 15.652574369455301, 8.54401051498811], \"y\": [-665.0, -665.0, -682.5, -682.5], \"mode\": \"lines\", \"marker\": {\"color\": \"rgb(255,65,54)\"}, \"text\": null, \"hoverinfo\": \"text\", \"xaxis\": \"x\", \"yaxis\": \"y\"}, {\"type\": \"scatter\", \"x\": [0.0, 5.038851262760594, 5.038851262760594, 0.0], \"y\": [-705.0, -705.0, -715.0, -715.0], \"mode\": \"lines\", \"marker\": {\"color\": \"rgb(255,65,54)\"}, \"text\": null, \"hoverinfo\": \"text\", \"xaxis\": \"x\", \"yaxis\": \"y\"}, {\"type\": \"scatter\", \"x\": [0.0, 3.63938113689497, 3.63938113689497, 0.0], \"y\": [-745.0, -745.0, -755.0, -755.0], \"mode\": \"lines\", \"marker\": {\"color\": \"rgb(255,65,54)\"}, \"text\": null, \"hoverinfo\": \"text\", \"xaxis\": \"x\", \"yaxis\": \"y\"}, {\"type\": \"scatter\", \"x\": [0.0, 10.050156014642873, 10.050156014642873, 3.63938113689497], \"y\": [-735.0, -735.0, -750.0, -750.0], \"mode\": \"lines\", \"marker\": {\"color\": \"rgb(255,65,54)\"}, \"text\": null, \"hoverinfo\": \"text\", \"xaxis\": \"x\", \"yaxis\": \"y\"}, {\"type\": \"scatter\", \"x\": [0.0, 11.40721462410635, 11.40721462410635, 10.050156014642873], \"y\": [-725.0, -725.0, -742.5, -742.5], \"mode\": \"lines\", \"marker\": {\"color\": \"rgb(255,65,54)\"}, \"text\": null, \"hoverinfo\": \"text\", \"xaxis\": \"x\", \"yaxis\": \"y\"}, {\"type\": \"scatter\", \"x\": [5.038851262760594, 28.861924264879686, 28.861924264879686, 11.40721462410635], \"y\": [-710.0, -710.0, -733.75, -733.75], \"mode\": \"lines\", \"marker\": {\"color\": \"rgb(255,65,54)\"}, \"text\": null, \"hoverinfo\": \"text\", \"xaxis\": \"x\", \"yaxis\": \"y\"}, {\"type\": \"scatter\", \"x\": [15.652574369455301, 37.57971510333869, 37.57971510333869, 28.861924264879686], \"y\": [-673.75, -673.75, -721.875, -721.875], \"mode\": \"lines\", \"marker\": {\"color\": \"rgb(255,65,54)\"}, \"text\": null, \"hoverinfo\": \"text\", \"xaxis\": \"x\", \"yaxis\": \"y\"}, {\"type\": \"scatter\", \"x\": [20.61570910358761, 62.968245970335545, 62.968245970335545, 37.57971510333869], \"y\": [-633.75, -633.75, -697.8125, -697.8125], \"mode\": \"lines\", \"marker\": {\"color\": \"rgb(255,65,54)\"}, \"text\": null, \"hoverinfo\": \"text\", \"xaxis\": \"x\", \"yaxis\": \"y\"}, {\"type\": \"scatter\", \"x\": [45.17964983769838, 88.14271379971856, 88.14271379971856, 62.968245970335545], \"y\": [-578.125, -578.125, -665.78125, -665.78125], \"mode\": \"lines\", \"marker\": {\"color\": \"rgb(255,65,54)\"}, \"text\": null, \"hoverinfo\": \"text\", \"xaxis\": \"x\", \"yaxis\": \"y\"}, {\"type\": \"scatter\", \"x\": [62.37026445253379, 120.93407204030598, 120.93407204030598, 88.14271379971856], \"y\": [-478.75, -478.75, -621.953125, -621.953125], \"mode\": \"lines\", \"marker\": {\"color\": \"rgb(255,65,54)\"}, \"text\": null, \"hoverinfo\": \"text\", \"xaxis\": \"x\", \"yaxis\": \"y\"}, {\"type\": \"scatter\", \"x\": [0.0, 3.6131906143231394, 3.6131906143231394, 0.0], \"y\": [-795.0, -795.0, -805.0, -805.0], \"mode\": \"lines\", \"marker\": {\"color\": \"rgb(35,205,205)\"}, \"text\": null, \"hoverinfo\": \"text\", \"xaxis\": \"x\", \"yaxis\": \"y\"}, {\"type\": \"scatter\", \"x\": [0.0, 5.918389145530353, 5.918389145530353, 3.6131906143231394], \"y\": [-785.0, -785.0, -800.0, -800.0], \"mode\": \"lines\", \"marker\": {\"color\": \"rgb(35,205,205)\"}, \"text\": null, \"hoverinfo\": \"text\", \"xaxis\": \"x\", \"yaxis\": \"y\"}, {\"type\": \"scatter\", \"x\": [0.0, 11.180431774054792, 11.180431774054792, 5.918389145530353], \"y\": [-775.0, -775.0, -792.5, -792.5], \"mode\": \"lines\", \"marker\": {\"color\": \"rgb(35,205,205)\"}, \"text\": null, \"hoverinfo\": \"text\", \"xaxis\": \"x\", \"yaxis\": \"y\"}, {\"type\": \"scatter\", \"x\": [0.0, 17.49377148373758, 17.49377148373758, 11.180431774054792], \"y\": [-765.0, -765.0, -783.75, -783.75], \"mode\": \"lines\", \"marker\": {\"color\": \"rgb(35,205,205)\"}, \"text\": null, \"hoverinfo\": \"text\", \"xaxis\": \"x\", \"yaxis\": \"y\"}, {\"type\": \"scatter\", \"x\": [0.0, 6.136416705811266, 6.136416705811266, 0.0], \"y\": [-825.0, -825.0, -835.0, -835.0], \"mode\": \"lines\", \"marker\": {\"color\": \"rgb(35,205,205)\"}, \"text\": null, \"hoverinfo\": \"text\", \"xaxis\": \"x\", \"yaxis\": \"y\"}, {\"type\": \"scatter\", \"x\": [0.0, 16.140792433207274, 16.140792433207274, 6.136416705811266], \"y\": [-815.0, -815.0, -830.0, -830.0], \"mode\": \"lines\", \"marker\": {\"color\": \"rgb(35,205,205)\"}, \"text\": null, \"hoverinfo\": \"text\", \"xaxis\": \"x\", \"yaxis\": \"y\"}, {\"type\": \"scatter\", \"x\": [0.0, 21.667256258277163, 21.667256258277163, 0.0], \"y\": [-845.0, -845.0, -855.0, -855.0], \"mode\": \"lines\", \"marker\": {\"color\": \"rgb(35,205,205)\"}, \"text\": null, \"hoverinfo\": \"text\", \"xaxis\": \"x\", \"yaxis\": \"y\"}, {\"type\": \"scatter\", \"x\": [16.140792433207274, 33.74930356016123, 33.74930356016123, 21.667256258277163], \"y\": [-822.5, -822.5, -850.0, -850.0], \"mode\": \"lines\", \"marker\": {\"color\": \"rgb(35,205,205)\"}, \"text\": null, \"hoverinfo\": \"text\", \"xaxis\": \"x\", \"yaxis\": \"y\"}, {\"type\": \"scatter\", \"x\": [17.49377148373758, 49.8318031626773, 49.8318031626773, 33.74930356016123], \"y\": [-774.375, -774.375, -836.25, -836.25], \"mode\": \"lines\", \"marker\": {\"color\": \"rgb(35,205,205)\"}, \"text\": null, \"hoverinfo\": \"text\", \"xaxis\": \"x\", \"yaxis\": \"y\"}, {\"type\": \"scatter\", \"x\": [0.0, 5.385197014807125, 5.385197014807125, 0.0], \"y\": [-865.0, -865.0, -875.0, -875.0], \"mode\": \"lines\", \"marker\": {\"color\": \"rgb(35,205,205)\"}, \"text\": null, \"hoverinfo\": \"text\", \"xaxis\": \"x\", \"yaxis\": \"y\"}, {\"type\": \"scatter\", \"x\": [0.0, 4.474630669181541, 4.474630669181541, 0.0], \"y\": [-885.0, -885.0, -895.0, -895.0], \"mode\": \"lines\", \"marker\": {\"color\": \"rgb(35,205,205)\"}, \"text\": null, \"hoverinfo\": \"text\", \"xaxis\": \"x\", \"yaxis\": \"y\"}, {\"type\": \"scatter\", \"x\": [0.0, 8.310407942172514, 8.310407942172514, 0.0], \"y\": [-905.0, -905.0, -915.0, -915.0], \"mode\": \"lines\", \"marker\": {\"color\": \"rgb(35,205,205)\"}, \"text\": null, \"hoverinfo\": \"text\", \"xaxis\": \"x\", \"yaxis\": \"y\"}, {\"type\": \"scatter\", \"x\": [4.474630669181541, 16.52567166542233, 16.52567166542233, 8.310407942172514], \"y\": [-890.0, -890.0, -910.0, -910.0], \"mode\": \"lines\", \"marker\": {\"color\": \"rgb(35,205,205)\"}, \"text\": null, \"hoverinfo\": \"text\", \"xaxis\": \"x\", \"yaxis\": \"y\"}, {\"type\": \"scatter\", \"x\": [5.385197014807125, 29.69884269452201, 29.69884269452201, 16.52567166542233], \"y\": [-870.0, -870.0, -900.0, -900.0], \"mode\": \"lines\", \"marker\": {\"color\": \"rgb(35,205,205)\"}, \"text\": null, \"hoverinfo\": \"text\", \"xaxis\": \"x\", \"yaxis\": \"y\"}, {\"type\": \"scatter\", \"x\": [0.0, 33.615817130408004, 33.615817130408004, 0.0], \"y\": [-925.0, -925.0, -935.0, -935.0], \"mode\": \"lines\", \"marker\": {\"color\": \"rgb(35,205,205)\"}, \"text\": null, \"hoverinfo\": \"text\", \"xaxis\": \"x\", \"yaxis\": \"y\"}, {\"type\": \"scatter\", \"x\": [29.69884269452201, 64.84598927318075, 64.84598927318075, 33.615817130408004], \"y\": [-885.0, -885.0, -930.0, -930.0], \"mode\": \"lines\", \"marker\": {\"color\": \"rgb(35,205,205)\"}, \"text\": null, \"hoverinfo\": \"text\", \"xaxis\": \"x\", \"yaxis\": \"y\"}, {\"type\": \"scatter\", \"x\": [49.8318031626773, 89.68291617680664, 89.68291617680664, 64.84598927318075], \"y\": [-805.3125, -805.3125, -907.5, -907.5], \"mode\": \"lines\", \"marker\": {\"color\": \"rgb(35,205,205)\"}, \"text\": null, \"hoverinfo\": \"text\", \"xaxis\": \"x\", \"yaxis\": \"y\"}, {\"type\": \"scatter\", \"x\": [0.0, 3.3234781224658727, 3.3234781224658727, 0.0], \"y\": [-955.0, -955.0, -965.0, -965.0], \"mode\": \"lines\", \"marker\": {\"color\": \"rgb(35,205,205)\"}, \"text\": null, \"hoverinfo\": \"text\", \"xaxis\": \"x\", \"yaxis\": \"y\"}, {\"type\": \"scatter\", \"x\": [0.0, 12.692562277731357, 12.692562277731357, 3.3234781224658727], \"y\": [-945.0, -945.0, -960.0, -960.0], \"mode\": \"lines\", \"marker\": {\"color\": \"rgb(35,205,205)\"}, \"text\": null, \"hoverinfo\": \"text\", \"xaxis\": \"x\", \"yaxis\": \"y\"}, {\"type\": \"scatter\", \"x\": [0.0, 21.95847244651405, 21.95847244651405, 0.0], \"y\": [-975.0, -975.0, -985.0, -985.0], \"mode\": \"lines\", \"marker\": {\"color\": \"rgb(35,205,205)\"}, \"text\": null, \"hoverinfo\": \"text\", \"xaxis\": \"x\", \"yaxis\": \"y\"}, {\"type\": \"scatter\", \"x\": [12.692562277731357, 25.105459127676447, 25.105459127676447, 21.95847244651405], \"y\": [-952.5, -952.5, -980.0, -980.0], \"mode\": \"lines\", \"marker\": {\"color\": \"rgb(35,205,205)\"}, \"text\": null, \"hoverinfo\": \"text\", \"xaxis\": \"x\", \"yaxis\": \"y\"}, {\"type\": \"scatter\", \"x\": [0.0, 9.27446199981869, 9.27446199981869, 0.0], \"y\": [-995.0, -995.0, -1005.0, -1005.0], \"mode\": \"lines\", \"marker\": {\"color\": \"rgb(35,205,205)\"}, \"text\": null, \"hoverinfo\": \"text\", \"xaxis\": \"x\", \"yaxis\": \"y\"}, {\"type\": \"scatter\", \"x\": [0.0, 11.875977238297429, 11.875977238297429, 0.0], \"y\": [-1015.0, -1015.0, -1025.0, -1025.0], \"mode\": \"lines\", \"marker\": {\"color\": \"rgb(35,205,205)\"}, \"text\": null, \"hoverinfo\": \"text\", \"xaxis\": \"x\", \"yaxis\": \"y\"}, {\"type\": \"scatter\", \"x\": [9.27446199981869, 28.723926732516777, 28.723926732516777, 11.875977238297429], \"y\": [-1000.0, -1000.0, -1020.0, -1020.0], \"mode\": \"lines\", \"marker\": {\"color\": \"rgb(35,205,205)\"}, \"text\": null, \"hoverinfo\": \"text\", \"xaxis\": \"x\", \"yaxis\": \"y\"}, {\"type\": \"scatter\", \"x\": [0.0, 8.775023269629735, 8.775023269629735, 0.0], \"y\": [-1035.0, -1035.0, -1045.0, -1045.0], \"mode\": \"lines\", \"marker\": {\"color\": \"rgb(35,205,205)\"}, \"text\": null, \"hoverinfo\": \"text\", \"xaxis\": \"x\", \"yaxis\": \"y\"}, {\"type\": \"scatter\", \"x\": [0.0, 13.342038096663003, 13.342038096663003, 0.0], \"y\": [-1055.0, -1055.0, -1065.0, -1065.0], \"mode\": \"lines\", \"marker\": {\"color\": \"rgb(35,205,205)\"}, \"text\": null, \"hoverinfo\": \"text\", \"xaxis\": \"x\", \"yaxis\": \"y\"}, {\"type\": \"scatter\", \"x\": [8.775023269629735, 31.468032469482747, 31.468032469482747, 13.342038096663003], \"y\": [-1040.0, -1040.0, -1060.0, -1060.0], \"mode\": \"lines\", \"marker\": {\"color\": \"rgb(35,205,205)\"}, \"text\": null, \"hoverinfo\": \"text\", \"xaxis\": \"x\", \"yaxis\": \"y\"}, {\"type\": \"scatter\", \"x\": [28.723926732516777, 42.20240406016859, 42.20240406016859, 31.468032469482747], \"y\": [-1010.0, -1010.0, -1050.0, -1050.0], \"mode\": \"lines\", \"marker\": {\"color\": \"rgb(35,205,205)\"}, \"text\": null, \"hoverinfo\": \"text\", \"xaxis\": \"x\", \"yaxis\": \"y\"}, {\"type\": \"scatter\", \"x\": [25.105459127676447, 67.08556352448255, 67.08556352448255, 42.20240406016859], \"y\": [-966.25, -966.25, -1030.0, -1030.0], \"mode\": \"lines\", \"marker\": {\"color\": \"rgb(35,205,205)\"}, \"text\": null, \"hoverinfo\": \"text\", \"xaxis\": \"x\", \"yaxis\": \"y\"}, {\"type\": \"scatter\", \"x\": [0.0, 6.403158854288414, 6.403158854288414, 0.0], \"y\": [-1085.0, -1085.0, -1095.0, -1095.0], \"mode\": \"lines\", \"marker\": {\"color\": \"rgb(35,205,205)\"}, \"text\": null, \"hoverinfo\": \"text\", \"xaxis\": \"x\", \"yaxis\": \"y\"}, {\"type\": \"scatter\", \"x\": [0.0, 7.723939561916253, 7.723939561916253, 6.403158854288414], \"y\": [-1075.0, -1075.0, -1090.0, -1090.0], \"mode\": \"lines\", \"marker\": {\"color\": \"rgb(35,205,205)\"}, \"text\": null, \"hoverinfo\": \"text\", \"xaxis\": \"x\", \"yaxis\": \"y\"}, {\"type\": \"scatter\", \"x\": [0.0, 9.700790308825237, 9.700790308825237, 0.0], \"y\": [-1115.0, -1115.0, -1125.0, -1125.0], \"mode\": \"lines\", \"marker\": {\"color\": \"rgb(35,205,205)\"}, \"text\": null, \"hoverinfo\": \"text\", \"xaxis\": \"x\", \"yaxis\": \"y\"}, {\"type\": \"scatter\", \"x\": [0.0, 17.16202441894382, 17.16202441894382, 9.700790308825237], \"y\": [-1105.0, -1105.0, -1120.0, -1120.0], \"mode\": \"lines\", \"marker\": {\"color\": \"rgb(35,205,205)\"}, \"text\": null, \"hoverinfo\": \"text\", \"xaxis\": \"x\", \"yaxis\": \"y\"}, {\"type\": \"scatter\", \"x\": [7.723939561916253, 23.35495955833804, 23.35495955833804, 17.16202441894382], \"y\": [-1082.5, -1082.5, -1112.5, -1112.5], \"mode\": \"lines\", \"marker\": {\"color\": \"rgb(35,205,205)\"}, \"text\": null, \"hoverinfo\": \"text\", \"xaxis\": \"x\", \"yaxis\": \"y\"}, {\"type\": \"scatter\", \"x\": [0.0, 10.816923003242472, 10.816923003242472, 0.0], \"y\": [-1145.0, -1145.0, -1155.0, -1155.0], \"mode\": \"lines\", \"marker\": {\"color\": \"rgb(35,205,205)\"}, \"text\": null, \"hoverinfo\": \"text\", \"xaxis\": \"x\", \"yaxis\": \"y\"}, {\"type\": \"scatter\", \"x\": [0.0, 3.748742325261853, 3.748742325261853, 0.0], \"y\": [-1185.0, -1185.0, -1195.0, -1195.0], \"mode\": \"lines\", \"marker\": {\"color\": \"rgb(35,205,205)\"}, \"text\": null, \"hoverinfo\": \"text\", \"xaxis\": \"x\", \"yaxis\": \"y\"}, {\"type\": \"scatter\", \"x\": [0.0, 10.249036455542267, 10.249036455542267, 3.748742325261853], \"y\": [-1175.0, -1175.0, -1190.0, -1190.0], \"mode\": \"lines\", \"marker\": {\"color\": \"rgb(35,205,205)\"}, \"text\": null, \"hoverinfo\": \"text\", \"xaxis\": \"x\", \"yaxis\": \"y\"}, {\"type\": \"scatter\", \"x\": [0.0, 22.761537775533945, 22.761537775533945, 10.249036455542267], \"y\": [-1165.0, -1165.0, -1182.5, -1182.5], \"mode\": \"lines\", \"marker\": {\"color\": \"rgb(35,205,205)\"}, \"text\": null, \"hoverinfo\": \"text\", \"xaxis\": \"x\", \"yaxis\": \"y\"}, {\"type\": \"scatter\", \"x\": [10.816923003242472, 31.780854222440805, 31.780854222440805, 22.761537775533945], \"y\": [-1150.0, -1150.0, -1173.75, -1173.75], \"mode\": \"lines\", \"marker\": {\"color\": \"rgb(35,205,205)\"}, \"text\": null, \"hoverinfo\": \"text\", \"xaxis\": \"x\", \"yaxis\": \"y\"}, {\"type\": \"scatter\", \"x\": [0.0, 54.27132112436915, 54.27132112436915, 31.780854222440805], \"y\": [-1135.0, -1135.0, -1161.875, -1161.875], \"mode\": \"lines\", \"marker\": {\"color\": \"rgb(35,205,205)\"}, \"text\": null, \"hoverinfo\": \"text\", \"xaxis\": \"x\", \"yaxis\": \"y\"}, {\"type\": \"scatter\", \"x\": [23.35495955833804, 70.24265904673591, 70.24265904673591, 54.27132112436915], \"y\": [-1097.5, -1097.5, -1148.4375, -1148.4375], \"mode\": \"lines\", \"marker\": {\"color\": \"rgb(35,205,205)\"}, \"text\": null, \"hoverinfo\": \"text\", \"xaxis\": \"x\", \"yaxis\": \"y\"}, {\"type\": \"scatter\", \"x\": [67.08556352448255, 118.50761797046532, 118.50761797046532, 70.24265904673591], \"y\": [-998.125, -998.125, -1122.96875, -1122.96875], \"mode\": \"lines\", \"marker\": {\"color\": \"rgb(35,205,205)\"}, \"text\": null, \"hoverinfo\": \"text\", \"xaxis\": \"x\", \"yaxis\": \"y\"}, {\"type\": \"scatter\", \"x\": [89.68291617680664, 144.67694611732787, 144.67694611732787, 118.50761797046532], \"y\": [-856.40625, -856.40625, -1060.546875, -1060.546875], \"mode\": \"lines\", \"marker\": {\"color\": \"rgb(35,205,205)\"}, \"text\": null, \"hoverinfo\": \"text\", \"xaxis\": \"x\", \"yaxis\": \"y\"}, {\"type\": \"scatter\", \"x\": [0.0, 5.1464686123709935, 5.1464686123709935, 0.0], \"y\": [-1215.0, -1215.0, -1225.0, -1225.0], \"mode\": \"lines\", \"marker\": {\"color\": \"rgb(35,205,205)\"}, \"text\": null, \"hoverinfo\": \"text\", \"xaxis\": \"x\", \"yaxis\": \"y\"}, {\"type\": \"scatter\", \"x\": [0.0, 6.085531533654189, 6.085531533654189, 5.1464686123709935], \"y\": [-1205.0, -1205.0, -1220.0, -1220.0], \"mode\": \"lines\", \"marker\": {\"color\": \"rgb(35,205,205)\"}, \"text\": null, \"hoverinfo\": \"text\", \"xaxis\": \"x\", \"yaxis\": \"y\"}, {\"type\": \"scatter\", \"x\": [0.0, 1.4142135623730951, 1.4142135623730951, 0.0], \"y\": [-1255.0, -1255.0, -1265.0, -1265.0], \"mode\": \"lines\", \"marker\": {\"color\": \"rgb(35,205,205)\"}, \"text\": null, \"hoverinfo\": \"text\", \"xaxis\": \"x\", \"yaxis\": \"y\"}, {\"type\": \"scatter\", \"x\": [0.0, 5.830951894845301, 5.830951894845301, 1.4142135623730951], \"y\": [-1245.0, -1245.0, -1260.0, -1260.0], \"mode\": \"lines\", \"marker\": {\"color\": \"rgb(35,205,205)\"}, \"text\": null, \"hoverinfo\": \"text\", \"xaxis\": \"x\", \"yaxis\": \"y\"}, {\"type\": \"scatter\", \"x\": [0.0, 10.842174706872129, 10.842174706872129, 5.830951894845301], \"y\": [-1235.0, -1235.0, -1252.5, -1252.5], \"mode\": \"lines\", \"marker\": {\"color\": \"rgb(35,205,205)\"}, \"text\": null, \"hoverinfo\": \"text\", \"xaxis\": \"x\", \"yaxis\": \"y\"}, {\"type\": \"scatter\", \"x\": [0.0, 4.47213595499958, 4.47213595499958, 0.0], \"y\": [-1285.0, -1285.0, -1295.0, -1295.0], \"mode\": \"lines\", \"marker\": {\"color\": \"rgb(35,205,205)\"}, \"text\": null, \"hoverinfo\": \"text\", \"xaxis\": \"x\", \"yaxis\": \"y\"}, {\"type\": \"scatter\", \"x\": [0.0, 7.0710678118654755, 7.0710678118654755, 4.47213595499958], \"y\": [-1275.0, -1275.0, -1290.0, -1290.0], \"mode\": \"lines\", \"marker\": {\"color\": \"rgb(35,205,205)\"}, \"text\": null, \"hoverinfo\": \"text\", \"xaxis\": \"x\", \"yaxis\": \"y\"}, {\"type\": \"scatter\", \"x\": [0.0, 2.23606797749979, 2.23606797749979, 0.0], \"y\": [-1305.0, -1305.0, -1315.0, -1315.0], \"mode\": \"lines\", \"marker\": {\"color\": \"rgb(35,205,205)\"}, \"text\": null, \"hoverinfo\": \"text\", \"xaxis\": \"x\", \"yaxis\": \"y\"}, {\"type\": \"scatter\", \"x\": [0.0, 2.23606797749979, 2.23606797749979, 0.0], \"y\": [-1325.0, -1325.0, -1335.0, -1335.0], \"mode\": \"lines\", \"marker\": {\"color\": \"rgb(35,205,205)\"}, \"text\": null, \"hoverinfo\": \"text\", \"xaxis\": \"x\", \"yaxis\": \"y\"}, {\"type\": \"scatter\", \"x\": [2.23606797749979, 3.1622776601683795, 3.1622776601683795, 2.23606797749979], \"y\": [-1310.0, -1310.0, -1330.0, -1330.0], \"mode\": \"lines\", \"marker\": {\"color\": \"rgb(35,205,205)\"}, \"text\": null, \"hoverinfo\": \"text\", \"xaxis\": \"x\", \"yaxis\": \"y\"}, {\"type\": \"scatter\", \"x\": [0.0, 3.1622776601683795, 3.1622776601683795, 0.0], \"y\": [-1355.0, -1355.0, -1365.0, -1365.0], \"mode\": \"lines\", \"marker\": {\"color\": \"rgb(35,205,205)\"}, \"text\": null, \"hoverinfo\": \"text\", \"xaxis\": \"x\", \"yaxis\": \"y\"}, {\"type\": \"scatter\", \"x\": [0.0, 4.123105625617661, 4.123105625617661, 3.1622776601683795], \"y\": [-1345.0, -1345.0, -1360.0, -1360.0], \"mode\": \"lines\", \"marker\": {\"color\": \"rgb(35,205,205)\"}, \"text\": null, \"hoverinfo\": \"text\", \"xaxis\": \"x\", \"yaxis\": \"y\"}, {\"type\": \"scatter\", \"x\": [3.1622776601683795, 9.899494936611665, 9.899494936611665, 4.123105625617661], \"y\": [-1320.0, -1320.0, -1352.5, -1352.5], \"mode\": \"lines\", \"marker\": {\"color\": \"rgb(35,205,205)\"}, \"text\": null, \"hoverinfo\": \"text\", \"xaxis\": \"x\", \"yaxis\": \"y\"}, {\"type\": \"scatter\", \"x\": [7.0710678118654755, 13.341664064126334, 13.341664064126334, 9.899494936611665], \"y\": [-1282.5, -1282.5, -1336.25, -1336.25], \"mode\": \"lines\", \"marker\": {\"color\": \"rgb(35,205,205)\"}, \"text\": null, \"hoverinfo\": \"text\", \"xaxis\": \"x\", \"yaxis\": \"y\"}, {\"type\": \"scatter\", \"x\": [10.842174706872129, 22.50672682498141, 22.50672682498141, 13.341664064126334], \"y\": [-1243.75, -1243.75, -1309.375, -1309.375], \"mode\": \"lines\", \"marker\": {\"color\": \"rgb(35,205,205)\"}, \"text\": null, \"hoverinfo\": \"text\", \"xaxis\": \"x\", \"yaxis\": \"y\"}, {\"type\": \"scatter\", \"x\": [6.085531533654189, 38.625993551372325, 38.625993551372325, 22.50672682498141], \"y\": [-1212.5, -1212.5, -1276.5625, -1276.5625], \"mode\": \"lines\", \"marker\": {\"color\": \"rgb(35,205,205)\"}, \"text\": null, \"hoverinfo\": \"text\", \"xaxis\": \"x\", \"yaxis\": \"y\"}, {\"type\": \"scatter\", \"x\": [0.0, 5.000113523715685, 5.000113523715685, 0.0], \"y\": [-1375.0, -1375.0, -1385.0, -1385.0], \"mode\": \"lines\", \"marker\": {\"color\": \"rgb(35,205,205)\"}, \"text\": null, \"hoverinfo\": \"text\", \"xaxis\": \"x\", \"yaxis\": \"y\"}, {\"type\": \"scatter\", \"x\": [0.0, 9.44070762323157, 9.44070762323157, 0.0], \"y\": [-1395.0, -1395.0, -1405.0, -1405.0], \"mode\": \"lines\", \"marker\": {\"color\": \"rgb(35,205,205)\"}, \"text\": null, \"hoverinfo\": \"text\", \"xaxis\": \"x\", \"yaxis\": \"y\"}, {\"type\": \"scatter\", \"x\": [5.000113523715685, 11.40510890273728, 11.40510890273728, 9.44070762323157], \"y\": [-1380.0, -1380.0, -1400.0, -1400.0], \"mode\": \"lines\", \"marker\": {\"color\": \"rgb(35,205,205)\"}, \"text\": null, \"hoverinfo\": \"text\", \"xaxis\": \"x\", \"yaxis\": \"y\"}, {\"type\": \"scatter\", \"x\": [0.0, 13.941682350891073, 13.941682350891073, 0.0], \"y\": [-1415.0, -1415.0, -1425.0, -1425.0], \"mode\": \"lines\", \"marker\": {\"color\": \"rgb(35,205,205)\"}, \"text\": null, \"hoverinfo\": \"text\", \"xaxis\": \"x\", \"yaxis\": \"y\"}, {\"type\": \"scatter\", \"x\": [0.0, 6.281373628546072, 6.281373628546072, 0.0], \"y\": [-1445.0, -1445.0, -1455.0, -1455.0], \"mode\": \"lines\", \"marker\": {\"color\": \"rgb(35,205,205)\"}, \"text\": null, \"hoverinfo\": \"text\", \"xaxis\": \"x\", \"yaxis\": \"y\"}, {\"type\": \"scatter\", \"x\": [0.0, 15.377434323545792, 15.377434323545792, 6.281373628546072], \"y\": [-1435.0, -1435.0, -1450.0, -1450.0], \"mode\": \"lines\", \"marker\": {\"color\": \"rgb(35,205,205)\"}, \"text\": null, \"hoverinfo\": \"text\", \"xaxis\": \"x\", \"yaxis\": \"y\"}, {\"type\": \"scatter\", \"x\": [13.941682350891073, 28.02696620792801, 28.02696620792801, 15.377434323545792], \"y\": [-1420.0, -1420.0, -1442.5, -1442.5], \"mode\": \"lines\", \"marker\": {\"color\": \"rgb(35,205,205)\"}, \"text\": null, \"hoverinfo\": \"text\", \"xaxis\": \"x\", \"yaxis\": \"y\"}, {\"type\": \"scatter\", \"x\": [11.40510890273728, 46.32963260547924, 46.32963260547924, 28.02696620792801], \"y\": [-1390.0, -1390.0, -1431.25, -1431.25], \"mode\": \"lines\", \"marker\": {\"color\": \"rgb(35,205,205)\"}, \"text\": null, \"hoverinfo\": \"text\", \"xaxis\": \"x\", \"yaxis\": \"y\"}, {\"type\": \"scatter\", \"x\": [38.625993551372325, 71.00704799825748, 71.00704799825748, 46.32963260547924], \"y\": [-1244.53125, -1244.53125, -1410.625, -1410.625], \"mode\": \"lines\", \"marker\": {\"color\": \"rgb(35,205,205)\"}, \"text\": null, \"hoverinfo\": \"text\", \"xaxis\": \"x\", \"yaxis\": \"y\"}, {\"type\": \"scatter\", \"x\": [0.0, 1.8274768190607216, 1.8274768190607216, 0.0], \"y\": [-1485.0, -1485.0, -1495.0, -1495.0], \"mode\": \"lines\", \"marker\": {\"color\": \"rgb(35,205,205)\"}, \"text\": null, \"hoverinfo\": \"text\", \"xaxis\": \"x\", \"yaxis\": \"y\"}, {\"type\": \"scatter\", \"x\": [0.0, 3.6225448298622114, 3.6225448298622114, 1.8274768190607216], \"y\": [-1475.0, -1475.0, -1490.0, -1490.0], \"mode\": \"lines\", \"marker\": {\"color\": \"rgb(35,205,205)\"}, \"text\": null, \"hoverinfo\": \"text\", \"xaxis\": \"x\", \"yaxis\": \"y\"}, {\"type\": \"scatter\", \"x\": [0.0, 9.440488919773246, 9.440488919773246, 3.6225448298622114], \"y\": [-1465.0, -1465.0, -1482.5, -1482.5], \"mode\": \"lines\", \"marker\": {\"color\": \"rgb(35,205,205)\"}, \"text\": null, \"hoverinfo\": \"text\", \"xaxis\": \"x\", \"yaxis\": \"y\"}, {\"type\": \"scatter\", \"x\": [0.0, 9.925301674211607, 9.925301674211607, 0.0], \"y\": [-1515.0, -1515.0, -1525.0, -1525.0], \"mode\": \"lines\", \"marker\": {\"color\": \"rgb(35,205,205)\"}, \"text\": null, \"hoverinfo\": \"text\", \"xaxis\": \"x\", \"yaxis\": \"y\"}, {\"type\": \"scatter\", \"x\": [0.0, 19.65085008207373, 19.65085008207373, 9.925301674211607], \"y\": [-1505.0, -1505.0, -1520.0, -1520.0], \"mode\": \"lines\", \"marker\": {\"color\": \"rgb(35,205,205)\"}, \"text\": null, \"hoverinfo\": \"text\", \"xaxis\": \"x\", \"yaxis\": \"y\"}, {\"type\": \"scatter\", \"x\": [9.440488919773246, 31.308695315549965, 31.308695315549965, 19.65085008207373], \"y\": [-1473.75, -1473.75, -1512.5, -1512.5], \"mode\": \"lines\", \"marker\": {\"color\": \"rgb(35,205,205)\"}, \"text\": null, \"hoverinfo\": \"text\", \"xaxis\": \"x\", \"yaxis\": \"y\"}, {\"type\": \"scatter\", \"x\": [0.0, 9.374574101408168, 9.374574101408168, 0.0], \"y\": [-1535.0, -1535.0, -1545.0, -1545.0], \"mode\": \"lines\", \"marker\": {\"color\": \"rgb(35,205,205)\"}, \"text\": null, \"hoverinfo\": \"text\", \"xaxis\": \"x\", \"yaxis\": \"y\"}, {\"type\": \"scatter\", \"x\": [0.0, 6.033450322720186, 6.033450322720186, 0.0], \"y\": [-1565.0, -1565.0, -1575.0, -1575.0], \"mode\": \"lines\", \"marker\": {\"color\": \"rgb(35,205,205)\"}, \"text\": null, \"hoverinfo\": \"text\", \"xaxis\": \"x\", \"yaxis\": \"y\"}, {\"type\": \"scatter\", \"x\": [0.0, 12.100598669031267, 12.100598669031267, 6.033450322720186], \"y\": [-1555.0, -1555.0, -1570.0, -1570.0], \"mode\": \"lines\", \"marker\": {\"color\": \"rgb(35,205,205)\"}, \"text\": null, \"hoverinfo\": \"text\", \"xaxis\": \"x\", \"yaxis\": \"y\"}, {\"type\": \"scatter\", \"x\": [9.374574101408168, 22.077194631490936, 22.077194631490936, 12.100598669031267], \"y\": [-1540.0, -1540.0, -1562.5, -1562.5], \"mode\": \"lines\", \"marker\": {\"color\": \"rgb(35,205,205)\"}, \"text\": null, \"hoverinfo\": \"text\", \"xaxis\": \"x\", \"yaxis\": \"y\"}, {\"type\": \"scatter\", \"x\": [0.0, 7.228684022550419, 7.228684022550419, 0.0], \"y\": [-1605.0, -1605.0, -1615.0, -1615.0], \"mode\": \"lines\", \"marker\": {\"color\": \"rgb(35,205,205)\"}, \"text\": null, \"hoverinfo\": \"text\", \"xaxis\": \"x\", \"yaxis\": \"y\"}, {\"type\": \"scatter\", \"x\": [0.0, 15.816659483448966, 15.816659483448966, 7.228684022550419], \"y\": [-1595.0, -1595.0, -1610.0, -1610.0], \"mode\": \"lines\", \"marker\": {\"color\": \"rgb(35,205,205)\"}, \"text\": null, \"hoverinfo\": \"text\", \"xaxis\": \"x\", \"yaxis\": \"y\"}, {\"type\": \"scatter\", \"x\": [0.0, 28.236618053063246, 28.236618053063246, 15.816659483448966], \"y\": [-1585.0, -1585.0, -1602.5, -1602.5], \"mode\": \"lines\", \"marker\": {\"color\": \"rgb(35,205,205)\"}, \"text\": null, \"hoverinfo\": \"text\", \"xaxis\": \"x\", \"yaxis\": \"y\"}, {\"type\": \"scatter\", \"x\": [22.077194631490936, 54.17455712401157, 54.17455712401157, 28.236618053063246], \"y\": [-1551.25, -1551.25, -1593.75, -1593.75], \"mode\": \"lines\", \"marker\": {\"color\": \"rgb(35,205,205)\"}, \"text\": null, \"hoverinfo\": \"text\", \"xaxis\": \"x\", \"yaxis\": \"y\"}, {\"type\": \"scatter\", \"x\": [31.308695315549965, 71.12451473894996, 71.12451473894996, 54.17455712401157], \"y\": [-1493.125, -1493.125, -1572.5, -1572.5], \"mode\": \"lines\", \"marker\": {\"color\": \"rgb(35,205,205)\"}, \"text\": null, \"hoverinfo\": \"text\", \"xaxis\": \"x\", \"yaxis\": \"y\"}, {\"type\": \"scatter\", \"x\": [71.00704799825748, 126.59418289883342, 126.59418289883342, 71.12451473894996], \"y\": [-1327.578125, -1327.578125, -1532.8125, -1532.8125], \"mode\": \"lines\", \"marker\": {\"color\": \"rgb(35,205,205)\"}, \"text\": null, \"hoverinfo\": \"text\", \"xaxis\": \"x\", \"yaxis\": \"y\"}, {\"type\": \"scatter\", \"x\": [0.0, 4.489617099684207, 4.489617099684207, 0.0], \"y\": [-1645.0, -1645.0, -1655.0, -1655.0], \"mode\": \"lines\", \"marker\": {\"color\": \"rgb(35,205,205)\"}, \"text\": null, \"hoverinfo\": \"text\", \"xaxis\": \"x\", \"yaxis\": \"y\"}, {\"type\": \"scatter\", \"x\": [0.0, 14.041058017065938, 14.041058017065938, 4.489617099684207], \"y\": [-1635.0, -1635.0, -1650.0, -1650.0], \"mode\": \"lines\", \"marker\": {\"color\": \"rgb(35,205,205)\"}, \"text\": null, \"hoverinfo\": \"text\", \"xaxis\": \"x\", \"yaxis\": \"y\"}, {\"type\": \"scatter\", \"x\": [0.0, 16.653659540322423, 16.653659540322423, 0.0], \"y\": [-1665.0, -1665.0, -1675.0, -1675.0], \"mode\": \"lines\", \"marker\": {\"color\": \"rgb(35,205,205)\"}, \"text\": null, \"hoverinfo\": \"text\", \"xaxis\": \"x\", \"yaxis\": \"y\"}, {\"type\": \"scatter\", \"x\": [14.041058017065938, 33.07231506639021, 33.07231506639021, 16.653659540322423], \"y\": [-1642.5, -1642.5, -1670.0, -1670.0], \"mode\": \"lines\", \"marker\": {\"color\": \"rgb(35,205,205)\"}, \"text\": null, \"hoverinfo\": \"text\", \"xaxis\": \"x\", \"yaxis\": \"y\"}, {\"type\": \"scatter\", \"x\": [0.0, 39.63729709912321, 39.63729709912321, 33.07231506639021], \"y\": [-1625.0, -1625.0, -1656.25, -1656.25], \"mode\": \"lines\", \"marker\": {\"color\": \"rgb(35,205,205)\"}, \"text\": null, \"hoverinfo\": \"text\", \"xaxis\": \"x\", \"yaxis\": \"y\"}, {\"type\": \"scatter\", \"x\": [0.0, 8.162827394690805, 8.162827394690805, 0.0], \"y\": [-1695.0, -1695.0, -1705.0, -1705.0], \"mode\": \"lines\", \"marker\": {\"color\": \"rgb(35,205,205)\"}, \"text\": null, \"hoverinfo\": \"text\", \"xaxis\": \"x\", \"yaxis\": \"y\"}, {\"type\": \"scatter\", \"x\": [0.0, 9.223965730071425, 9.223965730071425, 0.0], \"y\": [-1715.0, -1715.0, -1725.0, -1725.0], \"mode\": \"lines\", \"marker\": {\"color\": \"rgb(35,205,205)\"}, \"text\": null, \"hoverinfo\": \"text\", \"xaxis\": \"x\", \"yaxis\": \"y\"}, {\"type\": \"scatter\", \"x\": [8.162827394690805, 19.184036285685828, 19.184036285685828, 9.223965730071425], \"y\": [-1700.0, -1700.0, -1720.0, -1720.0], \"mode\": \"lines\", \"marker\": {\"color\": \"rgb(35,205,205)\"}, \"text\": null, \"hoverinfo\": \"text\", \"xaxis\": \"x\", \"yaxis\": \"y\"}, {\"type\": \"scatter\", \"x\": [0.0, 30.118909341648767, 30.118909341648767, 19.184036285685828], \"y\": [-1685.0, -1685.0, -1710.0, -1710.0], \"mode\": \"lines\", \"marker\": {\"color\": \"rgb(35,205,205)\"}, \"text\": null, \"hoverinfo\": \"text\", \"xaxis\": \"x\", \"yaxis\": \"y\"}, {\"type\": \"scatter\", \"x\": [0.0, 15.621928457926828, 15.621928457926828, 0.0], \"y\": [-1745.0, -1745.0, -1755.0, -1755.0], \"mode\": \"lines\", \"marker\": {\"color\": \"rgb(35,205,205)\"}, \"text\": null, \"hoverinfo\": \"text\", \"xaxis\": \"x\", \"yaxis\": \"y\"}, {\"type\": \"scatter\", \"x\": [0.0, 32.03957812191709, 32.03957812191709, 15.621928457926828], \"y\": [-1735.0, -1735.0, -1750.0, -1750.0], \"mode\": \"lines\", \"marker\": {\"color\": \"rgb(35,205,205)\"}, \"text\": null, \"hoverinfo\": \"text\", \"xaxis\": \"x\", \"yaxis\": \"y\"}, {\"type\": \"scatter\", \"x\": [30.118909341648767, 52.788491941919425, 52.788491941919425, 32.03957812191709], \"y\": [-1697.5, -1697.5, -1742.5, -1742.5], \"mode\": \"lines\", \"marker\": {\"color\": \"rgb(35,205,205)\"}, \"text\": null, \"hoverinfo\": \"text\", \"xaxis\": \"x\", \"yaxis\": \"y\"}, {\"type\": \"scatter\", \"x\": [39.63729709912321, 76.85748489164904, 76.85748489164904, 52.788491941919425], \"y\": [-1640.625, -1640.625, -1720.0, -1720.0], \"mode\": \"lines\", \"marker\": {\"color\": \"rgb(35,205,205)\"}, \"text\": null, \"hoverinfo\": \"text\", \"xaxis\": \"x\", \"yaxis\": \"y\"}, {\"type\": \"scatter\", \"x\": [0.0, 5.916383655484742, 5.916383655484742, 0.0], \"y\": [-1775.0, -1775.0, -1785.0, -1785.0], \"mode\": \"lines\", \"marker\": {\"color\": \"rgb(35,205,205)\"}, \"text\": null, \"hoverinfo\": \"text\", \"xaxis\": \"x\", \"yaxis\": \"y\"}, {\"type\": \"scatter\", \"x\": [0.0, 12.047159311354122, 12.047159311354122, 5.916383655484742], \"y\": [-1765.0, -1765.0, -1780.0, -1780.0], \"mode\": \"lines\", \"marker\": {\"color\": \"rgb(35,205,205)\"}, \"text\": null, \"hoverinfo\": \"text\", \"xaxis\": \"x\", \"yaxis\": \"y\"}, {\"type\": \"scatter\", \"x\": [0.0, 5.126790179770823, 5.126790179770823, 0.0], \"y\": [-1795.0, -1795.0, -1805.0, -1805.0], \"mode\": \"lines\", \"marker\": {\"color\": \"rgb(35,205,205)\"}, \"text\": null, \"hoverinfo\": \"text\", \"xaxis\": \"x\", \"yaxis\": \"y\"}, {\"type\": \"scatter\", \"x\": [0.0, 9.90269873378555, 9.90269873378555, 0.0], \"y\": [-1815.0, -1815.0, -1825.0, -1825.0], \"mode\": \"lines\", \"marker\": {\"color\": \"rgb(35,205,205)\"}, \"text\": null, \"hoverinfo\": \"text\", \"xaxis\": \"x\", \"yaxis\": \"y\"}, {\"type\": \"scatter\", \"x\": [5.126790179770823, 21.501252036736982, 21.501252036736982, 9.90269873378555], \"y\": [-1800.0, -1800.0, -1820.0, -1820.0], \"mode\": \"lines\", \"marker\": {\"color\": \"rgb(35,205,205)\"}, \"text\": null, \"hoverinfo\": \"text\", \"xaxis\": \"x\", \"yaxis\": \"y\"}, {\"type\": \"scatter\", \"x\": [12.047159311354122, 32.984935763927034, 32.984935763927034, 21.501252036736982], \"y\": [-1772.5, -1772.5, -1810.0, -1810.0], \"mode\": \"lines\", \"marker\": {\"color\": \"rgb(35,205,205)\"}, \"text\": null, \"hoverinfo\": \"text\", \"xaxis\": \"x\", \"yaxis\": \"y\"}, {\"type\": \"scatter\", \"x\": [0.0, 7.146027936642897, 7.146027936642897, 0.0], \"y\": [-1845.0, -1845.0, -1855.0, -1855.0], \"mode\": \"lines\", \"marker\": {\"color\": \"rgb(35,205,205)\"}, \"text\": null, \"hoverinfo\": \"text\", \"xaxis\": \"x\", \"yaxis\": \"y\"}, {\"type\": \"scatter\", \"x\": [0.0, 27.03896821888618, 27.03896821888618, 7.146027936642897], \"y\": [-1835.0, -1835.0, -1850.0, -1850.0], \"mode\": \"lines\", \"marker\": {\"color\": \"rgb(35,205,205)\"}, \"text\": null, \"hoverinfo\": \"text\", \"xaxis\": \"x\", \"yaxis\": \"y\"}, {\"type\": \"scatter\", \"x\": [0.0, 14.563788473680928, 14.563788473680928, 0.0], \"y\": [-1875.0, -1875.0, -1885.0, -1885.0], \"mode\": \"lines\", \"marker\": {\"color\": \"rgb(35,205,205)\"}, \"text\": null, \"hoverinfo\": \"text\", \"xaxis\": \"x\", \"yaxis\": \"y\"}, {\"type\": \"scatter\", \"x\": [0.0, 27.65916087872358, 27.65916087872358, 14.563788473680928], \"y\": [-1865.0, -1865.0, -1880.0, -1880.0], \"mode\": \"lines\", \"marker\": {\"color\": \"rgb(35,205,205)\"}, \"text\": null, \"hoverinfo\": \"text\", \"xaxis\": \"x\", \"yaxis\": \"y\"}, {\"type\": \"scatter\", \"x\": [0.0, 7.284339928299793, 7.284339928299793, 0.0], \"y\": [-1905.0, -1905.0, -1915.0, -1915.0], \"mode\": \"lines\", \"marker\": {\"color\": \"rgb(35,205,205)\"}, \"text\": null, \"hoverinfo\": \"text\", \"xaxis\": \"x\", \"yaxis\": \"y\"}, {\"type\": \"scatter\", \"x\": [0.0, 20.61575045877792, 20.61575045877792, 7.284339928299793], \"y\": [-1895.0, -1895.0, -1910.0, -1910.0], \"mode\": \"lines\", \"marker\": {\"color\": \"rgb(35,205,205)\"}, \"text\": null, \"hoverinfo\": \"text\", \"xaxis\": \"x\", \"yaxis\": \"y\"}, {\"type\": \"scatter\", \"x\": [0.0, 6.325199696842085, 6.325199696842085, 0.0], \"y\": [-1955.0, -1955.0, -1965.0, -1965.0], \"mode\": \"lines\", \"marker\": {\"color\": \"rgb(35,205,205)\"}, \"text\": null, \"hoverinfo\": \"text\", \"xaxis\": \"x\", \"yaxis\": \"y\"}, {\"type\": \"scatter\", \"x\": [0.0, 14.560243652219613, 14.560243652219613, 6.325199696842085], \"y\": [-1945.0, -1945.0, -1960.0, -1960.0], \"mode\": \"lines\", \"marker\": {\"color\": \"rgb(35,205,205)\"}, \"text\": null, \"hoverinfo\": \"text\", \"xaxis\": \"x\", \"yaxis\": \"y\"}, {\"type\": \"scatter\", \"x\": [0.0, 22.02292457817628, 22.02292457817628, 14.560243652219613], \"y\": [-1935.0, -1935.0, -1952.5, -1952.5], \"mode\": \"lines\", \"marker\": {\"color\": \"rgb(35,205,205)\"}, \"text\": null, \"hoverinfo\": \"text\", \"xaxis\": \"x\", \"yaxis\": \"y\"}, {\"type\": \"scatter\", \"x\": [0.0, 32.01648411293209, 32.01648411293209, 22.02292457817628], \"y\": [-1925.0, -1925.0, -1943.75, -1943.75], \"mode\": \"lines\", \"marker\": {\"color\": \"rgb(35,205,205)\"}, \"text\": null, \"hoverinfo\": \"text\", \"xaxis\": \"x\", \"yaxis\": \"y\"}, {\"type\": \"scatter\", \"x\": [20.61575045877792, 51.62377596280258, 51.62377596280258, 32.01648411293209], \"y\": [-1902.5, -1902.5, -1934.375, -1934.375], \"mode\": \"lines\", \"marker\": {\"color\": \"rgb(35,205,205)\"}, \"text\": null, \"hoverinfo\": \"text\", \"xaxis\": \"x\", \"yaxis\": \"y\"}, {\"type\": \"scatter\", \"x\": [27.65916087872358, 66.0984219520913, 66.0984219520913, 51.62377596280258], \"y\": [-1872.5, -1872.5, -1918.4375, -1918.4375], \"mode\": \"lines\", \"marker\": {\"color\": \"rgb(35,205,205)\"}, \"text\": null, \"hoverinfo\": \"text\", \"xaxis\": \"x\", \"yaxis\": \"y\"}, {\"type\": \"scatter\", \"x\": [27.03896821888618, 96.104181843905, 96.104181843905, 66.0984219520913], \"y\": [-1842.5, -1842.5, -1895.46875, -1895.46875], \"mode\": \"lines\", \"marker\": {\"color\": \"rgb(35,205,205)\"}, \"text\": null, \"hoverinfo\": \"text\", \"xaxis\": \"x\", \"yaxis\": \"y\"}, {\"type\": \"scatter\", \"x\": [32.984935763927034, 115.12870243310785, 115.12870243310785, 96.104181843905], \"y\": [-1791.25, -1791.25, -1868.984375, -1868.984375], \"mode\": \"lines\", \"marker\": {\"color\": \"rgb(35,205,205)\"}, \"text\": null, \"hoverinfo\": \"text\", \"xaxis\": \"x\", \"yaxis\": \"y\"}, {\"type\": \"scatter\", \"x\": [76.85748489164904, 157.27096861184955, 157.27096861184955, 115.12870243310785], \"y\": [-1680.3125, -1680.3125, -1830.1171875, -1830.1171875], \"mode\": \"lines\", \"marker\": {\"color\": \"rgb(35,205,205)\"}, \"text\": null, \"hoverinfo\": \"text\", \"xaxis\": \"x\", \"yaxis\": \"y\"}, {\"type\": \"scatter\", \"x\": [126.59418289883342, 196.22413390142998, 196.22413390142998, 157.27096861184955], \"y\": [-1430.1953125, -1430.1953125, -1755.21484375, -1755.21484375], \"mode\": \"lines\", \"marker\": {\"color\": \"rgb(35,205,205)\"}, \"text\": null, \"hoverinfo\": \"text\", \"xaxis\": \"x\", \"yaxis\": \"y\"}, {\"type\": \"scatter\", \"x\": [144.67694611732787, 288.821732291693, 288.821732291693, 196.22413390142998], \"y\": [-958.4765625, -958.4765625, -1592.705078125, -1592.705078125], \"mode\": \"lines\", \"marker\": {\"color\": \"rgb(35,205,205)\"}, \"text\": null, \"hoverinfo\": \"text\", \"xaxis\": \"x\", \"yaxis\": \"y\"}, {\"type\": \"scatter\", \"x\": [120.93407204030598, 415.3093513854903, 415.3093513854903, 288.821732291693], \"y\": [-550.3515625, -550.3515625, -1275.5908203125, -1275.5908203125], \"mode\": \"lines\", \"marker\": {\"color\": \"rgb(0,116,217)\"}, \"text\": null, \"hoverinfo\": \"text\", \"xaxis\": \"x\", \"yaxis\": \"y\"}, {\"type\": \"scatter\", \"x\": [239.50943184603187, 581.4589767315025, 581.4589767315025, 415.3093513854903], \"y\": [-270.05859375, -270.05859375, -912.97119140625, -912.97119140625], \"mode\": \"lines\", \"marker\": {\"color\": \"rgb(0,116,217)\"}, \"text\": null, \"hoverinfo\": \"text\", \"xaxis\": \"x\", \"yaxis\": \"y\"}], {\"xaxis\": {\"type\": \"linear\", \"ticks\": \"\", \"mirror\": \"allticks\", \"rangemode\": \"tozero\", \"showticklabels\": false, \"zeroline\": false, \"showgrid\": false, \"showline\": true}, \"yaxis\": {\"tickvals\": [-5.0, -15.0, -25.0, -35.0, -45.0, -55.0, -65.0, -75.0, -85.0, -95.0, -105.0, -115.0, -125.0, -135.0, -145.0, -155.0, -165.0, -175.0, -185.0, -195.0, -205.0, -215.0, -225.0, -235.0, -245.0, -255.0, -265.0, -275.0, -285.0, -295.0, -305.0, -315.0, -325.0, -335.0, -345.0, -355.0, -365.0, -375.0, -385.0, -395.0, -405.0, -415.0, -425.0, -435.0, -445.0, -455.0, -465.0, -475.0, -485.0, -495.0, -505.0, -515.0, -525.0, -535.0, -545.0, -555.0, -565.0, -575.0, -585.0, -595.0, -605.0, -615.0, -625.0, -635.0, -645.0, -655.0, -665.0, -675.0, -685.0, -695.0, -705.0, -715.0, -725.0, -735.0, -745.0, -755.0, -765.0, -775.0, -785.0, -795.0, -805.0, -815.0, -825.0, -835.0, -845.0, -855.0, -865.0, -875.0, -885.0, -895.0, -905.0, -915.0, -925.0, -935.0, -945.0, -955.0, -965.0, -975.0, -985.0, -995.0, -1005.0, -1015.0, -1025.0, -1035.0, -1045.0, -1055.0, -1065.0, -1075.0, -1085.0, -1095.0, -1105.0, -1115.0, -1125.0, -1135.0, -1145.0, -1155.0, -1165.0, -1175.0, -1185.0, -1195.0, -1205.0, -1215.0, -1225.0, -1235.0, -1245.0, -1255.0, -1265.0, -1275.0, -1285.0, -1295.0, -1305.0, -1315.0, -1325.0, -1335.0, -1345.0, -1355.0, -1365.0, -1375.0, -1385.0, -1395.0, -1405.0, -1415.0, -1425.0, -1435.0, -1445.0, -1455.0, -1465.0, -1475.0, -1485.0, -1495.0, -1505.0, -1515.0, -1525.0, -1535.0, -1545.0, -1555.0, -1565.0, -1575.0, -1585.0, -1595.0, -1605.0, -1615.0, -1625.0, -1635.0, -1645.0, -1655.0, -1665.0, -1675.0, -1685.0, -1695.0, -1705.0, -1715.0, -1725.0, -1735.0, -1745.0, -1755.0, -1765.0, -1775.0, -1785.0, -1795.0, -1805.0, -1815.0, -1825.0, -1835.0, -1845.0, -1855.0, -1865.0, -1875.0, -1885.0, -1895.0, -1905.0, -1915.0, -1925.0, -1935.0, -1945.0, -1955.0, -1965.0], \"ticktext\": [\"Ignorant Shit\", \"A Night Off\", \"Sooner Than Later\", \"I Get Lonely\", \"Successful\", \"Uptown\", \"Little Bit\", \"Fancy Remix\", \"Rich Boy\", \"Miss Me\", \"Interlude\", \"On My Way\", \"Intro\", \"The Usual\", \"Ready For You\", \"November 18th\", \"Houstatlantavegas\", \"Ghetto University\", \"Lust For Life\", \"Ceces Interlude\", \"Unforgettable\", \"Well Be Fine\", \"Fancy\", \"Practice\", \"Doing It Wrong\", \"Look What Youve Done\", \"Light Up\", \"Find Your Love\", \"The Usual\", \"With You\", \"Faith\", \"Feeling\", \"On My Way\", \"Fall For Your Type\", \"Over\", \"Feel Love\", \"Show Me A Good Time\", \"Message From You\", \"Brand New\", \"Say Whats Real\", \"Brias Interlude\", \"Best I Ever Had\", \"The Calm\", \"Lets Call It Off\", \"Energy\", \"Weston Road Flows\", \"Change Locations\", \"Company\", \"Feel No Ways\", \"Pop Style\", \"Redemption\", \"GRAMMYs\", \"Im The Plug\", \"The Language\", \"Know Yourself\", \"6 God\", \"Scholarships\", \"Portland\", \"Sacrifices\", \"Headlines\", \"Lose You\", \"The Motto\", \"Plastic Bag\", \"How About Now\", \"Hype\", \"6 Man\", \"Jungle\", \"Jersey\", \"Since Way Back\", \"10 Bands\", \"Gyalchester\", \"Views\", \"Drake Speaks\", \"Own It\", \"Preach\", \"Headlines\", \"Over My Dead Body\", \"Cameras\", \"My Side\", \"Free Spirit\", \"Good Ones Go\", \"Madonna\", \"Lord Knows\", \"Try Harder\", \"Connect\", \"The Resistance\", \"Under Ground Kings\", \"The Real Her\", \"Aston Martin Music\", \"Headlines\", \"Light Up\", \"Fireworks\", \"Good Life\", \"Hate Sleeping Alone\", \"Crew Love\", \"The Real Her\", \"Moment 4 Life\", \"The Ride\", \"I Get Lonely Too\", \"Off That\", \"Shot For Me\", \"On My Way\", \"Shot For Me\", \"Under Ground Kings\", \"Make Me Proud\", \"Trust Issues\", \"Take Care\", \"Unstoppable\", \"Deuces Remix\", \"With You\", \"Loving You No More Remix\", \"Its Been A Pleasure\", \"What If I Kissed You\", \"Look What Youve Done\", \"Practice\", \"Miss Me\", \"Up All Night\", \"What If I Kissed You\", \"Thank Me Now\", \"Im Ready For You\", \"Faithful\", \"Talk Up\", \"Cant Have Everything\", \"Fake Love\", \"Blue Tint\", \"Elevate\", \"Jorja Interlude\", \"Finesse\", \"Cant Take a Joke\", \"Jaded\", \"8 Out of 10\", \"Sandras Rose\", \"Mob Ties\", \"Thats How You Feel\", \"Nice For What\", \"Peak\", \"Ratchet Happy Birthday\", \"One Dance\", \"Digital Dash\", \"Nothings Into Somethings\", \"30 For 30 Freestyle\", \"Skepta Interlude\", \"Too Good\", \"Used To\", \"Free Smoke\", \"Wednesday Night Interlude\", \"Summer Games\", \"Madiba Riddim\", \"Passionfruit\", \"Teenage Fever\", \"4422\", \"Im Upset\", \"Glow\", \"No Long Talk\", \"305 To My City\", \"Lord Knows\", \"Gods Plan\", \"KMT\", \"Is There More\", \"Legend\", \"Still Here\", \"Doing It Wrong\", \"Too Much\", \"From Time\", \"Keep The Family Close\", \"Hold On Were Going Home\", \"Blem\", \"With You\", \"Big Rings\", \"Emotionless\", \"U With Me\", \"Childs Play\", \"Round of Applause\", \"Get It Together\", \"Nonstop\", \"Controlla\", \"Take Care\", \"Make Me Proud\", \"The Ride\", \"Dreams Money Can Buy\", \"Shut It Down\", \"Marvins Room\", \"Poppin Bottles\", \"No Tellin\", \"Furthest Thing\", \"Over My Dead Body\", \"Worst Behaviour\", \"Diamonds Dancing\", \"Wildfire Remix\", \"Started From The Bottom\", \"Hotline Bling\", \"Club Paradise\", \"Well Be Fine\", \"6PM In New York\", \"Live From The Gutter\", \"Jumpman\", \"Tuscan Leather\"], \"tickmode\": \"array\", \"type\": \"linear\", \"ticks\": \"\", \"mirror\": \"allticks\", \"rangemode\": \"tozero\", \"showticklabels\": true, \"zeroline\": false, \"showgrid\": false, \"showline\": true}, \"showlegend\": false, \"autosize\": false, \"hovermode\": \"closest\", \"width\": 900, \"height\": 2500, \"title\": \"Dendrogram of Lyrics\", \"margin\": {\"l\": 180, \"r\": 30, \"b\": 30, \"t\": 40, \"pad\": 4}}, {\"showLink\": true, \"linkText\": \"Export to plot.ly\"})});</script>"
      ]
     },
     "metadata": {},
     "output_type": "display_data"
    }
   ],
   "source": [
    "linkage_matrix = ward(dist)\n",
    "dendro = ff.create_dendrogram(linkage_matrix, orientation='left', labels=songs)\n",
    "dendro['layout'].update({'title': 'Dendrogram of Lyrics'})\n",
    "dendro['layout']['xaxis'].update({'showgrid': False,\n",
    "                                  'showline': True,\n",
    "                                  'zeroline': False,\n",
    "                                  'showticklabels': False,\n",
    "                                  'ticks':\"\"})\n",
    "dendro['layout']['yaxis'].update({'ticks': \"\"})\n",
    "dendro['layout'].margin.update({'l':180,'r':30,'b':30,'t':40,'pad':4})\n",
    "dendro['layout'].update({'width':900, 'height':2500})\n",
    "iplot(dendro, filename='simple_dendrogram')"
   ]
  },
  {
   "cell_type": "markdown",
   "metadata": {},
   "source": [
    "#### Insights\n",
    "+ Drake's more popular songs are, for the majority, in the light blue cluster (this also happens to be the largest).\n",
    "+ I listened to \"Hotline Bling\" and \"Club Paradise\" to see how similar they were. They do in fact have similar themes, his previous lovers moving on, living their lives without him.\n",
    "+ I prefer this cluster analysis compared to KMeans as it has been more insightful for me "
   ]
  },
  {
   "cell_type": "markdown",
   "metadata": {},
   "source": [
    "***\n",
    "<font color='#595959'>\n",
    "## Part 8: Next Steps\n",
    "    1 Look at sentiment score & lexical complexity by featured artist and by performance in charts\n",
    "    2 Topic analysis by album\n",
    "    3 Visualize cities Drake has sang about (including related sentiment scores for the songs)\n",
    "    4 Visualize profits for albums/songs by artist featured\n",
    "***"
   ]
  }
 ],
 "metadata": {
  "kernelspec": {
   "display_name": "Python 3",
   "language": "python",
   "name": "python3"
  },
  "language_info": {
   "codemirror_mode": {
    "name": "ipython",
    "version": 3
   },
   "file_extension": ".py",
   "mimetype": "text/x-python",
   "name": "python",
   "nbconvert_exporter": "python",
   "pygments_lexer": "ipython3",
   "version": "3.6.3"
  }
 },
 "nbformat": 4,
 "nbformat_minor": 2
}
